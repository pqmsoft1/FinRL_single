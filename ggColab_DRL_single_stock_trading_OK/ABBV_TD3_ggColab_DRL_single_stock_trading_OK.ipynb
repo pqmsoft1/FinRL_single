{
  "nbformat": 4,
  "nbformat_minor": 0,
  "metadata": {
    "colab": {
      "name": "Clone4_TD3_ggColab_DRL_single_stock_trading_OK.ipynb",
      "provenance": [],
      "collapsed_sections": []
    },
    "kernelspec": {
      "name": "python3",
      "display_name": "Python 3"
    },
    "language_info": {
      "name": "python"
    }
  },
  "cells": [
    {
      "cell_type": "code",
      "metadata": {
        "id": "GiCYf1Tm97ai"
      },
      "source": [
        ""
      ],
      "execution_count": null,
      "outputs": []
    },
    {
      "cell_type": "markdown",
      "metadata": {
        "id": "KFEQZoKIGZHa"
      },
      "source": [
        "## Clone code from ggColab_DRL_single_stock_trading_OK.ipynb"
      ]
    },
    {
      "cell_type": "code",
      "metadata": {
        "id": "cPZSlrCfGZvy"
      },
      "source": [
        ""
      ],
      "execution_count": null,
      "outputs": []
    },
    {
      "cell_type": "code",
      "metadata": {
        "colab": {
          "base_uri": "https://localhost:8080/"
        },
        "id": "yM71W6T49_i5",
        "outputId": "1e9e3e11-ae98-4408-a748-e41e53081b72"
      },
      "source": [
        "!pip uninstall -y tensorflow==2.6.0"
      ],
      "execution_count": 1,
      "outputs": [
        {
          "output_type": "stream",
          "name": "stdout",
          "text": [
            "Found existing installation: tensorflow 2.6.0\n",
            "Uninstalling tensorflow-2.6.0:\n",
            "  Successfully uninstalled tensorflow-2.6.0\n"
          ]
        }
      ]
    },
    {
      "cell_type": "code",
      "metadata": {
        "id": "xIdpnjWI9_nK"
      },
      "source": [
        ""
      ],
      "execution_count": null,
      "outputs": []
    },
    {
      "cell_type": "code",
      "metadata": {
        "id": "Wq86rPPE9_pq"
      },
      "source": [
        "import pkg_resources\n",
        "import pip\n",
        "installedPackages = {pkg.key for pkg in pkg_resources.working_set}\n",
        "required = {'yfinance', 'pandas', 'matplotlib', 'stockstats','stable-baselines','gym','tensorflow'}\n",
        "missing = required - installedPackages\n",
        "if missing:\n",
        "    !pip install yfinance\n",
        "    !pip install pandas\n",
        "    !pip install matplotlib\n",
        "    !pip install stockstats\n",
        "    !pip install gym\n",
        "    !pip install stable-baselines[mpi]\n",
        "    !pip install tensorflow==1.15.4"
      ],
      "execution_count": null,
      "outputs": []
    },
    {
      "cell_type": "code",
      "metadata": {
        "id": "G5tZhQCv0zx-"
      },
      "source": [
        "!git clone https://github.com/pqmsoft1/FinRL_single.git"
      ],
      "execution_count": null,
      "outputs": []
    },
    {
      "cell_type": "code",
      "metadata": {
        "colab": {
          "base_uri": "https://localhost:8080/"
        },
        "id": "xM8GBGX-8m9M",
        "outputId": "d4658b12-1e8b-41a1-ef01-bc51edf0c742"
      },
      "source": [
        "cd FinRL_single/"
      ],
      "execution_count": 2,
      "outputs": [
        {
          "output_type": "stream",
          "name": "stdout",
          "text": [
            "/content/FinRL_single\n"
          ]
        }
      ]
    },
    {
      "cell_type": "code",
      "metadata": {
        "id": "2O1safkiA7MD"
      },
      "source": [
        "!ls"
      ],
      "execution_count": null,
      "outputs": []
    },
    {
      "cell_type": "code",
      "metadata": {
        "id": "4AKa-X7vA9AZ"
      },
      "source": [
        ""
      ],
      "execution_count": null,
      "outputs": []
    },
    {
      "cell_type": "code",
      "metadata": {
        "id": "FM4T6qfr-MpS"
      },
      "source": [
        ""
      ],
      "execution_count": null,
      "outputs": []
    },
    {
      "cell_type": "code",
      "metadata": {
        "colab": {
          "base_uri": "https://localhost:8080/"
        },
        "id": "yw8rc7-d-MsC",
        "outputId": "f83c7f6e-f41d-4fa1-9f48-5b7b907ae1b6"
      },
      "source": [
        "import yfinance as yf\n",
        "from stockstats import StockDataFrame as Sdf\n",
        "\n",
        "import pandas as pd\n",
        "import matplotlib.pyplot as plt\n",
        "\n",
        "import gym\n",
        "from stable_baselines import PPO2, DDPG, A2C, ACKTR, TD3\n",
        "from stable_baselines import DDPG\n",
        "from stable_baselines import A2C\n",
        "from stable_baselines import SAC\n",
        "from stable_baselines.common.vec_env import DummyVecEnv\n",
        "from stable_baselines.common.policies import MlpPolicy\n",
        "#Diable the warnings\n",
        "import warnings\n",
        "warnings.filterwarnings('ignore')\n",
        "\n",
        "\n",
        "#stockerID = \"AMZN\"\n",
        "stockerID = \"MSFT\"\n",
        "#stockerID = \"TSLA\"\n",
        "stockerID =\"FDX\"\n",
        "stockerID =\"ABMD\"\n",
        "stockerID =\"ABT\"\n",
        "stockerID = \"AAP\"\n",
        "stockerID = \"ABBV\"\n",
        "#stockerID = \"AAPL\"\n",
        "\n",
        "'''\n",
        "#AAPL\n",
        "START_DATE_DATA = \"2010-01-01\"\n",
        "END_DATE_DATA = \"2021-08-20\"\n",
        "END_DATE_TRAIN_DATA = \"2019-09-01\"\n",
        "'''\n",
        "START_DATE_DATA = \"2009-01-01\"\n",
        "#END_DATE_TRAIN_DATA = \"2020-01-01\"\n",
        "END_DATE_TRAIN_DATA = \"2020-01-01\"\n",
        "#END_DATE_DATA = \"2021-01-20\"\n",
        "END_DATE_DATA = \"2021-01-01\"\n",
        "\n",
        "PATH_CSV_STOCK = stockerID + \".csv\"\n",
        "\n",
        "data_df = yf.download(stockerID, start=START_DATE_DATA, end=END_DATE_DATA)\n",
        "# reset the index, we want to use numbers instead of dates\n",
        "data_df=data_df.reset_index()\n",
        "# convert the column names to standardized names\n",
        "data_df.columns = ['datadate','open','high','low','close','adjcp','volume']\n",
        "# save the data to a csv file in your current folder\n",
        "#data_df.to_csv('AAPL_2009_2020.csv')\n",
        "#data_df.to_csv('FB_2009_2021.csv')\n",
        "data_df.to_csv(PATH_CSV_STOCK)\n",
        "# check missing data \n",
        "data_df.isnull().values.any()\n",
        "# calculate technical indicators like MACD\n",
        "stock = Sdf.retype(data_df.copy())\n",
        "# we need to use adjusted close price instead of close price\n",
        "stock['close'] = stock['adjcp']\n",
        "data_df['macd'] = stock['macd']\n",
        "# check missing data again\n",
        "data_df.isnull().values.any()\n",
        "# Note that I always use a copy of the original data to try it track step by step.\n",
        "data_clean = data_df.copy()\n",
        "\n",
        "\n",
        "import numpy as np\n",
        "import pandas as pd\n",
        "from gym.utils import seeding\n",
        "import gym\n",
        "from gym import spaces\n",
        "import matplotlib\n",
        "matplotlib.use('Agg')\n",
        "import matplotlib.pyplot as plt\n",
        "\n",
        "# Global variables\n",
        "HMAX_NORMALIZE = 200\n",
        "INITIAL_ACCOUNT_BALANCE=100000\n",
        "STOCK_DIM = 1\n",
        "\n",
        "# transaction fee: 1/1000 reasonable percentage\n",
        "TRANSACTION_FEE_PERCENT = 0.001\n",
        "# REWARD_SCALING = 1e-3\n",
        "\n",
        "\n",
        "class SingleStockEnv(gym.Env):\n",
        "    \"\"\"A stock trading environment for OpenAI gym\"\"\"\n",
        "    metadata = {'render.modes': ['human']}\n",
        "\n",
        "    def __init__(self, df,day = 0):\n",
        "        #super(StockEnv, self).__init__()\n",
        "        # date increment\n",
        "        self.day = day\n",
        "        self.df = df\n",
        "        # action_space normalization and the shape is STOCK_DIM\n",
        "        self.action_space = spaces.Box(low = -1, high = 1,shape = (STOCK_DIM,)) \n",
        "        # Shape = 4: [Current Balance]+[prices]+[owned shares] +[macd] \n",
        "        self.observation_space = spaces.Box(low=0, high=np.inf, shape = (4,))\n",
        "        # load data from a pandas dataframe\n",
        "        self.data = self.df.loc[self.day,:]\n",
        "        # termination\n",
        "        self.terminal = False  \n",
        "        # save the total number of trades\n",
        "        self.trades = 0\n",
        "        # initalize state\n",
        "        self.state = [INITIAL_ACCOUNT_BALANCE] + \\\n",
        "                      [self.data.adjcp] + \\\n",
        "                      [0]*STOCK_DIM + \\\n",
        "                      [self.data.macd] \n",
        "        # initialize reward and cost\n",
        "        self.reward = 0\n",
        "        self.cost = 0\n",
        "        \n",
        "        # memorize the total value, total rewards\n",
        "        self.asset_memory = [INITIAL_ACCOUNT_BALANCE]\n",
        "        self.rewards_memory = []\n",
        "\n",
        "    def _sell_stock(self, index, action):\n",
        "        # perform sell action based on the sign of the action\n",
        "        if self.state[index+STOCK_DIM+1] > 0:\n",
        "            # update balance\n",
        "            self.state[0] += \\\n",
        "            self.state[index+1]*min(abs(action),self.state[index+STOCK_DIM+1]) * \\\n",
        "             (1- TRANSACTION_FEE_PERCENT)\n",
        "            # update held shares\n",
        "            self.state[index+STOCK_DIM+1] -= min(abs(action), self.state[index+STOCK_DIM+1])\n",
        "            # update transaction costs\n",
        "            self.cost +=self.state[index+1]*min(abs(action),self.state[index+STOCK_DIM+1]) * \\\n",
        "             TRANSACTION_FEE_PERCENT\n",
        "            self.trades+=1\n",
        "        else:\n",
        "            pass\n",
        "            \n",
        "    def _buy_stock(self, index, action):\n",
        "        # perform buy action based on the sign of the action\n",
        "        available_amount = self.state[0] // self.state[index+1]\n",
        "        #update balance\n",
        "        self.state[0] -= self.state[index+1]*min(available_amount, action)* \\\n",
        "                          (1+ TRANSACTION_FEE_PERCENT)\n",
        "        # update held shares\n",
        "        self.state[index+STOCK_DIM+1] += min(available_amount, action)\n",
        "        # update transaction costs\n",
        "        self.cost+=self.state[index+1]*min(available_amount, action)* \\\n",
        "                          TRANSACTION_FEE_PERCENT\n",
        "        self.trades+=1\n",
        "        \n",
        "    def step(self, actions):\n",
        "        self.terminal = self.day >= len(self.df.index.unique())-1\n",
        "\n",
        "        if self.terminal:\n",
        "            plt.plot(self.asset_memory,'r')\n",
        "            plt.savefig('account_value.png')\n",
        "            plt.close()\n",
        "            \n",
        "            end_total_asset = self.state[0]+ \\\n",
        "            sum(np.array(self.state[1:(STOCK_DIM+1)])*np.array(self.state[(STOCK_DIM+1):(STOCK_DIM*2+1)]))\n",
        "            print(\"previous_total_asset:{}\".format(self.asset_memory[0])) \n",
        "            print(\"end_total_asset:{}\".format(end_total_asset))\n",
        "            \n",
        "            df_total_value = pd.DataFrame(self.asset_memory)\n",
        "            df_total_value.to_csv('account_value.csv')\n",
        "            print(\"total_reward:{}\".format(self.state[0]+sum(np.array(self.state[1:(STOCK_DIM+1)])*np.array(self.state[(STOCK_DIM+1):(STOCK_DIM*2+1)]))- INITIAL_ACCOUNT_BALANCE ))\n",
        "            print(\"total_cost: \", self.cost)\n",
        "            print(\"total trades: \", self.trades)\n",
        "            \n",
        "            df_total_value.columns = ['account_value']\n",
        "            df_total_value['daily_return']=df_total_value.pct_change(1)\n",
        "            \n",
        "            if df_total_value['daily_return'].std()!=0:\n",
        "                sharpe = (252**0.5)*df_total_value['daily_return'].mean()/ \\\n",
        "                      df_total_value['daily_return'].std()\n",
        "                print(\"Sharpe: \",sharpe)\n",
        "            df_rewards = pd.DataFrame(self.rewards_memory)\n",
        "            df_rewards.to_csv('account_rewards.csv')\n",
        "            return self.state, self.reward, self.terminal,{}\n",
        "\n",
        "        else:\n",
        "            \n",
        "            # actions are the shares we need to buy, hold, or sell\n",
        "            actions = actions * HMAX_NORMALIZE\n",
        "            # calculate begining total asset\n",
        "            begin_total_asset = self.state[0]+ \\\n",
        "            sum(np.array(self.state[1:(STOCK_DIM+1)])*np.array(self.state[(STOCK_DIM+1):(STOCK_DIM*2+1)]))\n",
        "            \n",
        "            # perform buy or sell action\n",
        "            argsort_actions = np.argsort(actions)\n",
        "            sell_index = argsort_actions[:np.where(actions < 0)[0].shape[0]]\n",
        "            buy_index = argsort_actions[::-1][:np.where(actions > 0)[0].shape[0]]\n",
        "\n",
        "            for index in sell_index:\n",
        "                # print('take sell action'.format(actions[index]))\n",
        "                self._sell_stock(index, actions[index])\n",
        "\n",
        "            for index in buy_index:\n",
        "                # print('take buy action: {}'.format(actions[index]))\n",
        "                self._buy_stock(index, actions[index])\n",
        "            \n",
        "            # update data, walk a step s'\n",
        "            self.day += 1\n",
        "            self.data = self.df.loc[self.day,:]         \n",
        "            #load next state\n",
        "            self.state =  [self.state[0]] + \\\n",
        "                          [self.data.adjcp] + \\\n",
        "                          list(self.state[(STOCK_DIM+1):(STOCK_DIM*2+1)]) +\\\n",
        "                          [self.data.macd]\n",
        "                        \n",
        "            # calculate the end total asset\n",
        "            end_total_asset = self.state[0]+ \\\n",
        "            sum(np.array(self.state[1:(STOCK_DIM+1)])*np.array(self.state[(STOCK_DIM+1):(STOCK_DIM*2+1)]))\n",
        "            self.reward = end_total_asset - begin_total_asset  \n",
        "            self.rewards_memory.append(self.reward)\n",
        "            #self.reward = self.reward * REWARD_SCALING\n",
        "            self.asset_memory.append(end_total_asset)\n",
        "\n",
        "        return self.state, self.reward, self.terminal, {}\n",
        "\n",
        "    def reset(self):\n",
        "        self.asset_memory = [INITIAL_ACCOUNT_BALANCE]\n",
        "        self.day = 0\n",
        "        self.data = self.df.loc[self.day,:]\n",
        "        self.cost = 0\n",
        "        self.trades = 0\n",
        "        self.terminal = False \n",
        "        self.rewards_memory = []\n",
        "        #initiate state\n",
        "        self.state = [INITIAL_ACCOUNT_BALANCE] + \\\n",
        "                      [self.data.adjcp] + \\\n",
        "                      [0]*STOCK_DIM + \\\n",
        "                      [self.data.macd]\n",
        "        return self.state\n",
        "    \n",
        "    def render(self, mode='human'):\n",
        "        return self.state\n",
        "\n",
        "    def _seed(self, seed=None):\n",
        "        self.np_random, seed = seeding.np_random(seed)\n",
        "        return [seed]\n",
        "\n",
        "\n",
        "train = data_clean[(data_clean.datadate>=START_DATE_DATA) & (data_clean.datadate < END_DATE_TRAIN_DATA)]\n",
        "# the index needs to start from 0\n",
        "train=train.reset_index(drop=True)\n",
        "\n",
        "## Model Training: 4 models, PPO A2C, DDPG, TD3\n",
        "\n",
        "\n",
        "'''\n",
        "## Model 1: PPO\n",
        "\n",
        "#tensorboard --logdir ./single_stock_tensorboard/\n",
        "env_train = DummyVecEnv([lambda: SingleStockEnv(train)])\n",
        "model_ppo = PPO2('MlpPolicy', env_train, tensorboard_log=\"./single_stock_trading_2_tensorboard/\")\n",
        "model_ppo.learn(total_timesteps=100000,tb_log_name=\"run_aapl_ppo\")\n",
        "#model_ppo.save('AAPL_ppo_100k')\n",
        "#model_ppo.save('AAPL_ppo_100k')\n",
        "#model_sticker_save = 'FB_ppo_100k'\n",
        "model_sticker_save = model_sticker_save = stockerID + '_PPO_100k'\n",
        "model_ppo.save(model_sticker_save)\n",
        "\n",
        "\n",
        "\n",
        "env_train = DummyVecEnv([lambda: SingleStockEnv(train)])\n",
        "model_ppo = PPO2('MlpPolicy', env_train, tensorboard_log=\"./single_stock_trading_2_tensorboard/\")\n",
        "#model_ppo.load('AAPL_ppo_100k.zip')\n",
        "model_ppo.load(model_sticker_save)\n",
        "\n",
        "'''\n",
        "\n",
        "model_sticker_save = stockerID + '_TD3_100k'\n",
        "#tensorboard --logdir ./single_stock_tensorboard/\n",
        "#DQN<DDPG<TD3\n",
        "env_train = DummyVecEnv([lambda: SingleStockEnv(train)])\n",
        "model_td3 = TD3('MlpPolicy', env_train, tensorboard_log=\"./single_stock_trading_2_tensorboard/\")\n",
        "#model_td3.learn(total_timesteps=100000,tb_log_name=\"run_aapl_td3\")\n",
        "#model_td3.save('AAPL_td3_50k')\n",
        "model_td3.learn(total_timesteps=100000,tb_log_name=\"run_aapl_td3\")\n",
        "#model_td3.save('AAPL_td3_50k')\n",
        "model_td3.save(model_sticker_save)\n",
        "\n",
        "\n",
        "env_train = DummyVecEnv([lambda: SingleStockEnv(train)])\n",
        "model_td3 = TD3('MlpPolicy', env_train, tensorboard_log=\"./single_stock_trading_2_tensorboard/\")\n",
        "#model_td3.load('AAPL_td3_50k.zip')\n",
        "\n",
        "model_td3.load(model_sticker_save)\n",
        "\n",
        "\n",
        "# Trading\n",
        "# Assume that we have $100,000 initial capital at 2019-01-01. We use the TD3 model to trade AAPL.\n",
        "## sau khi chay xong: create file account_rewards.csv, account_value.csv, account_value.png \n",
        "\n",
        "\n"
      ],
      "execution_count": 48,
      "outputs": [
        {
          "output_type": "stream",
          "name": "stdout",
          "text": [
            "\r[*********************100%***********************]  1 of 1 completed\n",
            "previous_total_asset:100000\n",
            "end_total_asset:245249.02310230245\n",
            "total_reward:145249.02310230245\n",
            "total_cost:  18937.456036898595\n",
            "total trades:  1759\n",
            "Sharpe:  0.6254483117968469\n",
            "previous_total_asset:100000\n",
            "end_total_asset:283804.3374086963\n",
            "total_reward:183804.3374086963\n",
            "total_cost:  19216.921613063794\n",
            "total trades:  1761\n",
            "Sharpe:  0.700418590739681\n",
            "previous_total_asset:100000\n",
            "end_total_asset:283804.3374086963\n",
            "total_reward:183804.3374086963\n",
            "total_cost:  19216.921613063794\n",
            "total trades:  1761\n",
            "Sharpe:  0.700418590739681\n",
            "previous_total_asset:100000\n",
            "end_total_asset:283804.3374086963\n",
            "total_reward:183804.3374086963\n",
            "total_cost:  19216.921613063794\n",
            "total trades:  1761\n",
            "Sharpe:  0.700418590739681\n",
            "previous_total_asset:100000\n",
            "end_total_asset:283804.3374086963\n",
            "total_reward:183804.3374086963\n",
            "total_cost:  19216.921613063794\n",
            "total trades:  1761\n",
            "Sharpe:  0.700418590739681\n",
            "previous_total_asset:100000\n",
            "end_total_asset:283804.3374086963\n",
            "total_reward:183804.3374086963\n",
            "total_cost:  19216.921613063794\n",
            "total trades:  1761\n",
            "Sharpe:  0.700418590739681\n",
            "previous_total_asset:100000\n",
            "end_total_asset:283804.3374086963\n",
            "total_reward:183804.3374086963\n",
            "total_cost:  19216.921613063794\n",
            "total trades:  1761\n",
            "Sharpe:  0.700418590739681\n",
            "previous_total_asset:100000\n",
            "end_total_asset:283804.3374086963\n",
            "total_reward:183804.3374086963\n",
            "total_cost:  19216.921613063794\n",
            "total trades:  1761\n",
            "Sharpe:  0.700418590739681\n",
            "previous_total_asset:100000\n",
            "end_total_asset:283804.3374086963\n",
            "total_reward:183804.3374086963\n",
            "total_cost:  19216.921613063794\n",
            "total trades:  1761\n",
            "Sharpe:  0.700418590739681\n",
            "previous_total_asset:100000\n",
            "end_total_asset:283804.3374086963\n",
            "total_reward:183804.3374086963\n",
            "total_cost:  19216.921613063794\n",
            "total trades:  1761\n",
            "Sharpe:  0.700418590739681\n",
            "previous_total_asset:100000\n",
            "end_total_asset:283804.3374086963\n",
            "total_reward:183804.3374086963\n",
            "total_cost:  19216.921613063794\n",
            "total trades:  1761\n",
            "Sharpe:  0.700418590739681\n",
            "previous_total_asset:100000\n",
            "end_total_asset:283804.3374086963\n",
            "total_reward:183804.3374086963\n",
            "total_cost:  19216.921613063794\n",
            "total trades:  1761\n",
            "Sharpe:  0.700418590739681\n",
            "previous_total_asset:100000\n",
            "end_total_asset:283804.3374086963\n",
            "total_reward:183804.3374086963\n",
            "total_cost:  19216.921613063794\n",
            "total trades:  1761\n",
            "Sharpe:  0.700418590739681\n",
            "previous_total_asset:100000\n",
            "end_total_asset:283804.3374086963\n",
            "total_reward:183804.3374086963\n",
            "total_cost:  19216.921613063794\n",
            "total trades:  1761\n",
            "Sharpe:  0.700418590739681\n",
            "previous_total_asset:100000\n",
            "end_total_asset:283804.3374086963\n",
            "total_reward:183804.3374086963\n",
            "total_cost:  19216.921613063794\n",
            "total trades:  1761\n",
            "Sharpe:  0.700418590739681\n",
            "previous_total_asset:100000\n",
            "end_total_asset:283804.3374086963\n",
            "total_reward:183804.3374086963\n",
            "total_cost:  19216.921613063794\n",
            "total trades:  1761\n",
            "Sharpe:  0.700418590739681\n",
            "previous_total_asset:100000\n",
            "end_total_asset:283804.3374086963\n",
            "total_reward:183804.3374086963\n",
            "total_cost:  19216.921613063794\n",
            "total trades:  1761\n",
            "Sharpe:  0.700418590739681\n",
            "previous_total_asset:100000\n",
            "end_total_asset:283804.3374086963\n",
            "total_reward:183804.3374086963\n",
            "total_cost:  19216.921613063794\n",
            "total trades:  1761\n",
            "Sharpe:  0.700418590739681\n",
            "previous_total_asset:100000\n",
            "end_total_asset:283804.3374086963\n",
            "total_reward:183804.3374086963\n",
            "total_cost:  19216.921613063794\n",
            "total trades:  1761\n",
            "Sharpe:  0.700418590739681\n",
            "previous_total_asset:100000\n",
            "end_total_asset:283804.3374086963\n",
            "total_reward:183804.3374086963\n",
            "total_cost:  19216.921613063794\n",
            "total trades:  1761\n",
            "Sharpe:  0.700418590739681\n",
            "previous_total_asset:100000\n",
            "end_total_asset:283804.3374086963\n",
            "total_reward:183804.3374086963\n",
            "total_cost:  19216.921613063794\n",
            "total trades:  1761\n",
            "Sharpe:  0.700418590739681\n",
            "previous_total_asset:100000\n",
            "end_total_asset:283804.3374086963\n",
            "total_reward:183804.3374086963\n",
            "total_cost:  19216.921613063794\n",
            "total trades:  1761\n",
            "Sharpe:  0.700418590739681\n",
            "previous_total_asset:100000\n",
            "end_total_asset:283804.3374086963\n",
            "total_reward:183804.3374086963\n",
            "total_cost:  19216.921613063794\n",
            "total trades:  1761\n",
            "Sharpe:  0.700418590739681\n",
            "previous_total_asset:100000\n",
            "end_total_asset:283804.3374086963\n",
            "total_reward:183804.3374086963\n",
            "total_cost:  19216.921613063794\n",
            "total trades:  1761\n",
            "Sharpe:  0.700418590739681\n",
            "previous_total_asset:100000\n",
            "end_total_asset:283804.3374086963\n",
            "total_reward:183804.3374086963\n",
            "total_cost:  19216.921613063794\n",
            "total trades:  1761\n",
            "Sharpe:  0.700418590739681\n",
            "previous_total_asset:100000\n",
            "end_total_asset:283804.3374086963\n",
            "total_reward:183804.3374086963\n",
            "total_cost:  19216.921613063794\n",
            "total trades:  1761\n",
            "Sharpe:  0.700418590739681\n",
            "previous_total_asset:100000\n",
            "end_total_asset:283804.3374086963\n",
            "total_reward:183804.3374086963\n",
            "total_cost:  19216.921613063794\n",
            "total trades:  1761\n",
            "Sharpe:  0.700418590739681\n",
            "previous_total_asset:100000\n",
            "end_total_asset:283804.3374086963\n",
            "total_reward:183804.3374086963\n",
            "total_cost:  19216.921613063794\n",
            "total trades:  1761\n",
            "Sharpe:  0.700418590739681\n",
            "previous_total_asset:100000\n",
            "end_total_asset:283804.3374086963\n",
            "total_reward:183804.3374086963\n",
            "total_cost:  19216.921613063794\n",
            "total trades:  1761\n",
            "Sharpe:  0.700418590739681\n",
            "previous_total_asset:100000\n",
            "end_total_asset:283804.3374086963\n",
            "total_reward:183804.3374086963\n",
            "total_cost:  19216.921613063794\n",
            "total trades:  1761\n",
            "Sharpe:  0.700418590739681\n",
            "previous_total_asset:100000\n",
            "end_total_asset:283804.3374086963\n",
            "total_reward:183804.3374086963\n",
            "total_cost:  19216.921613063794\n",
            "total trades:  1761\n",
            "Sharpe:  0.700418590739681\n",
            "previous_total_asset:100000\n",
            "end_total_asset:283804.3374086963\n",
            "total_reward:183804.3374086963\n",
            "total_cost:  19216.921613063794\n",
            "total trades:  1761\n",
            "Sharpe:  0.700418590739681\n",
            "previous_total_asset:100000\n",
            "end_total_asset:283804.3374086963\n",
            "total_reward:183804.3374086963\n",
            "total_cost:  19216.921613063794\n",
            "total trades:  1761\n",
            "Sharpe:  0.700418590739681\n",
            "previous_total_asset:100000\n",
            "end_total_asset:283804.3374086963\n",
            "total_reward:183804.3374086963\n",
            "total_cost:  19216.921613063794\n",
            "total trades:  1761\n",
            "Sharpe:  0.700418590739681\n",
            "previous_total_asset:100000\n",
            "end_total_asset:283804.3374086963\n",
            "total_reward:183804.3374086963\n",
            "total_cost:  19216.921613063794\n",
            "total trades:  1761\n",
            "Sharpe:  0.700418590739681\n",
            "previous_total_asset:100000\n",
            "end_total_asset:283804.3374086963\n",
            "total_reward:183804.3374086963\n",
            "total_cost:  19216.921613063794\n",
            "total trades:  1761\n",
            "Sharpe:  0.700418590739681\n",
            "previous_total_asset:100000\n",
            "end_total_asset:283804.3374086963\n",
            "total_reward:183804.3374086963\n",
            "total_cost:  19216.921613063794\n",
            "total trades:  1761\n",
            "Sharpe:  0.700418590739681\n",
            "previous_total_asset:100000\n",
            "end_total_asset:283804.3374086963\n",
            "total_reward:183804.3374086963\n",
            "total_cost:  19216.921613063794\n",
            "total trades:  1761\n",
            "Sharpe:  0.700418590739681\n",
            "previous_total_asset:100000\n",
            "end_total_asset:283804.3374086963\n",
            "total_reward:183804.3374086963\n",
            "total_cost:  19216.921613063794\n",
            "total trades:  1761\n",
            "Sharpe:  0.700418590739681\n",
            "previous_total_asset:100000\n",
            "end_total_asset:283804.3374086963\n",
            "total_reward:183804.3374086963\n",
            "total_cost:  19216.921613063794\n",
            "total trades:  1761\n",
            "Sharpe:  0.700418590739681\n",
            "previous_total_asset:100000\n",
            "end_total_asset:283804.3374086963\n",
            "total_reward:183804.3374086963\n",
            "total_cost:  19216.921613063794\n",
            "total trades:  1761\n",
            "Sharpe:  0.700418590739681\n",
            "previous_total_asset:100000\n",
            "end_total_asset:283804.3374086963\n",
            "total_reward:183804.3374086963\n",
            "total_cost:  19216.921613063794\n",
            "total trades:  1761\n",
            "Sharpe:  0.700418590739681\n",
            "previous_total_asset:100000\n",
            "end_total_asset:283804.3374086963\n",
            "total_reward:183804.3374086963\n",
            "total_cost:  19216.921613063794\n",
            "total trades:  1761\n",
            "Sharpe:  0.700418590739681\n",
            "previous_total_asset:100000\n",
            "end_total_asset:283804.3374086963\n",
            "total_reward:183804.3374086963\n",
            "total_cost:  19216.921613063794\n",
            "total trades:  1761\n",
            "Sharpe:  0.700418590739681\n",
            "previous_total_asset:100000\n",
            "end_total_asset:283804.3374086963\n",
            "total_reward:183804.3374086963\n",
            "total_cost:  19216.921613063794\n",
            "total trades:  1761\n",
            "Sharpe:  0.700418590739681\n",
            "previous_total_asset:100000\n",
            "end_total_asset:283804.3374086963\n",
            "total_reward:183804.3374086963\n",
            "total_cost:  19216.921613063794\n",
            "total trades:  1761\n",
            "Sharpe:  0.700418590739681\n",
            "previous_total_asset:100000\n",
            "end_total_asset:283804.3374086963\n",
            "total_reward:183804.3374086963\n",
            "total_cost:  19216.921613063794\n",
            "total trades:  1761\n",
            "Sharpe:  0.700418590739681\n",
            "previous_total_asset:100000\n",
            "end_total_asset:283804.3374086963\n",
            "total_reward:183804.3374086963\n",
            "total_cost:  19216.921613063794\n",
            "total trades:  1761\n",
            "Sharpe:  0.700418590739681\n",
            "previous_total_asset:100000\n",
            "end_total_asset:283804.3374086963\n",
            "total_reward:183804.3374086963\n",
            "total_cost:  19216.921613063794\n",
            "total trades:  1761\n",
            "Sharpe:  0.700418590739681\n",
            "previous_total_asset:100000\n",
            "end_total_asset:283804.3374086963\n",
            "total_reward:183804.3374086963\n",
            "total_cost:  19216.921613063794\n",
            "total trades:  1761\n",
            "Sharpe:  0.700418590739681\n",
            "previous_total_asset:100000\n",
            "end_total_asset:283804.3374086963\n",
            "total_reward:183804.3374086963\n",
            "total_cost:  19216.921613063794\n",
            "total trades:  1761\n",
            "Sharpe:  0.700418590739681\n",
            "previous_total_asset:100000\n",
            "end_total_asset:283804.3374086963\n",
            "total_reward:183804.3374086963\n",
            "total_cost:  19216.921613063794\n",
            "total trades:  1761\n",
            "Sharpe:  0.700418590739681\n",
            "previous_total_asset:100000\n",
            "end_total_asset:283804.3374086963\n",
            "total_reward:183804.3374086963\n",
            "total_cost:  19216.921613063794\n",
            "total trades:  1761\n",
            "Sharpe:  0.700418590739681\n",
            "previous_total_asset:100000\n",
            "end_total_asset:283804.3374086963\n",
            "total_reward:183804.3374086963\n",
            "total_cost:  19216.921613063794\n",
            "total trades:  1761\n",
            "Sharpe:  0.700418590739681\n",
            "previous_total_asset:100000\n",
            "end_total_asset:283804.3374086963\n",
            "total_reward:183804.3374086963\n",
            "total_cost:  19216.921613063794\n",
            "total trades:  1761\n",
            "Sharpe:  0.700418590739681\n",
            "previous_total_asset:100000\n",
            "end_total_asset:283804.3374086963\n",
            "total_reward:183804.3374086963\n",
            "total_cost:  19216.921613063794\n",
            "total trades:  1761\n",
            "Sharpe:  0.700418590739681\n"
          ]
        },
        {
          "output_type": "execute_result",
          "data": {
            "text/plain": [
              "<stable_baselines.td3.td3.TD3 at 0x7fc3083debd0>"
            ]
          },
          "metadata": {},
          "execution_count": 48
        }
      ]
    },
    {
      "cell_type": "code",
      "metadata": {
        "colab": {
          "base_uri": "https://localhost:8080/",
          "height": 700
        },
        "id": "EV0lTOlsXcK9",
        "outputId": "de5b2386-3dd8-42e8-a271-29206e4ec659"
      },
      "source": [
        "\n",
        "test = data_clean[(data_clean.datadate >= END_DATE_TRAIN_DATA) ]\n",
        "# the index needs to start from 0\n",
        "test=test.reset_index(drop=True)\n",
        "\n",
        "\n",
        "#model = model_a2c\n",
        "#model = model_ppo\n",
        "model = model_td3\n",
        "#model = model_ddpg\n",
        "env_test = DummyVecEnv([lambda: SingleStockEnv(test)])\n",
        "obs_test = env_test.reset()\n",
        "print(\"==============Model Prediction===========\")\n",
        "for i in range(len(test.index.unique())):\n",
        "    action, _states = model.predict(obs_test)\n",
        "    obs_test, rewards, dones, info = env_test.step(action)\n",
        "    env_test.render()\n",
        "\n",
        "#==> Create file account_rewards.csv, account_value.csv, account_value.png sau khi chay xong\n",
        "\n",
        "\n",
        "'''\n",
        "Part 5: Backtest Our Strategy\n",
        "For simplicity purposes, in the article, we just calculate the Sharpe ratio and the annual return manually.\n",
        "'''\n",
        "\n",
        "\n",
        "def get_DRL_sharpe():\n",
        "    df_total_value=pd.read_csv('account_value.csv',index_col=0)\n",
        "    df_total_value.columns = ['account_value']\n",
        "    df_total_value['daily_return']=df_total_value.pct_change(1)\n",
        "    sharpe = (252**0.5)*df_total_value['daily_return'].mean()/ \\\n",
        "    df_total_value['daily_return'].std()\n",
        "    \n",
        "    annual_return = ((df_total_value['daily_return'].mean()+1)**252-1)*100\n",
        "    print(\"annual return: \", annual_return)\n",
        "    print(\"sharpe ratio: \", sharpe)\n",
        "    return df_total_value\n",
        "\n",
        "\n",
        "def get_buy_and_hold_sharpe(test):\n",
        "    test['daily_return']=test['adjcp'].pct_change(1)\n",
        "    sharpe = (252**0.5)*test['daily_return'].mean()/ \\\n",
        "    test['daily_return'].std()\n",
        "    annual_return = ((test['daily_return'].mean()+1)**252-1)*100\n",
        "    print(\"annual return: \", annual_return)\n",
        "\n",
        "    print(\"sharpe ratio: \", sharpe)\n",
        "    #return sharpe\n",
        "\n",
        "df_total_value=get_DRL_sharpe()\n",
        "get_buy_and_hold_sharpe(test)\n",
        "DRL_cumulative_return = (df_total_value.account_value.pct_change(1)+1).cumprod()-1\n",
        "buy_and_hold_cumulative_return = (test.adjcp.pct_change(1)+1).cumprod()-1\n",
        "\n",
        "\n",
        "\n",
        "%matplotlib inline\n",
        "fig, ax = plt.subplots(figsize=(12, 8))\n",
        "\n",
        "plt.plot(test.datadate, DRL_cumulative_return, color='red',label = \"DRL\")\n",
        "plt.plot(test.datadate, buy_and_hold_cumulative_return, label = \"Buy & Hold\")\n",
        "plt.title(\"Cumulative Return for AAPL with Transaction Cost\",size= 20)\n",
        "plt.legend()\n",
        "plt.rc('legend',fontsize=15)\n",
        "plt.rc('xtick', labelsize=15)\n",
        "plt.rc('ytick', labelsize=15)"
      ],
      "execution_count": 49,
      "outputs": [
        {
          "output_type": "stream",
          "name": "stdout",
          "text": [
            "==============Model Prediction===========\n",
            "previous_total_asset:100000\n",
            "end_total_asset:127524.04537969973\n",
            "total_reward:27524.04537969973\n",
            "total_cost:  324.40231317138677\n",
            "total trades:  252\n",
            "Sharpe:  0.8728850277110304\n",
            "annual return:  35.505265266200524\n",
            "sharpe ratio:  0.8728850277110308\n",
            "annual return:  34.229399768107086\n",
            "sharpe ratio:  0.8431972292437663\n"
          ]
        },
        {
          "output_type": "display_data",
          "data": {
            "image/png": "[encoded data removed]",
            "text/plain": [
              "<Figure size 864x576 with 1 Axes>"
            ]
          },
          "metadata": {
            "needs_background": "light"
          }
        }
      ]
    },
    {
      "cell_type": "code",
      "metadata": {
        "colab": {
          "base_uri": "https://localhost:8080/",
          "height": 309
        },
        "id": "tfLWQCbY_N-V",
        "outputId": "862f4d42-92f4-4f22-d5a6-0fce6210325d"
      },
      "source": [
        "# Import yfinance package\n",
        "import yfinance as yf\n",
        "\n",
        "# Import matplotlib for plotting\n",
        "import matplotlib.pyplot as plt\n",
        "%matplotlib inline\n",
        "\n",
        "\n",
        "\n",
        "# Set the start and end date\n",
        "#start_date = '1990-01-01'\n",
        "#start_date = '2019-01-01'\n",
        "#end_date = '2021-07-12'\n",
        "\n",
        "#START_DATE_DATA = \"2009-01-01\"\n",
        "#END_DATE_DATA = \"2021-08-20\"\n",
        "\n",
        "#END_DATE_TRAIN_DATA = \"2019-09-01\"\n",
        "#END_DATE_TRAIN_DATA = \"2020-01-01\"\n",
        "#START_DATE_DATA = \"2016-01-01\"\n",
        "#END_DATE_DATA = \"2019-01-01\"\n",
        "\n",
        "\n",
        "#stockerID = \"ABBV\"\n",
        "\n",
        "#START_DATE_DATA = \"2009-01-01\"\n",
        "#END_DATE_TRAIN_DATA = \"2020-01-01\"\n",
        "#END_DATE_DATA = \"2021-01-20\"\n",
        "\n",
        "start_date = END_DATE_TRAIN_DATA\n",
        "end_date = END_DATE_DATA\n",
        "\n",
        "# Set the ticker\n",
        "#ticker = 'AMZN'\n",
        "ticker = stockerID\n",
        "\n",
        "\n",
        "# Get the data\n",
        "data = yf.download(ticker, start_date, end_date)\n",
        "\n",
        "# Print 5 rows\n",
        "#data.tail()\n",
        "\n",
        "# Plot adjusted close price data\n",
        "data['Adj Close'].plot()\n",
        "plt.show()\n",
        "\n"
      ],
      "execution_count": 50,
      "outputs": [
        {
          "output_type": "stream",
          "name": "stdout",
          "text": [
            "\r[*********************100%***********************]  1 of 1 completed\n"
          ]
        },
        {
          "output_type": "display_data",
          "data": {
            "image/png": "[encoded data removed]",
            "text/plain": [
              "<Figure size 432x288 with 1 Axes>"
            ]
          },
          "metadata": {
            "needs_background": "light"
          }
        }
      ]
    },
    {
      "cell_type": "markdown",
      "metadata": {
        "id": "_cmg8TL0-rbT"
      },
      "source": [
        "## Model Training: 4 models, PPO A2C, DDPG, TD3\n",
        "## Model 1: PPO"
      ]
    },
    {
      "cell_type": "code",
      "metadata": {
        "id": "L1Ak9hVU-MuM"
      },
      "source": [
        "#tensorboard --logdir ./single_stock_tensorboard/\n",
        "env_train = DummyVecEnv([lambda: SingleStockEnv(train)])\n",
        "model_ppo = PPO2('MlpPolicy', env_train, tensorboard_log=\"./single_stock_trading_2_tensorboard/\")\n",
        "model_ppo.learn(total_timesteps=100000,tb_log_name=\"run_aapl_ppo\")\n",
        "#model_ppo.save('AAPL_ppo_100k')\n",
        "#model_ppo.save('AAPL_ppo_100k')\n",
        "#model_sticker_save = 'FB_ppo_100k'\n",
        "model_sticker_save = 'amzn_ppo_100k'\n",
        "model_ppo.save(model_sticker_save)"
      ],
      "execution_count": null,
      "outputs": []
    },
    {
      "cell_type": "markdown",
      "metadata": {
        "id": "V-o9vOq_-3Wi"
      },
      "source": [
        "## Model 2: DDPG"
      ]
    },
    {
      "cell_type": "code",
      "metadata": {
        "id": "DR_WNon2-Mwb"
      },
      "source": [
        "#tensorboard --logdir ./single_stock_tensorboard/\n",
        "env_train = DummyVecEnv([lambda: SingleStockEnv(train)])\n",
        "model_ddpg = DDPG('MlpPolicy', env_train, tensorboard_log=\"./single_stock_trading_2_tensorboard/\")\n",
        "#model_ddpg.learn(total_timesteps=100000, tb_log_name=\"run_aapl_ddpg\")\n",
        "#model_ddpg.save('AAPL_ddpg_50k')"
      ],
      "execution_count": null,
      "outputs": []
    },
    {
      "cell_type": "code",
      "metadata": {
        "id": "ERtTQEUS-Myr"
      },
      "source": [
        "model_ddpg.learn(total_timesteps=100000, tb_log_name=\"run_aapl_ddpg\")\n",
        "model_ddpg.save('AAPL_ddpg_50k')\n",
        "\n",
        "#model_ddpg.save(model_sticker_save)\n"
      ],
      "execution_count": null,
      "outputs": []
    },
    {
      "cell_type": "markdown",
      "metadata": {
        "id": "FbEwEVS5--xC"
      },
      "source": [
        "## Model 3: A2C"
      ]
    },
    {
      "cell_type": "code",
      "metadata": {
        "id": "CqwECOAB-M1C"
      },
      "source": [
        "#tensorboard --logdir ./single_stock_tensorboard/\n",
        "env_train = DummyVecEnv([lambda: SingleStockEnv(train)])\n",
        "model_a2c = A2C('MlpPolicy', env_train, tensorboard_log=\"./single_stock_trading_2_tensorboard/\")\n",
        "model_a2c.learn(total_timesteps=100000,tb_log_name=\"run_aapl_a2c\")\n",
        "#model_a2c.save('AAPL_a2c_50k')"
      ],
      "execution_count": null,
      "outputs": []
    },
    {
      "cell_type": "code",
      "metadata": {
        "id": "JkXmJ0Bo9_r6"
      },
      "source": [
        "model_a2c.save('AAPL_a2c_50k')\n",
        "#model_a2c.save(model_sticker_save)"
      ],
      "execution_count": null,
      "outputs": []
    },
    {
      "cell_type": "markdown",
      "metadata": {
        "id": "k1T-oJfX_Ewq"
      },
      "source": [
        "## Model 4: TD3"
      ]
    },
    {
      "cell_type": "code",
      "metadata": {
        "id": "swsevaDl_Cfh"
      },
      "source": [
        "#tensorboard --logdir ./single_stock_tensorboard/\n",
        "#DQN<DDPG<TD3\n",
        "env_train = DummyVecEnv([lambda: SingleStockEnv(train)])\n",
        "model_td3 = TD3('MlpPolicy', env_train, tensorboard_log=\"./single_stock_trading_2_tensorboard/\")\n",
        "#model_td3.learn(total_timesteps=100000,tb_log_name=\"run_aapl_td3\")\n",
        "#model_td3.save('AAPL_td3_50k')\n",
        "model_td3.learn(total_timesteps=100000,tb_log_name=\"run_aapl_td3\")\n",
        "model_td3.save('AAPL_td3_50k')\n",
        "#model_td3.save(model_sticker_save)\n"
      ],
      "execution_count": null,
      "outputs": []
    },
    {
      "cell_type": "markdown",
      "metadata": {
        "id": "Dk28SuRk_LuB"
      },
      "source": [
        "## Testing data"
      ]
    },
    {
      "cell_type": "code",
      "metadata": {
        "id": "V3897qQ8_Ch5"
      },
      "source": [
        ""
      ],
      "execution_count": null,
      "outputs": []
    },
    {
      "cell_type": "markdown",
      "metadata": {
        "id": "vvg39bOe_QLx"
      },
      "source": [
        "## Load model from file save"
      ]
    },
    {
      "cell_type": "markdown",
      "metadata": {
        "id": "b5vgJKZq_Qs5"
      },
      "source": [
        "## Load model PPO"
      ]
    },
    {
      "cell_type": "code",
      "metadata": {
        "id": "vr377TvW_CkK"
      },
      "source": [
        "env_train = DummyVecEnv([lambda: SingleStockEnv(train)])\n",
        "model_ppo = PPO2('MlpPolicy', env_train, tensorboard_log=\"./single_stock_trading_2_tensorboard/\")\n",
        "#model_ppo.load('AAPL_ppo_100k.zip')\n",
        "model_ppo.load(model_sticker_save)\n"
      ],
      "execution_count": null,
      "outputs": []
    },
    {
      "cell_type": "markdown",
      "metadata": {
        "id": "4cPpuYQ9_YOS"
      },
      "source": [
        "## Load models a2c"
      ]
    },
    {
      "cell_type": "code",
      "metadata": {
        "id": "tJoBO65D_CmZ"
      },
      "source": [
        "env_train = DummyVecEnv([lambda: SingleStockEnv(train)])\n",
        "model_a2c = A2C('MlpPolicy', env_train, tensorboard_log=\"./single_stock_trading_2_tensorboard/\")\n",
        "model_a2c.load(model_sticker_save)"
      ],
      "execution_count": null,
      "outputs": []
    },
    {
      "cell_type": "markdown",
      "metadata": {
        "id": "oiPeTYqe_dQZ"
      },
      "source": [
        "## Load model ddpg"
      ]
    },
    {
      "cell_type": "code",
      "metadata": {
        "id": "KepzXkwn_CoZ"
      },
      "source": [
        "env_train = DummyVecEnv([lambda: SingleStockEnv(train)])\n",
        "model_ddpg = DDPG('MlpPolicy', env_train, tensorboard_log=\"./single_stock_trading_2_tensorboard/\")\n",
        "#model_ddpg.load('AAPL_ddpg_50k.zip')\n",
        "model_ddpg.load(model_sticker_save)\n",
        "\n"
      ],
      "execution_count": null,
      "outputs": []
    },
    {
      "cell_type": "markdown",
      "metadata": {
        "id": "XPauM4FM_jfq"
      },
      "source": [
        "## Load model td3"
      ]
    },
    {
      "cell_type": "code",
      "metadata": {
        "id": "wH52_pwn_Cqa"
      },
      "source": [
        "env_train = DummyVecEnv([lambda: SingleStockEnv(train)])\n",
        "model_td3 = TD3('MlpPolicy', env_train, tensorboard_log=\"./single_stock_trading_2_tensorboard/\")\n",
        "model_td3.load('AAPL_td3_50k.zip')\n"
      ],
      "execution_count": null,
      "outputs": []
    },
    {
      "cell_type": "markdown",
      "metadata": {
        "id": "DuMp3IBr_nrq"
      },
      "source": [
        "# Trading\n",
        "Assume that we have $100,000 initial capital at 2019-01-01. We use the TD3 model to trade AAPL.\n",
        "\n",
        "## sau khi chay xong: create file account_rewards.csv, account_value.csv, account_value.png "
      ]
    },
    {
      "cell_type": "code",
      "metadata": {
        "id": "QuHJ2FAf_lUy"
      },
      "source": [
        "\n",
        "test = data_clean[(data_clean.datadate >= END_DATE_TRAIN_DATA) ]\n",
        "# the index needs to start from 0\n",
        "test=test.reset_index(drop=True)\n",
        "\n",
        "\n"
      ],
      "execution_count": null,
      "outputs": []
    },
    {
      "cell_type": "code",
      "metadata": {
        "id": "XSONrBklFLf5"
      },
      "source": [
        "test"
      ],
      "execution_count": null,
      "outputs": []
    },
    {
      "cell_type": "code",
      "metadata": {
        "colab": {
          "base_uri": "https://localhost:8080/"
        },
        "id": "C3cLrinGFJJC",
        "outputId": "17fb9013-9828-4947-9dd8-43c3d2d4480f"
      },
      "source": [
        "#model = model_a2c\n",
        "model = model_ppo\n",
        "#model = model_td3\n",
        "#model = model_ddpg\n",
        "env_test = DummyVecEnv([lambda: SingleStockEnv(test)])\n",
        "obs_test = env_test.reset()\n",
        "print(\"==============Model Prediction===========\")\n",
        "for i in range(len(test.index.unique())):\n",
        "    action, _states = model.predict(obs_test)\n",
        "    obs_test, rewards, dones, info = env_test.step(action)\n",
        "    env_test.render()\n",
        "\n",
        "#==> Create file account_rewards.csv, account_value.csv, account_value.png sau khi chay xong"
      ],
      "execution_count": null,
      "outputs": [
        {
          "output_type": "stream",
          "name": "stdout",
          "text": [
            "==============Model Prediction===========\n",
            "previous_total_asset:100000\n",
            "end_total_asset:91214.80049134279\n",
            "total_reward:-8785.199508657213\n",
            "total_cost:  1216.9028415728942\n",
            "total trades:  52\n",
            "Sharpe:  -3.1096071839715838\n"
          ]
        }
      ]
    },
    {
      "cell_type": "markdown",
      "metadata": {
        "id": "QRy8w11h_rmy"
      },
      "source": [
        "## Part 5: Backtest Our Strategy\n",
        "For simplicity purposes, in the article, we just calculate the Sharpe ratio and the annual return manually."
      ]
    },
    {
      "cell_type": "code",
      "metadata": {
        "colab": {
          "base_uri": "https://localhost:8080/"
        },
        "id": "Xc2v1jpT_lXq",
        "outputId": "cafb6a75-311b-4066-8606-d63bb9ce40b3"
      },
      "source": [
        "\n",
        "def get_DRL_sharpe():\n",
        "    df_total_value=pd.read_csv('account_value.csv',index_col=0)\n",
        "    df_total_value.columns = ['account_value']\n",
        "    df_total_value['daily_return']=df_total_value.pct_change(1)\n",
        "    sharpe = (252**0.5)*df_total_value['daily_return'].mean()/ \\\n",
        "    df_total_value['daily_return'].std()\n",
        "    \n",
        "    annual_return = ((df_total_value['daily_return'].mean()+1)**252-1)*100\n",
        "    print(\"annual return: \", annual_return)\n",
        "    print(\"sharpe ratio: \", sharpe)\n",
        "    return df_total_value\n",
        "\n",
        "\n",
        "def get_buy_and_hold_sharpe(test):\n",
        "    test['daily_return']=test['adjcp'].pct_change(1)\n",
        "    sharpe = (252**0.5)*test['daily_return'].mean()/ \\\n",
        "    test['daily_return'].std()\n",
        "    annual_return = ((test['daily_return'].mean()+1)**252-1)*100\n",
        "    print(\"annual return: \", annual_return)\n",
        "\n",
        "    print(\"sharpe ratio: \", sharpe)\n",
        "    #return sharpe\n",
        "\n",
        "df_total_value=get_DRL_sharpe()\n",
        "get_buy_and_hold_sharpe(test)\n",
        "DRL_cumulative_return = (df_total_value.account_value.pct_change(1)+1).cumprod()-1\n",
        "buy_and_hold_cumulative_return = (test.adjcp.pct_change(1)+1).cumprod()-1\n"
      ],
      "execution_count": null,
      "outputs": [
        {
          "output_type": "stream",
          "name": "stdout",
          "text": [
            "annual return:  -34.2962179054769\n",
            "sharpe ratio:  -3.1096071839715633\n",
            "annual return:  -50.82201630086771\n",
            "sharpe ratio:  -3.7496910745541077\n"
          ]
        }
      ]
    },
    {
      "cell_type": "code",
      "metadata": {
        "id": "-HmnT9KBJRpu"
      },
      "source": [
        "#DRL_cumulative_return"
      ],
      "execution_count": null,
      "outputs": []
    },
    {
      "cell_type": "code",
      "metadata": {
        "id": "dps-hbmJ_lZ7"
      },
      "source": [
        "%matplotlib inline\n",
        "fig, ax = plt.subplots(figsize=(12, 8))\n",
        "\n",
        "plt.plot(test.datadate, DRL_cumulative_return, color='red',label = \"DRL\")\n",
        "plt.plot(test.datadate, buy_and_hold_cumulative_return, label = \"Buy & Hold\")\n",
        "plt.title(\"Cumulative Return for AAPL with Transaction Cost\",size= 20)\n",
        "plt.legend()\n",
        "plt.rc('legend',fontsize=15)\n",
        "plt.rc('xtick', labelsize=15)\n",
        "plt.rc('ytick', labelsize=15)"
      ],
      "execution_count": null,
      "outputs": []
    },
    {
      "cell_type": "code",
      "metadata": {
        "id": "vuX1LVRn_3cL"
      },
      "source": [
        "from google.colab import files\n",
        "\n",
        "files.download('AAPL_a2c_50k.zip')\n",
        "files.download('AAPL_td3_50k.zip')\n",
        "files.download('AAPL_ppo_100k.zip')\n",
        "files.download('AAPL_ddpg_50k.zip')"
      ],
      "execution_count": null,
      "outputs": []
    }
  ]
}