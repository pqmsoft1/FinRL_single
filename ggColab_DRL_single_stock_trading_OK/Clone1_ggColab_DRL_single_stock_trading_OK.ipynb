{
  "nbformat": 4,
  "nbformat_minor": 0,
  "metadata": {
    "colab": {
      "name": "Clone1_ggColab_DRL_single_stock_trading_OK.ipynb",
      "provenance": [],
      "collapsed_sections": []
    },
    "kernelspec": {
      "name": "python3",
      "display_name": "Python 3"
    },
    "language_info": {
      "name": "python"
    }
  },
  "cells": [
    {
      "cell_type": "code",
      "metadata": {
        "id": "GiCYf1Tm97ai"
      },
      "source": [
        ""
      ],
      "execution_count": 20,
      "outputs": []
    },
    {
      "cell_type": "markdown",
      "metadata": {
        "id": "KFEQZoKIGZHa"
      },
      "source": [
        "## Clone code from ggColab_DRL_single_stock_trading_OK.ipynb"
      ]
    },
    {
      "cell_type": "code",
      "metadata": {
        "id": "cPZSlrCfGZvy"
      },
      "source": [
        "!git clone https://github.com/pqmsoft1/FinRL_single.git"
      ],
      "execution_count": null,
      "outputs": []
    },
    {
      "cell_type": "code",
      "metadata": {
        "colab": {
          "base_uri": "https://localhost:8080/"
        },
        "id": "yM71W6T49_i5",
        "outputId": "1a3d4f72-27a7-41a9-d18b-a8ac932c1dd1"
      },
      "source": [
        "!pip uninstall -y tensorflow==2.6.0"
      ],
      "execution_count": 3,
      "outputs": [
        {
          "output_type": "stream",
          "name": "stdout",
          "text": [
            "Found existing installation: tensorflow 2.6.0\n",
            "Uninstalling tensorflow-2.6.0:\n",
            "  Successfully uninstalled tensorflow-2.6.0\n"
          ]
        }
      ]
    },
    {
      "cell_type": "code",
      "metadata": {
        "id": "xIdpnjWI9_nK"
      },
      "source": [
        "!pip install yfinance\n",
        "!pip install pandas\n",
        "!pip install matplotlib\n",
        "!pip install stockstats\n",
        "!pip install gym\n",
        "!pip install stable-baselines[mpi]\n",
        "!pip install tensorflow==1.15.4\n"
      ],
      "execution_count": null,
      "outputs": []
    },
    {
      "cell_type": "code",
      "metadata": {
        "id": "Wq86rPPE9_pq"
      },
      "source": [
        "import pkg_resources\n",
        "import pip\n",
        "installedPackages = {pkg.key for pkg in pkg_resources.working_set}\n",
        "required = {'yfinance', 'pandas', 'matplotlib', 'stockstats','stable-baselines','gym','tensorflow'}\n",
        "missing = required - installedPackages\n",
        "if missing:\n",
        "    !pip install yfinance\n",
        "    !pip install pandas\n",
        "    !pip install matplotlib\n",
        "    !pip install stockstats\n",
        "    !pip install gym\n",
        "    !pip install stable-baselines[mpi]\n",
        "    !pip install tensorflow==1.15.4"
      ],
      "execution_count": 1,
      "outputs": []
    },
    {
      "cell_type": "code",
      "metadata": {
        "colab": {
          "base_uri": "https://localhost:8080/"
        },
        "id": "2O1safkiA7MD",
        "outputId": "310a73de-02bb-48af-b8aa-c30c5b7eb498"
      },
      "source": [
        "!ls"
      ],
      "execution_count": 4,
      "outputs": [
        {
          "output_type": "stream",
          "name": "stdout",
          "text": [
            "contributing.md\n",
            "DMaster.docx\n",
            "docker\n",
            "DRL_multiple_stock_trading.ipynb\n",
            "DRL_single_stock_trading.ipynb\n",
            "figs\n",
            "finrl\n",
            "FinRL_demo_docker.ipynb\n",
            "FinRL_ensemble_stock_trading_ICAIF_2020.ipynb\n",
            "FinRL_portfolio_allocation_NeurIPS_2020.ipynb\n",
            "FinRL_single.ipynb\n",
            "FinRL_single_stock_trading.ipynb\n",
            "FinRL_stock_trading_fundamental.ipynb\n",
            "FinRL_stock_trading_NeurIPS_2018.ipynb\n",
            "ggColab_DRL_single_stock_trading_OK.ipynb\n",
            "LICENSE\n",
            "main.py\n",
            "notebooks\n",
            "README.md\n",
            "requirements.txt\n",
            "setup.py\n",
            "SingleStock.docx\n",
            "tests\n"
          ]
        }
      ]
    },
    {
      "cell_type": "code",
      "metadata": {
        "colab": {
          "base_uri": "https://localhost:8080/"
        },
        "id": "4AKa-X7vA9AZ",
        "outputId": "a9c7e66f-c312-4959-c7a9-1a5e1fc138ff"
      },
      "source": [
        "cd FinRL_single"
      ],
      "execution_count": 3,
      "outputs": [
        {
          "output_type": "stream",
          "name": "stdout",
          "text": [
            "/content/FinRL_single\n"
          ]
        }
      ]
    },
    {
      "cell_type": "code",
      "metadata": {
        "colab": {
          "base_uri": "https://localhost:8080/"
        },
        "id": "FM4T6qfr-MpS",
        "outputId": "32ae826e-36ae-48bf-9cb1-b7661950672e"
      },
      "source": [
        "import yfinance as yf\n",
        "from stockstats import StockDataFrame as Sdf\n",
        "\n",
        "import pandas as pd\n",
        "import matplotlib.pyplot as plt\n",
        "\n",
        "import gym\n",
        "from stable_baselines import PPO2, DDPG, A2C, ACKTR, TD3\n",
        "from stable_baselines import DDPG\n",
        "from stable_baselines import A2C\n",
        "from stable_baselines import SAC\n",
        "from stable_baselines.common.vec_env import DummyVecEnv\n",
        "from stable_baselines.common.policies import MlpPolicy\n",
        "#Diable the warnings\n",
        "import warnings\n",
        "warnings.filterwarnings('ignore')\n"
      ],
      "execution_count": 5,
      "outputs": [
        {
          "output_type": "stream",
          "name": "stdout",
          "text": [
            "WARNING:tensorflow:\n",
            "The TensorFlow contrib module will not be included in TensorFlow 2.0.\n",
            "For more information, please see:\n",
            "  * https://github.com/tensorflow/community/blob/master/rfcs/20180907-contrib-sunset.md\n",
            "  * https://github.com/tensorflow/addons\n",
            "  * https://github.com/tensorflow/io (for I/O related ops)\n",
            "If you depend on functionality not listed there, please file an issue.\n",
            "\n"
          ]
        },
        {
          "output_type": "stream",
          "name": "stderr",
          "text": [
            "/usr/local/lib/python3.7/dist-packages/stable_baselines/__init__.py:33: UserWarning: stable-baselines is in maintenance mode, please use [Stable-Baselines3 (SB3)](https://github.com/DLR-RM/stable-baselines3) for an up-to-date version. You can find a [migration guide](https://stable-baselines3.readthedocs.io/en/master/guide/migration.html) in SB3 documentation.\n",
            "  \"stable-baselines is in maintenance mode, please use [Stable-Baselines3 (SB3)](https://github.com/DLR-RM/stable-baselines3) for an up-to-date version. You can find a [migration guide](https://stable-baselines3.readthedocs.io/en/master/guide/migration.html) in SB3 documentation.\"\n"
          ]
        }
      ]
    },
    {
      "cell_type": "code",
      "metadata": {
        "colab": {
          "base_uri": "https://localhost:8080/"
        },
        "id": "yw8rc7-d-MsC",
        "outputId": "4487f9ea-bbe1-4a10-ca0e-8a5c472f6301"
      },
      "source": [
        "#stockerID = \"AMZN\"\n",
        "#stockerID = \"MSFT\"\n",
        "stockerID = \"TSLA\"\n",
        "START_DATE_DATA = \"2019-01-01\"\n",
        "END_DATE_DATA = \"2021-09-20\"\n",
        "\n",
        "END_DATE_TRAIN_DATA = \"2021-09-01\"\n",
        "\n",
        "PATH_CSV_STOCK = stockerID + \".csv\"\n",
        "\n",
        "data_df = yf.download(stockerID, start=START_DATE_DATA, end=END_DATE_DATA)\n",
        "# reset the index, we want to use numbers instead of dates\n",
        "data_df=data_df.reset_index()\n",
        "# convert the column names to standardized names\n",
        "data_df.columns = ['datadate','open','high','low','close','adjcp','volume']\n",
        "# save the data to a csv file in your current folder\n",
        "#data_df.to_csv('AAPL_2009_2020.csv')\n",
        "#data_df.to_csv('FB_2009_2021.csv')\n",
        "data_df.to_csv(PATH_CSV_STOCK)\n",
        "# check missing data \n",
        "data_df.isnull().values.any()\n",
        "# calculate technical indicators like MACD\n",
        "stock = Sdf.retype(data_df.copy())\n",
        "# we need to use adjusted close price instead of close price\n",
        "stock['close'] = stock['adjcp']\n",
        "data_df['macd'] = stock['macd']\n",
        "# check missing data again\n",
        "data_df.isnull().values.any()\n",
        "# Note that I always use a copy of the original data to try it track step by step.\n",
        "data_clean = data_df.copy()\n",
        "\n",
        "\n",
        "import numpy as np\n",
        "import pandas as pd\n",
        "from gym.utils import seeding\n",
        "import gym\n",
        "from gym import spaces\n",
        "import matplotlib\n",
        "matplotlib.use('Agg')\n",
        "import matplotlib.pyplot as plt\n",
        "\n",
        "# Global variables\n",
        "HMAX_NORMALIZE = 200\n",
        "INITIAL_ACCOUNT_BALANCE=100000\n",
        "STOCK_DIM = 1\n",
        "\n",
        "# transaction fee: 1/1000 reasonable percentage\n",
        "TRANSACTION_FEE_PERCENT = 0.001\n",
        "# REWARD_SCALING = 1e-3\n",
        "\n",
        "\n",
        "class SingleStockEnv(gym.Env):\n",
        "    \"\"\"A stock trading environment for OpenAI gym\"\"\"\n",
        "    metadata = {'render.modes': ['human']}\n",
        "\n",
        "    def __init__(self, df,day = 0):\n",
        "        #super(StockEnv, self).__init__()\n",
        "        # date increment\n",
        "        self.day = day\n",
        "        self.df = df\n",
        "        # action_space normalization and the shape is STOCK_DIM\n",
        "        self.action_space = spaces.Box(low = -1, high = 1,shape = (STOCK_DIM,)) \n",
        "        # Shape = 4: [Current Balance]+[prices]+[owned shares] +[macd] \n",
        "        self.observation_space = spaces.Box(low=0, high=np.inf, shape = (4,))\n",
        "        # load data from a pandas dataframe\n",
        "        self.data = self.df.loc[self.day,:]\n",
        "        # termination\n",
        "        self.terminal = False  \n",
        "        # save the total number of trades\n",
        "        self.trades = 0\n",
        "        # initalize state\n",
        "        self.state = [INITIAL_ACCOUNT_BALANCE] + \\\n",
        "                      [self.data.adjcp] + \\\n",
        "                      [0]*STOCK_DIM + \\\n",
        "                      [self.data.macd] \n",
        "        # initialize reward and cost\n",
        "        self.reward = 0\n",
        "        self.cost = 0\n",
        "        \n",
        "        # memorize the total value, total rewards\n",
        "        self.asset_memory = [INITIAL_ACCOUNT_BALANCE]\n",
        "        self.rewards_memory = []\n",
        "\n",
        "    def _sell_stock(self, index, action):\n",
        "        # perform sell action based on the sign of the action\n",
        "        if self.state[index+STOCK_DIM+1] > 0:\n",
        "            # update balance\n",
        "            self.state[0] += \\\n",
        "            self.state[index+1]*min(abs(action),self.state[index+STOCK_DIM+1]) * \\\n",
        "             (1- TRANSACTION_FEE_PERCENT)\n",
        "            # update held shares\n",
        "            self.state[index+STOCK_DIM+1] -= min(abs(action), self.state[index+STOCK_DIM+1])\n",
        "            # update transaction costs\n",
        "            self.cost +=self.state[index+1]*min(abs(action),self.state[index+STOCK_DIM+1]) * \\\n",
        "             TRANSACTION_FEE_PERCENT\n",
        "            self.trades+=1\n",
        "        else:\n",
        "            pass\n",
        "            \n",
        "    def _buy_stock(self, index, action):\n",
        "        # perform buy action based on the sign of the action\n",
        "        available_amount = self.state[0] // self.state[index+1]\n",
        "        #update balance\n",
        "        self.state[0] -= self.state[index+1]*min(available_amount, action)* \\\n",
        "                          (1+ TRANSACTION_FEE_PERCENT)\n",
        "        # update held shares\n",
        "        self.state[index+STOCK_DIM+1] += min(available_amount, action)\n",
        "        # update transaction costs\n",
        "        self.cost+=self.state[index+1]*min(available_amount, action)* \\\n",
        "                          TRANSACTION_FEE_PERCENT\n",
        "        self.trades+=1\n",
        "        \n",
        "    def step(self, actions):\n",
        "        self.terminal = self.day >= len(self.df.index.unique())-1\n",
        "\n",
        "        if self.terminal:\n",
        "            plt.plot(self.asset_memory,'r')\n",
        "            plt.savefig('account_value.png')\n",
        "            plt.close()\n",
        "            \n",
        "            end_total_asset = self.state[0]+ \\\n",
        "            sum(np.array(self.state[1:(STOCK_DIM+1)])*np.array(self.state[(STOCK_DIM+1):(STOCK_DIM*2+1)]))\n",
        "            print(\"previous_total_asset:{}\".format(self.asset_memory[0])) \n",
        "            print(\"end_total_asset:{}\".format(end_total_asset))\n",
        "            \n",
        "            df_total_value = pd.DataFrame(self.asset_memory)\n",
        "            df_total_value.to_csv('account_value.csv')\n",
        "            print(\"total_reward:{}\".format(self.state[0]+sum(np.array(self.state[1:(STOCK_DIM+1)])*np.array(self.state[(STOCK_DIM+1):(STOCK_DIM*2+1)]))- INITIAL_ACCOUNT_BALANCE ))\n",
        "            print(\"total_cost: \", self.cost)\n",
        "            print(\"total trades: \", self.trades)\n",
        "            \n",
        "            df_total_value.columns = ['account_value']\n",
        "            df_total_value['daily_return']=df_total_value.pct_change(1)\n",
        "            \n",
        "            if df_total_value['daily_return'].std()!=0:\n",
        "                sharpe = (252**0.5)*df_total_value['daily_return'].mean()/ \\\n",
        "                      df_total_value['daily_return'].std()\n",
        "                print(\"Sharpe: \",sharpe)\n",
        "            df_rewards = pd.DataFrame(self.rewards_memory)\n",
        "            df_rewards.to_csv('account_rewards.csv')\n",
        "            return self.state, self.reward, self.terminal,{}\n",
        "\n",
        "        else:\n",
        "            \n",
        "            # actions are the shares we need to buy, hold, or sell\n",
        "            actions = actions * HMAX_NORMALIZE\n",
        "            # calculate begining total asset\n",
        "            begin_total_asset = self.state[0]+ \\\n",
        "            sum(np.array(self.state[1:(STOCK_DIM+1)])*np.array(self.state[(STOCK_DIM+1):(STOCK_DIM*2+1)]))\n",
        "            \n",
        "            # perform buy or sell action\n",
        "            argsort_actions = np.argsort(actions)\n",
        "            sell_index = argsort_actions[:np.where(actions < 0)[0].shape[0]]\n",
        "            buy_index = argsort_actions[::-1][:np.where(actions > 0)[0].shape[0]]\n",
        "\n",
        "            for index in sell_index:\n",
        "                # print('take sell action'.format(actions[index]))\n",
        "                self._sell_stock(index, actions[index])\n",
        "\n",
        "            for index in buy_index:\n",
        "                # print('take buy action: {}'.format(actions[index]))\n",
        "                self._buy_stock(index, actions[index])\n",
        "            \n",
        "            # update data, walk a step s'\n",
        "            self.day += 1\n",
        "            self.data = self.df.loc[self.day,:]         \n",
        "            #load next state\n",
        "            self.state =  [self.state[0]] + \\\n",
        "                          [self.data.adjcp] + \\\n",
        "                          list(self.state[(STOCK_DIM+1):(STOCK_DIM*2+1)]) +\\\n",
        "                          [self.data.macd]\n",
        "                        \n",
        "            # calculate the end total asset\n",
        "            end_total_asset = self.state[0]+ \\\n",
        "            sum(np.array(self.state[1:(STOCK_DIM+1)])*np.array(self.state[(STOCK_DIM+1):(STOCK_DIM*2+1)]))\n",
        "            self.reward = end_total_asset - begin_total_asset  \n",
        "            self.rewards_memory.append(self.reward)\n",
        "            #self.reward = self.reward * REWARD_SCALING\n",
        "            self.asset_memory.append(end_total_asset)\n",
        "\n",
        "        return self.state, self.reward, self.terminal, {}\n",
        "\n",
        "    def reset(self):\n",
        "        self.asset_memory = [INITIAL_ACCOUNT_BALANCE]\n",
        "        self.day = 0\n",
        "        self.data = self.df.loc[self.day,:]\n",
        "        self.cost = 0\n",
        "        self.trades = 0\n",
        "        self.terminal = False \n",
        "        self.rewards_memory = []\n",
        "        #initiate state\n",
        "        self.state = [INITIAL_ACCOUNT_BALANCE] + \\\n",
        "                      [self.data.adjcp] + \\\n",
        "                      [0]*STOCK_DIM + \\\n",
        "                      [self.data.macd]\n",
        "        return self.state\n",
        "    \n",
        "    def render(self, mode='human'):\n",
        "        return self.state\n",
        "\n",
        "    def _seed(self, seed=None):\n",
        "        self.np_random, seed = seeding.np_random(seed)\n",
        "        return [seed]\n",
        "\n",
        "\n",
        "train = data_clean[(data_clean.datadate>=START_DATE_DATA) & (data_clean.datadate < END_DATE_TRAIN_DATA)]\n",
        "# the index needs to start from 0\n",
        "train=train.reset_index(drop=True)\n",
        "\n",
        "\n",
        "\n"
      ],
      "execution_count": 42,
      "outputs": [
        {
          "output_type": "stream",
          "name": "stdout",
          "text": [
            "\r[*********************100%***********************]  1 of 1 completed\n"
          ]
        }
      ]
    },
    {
      "cell_type": "markdown",
      "metadata": {
        "id": "_cmg8TL0-rbT"
      },
      "source": [
        "## Model Training: 4 models, PPO A2C, DDPG, TD3\n",
        "## Model 1: PPO"
      ]
    },
    {
      "cell_type": "code",
      "metadata": {
        "colab": {
          "base_uri": "https://localhost:8080/"
        },
        "id": "L1Ak9hVU-MuM",
        "outputId": "d3ad87f7-0b28-4299-f219-5b8517dee92e"
      },
      "source": [
        "#tensorboard --logdir ./single_stock_tensorboard/\n",
        "env_train = DummyVecEnv([lambda: SingleStockEnv(train)])\n",
        "model_ppo = PPO2('MlpPolicy', env_train, tensorboard_log=\"./single_stock_trading_2_tensorboard/\")\n",
        "model_ppo.learn(total_timesteps=100000,tb_log_name=\"run_aapl_ppo\")\n",
        "#model_ppo.save('AAPL_ppo_100k')\n",
        "#model_ppo.save('AAPL_ppo_100k')\n",
        "#model_sticker_save = 'FB_ppo_100k'\n",
        "model_sticker_save = 'amzn_ppo_100k'\n",
        "model_ppo.save(model_sticker_save)"
      ],
      "execution_count": null,
      "outputs": [
        {
          "output_type": "stream",
          "name": "stdout",
          "text": [
            "previous_total_asset:100000\n",
            "end_total_asset:255148.1417800352\n",
            "total_reward:155148.1417800352\n",
            "total_cost:  15841.616974858334\n",
            "total trades:  642\n",
            "Sharpe:  0.9791327991638628\n",
            "previous_total_asset:100000\n",
            "end_total_asset:575627.214636886\n",
            "total_reward:475627.214636886\n",
            "total_cost:  21487.3103037418\n",
            "total trades:  661\n",
            "Sharpe:  1.6257508737645134\n",
            "previous_total_asset:100000\n",
            "end_total_asset:692314.0005102728\n",
            "total_reward:592314.0005102728\n",
            "total_cost:  19524.492698251852\n",
            "total trades:  667\n",
            "Sharpe:  1.5230926648136094\n",
            "previous_total_asset:100000\n",
            "end_total_asset:821487.734723248\n",
            "total_reward:721487.734723248\n",
            "total_cost:  21046.554709102136\n",
            "total trades:  671\n",
            "Sharpe:  1.7597585292924214\n",
            "previous_total_asset:100000\n",
            "end_total_asset:609205.4730397039\n",
            "total_reward:509205.4730397039\n",
            "total_cost:  20348.13839698546\n",
            "total trades:  669\n",
            "Sharpe:  1.5685094488897793\n",
            "previous_total_asset:100000\n",
            "end_total_asset:670996.1576813803\n",
            "total_reward:570996.1576813803\n",
            "total_cost:  20082.887960907865\n",
            "total trades:  670\n",
            "Sharpe:  1.5042214846677042\n",
            "previous_total_asset:100000\n",
            "end_total_asset:473406.00664241746\n",
            "total_reward:373406.00664241746\n",
            "total_cost:  19512.563655008384\n",
            "total trades:  665\n",
            "Sharpe:  1.3891632205099858\n",
            "previous_total_asset:100000\n",
            "end_total_asset:667395.4093535413\n",
            "total_reward:567395.4093535413\n",
            "total_cost:  19379.51470052974\n",
            "total trades:  664\n",
            "Sharpe:  1.550239910583117\n",
            "previous_total_asset:100000\n",
            "end_total_asset:617615.3797543381\n",
            "total_reward:517615.37975433806\n",
            "total_cost:  20627.516425264454\n",
            "total trades:  668\n",
            "Sharpe:  1.6111507653851684\n",
            "previous_total_asset:100000\n",
            "end_total_asset:576042.5751033691\n",
            "total_reward:476042.5751033691\n",
            "total_cost:  20779.505099912734\n",
            "total trades:  657\n",
            "Sharpe:  1.4791393289690125\n",
            "previous_total_asset:100000\n",
            "end_total_asset:672411.0645001101\n",
            "total_reward:572411.0645001101\n",
            "total_cost:  22154.203725709234\n",
            "total trades:  671\n",
            "Sharpe:  1.619086020139149\n",
            "previous_total_asset:100000\n",
            "end_total_asset:866384.0561444913\n",
            "total_reward:766384.0561444913\n",
            "total_cost:  18540.970937820606\n",
            "total trades:  671\n",
            "Sharpe:  1.6286535388565448\n",
            "previous_total_asset:100000\n",
            "end_total_asset:823257.3331186676\n",
            "total_reward:723257.3331186676\n",
            "total_cost:  17820.726306189354\n",
            "total trades:  671\n",
            "Sharpe:  1.6044110375108156\n",
            "previous_total_asset:100000\n",
            "end_total_asset:711053.1657506045\n",
            "total_reward:611053.1657506045\n",
            "total_cost:  17885.50655716272\n",
            "total trades:  670\n",
            "Sharpe:  1.5017433669162552\n",
            "previous_total_asset:100000\n",
            "end_total_asset:773148.890444456\n",
            "total_reward:673148.890444456\n",
            "total_cost:  19174.892510717156\n",
            "total trades:  668\n",
            "Sharpe:  1.6148875280342494\n",
            "previous_total_asset:100000\n",
            "end_total_asset:583441.2287368482\n",
            "total_reward:483441.2287368482\n",
            "total_cost:  19914.15786015282\n",
            "total trades:  671\n",
            "Sharpe:  1.4194153157161333\n",
            "previous_total_asset:100000\n",
            "end_total_asset:788916.7006206373\n",
            "total_reward:688916.7006206373\n",
            "total_cost:  18835.62582714202\n",
            "total trades:  671\n",
            "Sharpe:  1.5661131177859522\n",
            "previous_total_asset:100000\n",
            "end_total_asset:871187.0871200489\n",
            "total_reward:771187.0871200489\n",
            "total_cost:  17017.45098919263\n",
            "total trades:  671\n",
            "Sharpe:  1.6202987459146934\n",
            "previous_total_asset:100000\n",
            "end_total_asset:657232.5708438704\n",
            "total_reward:557232.5708438704\n",
            "total_cost:  18707.284436847785\n",
            "total trades:  667\n",
            "Sharpe:  1.4871596572134107\n",
            "previous_total_asset:100000\n",
            "end_total_asset:811929.63643277\n",
            "total_reward:711929.63643277\n",
            "total_cost:  16148.58177622827\n",
            "total trades:  667\n",
            "Sharpe:  1.5967027398279483\n",
            "previous_total_asset:100000\n",
            "end_total_asset:846900.762478094\n",
            "total_reward:746900.762478094\n",
            "total_cost:  20538.82330989384\n",
            "total trades:  669\n",
            "Sharpe:  1.6143311065750876\n",
            "previous_total_asset:100000\n",
            "end_total_asset:1138579.316219408\n",
            "total_reward:1038579.3162194081\n",
            "total_cost:  18740.130101495797\n",
            "total trades:  669\n",
            "Sharpe:  1.9349032649168316\n",
            "previous_total_asset:100000\n",
            "end_total_asset:545701.8240531554\n",
            "total_reward:445701.8240531554\n",
            "total_cost:  20180.842355324894\n",
            "total trades:  669\n",
            "Sharpe:  1.3931594068765518\n",
            "previous_total_asset:100000\n",
            "end_total_asset:910442.0426545414\n",
            "total_reward:810442.0426545414\n",
            "total_cost:  18643.296524833444\n",
            "total trades:  670\n",
            "Sharpe:  1.6733766008398487\n",
            "previous_total_asset:100000\n",
            "end_total_asset:979925.1935621188\n",
            "total_reward:879925.1935621188\n",
            "total_cost:  17658.596626909497\n",
            "total trades:  671\n",
            "Sharpe:  1.78959244015985\n",
            "previous_total_asset:100000\n",
            "end_total_asset:986479.5117612397\n",
            "total_reward:886479.5117612397\n",
            "total_cost:  19746.222058113064\n",
            "total trades:  671\n",
            "Sharpe:  1.7060527433969743\n",
            "previous_total_asset:100000\n",
            "end_total_asset:978764.0860928354\n",
            "total_reward:878764.0860928354\n",
            "total_cost:  17081.3847848212\n",
            "total trades:  668\n",
            "Sharpe:  1.6783153986549653\n",
            "previous_total_asset:100000\n",
            "end_total_asset:870475.9923942279\n",
            "total_reward:770475.9923942279\n",
            "total_cost:  20384.36420430341\n",
            "total trades:  671\n",
            "Sharpe:  1.6764580320467128\n"
          ]
        }
      ]
    },
    {
      "cell_type": "markdown",
      "metadata": {
        "id": "V-o9vOq_-3Wi"
      },
      "source": [
        "## Model 2: DDPG"
      ]
    },
    {
      "cell_type": "code",
      "metadata": {
        "id": "DR_WNon2-Mwb"
      },
      "source": [
        "#tensorboard --logdir ./single_stock_tensorboard/\n",
        "env_train = DummyVecEnv([lambda: SingleStockEnv(train)])\n",
        "model_ddpg = DDPG('MlpPolicy', env_train, tensorboard_log=\"./single_stock_trading_2_tensorboard/\")\n",
        "#model_ddpg.learn(total_timesteps=100000, tb_log_name=\"run_aapl_ddpg\")\n",
        "#model_ddpg.save('AAPL_ddpg_50k')"
      ],
      "execution_count": null,
      "outputs": []
    },
    {
      "cell_type": "code",
      "metadata": {
        "id": "ERtTQEUS-Myr"
      },
      "source": [
        "model_ddpg.learn(total_timesteps=100000, tb_log_name=\"run_aapl_ddpg\")\n",
        "model_ddpg.save('AAPL_ddpg_50k')\n",
        "\n",
        "#model_ddpg.save(model_sticker_save)\n"
      ],
      "execution_count": null,
      "outputs": []
    },
    {
      "cell_type": "markdown",
      "metadata": {
        "id": "FbEwEVS5--xC"
      },
      "source": [
        "## Model 3: A2C"
      ]
    },
    {
      "cell_type": "code",
      "metadata": {
        "id": "CqwECOAB-M1C"
      },
      "source": [
        "#tensorboard --logdir ./single_stock_tensorboard/\n",
        "env_train = DummyVecEnv([lambda: SingleStockEnv(train)])\n",
        "model_a2c = A2C('MlpPolicy', env_train, tensorboard_log=\"./single_stock_trading_2_tensorboard/\")\n",
        "model_a2c.learn(total_timesteps=100000,tb_log_name=\"run_aapl_a2c\")\n",
        "#model_a2c.save('AAPL_a2c_50k')"
      ],
      "execution_count": null,
      "outputs": []
    },
    {
      "cell_type": "code",
      "metadata": {
        "id": "JkXmJ0Bo9_r6"
      },
      "source": [
        "model_a2c.save('AAPL_a2c_50k')\n",
        "#model_a2c.save(model_sticker_save)"
      ],
      "execution_count": null,
      "outputs": []
    },
    {
      "cell_type": "markdown",
      "metadata": {
        "id": "k1T-oJfX_Ewq"
      },
      "source": [
        "## Model 4: TD3"
      ]
    },
    {
      "cell_type": "code",
      "metadata": {
        "id": "swsevaDl_Cfh"
      },
      "source": [
        "#tensorboard --logdir ./single_stock_tensorboard/\n",
        "#DQN<DDPG<TD3\n",
        "env_train = DummyVecEnv([lambda: SingleStockEnv(train)])\n",
        "model_td3 = TD3('MlpPolicy', env_train, tensorboard_log=\"./single_stock_trading_2_tensorboard/\")\n",
        "#model_td3.learn(total_timesteps=100000,tb_log_name=\"run_aapl_td3\")\n",
        "#model_td3.save('AAPL_td3_50k')\n",
        "model_td3.learn(total_timesteps=100000,tb_log_name=\"run_aapl_td3\")\n",
        "model_td3.save('AAPL_td3_50k')\n",
        "#model_td3.save(model_sticker_save)\n"
      ],
      "execution_count": null,
      "outputs": []
    },
    {
      "cell_type": "markdown",
      "metadata": {
        "id": "Dk28SuRk_LuB"
      },
      "source": [
        "## Testing data"
      ]
    },
    {
      "cell_type": "code",
      "metadata": {
        "id": "V3897qQ8_Ch5"
      },
      "source": [
        ""
      ],
      "execution_count": null,
      "outputs": []
    },
    {
      "cell_type": "markdown",
      "metadata": {
        "id": "vvg39bOe_QLx"
      },
      "source": [
        "## Load model from file save"
      ]
    },
    {
      "cell_type": "markdown",
      "metadata": {
        "id": "b5vgJKZq_Qs5"
      },
      "source": [
        "## Load model PPO"
      ]
    },
    {
      "cell_type": "code",
      "metadata": {
        "colab": {
          "base_uri": "https://localhost:8080/"
        },
        "id": "vr377TvW_CkK",
        "outputId": "5fede038-7697-4129-b123-e393dfe1382a"
      },
      "source": [
        "env_train = DummyVecEnv([lambda: SingleStockEnv(train)])\n",
        "model_ppo = PPO2('MlpPolicy', env_train, tensorboard_log=\"./single_stock_trading_2_tensorboard/\")\n",
        "#model_ppo.load('AAPL_ppo_100k.zip')\n",
        "model_ppo.load(model_sticker_save)\n"
      ],
      "execution_count": 31,
      "outputs": [
        {
          "output_type": "execute_result",
          "data": {
            "text/plain": [
              "<stable_baselines.ppo2.ppo2.PPO2 at 0x7fe0d87a1bd0>"
            ]
          },
          "metadata": {},
          "execution_count": 31
        }
      ]
    },
    {
      "cell_type": "markdown",
      "metadata": {
        "id": "4cPpuYQ9_YOS"
      },
      "source": [
        "## Load models a2c"
      ]
    },
    {
      "cell_type": "code",
      "metadata": {
        "id": "tJoBO65D_CmZ"
      },
      "source": [
        "env_train = DummyVecEnv([lambda: SingleStockEnv(train)])\n",
        "model_a2c = A2C('MlpPolicy', env_train, tensorboard_log=\"./single_stock_trading_2_tensorboard/\")\n",
        "model_a2c.load(model_sticker_save)"
      ],
      "execution_count": null,
      "outputs": []
    },
    {
      "cell_type": "markdown",
      "metadata": {
        "id": "oiPeTYqe_dQZ"
      },
      "source": [
        "## Load model ddpg"
      ]
    },
    {
      "cell_type": "code",
      "metadata": {
        "id": "KepzXkwn_CoZ"
      },
      "source": [
        "env_train = DummyVecEnv([lambda: SingleStockEnv(train)])\n",
        "model_ddpg = DDPG('MlpPolicy', env_train, tensorboard_log=\"./single_stock_trading_2_tensorboard/\")\n",
        "#model_ddpg.load('AAPL_ddpg_50k.zip')\n",
        "model_ddpg.load(model_sticker_save)\n",
        "\n"
      ],
      "execution_count": null,
      "outputs": []
    },
    {
      "cell_type": "markdown",
      "metadata": {
        "id": "XPauM4FM_jfq"
      },
      "source": [
        "## Load model td3"
      ]
    },
    {
      "cell_type": "code",
      "metadata": {
        "id": "wH52_pwn_Cqa"
      },
      "source": [
        "env_train = DummyVecEnv([lambda: SingleStockEnv(train)])\n",
        "model_td3 = TD3('MlpPolicy', env_train, tensorboard_log=\"./single_stock_trading_2_tensorboard/\")\n",
        "model_td3.load('AAPL_td3_50k.zip')\n"
      ],
      "execution_count": null,
      "outputs": []
    },
    {
      "cell_type": "markdown",
      "metadata": {
        "id": "DuMp3IBr_nrq"
      },
      "source": [
        "# Trading\n",
        "Assume that we have $100,000 initial capital at 2019-01-01. We use the TD3 model to trade AAPL.\n",
        "\n",
        "## sau khi chay xong: create file account_rewards.csv, account_value.csv, account_value.png "
      ]
    },
    {
      "cell_type": "code",
      "metadata": {
        "id": "QuHJ2FAf_lUy"
      },
      "source": [
        "\n",
        "test = data_clean[(data_clean.datadate >= END_DATE_TRAIN_DATA) ]\n",
        "# the index needs to start from 0\n",
        "test=test.reset_index(drop=True)\n",
        "\n",
        "\n"
      ],
      "execution_count": 32,
      "outputs": []
    },
    {
      "cell_type": "code",
      "metadata": {
        "colab": {
          "base_uri": "https://localhost:8080/",
          "height": 1000
        },
        "id": "XSONrBklFLf5",
        "outputId": "7d0a34ca-94e4-457f-9b8a-367b81e428f2"
      },
      "source": [
        "test"
      ],
      "execution_count": 33,
      "outputs": [
        {
          "output_type": "execute_result",
          "data": {
            "text/html": [
              "<div>\n",
              "<style scoped>\n",
              "    .dataframe tbody tr th:only-of-type {\n",
              "        vertical-align: middle;\n",
              "    }\n",
              "\n",
              "    .dataframe tbody tr th {\n",
              "        vertical-align: top;\n",
              "    }\n",
              "\n",
              "    .dataframe thead th {\n",
              "        text-align: right;\n",
              "    }\n",
              "</style>\n",
              "<table border=\"1\" class=\"dataframe\">\n",
              "  <thead>\n",
              "    <tr style=\"text-align: right;\">\n",
              "      <th></th>\n",
              "      <th>datadate</th>\n",
              "      <th>open</th>\n",
              "      <th>high</th>\n",
              "      <th>low</th>\n",
              "      <th>close</th>\n",
              "      <th>adjcp</th>\n",
              "      <th>volume</th>\n",
              "      <th>macd</th>\n",
              "    </tr>\n",
              "  </thead>\n",
              "  <tbody>\n",
              "    <tr>\n",
              "      <th>0</th>\n",
              "      <td>2021-08-02</td>\n",
              "      <td>700.000000</td>\n",
              "      <td>726.940002</td>\n",
              "      <td>698.400024</td>\n",
              "      <td>709.669983</td>\n",
              "      <td>709.669983</td>\n",
              "      <td>33615800</td>\n",
              "      <td>8.982534</td>\n",
              "    </tr>\n",
              "    <tr>\n",
              "      <th>1</th>\n",
              "      <td>2021-08-03</td>\n",
              "      <td>719.000000</td>\n",
              "      <td>722.650024</td>\n",
              "      <td>701.010010</td>\n",
              "      <td>709.739990</td>\n",
              "      <td>709.739990</td>\n",
              "      <td>21620300</td>\n",
              "      <td>11.640957</td>\n",
              "    </tr>\n",
              "    <tr>\n",
              "      <th>2</th>\n",
              "      <td>2021-08-04</td>\n",
              "      <td>711.000000</td>\n",
              "      <td>724.900024</td>\n",
              "      <td>708.929993</td>\n",
              "      <td>710.919983</td>\n",
              "      <td>710.919983</td>\n",
              "      <td>17002600</td>\n",
              "      <td>13.685237</td>\n",
              "    </tr>\n",
              "    <tr>\n",
              "      <th>3</th>\n",
              "      <td>2021-08-05</td>\n",
              "      <td>716.000000</td>\n",
              "      <td>720.950012</td>\n",
              "      <td>711.409973</td>\n",
              "      <td>714.630005</td>\n",
              "      <td>714.630005</td>\n",
              "      <td>12919600</td>\n",
              "      <td>15.426880</td>\n",
              "    </tr>\n",
              "    <tr>\n",
              "      <th>4</th>\n",
              "      <td>2021-08-06</td>\n",
              "      <td>711.900024</td>\n",
              "      <td>716.330017</td>\n",
              "      <td>697.630005</td>\n",
              "      <td>699.099976</td>\n",
              "      <td>699.099976</td>\n",
              "      <td>15576200</td>\n",
              "      <td>15.376747</td>\n",
              "    </tr>\n",
              "    <tr>\n",
              "      <th>5</th>\n",
              "      <td>2021-08-09</td>\n",
              "      <td>710.169983</td>\n",
              "      <td>719.030029</td>\n",
              "      <td>705.130005</td>\n",
              "      <td>713.760010</td>\n",
              "      <td>713.760010</td>\n",
              "      <td>14715300</td>\n",
              "      <td>16.331698</td>\n",
              "    </tr>\n",
              "    <tr>\n",
              "      <th>6</th>\n",
              "      <td>2021-08-10</td>\n",
              "      <td>713.989990</td>\n",
              "      <td>716.590027</td>\n",
              "      <td>701.880005</td>\n",
              "      <td>709.989990</td>\n",
              "      <td>709.989990</td>\n",
              "      <td>13432300</td>\n",
              "      <td>16.593019</td>\n",
              "    </tr>\n",
              "    <tr>\n",
              "      <th>7</th>\n",
              "      <td>2021-08-11</td>\n",
              "      <td>712.710022</td>\n",
              "      <td>715.179993</td>\n",
              "      <td>704.210022</td>\n",
              "      <td>707.820007</td>\n",
              "      <td>707.820007</td>\n",
              "      <td>9800600</td>\n",
              "      <td>16.435561</td>\n",
              "    </tr>\n",
              "    <tr>\n",
              "      <th>8</th>\n",
              "      <td>2021-08-12</td>\n",
              "      <td>706.340027</td>\n",
              "      <td>722.799988</td>\n",
              "      <td>699.400024</td>\n",
              "      <td>722.250000</td>\n",
              "      <td>722.250000</td>\n",
              "      <td>17459100</td>\n",
              "      <td>17.276006</td>\n",
              "    </tr>\n",
              "    <tr>\n",
              "      <th>9</th>\n",
              "      <td>2021-08-13</td>\n",
              "      <td>723.710022</td>\n",
              "      <td>729.900024</td>\n",
              "      <td>714.340027</td>\n",
              "      <td>717.169983</td>\n",
              "      <td>717.169983</td>\n",
              "      <td>16698900</td>\n",
              "      <td>17.332353</td>\n",
              "    </tr>\n",
              "    <tr>\n",
              "      <th>10</th>\n",
              "      <td>2021-08-16</td>\n",
              "      <td>705.070007</td>\n",
              "      <td>709.500000</td>\n",
              "      <td>676.400024</td>\n",
              "      <td>686.169983</td>\n",
              "      <td>686.169983</td>\n",
              "      <td>22677400</td>\n",
              "      <td>14.706046</td>\n",
              "    </tr>\n",
              "    <tr>\n",
              "      <th>11</th>\n",
              "      <td>2021-08-17</td>\n",
              "      <td>672.659973</td>\n",
              "      <td>674.580017</td>\n",
              "      <td>648.840027</td>\n",
              "      <td>665.710022</td>\n",
              "      <td>665.710022</td>\n",
              "      <td>23721300</td>\n",
              "      <td>10.848674</td>\n",
              "    </tr>\n",
              "    <tr>\n",
              "      <th>12</th>\n",
              "      <td>2021-08-18</td>\n",
              "      <td>669.750000</td>\n",
              "      <td>695.770020</td>\n",
              "      <td>669.349976</td>\n",
              "      <td>688.989990</td>\n",
              "      <td>688.989990</td>\n",
              "      <td>20349400</td>\n",
              "      <td>9.559976</td>\n",
              "    </tr>\n",
              "    <tr>\n",
              "      <th>13</th>\n",
              "      <td>2021-08-19</td>\n",
              "      <td>678.210022</td>\n",
              "      <td>686.549988</td>\n",
              "      <td>667.590027</td>\n",
              "      <td>673.469971</td>\n",
              "      <td>673.469971</td>\n",
              "      <td>14313500</td>\n",
              "      <td>7.203303</td>\n",
              "    </tr>\n",
              "    <tr>\n",
              "      <th>14</th>\n",
              "      <td>2021-08-20</td>\n",
              "      <td>682.849976</td>\n",
              "      <td>692.130005</td>\n",
              "      <td>673.700012</td>\n",
              "      <td>680.260010</td>\n",
              "      <td>680.260010</td>\n",
              "      <td>14781800</td>\n",
              "      <td>5.816473</td>\n",
              "    </tr>\n",
              "    <tr>\n",
              "      <th>15</th>\n",
              "      <td>2021-08-23</td>\n",
              "      <td>685.440002</td>\n",
              "      <td>712.130005</td>\n",
              "      <td>680.750000</td>\n",
              "      <td>706.299988</td>\n",
              "      <td>706.299988</td>\n",
              "      <td>20264900</td>\n",
              "      <td>6.740904</td>\n",
              "    </tr>\n",
              "    <tr>\n",
              "      <th>16</th>\n",
              "      <td>2021-08-24</td>\n",
              "      <td>710.679993</td>\n",
              "      <td>715.219971</td>\n",
              "      <td>702.640015</td>\n",
              "      <td>708.489990</td>\n",
              "      <td>708.489990</td>\n",
              "      <td>13083100</td>\n",
              "      <td>7.563055</td>\n",
              "    </tr>\n",
              "    <tr>\n",
              "      <th>17</th>\n",
              "      <td>2021-08-25</td>\n",
              "      <td>707.030029</td>\n",
              "      <td>716.969971</td>\n",
              "      <td>704.000000</td>\n",
              "      <td>711.200012</td>\n",
              "      <td>711.200012</td>\n",
              "      <td>12645600</td>\n",
              "      <td>8.337186</td>\n",
              "    </tr>\n",
              "    <tr>\n",
              "      <th>18</th>\n",
              "      <td>2021-08-26</td>\n",
              "      <td>708.309998</td>\n",
              "      <td>715.400024</td>\n",
              "      <td>697.619995</td>\n",
              "      <td>701.159973</td>\n",
              "      <td>701.159973</td>\n",
              "      <td>13214300</td>\n",
              "      <td>8.047773</td>\n",
              "    </tr>\n",
              "    <tr>\n",
              "      <th>19</th>\n",
              "      <td>2021-08-27</td>\n",
              "      <td>705.000000</td>\n",
              "      <td>715.000000</td>\n",
              "      <td>702.099976</td>\n",
              "      <td>711.919983</td>\n",
              "      <td>711.919983</td>\n",
              "      <td>13762100</td>\n",
              "      <td>8.587661</td>\n",
              "    </tr>\n",
              "    <tr>\n",
              "      <th>20</th>\n",
              "      <td>2021-08-30</td>\n",
              "      <td>714.719971</td>\n",
              "      <td>731.000000</td>\n",
              "      <td>712.729980</td>\n",
              "      <td>730.909973</td>\n",
              "      <td>730.909973</td>\n",
              "      <td>18604200</td>\n",
              "      <td>10.427656</td>\n",
              "    </tr>\n",
              "    <tr>\n",
              "      <th>21</th>\n",
              "      <td>2021-08-31</td>\n",
              "      <td>733.000000</td>\n",
              "      <td>740.390015</td>\n",
              "      <td>726.440002</td>\n",
              "      <td>735.719971</td>\n",
              "      <td>735.719971</td>\n",
              "      <td>20855400</td>\n",
              "      <td>12.134118</td>\n",
              "    </tr>\n",
              "    <tr>\n",
              "      <th>22</th>\n",
              "      <td>2021-09-01</td>\n",
              "      <td>734.080017</td>\n",
              "      <td>741.989990</td>\n",
              "      <td>731.270020</td>\n",
              "      <td>734.090027</td>\n",
              "      <td>734.090027</td>\n",
              "      <td>13204300</td>\n",
              "      <td>13.202784</td>\n",
              "    </tr>\n",
              "    <tr>\n",
              "      <th>23</th>\n",
              "      <td>2021-09-02</td>\n",
              "      <td>734.500000</td>\n",
              "      <td>740.969971</td>\n",
              "      <td>730.539978</td>\n",
              "      <td>732.390015</td>\n",
              "      <td>732.390015</td>\n",
              "      <td>12777300</td>\n",
              "      <td>13.753986</td>\n",
              "    </tr>\n",
              "    <tr>\n",
              "      <th>24</th>\n",
              "      <td>2021-09-03</td>\n",
              "      <td>732.250000</td>\n",
              "      <td>734.000000</td>\n",
              "      <td>724.200012</td>\n",
              "      <td>733.570007</td>\n",
              "      <td>733.570007</td>\n",
              "      <td>15246100</td>\n",
              "      <td>14.123229</td>\n",
              "    </tr>\n",
              "    <tr>\n",
              "      <th>25</th>\n",
              "      <td>2021-09-07</td>\n",
              "      <td>740.000000</td>\n",
              "      <td>760.200012</td>\n",
              "      <td>739.260010</td>\n",
              "      <td>752.919983</td>\n",
              "      <td>752.919983</td>\n",
              "      <td>20039800</td>\n",
              "      <td>15.795162</td>\n",
              "    </tr>\n",
              "    <tr>\n",
              "      <th>26</th>\n",
              "      <td>2021-09-08</td>\n",
              "      <td>761.580017</td>\n",
              "      <td>764.450012</td>\n",
              "      <td>740.770020</td>\n",
              "      <td>753.869995</td>\n",
              "      <td>753.869995</td>\n",
              "      <td>18793000</td>\n",
              "      <td>17.000863</td>\n",
              "    </tr>\n",
              "    <tr>\n",
              "      <th>27</th>\n",
              "      <td>2021-09-09</td>\n",
              "      <td>753.409973</td>\n",
              "      <td>762.099976</td>\n",
              "      <td>751.630005</td>\n",
              "      <td>754.859985</td>\n",
              "      <td>754.859985</td>\n",
              "      <td>14077700</td>\n",
              "      <td>17.830732</td>\n",
              "    </tr>\n",
              "    <tr>\n",
              "      <th>28</th>\n",
              "      <td>2021-09-10</td>\n",
              "      <td>759.599976</td>\n",
              "      <td>762.609985</td>\n",
              "      <td>734.520020</td>\n",
              "      <td>736.270020</td>\n",
              "      <td>736.270020</td>\n",
              "      <td>15114300</td>\n",
              "      <td>16.794755</td>\n",
              "    </tr>\n",
              "    <tr>\n",
              "      <th>29</th>\n",
              "      <td>2021-09-13</td>\n",
              "      <td>740.210022</td>\n",
              "      <td>744.780029</td>\n",
              "      <td>708.849976</td>\n",
              "      <td>743.000000</td>\n",
              "      <td>743.000000</td>\n",
              "      <td>22952500</td>\n",
              "      <td>16.328564</td>\n",
              "    </tr>\n",
              "    <tr>\n",
              "      <th>30</th>\n",
              "      <td>2021-09-14</td>\n",
              "      <td>742.570007</td>\n",
              "      <td>754.469971</td>\n",
              "      <td>736.400024</td>\n",
              "      <td>744.489990</td>\n",
              "      <td>744.489990</td>\n",
              "      <td>18524900</td>\n",
              "      <td>15.896093</td>\n",
              "    </tr>\n",
              "    <tr>\n",
              "      <th>31</th>\n",
              "      <td>2021-09-15</td>\n",
              "      <td>745.000000</td>\n",
              "      <td>756.859985</td>\n",
              "      <td>738.359985</td>\n",
              "      <td>755.830017</td>\n",
              "      <td>755.830017</td>\n",
              "      <td>15357700</td>\n",
              "      <td>16.280728</td>\n",
              "    </tr>\n",
              "    <tr>\n",
              "      <th>32</th>\n",
              "      <td>2021-09-16</td>\n",
              "      <td>752.830017</td>\n",
              "      <td>758.909973</td>\n",
              "      <td>747.609985</td>\n",
              "      <td>756.989990</td>\n",
              "      <td>756.989990</td>\n",
              "      <td>13923400</td>\n",
              "      <td>16.489078</td>\n",
              "    </tr>\n",
              "    <tr>\n",
              "      <th>33</th>\n",
              "      <td>2021-09-17</td>\n",
              "      <td>757.150024</td>\n",
              "      <td>761.039978</td>\n",
              "      <td>750.000000</td>\n",
              "      <td>759.489990</td>\n",
              "      <td>759.489990</td>\n",
              "      <td>28186100</td>\n",
              "      <td>16.663836</td>\n",
              "    </tr>\n",
              "  </tbody>\n",
              "</table>\n",
              "</div>"
            ],
            "text/plain": [
              "     datadate        open        high  ...       adjcp    volume       macd\n",
              "0  2021-08-02  700.000000  726.940002  ...  709.669983  33615800   8.982534\n",
              "1  2021-08-03  719.000000  722.650024  ...  709.739990  21620300  11.640957\n",
              "2  2021-08-04  711.000000  724.900024  ...  710.919983  17002600  13.685237\n",
              "3  2021-08-05  716.000000  720.950012  ...  714.630005  12919600  15.426880\n",
              "4  2021-08-06  711.900024  716.330017  ...  699.099976  15576200  15.376747\n",
              "5  2021-08-09  710.169983  719.030029  ...  713.760010  14715300  16.331698\n",
              "6  2021-08-10  713.989990  716.590027  ...  709.989990  13432300  16.593019\n",
              "7  2021-08-11  712.710022  715.179993  ...  707.820007   9800600  16.435561\n",
              "8  2021-08-12  706.340027  722.799988  ...  722.250000  17459100  17.276006\n",
              "9  2021-08-13  723.710022  729.900024  ...  717.169983  16698900  17.332353\n",
              "10 2021-08-16  705.070007  709.500000  ...  686.169983  22677400  14.706046\n",
              "11 2021-08-17  672.659973  674.580017  ...  665.710022  23721300  10.848674\n",
              "12 2021-08-18  669.750000  695.770020  ...  688.989990  20349400   9.559976\n",
              "13 2021-08-19  678.210022  686.549988  ...  673.469971  14313500   7.203303\n",
              "14 2021-08-20  682.849976  692.130005  ...  680.260010  14781800   5.816473\n",
              "15 2021-08-23  685.440002  712.130005  ...  706.299988  20264900   6.740904\n",
              "16 2021-08-24  710.679993  715.219971  ...  708.489990  13083100   7.563055\n",
              "17 2021-08-25  707.030029  716.969971  ...  711.200012  12645600   8.337186\n",
              "18 2021-08-26  708.309998  715.400024  ...  701.159973  13214300   8.047773\n",
              "19 2021-08-27  705.000000  715.000000  ...  711.919983  13762100   8.587661\n",
              "20 2021-08-30  714.719971  731.000000  ...  730.909973  18604200  10.427656\n",
              "21 2021-08-31  733.000000  740.390015  ...  735.719971  20855400  12.134118\n",
              "22 2021-09-01  734.080017  741.989990  ...  734.090027  13204300  13.202784\n",
              "23 2021-09-02  734.500000  740.969971  ...  732.390015  12777300  13.753986\n",
              "24 2021-09-03  732.250000  734.000000  ...  733.570007  15246100  14.123229\n",
              "25 2021-09-07  740.000000  760.200012  ...  752.919983  20039800  15.795162\n",
              "26 2021-09-08  761.580017  764.450012  ...  753.869995  18793000  17.000863\n",
              "27 2021-09-09  753.409973  762.099976  ...  754.859985  14077700  17.830732\n",
              "28 2021-09-10  759.599976  762.609985  ...  736.270020  15114300  16.794755\n",
              "29 2021-09-13  740.210022  744.780029  ...  743.000000  22952500  16.328564\n",
              "30 2021-09-14  742.570007  754.469971  ...  744.489990  18524900  15.896093\n",
              "31 2021-09-15  745.000000  756.859985  ...  755.830017  15357700  16.280728\n",
              "32 2021-09-16  752.830017  758.909973  ...  756.989990  13923400  16.489078\n",
              "33 2021-09-17  757.150024  761.039978  ...  759.489990  28186100  16.663836\n",
              "\n",
              "[34 rows x 8 columns]"
            ]
          },
          "metadata": {},
          "execution_count": 33
        }
      ]
    },
    {
      "cell_type": "code",
      "metadata": {
        "colab": {
          "base_uri": "https://localhost:8080/"
        },
        "id": "C3cLrinGFJJC",
        "outputId": "1f8585dd-e8b0-4849-ae08-52e937664d8c"
      },
      "source": [
        "#model = model_a2c\n",
        "model = model_ppo\n",
        "#model = model_td3\n",
        "#model = model_ddpg\n",
        "env_test = DummyVecEnv([lambda: SingleStockEnv(test)])\n",
        "obs_test = env_test.reset()\n",
        "print(\"==============Model Prediction===========\")\n",
        "for i in range(len(test.index.unique())):\n",
        "    action, _states = model.predict(obs_test)\n",
        "    obs_test, rewards, dones, info = env_test.step(action)\n",
        "    env_test.render()\n",
        "\n",
        "#==> Create file account_rewards.csv, account_value.csv, account_value.png sau khi chay xong"
      ],
      "execution_count": 34,
      "outputs": [
        {
          "output_type": "stream",
          "name": "stdout",
          "text": [
            "==============Model Prediction===========\n",
            "previous_total_asset:100000\n",
            "end_total_asset:95724.90934062845\n",
            "total_reward:-4275.090659371548\n",
            "total_cost:  755.36659561067\n",
            "total trades:  27\n",
            "Sharpe:  -1.2682813632177017\n"
          ]
        }
      ]
    },
    {
      "cell_type": "markdown",
      "metadata": {
        "id": "QRy8w11h_rmy"
      },
      "source": [
        "## Part 5: Backtest Our Strategy\n",
        "For simplicity purposes, in the article, we just calculate the Sharpe ratio and the annual return manually."
      ]
    },
    {
      "cell_type": "code",
      "metadata": {
        "colab": {
          "base_uri": "https://localhost:8080/"
        },
        "id": "Xc2v1jpT_lXq",
        "outputId": "102ca3e6-6d1f-4b8b-d7b4-18d2993148c5"
      },
      "source": [
        "\n",
        "def get_DRL_sharpe():\n",
        "    df_total_value=pd.read_csv('account_value.csv',index_col=0)\n",
        "    df_total_value.columns = ['account_value']\n",
        "    df_total_value['daily_return']=df_total_value.pct_change(1)\n",
        "    sharpe = (252**0.5)*df_total_value['daily_return'].mean()/ \\\n",
        "    df_total_value['daily_return'].std()\n",
        "    \n",
        "    annual_return = ((df_total_value['daily_return'].mean()+1)**252-1)*100\n",
        "    print(\"annual return: \", annual_return)\n",
        "    print(\"sharpe ratio: \", sharpe)\n",
        "    return df_total_value\n",
        "\n",
        "\n",
        "def get_buy_and_hold_sharpe(test):\n",
        "    test['daily_return']=test['adjcp'].pct_change(1)\n",
        "    sharpe = (252**0.5)*test['daily_return'].mean()/ \\\n",
        "    test['daily_return'].std()\n",
        "    annual_return = ((test['daily_return'].mean()+1)**252-1)*100\n",
        "    print(\"annual return: \", annual_return)\n",
        "\n",
        "    print(\"sharpe ratio: \", sharpe)\n",
        "    #return sharpe\n",
        "\n",
        "df_total_value=get_DRL_sharpe()\n",
        "get_buy_and_hold_sharpe(test)\n",
        "DRL_cumulative_return = (df_total_value.account_value.pct_change(1)+1).cumprod()-1\n",
        "buy_and_hold_cumulative_return = (test.adjcp.pct_change(1)+1).cumprod()-1\n"
      ],
      "execution_count": 35,
      "outputs": [
        {
          "output_type": "stream",
          "name": "stdout",
          "text": [
            "annual return:  -26.32268618714023\n",
            "sharpe ratio:  -1.2682813632177048\n",
            "annual return:  74.54989995306644\n",
            "sharpe ratio:  1.9673592041094974\n"
          ]
        }
      ]
    },
    {
      "cell_type": "code",
      "metadata": {
        "id": "-HmnT9KBJRpu"
      },
      "source": [
        "#DRL_cumulative_return"
      ],
      "execution_count": null,
      "outputs": []
    },
    {
      "cell_type": "code",
      "metadata": {
        "colab": {
          "base_uri": "https://localhost:8080/",
          "height": 509
        },
        "id": "dps-hbmJ_lZ7",
        "outputId": "1878d495-2469-4d3e-a2b8-96d6c85477fc"
      },
      "source": [
        "%matplotlib inline\n",
        "fig, ax = plt.subplots(figsize=(12, 8))\n",
        "\n",
        "plt.plot(test.datadate, DRL_cumulative_return, color='red',label = \"DRL\")\n",
        "plt.plot(test.datadate, buy_and_hold_cumulative_return, label = \"Buy & Hold\")\n",
        "plt.title(\"Cumulative Return for AAPL with Transaction Cost\",size= 20)\n",
        "plt.legend()\n",
        "plt.rc('legend',fontsize=15)\n",
        "plt.rc('xtick', labelsize=15)\n",
        "plt.rc('ytick', labelsize=15)"
      ],
      "execution_count": 41,
      "outputs": [
        {
          "output_type": "display_data",
          "data": {
            "image/png": "[encoded data removed]",
            "text/plain": [
              "<Figure size 864x576 with 1 Axes>"
            ]
          },
          "metadata": {
            "needs_background": "light"
          }
        }
      ]
    },
    {
      "cell_type": "code",
      "metadata": {
        "id": "vuX1LVRn_3cL"
      },
      "source": [
        "from google.colab import files\n",
        "\n",
        "files.download('AAPL_a2c_50k.zip')\n",
        "files.download('AAPL_td3_50k.zip')\n",
        "files.download('AAPL_ppo_100k.zip')\n",
        "files.download('AAPL_ddpg_50k.zip')"
      ],
      "execution_count": null,
      "outputs": []
    }
  ]
}