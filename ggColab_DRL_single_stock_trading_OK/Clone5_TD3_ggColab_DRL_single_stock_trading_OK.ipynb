{
  "nbformat": 4,
  "nbformat_minor": 0,
  "metadata": {
    "colab": {
      "name": "Clone5_TD3_ggColab_DRL_single_stock_trading_OK.ipynb",
      "provenance": [],
      "collapsed_sections": []
    },
    "kernelspec": {
      "name": "python3",
      "display_name": "Python 3"
    },
    "language_info": {
      "name": "python"
    }
  },
  "cells": [
    {
      "cell_type": "markdown",
      "metadata": {
        "id": "MkwB5B0mjITw"
      },
      "source": [
        "## DRL_single_stock_trading"
      ]
    },
    {
      "cell_type": "markdown",
      "metadata": {
        "id": "KFEQZoKIGZHa"
      },
      "source": [
        "## Clone code from ggColab_DRL_single_stock_trading_OK.ipynb"
      ]
    },
    {
      "cell_type": "code",
      "metadata": {
        "id": "yM71W6T49_i5"
      },
      "source": [
        "!pip uninstall -y tensorflow==2.6.0\n",
        "!pip install yfinance\n",
        "!pip install pandas\n",
        "!pip install matplotlib\n",
        "!pip install stockstats\n",
        "!pip install gym\n",
        "!pip install stable-baselines[mpi]\n",
        "!pip install tensorflow==1.15.4"
      ],
      "execution_count": null,
      "outputs": []
    },
    {
      "cell_type": "code",
      "metadata": {
        "id": "Wq86rPPE9_pq"
      },
      "source": [
        "'''\n",
        "import pkg_resources\n",
        "import pip\n",
        "installedPackages = {pkg.key for pkg in pkg_resources.working_set}\n",
        "required = {'yfinance', 'pandas', 'matplotlib', 'stockstats','stable-baselines','gym','tensorflow'}\n",
        "missing = required - installedPackages\n",
        "if missing:\n",
        "    !pip install yfinance\n",
        "    !pip install pandas\n",
        "    !pip install matplotlib\n",
        "    !pip install stockstats\n",
        "    !pip install gym\n",
        "    !pip install stable-baselines[mpi]\n",
        "    !pip install tensorflow==1.15.4\n",
        "'''"
      ],
      "execution_count": null,
      "outputs": []
    },
    {
      "cell_type": "code",
      "metadata": {
        "id": "-6jHJ-9LjPqH"
      },
      "source": [
        "'''\n",
        "!pip install yfinance\n",
        "!pip install pandas\n",
        "!pip install matplotlib\n",
        "!pip install stockstats\n",
        "!pip install gym\n",
        "!pip install stable-baselines[mpi]\n",
        "!pip install tensorflow==1.15.4\n",
        "'''"
      ],
      "execution_count": null,
      "outputs": []
    },
    {
      "cell_type": "code",
      "metadata": {
        "colab": {
          "base_uri": "https://localhost:8080/",
          "height": 35
        },
        "id": "hA5kKA8eoX_x",
        "outputId": "fc736220-39f9-4da9-a252-704a43ece293"
      },
      "source": [
        "import tensorflow as tf\n",
        "tf.__version__"
      ],
      "execution_count": 1,
      "outputs": [
        {
          "output_type": "execute_result",
          "data": {
            "application/vnd.google.colaboratory.intrinsic+json": {
              "type": "string"
            },
            "text/plain": [
              "'1.15.4'"
            ]
          },
          "metadata": {},
          "execution_count": 1
        }
      ]
    },
    {
      "cell_type": "code",
      "metadata": {
        "id": "G5tZhQCv0zx-",
        "colab": {
          "base_uri": "https://localhost:8080/"
        },
        "outputId": "e9f273cd-c5ad-47e2-c094-183a17b8f9c2"
      },
      "source": [
        "!git clone https://github.com/pqmsoft1/FinRL_single.git"
      ],
      "execution_count": 2,
      "outputs": [
        {
          "output_type": "stream",
          "name": "stdout",
          "text": [
            "Cloning into 'FinRL_single'...\n",
            "remote: Enumerating objects: 117, done.\u001b[K\n",
            "remote: Counting objects: 100% (117/117), done.\u001b[K\n",
            "remote: Compressing objects: 100% (99/99), done.\u001b[K\n",
            "remote: Total 117 (delta 33), reused 92 (delta 13), pack-reused 0\u001b[K\n",
            "Receiving objects: 100% (117/117), 8.05 MiB | 16.99 MiB/s, done.\n",
            "Resolving deltas: 100% (33/33), done.\n"
          ]
        }
      ]
    },
    {
      "cell_type": "code",
      "metadata": {
        "id": "xM8GBGX-8m9M"
      },
      "source": [
        "!cd FinRL_single/"
      ],
      "execution_count": 3,
      "outputs": []
    },
    {
      "cell_type": "code",
      "metadata": {
        "id": "2O1safkiA7MD",
        "colab": {
          "base_uri": "https://localhost:8080/"
        },
        "outputId": "8c1ba579-db40-4fa6-d8c7-998aa93c4632"
      },
      "source": [
        "!ls"
      ],
      "execution_count": 4,
      "outputs": [
        {
          "output_type": "stream",
          "name": "stdout",
          "text": [
            "FinRL_single  sample_data\n"
          ]
        }
      ]
    },
    {
      "cell_type": "code",
      "metadata": {
        "colab": {
          "base_uri": "https://localhost:8080/"
        },
        "id": "yw8rc7-d-MsC",
        "outputId": "75419fdb-6ee9-4e89-beac-8e849333155f"
      },
      "source": [
        "import yfinance as yf\n",
        "from stockstats import StockDataFrame as Sdf\n",
        "\n",
        "import pandas as pd\n",
        "import matplotlib.pyplot as plt\n",
        "\n",
        "import gym\n",
        "from stable_baselines import PPO2, DDPG, A2C, ACKTR, TD3, TRPO \n",
        "from stable_baselines import DDPG\n",
        "from stable_baselines import A2C\n",
        "from stable_baselines import SAC\n",
        "from stable_baselines.common.vec_env import DummyVecEnv\n",
        "from stable_baselines.common.policies import MlpPolicy\n",
        "\n",
        "\n",
        "\n",
        "#Diable the warnings\n",
        "import warnings\n",
        "warnings.filterwarnings('ignore')\n",
        "\n",
        "\n",
        "#stockerID = \"AMZN\"\n",
        "#stockerID = \"MSFT\"\n",
        "#stockerID = \"TSLA\"\n",
        "#stockerID =\"FDX\"\n",
        "#stockerID =\"ABMD\"\n",
        "#stockerID =\"ABT\"\n",
        "#stockerID = \"AAP\"\n",
        "#stockerID = \"ABBV\"\n",
        "#stockerID = \"AAPL\"\n",
        "\n",
        "'''\n",
        "#ABBV OK\n",
        "# TD3\n",
        "stockerID = \"ABBV\"\n",
        "START_DATE_DATA = \"2009-01-01\"\n",
        "END_DATE_TRAIN_DATA = \"2020-01-01\"\n",
        "END_DATE_DATA = \"2021-01-01\"\n",
        "\n",
        "'''\n",
        "\n",
        "\n",
        "'''\n",
        "#OK\n",
        "# TD3\n",
        "stockerID = \"AAPL\"\n",
        "START_DATE_DATA = \"2009-01-01\"\n",
        "END_DATE_TRAIN_DATA = \"2020-09-01\"\n",
        "END_DATE_DATA = \"2021-09-01\"\n",
        "'''\n",
        "\n",
        "\n",
        "\n",
        "'''\n",
        "\n",
        "START_DATE_DATA = \"2010-01-01\"\n",
        "END_DATE_TRAIN_DATA = \"2020-01-01\"\n",
        "END_DATE_DATA = \"2021-09-01\"\n",
        "'''\n",
        "\n",
        "'''\n",
        "#OK\n",
        "# TD3\n",
        "stockerID = \"MSFT\"\n",
        "START_DATE_DATA = \"2015-01-01\"\n",
        "END_DATE_TRAIN_DATA = \"2020-01-01\"\n",
        "END_DATE_DATA = \"2021-09-01\"\n",
        "'''\n",
        "\n",
        "'''\n",
        "#OK\n",
        "# TD3\n",
        "stockerID = \"MSFT\"\n",
        "START_DATE_DATA = \"2010-01-01\"\n",
        "END_DATE_TRAIN_DATA = \"2021-01-01\"\n",
        "END_DATE_DATA = \"2021-09-20\"\n",
        "\n",
        "'''\n",
        "\n",
        "'''\n",
        "#OK\n",
        "# TD3\n",
        "stockerID = \"ABBV\"\n",
        "START_DATE_DATA = \"2010-01-01\"\n",
        "END_DATE_TRAIN_DATA = \"2021-01-01\"\n",
        "END_DATE_DATA = \"2021-09-20\"\n",
        "\n",
        "'''\n",
        "\n",
        "\n",
        "stockerID = \"ABBV\"\n",
        "START_DATE_DATA = \"2010-01-01\"\n",
        "END_DATE_TRAIN_DATA = \"2021-01-01\"\n",
        "\n",
        "END_DATE_DATA = \"2021-09-20\"\n",
        "\n",
        "#======================================================== A2C/PPO ==============================================\n",
        "'''\n",
        "# A2C/PPO\n",
        "stockerID = \"AMZN\"\n",
        "START_DATE_DATA = \"2009-01-01\"\n",
        "END_DATE_TRAIN_DATA = \"2021-01-01\"\n",
        "END_DATE_DATA = \"2021-09-20\"\n",
        "'''\n",
        "\n",
        "\n",
        "PATH_CSV_STOCK = stockerID + \".csv\"\n",
        "\n",
        "data_df = yf.download(stockerID, start=START_DATE_DATA, end=END_DATE_DATA)\n",
        "# reset the index, we want to use numbers instead of dates\n",
        "data_df=data_df.reset_index()\n",
        "# convert the column names to standardized names\n",
        "data_df.columns = ['datadate','open','high','low','close','adjcp','volume']\n",
        "# save the data to a csv file in your current folder\n",
        "#data_df.to_csv('AAPL_2009_2020.csv')\n",
        "#data_df.to_csv('FB_2009_2021.csv')\n",
        "data_df.to_csv(PATH_CSV_STOCK)\n",
        "# check missing data \n",
        "data_df.isnull().values.any()\n",
        "# calculate technical indicators like MACD\n",
        "stock = Sdf.retype(data_df.copy())\n",
        "# we need to use adjusted close price instead of close price\n",
        "stock['close'] = stock['adjcp']\n",
        "data_df['macd'] = stock['macd']\n",
        "# check missing data again\n",
        "data_df.isnull().values.any()\n",
        "# Note that I always use a copy of the original data to try it track step by step.\n",
        "data_clean = data_df.copy()\n",
        "\n",
        "\n",
        "import numpy as np\n",
        "import pandas as pd\n",
        "from gym.utils import seeding\n",
        "import gym\n",
        "from gym import spaces\n",
        "import matplotlib\n",
        "matplotlib.use('Agg')\n",
        "import matplotlib.pyplot as plt\n",
        "\n",
        "# Global variables\n",
        "HMAX_NORMALIZE = 200\n",
        "INITIAL_ACCOUNT_BALANCE=100000\n",
        "#INITIAL_ACCOUNT_BALANCE=10000\n",
        "STOCK_DIM = 1\n",
        "\n",
        "# transaction fee: 1/1000 reasonable percentage\n",
        "TRANSACTION_FEE_PERCENT = 0.001\n",
        "# REWARD_SCALING = 1e-3\n",
        "\n",
        "\n",
        "class SingleStockEnv(gym.Env):\n",
        "    \"\"\"A stock trading environment for OpenAI gym\"\"\"\n",
        "    metadata = {'render.modes': ['human']}\n",
        "\n",
        "    def __init__(self, df,day = 0):\n",
        "        #super(StockEnv, self).__init__()\n",
        "        # date increment\n",
        "        self.day = day\n",
        "        self.df = df\n",
        "        # action_space normalization and the shape is STOCK_DIM\n",
        "        self.action_space = spaces.Box(low = -1, high = 1,shape = (STOCK_DIM,)) \n",
        "        # Shape = 4: [Current Balance]+[prices]+[owned shares] +[macd] \n",
        "        self.observation_space = spaces.Box(low=0, high=np.inf, shape = (4,))\n",
        "        # load data from a pandas dataframe\n",
        "        self.data = self.df.loc[self.day,:]\n",
        "        # termination\n",
        "        self.terminal = False  \n",
        "        # save the total number of trades\n",
        "        self.trades = 0\n",
        "        # initalize state\n",
        "        self.state = [INITIAL_ACCOUNT_BALANCE] + \\\n",
        "                      [self.data.adjcp] + \\\n",
        "                      [0]*STOCK_DIM + \\\n",
        "                      [self.data.macd] \n",
        "        # initialize reward and cost\n",
        "        self.reward = 0\n",
        "        self.cost = 0\n",
        "        \n",
        "        # memorize the total value, total rewards\n",
        "        self.asset_memory = [INITIAL_ACCOUNT_BALANCE]\n",
        "        self.rewards_memory = []\n",
        "\n",
        "    def _sell_stock(self, index, action):\n",
        "        # perform sell action based on the sign of the action\n",
        "        if self.state[index+STOCK_DIM+1] > 0:\n",
        "            # update balance\n",
        "            self.state[0] += \\\n",
        "            self.state[index+1]*min(abs(action),self.state[index+STOCK_DIM+1]) * \\\n",
        "             (1- TRANSACTION_FEE_PERCENT)\n",
        "            # update held shares\n",
        "            self.state[index+STOCK_DIM+1] -= min(abs(action), self.state[index+STOCK_DIM+1])\n",
        "            # update transaction costs\n",
        "            self.cost +=self.state[index+1]*min(abs(action),self.state[index+STOCK_DIM+1]) * \\\n",
        "             TRANSACTION_FEE_PERCENT\n",
        "            self.trades+=1\n",
        "        else:\n",
        "            pass\n",
        "            \n",
        "    def _buy_stock(self, index, action):\n",
        "        # perform buy action based on the sign of the action\n",
        "        available_amount = self.state[0] // self.state[index+1]\n",
        "        #update balance\n",
        "        self.state[0] -= self.state[index+1]*min(available_amount, action)* \\\n",
        "                          (1+ TRANSACTION_FEE_PERCENT)\n",
        "        # update held shares\n",
        "        self.state[index+STOCK_DIM+1] += min(available_amount, action)\n",
        "        # update transaction costs\n",
        "        self.cost+=self.state[index+1]*min(available_amount, action)* \\\n",
        "                          TRANSACTION_FEE_PERCENT\n",
        "        self.trades+=1\n",
        "        \n",
        "    def step(self, actions):\n",
        "        self.terminal = self.day >= len(self.df.index.unique())-1\n",
        "        #print(self.day)\n",
        "        #print(self.df.index.unique())\n",
        "        #print(len(self.df.index.unique())-1)\n",
        "        if self.terminal:\n",
        "            \n",
        "            plt.plot(self.asset_memory,'r')\n",
        "            plt.savefig('account_value.png')\n",
        "            plt.close()\n",
        "            \n",
        "            end_total_asset = self.state[0]+ \\\n",
        "            sum(np.array(self.state[1:(STOCK_DIM+1)])*np.array(self.state[(STOCK_DIM+1):(STOCK_DIM*2+1)]))\n",
        "            print(\"previous_total_asset:{}\".format(self.asset_memory[0])) \n",
        "            print(\"end_total_asset:{}\".format(end_total_asset))\n",
        "            \n",
        "            df_total_value = pd.DataFrame(self.asset_memory)\n",
        "            df_total_value.to_csv('account_value.csv')\n",
        "            print(\"total_reward:{}\".format(self.state[0]+sum(np.array(self.state[1:(STOCK_DIM+1)])*np.array(self.state[(STOCK_DIM+1):(STOCK_DIM*2+1)]))- INITIAL_ACCOUNT_BALANCE ))\n",
        "            print(\"total_cost: \", self.cost)\n",
        "            print(\"total trades: \", self.trades)\n",
        "            \n",
        "            df_total_value.columns = ['account_value']\n",
        "            df_total_value['daily_return']=df_total_value.pct_change(1)\n",
        "            \n",
        "            if df_total_value['daily_return'].std()!=0:\n",
        "                sharpe = (252**0.5)*df_total_value['daily_return'].mean()/ \\\n",
        "                      df_total_value['daily_return'].std()\n",
        "                print(\"Sharpe: \",sharpe)\n",
        "            df_rewards = pd.DataFrame(self.rewards_memory)\n",
        "            df_rewards.to_csv('account_rewards.csv')\n",
        "            return self.state, self.reward, self.terminal,{}\n",
        "\n",
        "        else:\n",
        "\n",
        "            # actions are the shares we need to buy, hold, or sell\n",
        "            actions = actions * HMAX_NORMALIZE\n",
        "            # calculate begining total asset\n",
        "            begin_total_asset = self.state[0]+ \\\n",
        "            sum(np.array(self.state[1:(STOCK_DIM+1)])*np.array(self.state[(STOCK_DIM+1):(STOCK_DIM*2+1)]))\n",
        "            \n",
        "            # perform buy or sell action\n",
        "            argsort_actions = np.argsort(actions)\n",
        "            sell_index = argsort_actions[:np.where(actions < 0)[0].shape[0]]\n",
        "            buy_index = argsort_actions[::-1][:np.where(actions > 0)[0].shape[0]]\n",
        "\n",
        "            for index in sell_index:\n",
        "                # print('take sell action'.format(actions[index]))\n",
        "                self._sell_stock(index, actions[index])\n",
        "\n",
        "            for index in buy_index:\n",
        "                # print('take buy action: {}'.format(actions[index]))\n",
        "                self._buy_stock(index, actions[index])\n",
        "            \n",
        "            # update data, walk a step s'\n",
        "            self.day += 1\n",
        "            self.data = self.df.loc[self.day,:]         \n",
        "            #load next state\n",
        "            self.state =  [self.state[0]] + \\\n",
        "                          [self.data.adjcp] + \\\n",
        "                          list(self.state[(STOCK_DIM+1):(STOCK_DIM*2+1)]) +\\\n",
        "                          [self.data.macd]\n",
        "                        \n",
        "            # calculate the end total asset\n",
        "            end_total_asset = self.state[0]+ \\\n",
        "            sum(np.array(self.state[1:(STOCK_DIM+1)])*np.array(self.state[(STOCK_DIM+1):(STOCK_DIM*2+1)]))\n",
        "            self.reward = end_total_asset - begin_total_asset  \n",
        "            self.rewards_memory.append(self.reward)\n",
        "            #self.reward = self.reward * REWARD_SCALING\n",
        "            self.asset_memory.append(end_total_asset)\n",
        "\n",
        "        return self.state, self.reward, self.terminal, {}\n",
        "\n",
        "    def reset(self):\n",
        "        self.asset_memory = [INITIAL_ACCOUNT_BALANCE]\n",
        "        self.day = 0\n",
        "        self.data = self.df.loc[self.day,:]\n",
        "        self.cost = 0\n",
        "        self.trades = 0\n",
        "        self.terminal = False \n",
        "        self.rewards_memory = []\n",
        "        #initiate state\n",
        "        self.state = [INITIAL_ACCOUNT_BALANCE] + \\\n",
        "                      [self.data.adjcp] + \\\n",
        "                      [0]*STOCK_DIM + \\\n",
        "                      [self.data.macd]\n",
        "        return self.state\n",
        "    \n",
        "    def render(self, mode='human'):\n",
        "        return self.state\n",
        "\n",
        "    def _seed(self, seed=None):\n",
        "        self.np_random, seed = seeding.np_random(seed)\n",
        "        return [seed]\n",
        "\n",
        "\n",
        "train = data_clean[(data_clean.datadate>=START_DATE_DATA) & (data_clean.datadate < END_DATE_TRAIN_DATA)]\n",
        "# the index needs to start from 0\n",
        "train=train.reset_index(drop=True)\n",
        "\n",
        "## Model Training: 4 models, PPO A2C, DDPG, TD3\n",
        "\n",
        "\n",
        "'''\n",
        "#===================================== ppo =====================================\n",
        "\n",
        "## Model 1: PPO\n",
        "\n",
        "#tensorboard --logdir ./single_stock_tensorboard/\n",
        "env_train = DummyVecEnv([lambda: SingleStockEnv(train)])\n",
        "model_ppo = PPO2('MlpPolicy', env_train, tensorboard_log=\"./single_stock_trading_2_tensorboard/\")\n",
        "model_ppo.learn(total_timesteps=100000,tb_log_name=\"run_aapl_ppo\")\n",
        "#model_ppo.save('AAPL_ppo_100k')\n",
        "#model_ppo.save('AAPL_ppo_100k')\n",
        "#model_sticker_save = 'FB_ppo_100k'\n",
        "model_sticker_save = model_sticker_save = stockerID + '_PPO_100k'\n",
        "model_ppo.save(model_sticker_save)\n",
        "\n",
        "\n",
        "\n",
        "env_train = DummyVecEnv([lambda: SingleStockEnv(train)])\n",
        "model_ppo = PPO2('MlpPolicy', env_train, tensorboard_log=\"./single_stock_trading_2_tensorboard/\")\n",
        "#model_ppo.load('AAPL_ppo_100k.zip')\n",
        "model_ppo.load(model_sticker_save)\n",
        "model = model_ppo\n",
        "\n",
        "#===================================== ppo =====================================\n",
        "'''\n",
        "\n",
        "#===================================== A2C =====================================\n",
        "\n",
        "## Model 1: A2C\n",
        "\n",
        "#tensorboard --logdir ./single_stock_tensorboard/\n",
        "env_train = DummyVecEnv([lambda: SingleStockEnv(train)])\n",
        "model_a2c = A2C('MlpPolicy', env_train, tensorboard_log=\"./single_stock_trading_2_tensorboard/\")\n",
        "#model_a2c.learn(total_timesteps=100000,tb_log_name=\"run_aapl_a2c\")\n",
        "model_a2c.learn(total_timesteps=2000000,tb_log_name=\"run_aapl_a2c\")\n",
        "\n",
        "model_sticker_save = model_sticker_save = stockerID + '_PPO_100k'\n",
        "model_a2c.save(model_sticker_save)\n",
        "\n",
        "\n",
        "env_train = DummyVecEnv([lambda: SingleStockEnv(train)])\n",
        "model_a2c = A2C('MlpPolicy', env_train, tensorboard_log=\"./single_stock_trading_2_tensorboard/\")\n",
        "model_a2c.load(model_sticker_save)\n",
        "\n",
        "model = model_a2c\n",
        "\n",
        "\n",
        "#===================================== A2C =====================================\n",
        "\n",
        "\n",
        "\n",
        "'''\n",
        "#===================================== TD3 =====================================\n",
        "\n",
        "model_sticker_save = stockerID + '_TD3_100k'\n",
        "\n",
        "\n",
        "#tensorboard --logdir ./single_stock_tensorboard/\n",
        "#DQN<DDPG<TD3\n",
        "env_train = DummyVecEnv([lambda: SingleStockEnv(train)])\n",
        "model_td3 = TD3('MlpPolicy', env_train, tensorboard_log=\"./single_stock_trading_2_tensorboard/\")\n",
        "#model_td3.learn(total_timesteps=100000,tb_log_name=\"run_aapl_td3\")\n",
        "#model_td3.save('AAPL_td3_50k')\n",
        "#model_td3.learn(total_timesteps=100000,tb_log_name=\"run_aapl_td3\")\n",
        "model_td3.learn(total_timesteps=200000,tb_log_name=\"run_aapl_td3\")\n",
        "\n",
        "\n",
        "\n",
        "#model_td3.save('AAPL_td3_50k')\n",
        "model_td3.save(model_sticker_save)\n",
        "\n",
        "\n",
        "env_train = DummyVecEnv([lambda: SingleStockEnv(train)])\n",
        "model_td3 = TD3('MlpPolicy', env_train, tensorboard_log=\"./single_stock_trading_2_tensorboard/\")\n",
        "#model_td3.load('AAPL_td3_50k.zip')\n",
        "\n",
        "model_td3.load(model_sticker_save)\n",
        "model = model_td3\n",
        "\n",
        "#===================================== TD3 =====================================\n",
        "'''\n",
        "'''\n",
        "#==================================== SAC ======================================\n",
        "\n",
        "\n",
        "\n",
        "model_sticker_save = stockerID + '_SAC_100k'\n",
        "\n",
        "\n",
        "#tensorboard --logdir ./single_stock_tensorboard/\n",
        "#DQN<DDPG<TD3\n",
        "env_train = DummyVecEnv([lambda: SingleStockEnv(train)])\n",
        "model_sac = SAC('MlpPolicy', env_train, tensorboard_log=\"./single_stock_trading_2_tensorboard/\")\n",
        "#model_td3.learn(total_timesteps=100000,tb_log_name=\"run_aapl_td3\")\n",
        "#model_td3.save('AAPL_td3_50k')\n",
        "#model_td3.learn(total_timesteps=100000,tb_log_name=\"run_aapl_td3\")\n",
        "model_sac.learn(total_timesteps=100000,tb_log_name=\"run_aapl_td3\")\n",
        "\n",
        "\n",
        "\n",
        "#model_td3.save('AAPL_td3_50k')\n",
        "model_sac.save(model_sticker_save)\n",
        "\n",
        "\n",
        "env_train = DummyVecEnv([lambda: SingleStockEnv(train)])\n",
        "model_sac = SAC('MlpPolicy', env_train, tensorboard_log=\"./single_stock_trading_2_tensorboard/\")\n",
        "#model_td3.load('AAPL_td3_50k.zip')\n",
        "\n",
        "model_sac.load(model_sticker_save)\n",
        "model = model_sac\n",
        "\n",
        "\n",
        "#==================================== SAC ======================================\n",
        "\n",
        "\n",
        "'''\n",
        "'''\n",
        "#==================================== ACKTR ======================================\n",
        "\n",
        "\n",
        "\n",
        "model_sticker_save = stockerID + '_ACKTR_100k'\n",
        "\n",
        "\n",
        "#tensorboard --logdir ./single_stock_tensorboard/\n",
        "#DQN<DDPG<TD3\n",
        "env_train = DummyVecEnv([lambda: SingleStockEnv(train)])\n",
        "model_ACKTR = ACKTR('MlpPolicy', env_train, tensorboard_log=\"./single_stock_trading_2_tensorboard/\")\n",
        "#model_td3.learn(total_timesteps=100000,tb_log_name=\"run_aapl_td3\")\n",
        "#model_td3.save('AAPL_td3_50k')\n",
        "#model_td3.learn(total_timesteps=100000,tb_log_name=\"run_aapl_td3\")\n",
        "model_ACKTR.learn(total_timesteps=100000,tb_log_name=\"run_aapl_ACKTR\")\n",
        "\n",
        "\n",
        "\n",
        "#model_td3.save('AAPL_td3_50k')\n",
        "model_ACKTR.save(model_sticker_save)\n",
        "\n",
        "\n",
        "env_train = DummyVecEnv([lambda: SingleStockEnv(train)])\n",
        "model_ACKTR = ACKTR('MlpPolicy', env_train, tensorboard_log=\"./single_stock_trading_2_tensorboard/\")\n",
        "#model_td3.load('AAPL_td3_50k.zip')\n",
        "\n",
        "model_ACKTR.load(model_sticker_save)\n",
        "model = model_ACKTR\n",
        "\n",
        "\n",
        "#==================================== ACKTR ======================================\n",
        "'''\n",
        "\n",
        "\n",
        "'''\n",
        "#TRPO\n",
        "#==================================== TRPO ======================================\n",
        "\n",
        "\n",
        "\n",
        "model_sticker_save = stockerID + '_TRPO_100k'\n",
        "\n",
        "\n",
        "#tensorboard --logdir ./single_stock_tensorboard/\n",
        "#DQN<DDPG<TD3\n",
        "env_train = DummyVecEnv([lambda: SingleStockEnv(train)])\n",
        "model_TRPO = TRPO('MlpPolicy', env_train, tensorboard_log=\"./single_stock_trading_2_tensorboard/\")\n",
        "\n",
        "model_TRPO.learn(total_timesteps=200000,tb_log_name=\"run_aapl_TRPO\")\n",
        "\n",
        "\n",
        "\n",
        "#model_td3.save('AAPL_td3_50k')\n",
        "model_TRPO.save(model_sticker_save)\n",
        "\n",
        "\n",
        "env_train = DummyVecEnv([lambda: SingleStockEnv(train)])\n",
        "model_TRPO = TRPO('MlpPolicy', env_train, tensorboard_log=\"./single_stock_trading_2_tensorboard/\")\n",
        "#model_td3.load('AAPL_td3_50k.zip')\n",
        "\n",
        "model_TRPO.load(model_sticker_save)\n",
        "model = model_TRPO\n",
        "\n",
        "\n",
        "#==================================== TRPO ======================================\n",
        "'''\n",
        "\n",
        "'''\n",
        "#===================================== DDPG =====================================\n",
        "model_sticker_save = stockerID + '_DDPG_100k'\n",
        "\n",
        "\n",
        "#tensorboard --logdir ./single_stock_tensorboard/\n",
        "env_train = DummyVecEnv([lambda: SingleStockEnv(train)])\n",
        "model_ddpg = DDPG('MlpPolicy', env_train, tensorboard_log=\"./single_stock_trading_2_tensorboard/\")\n",
        "model_ddpg.learn(total_timesteps=100000, tb_log_name=\"run_aapl_ddpg\")\n",
        "\n",
        "model_ddpg.save(model_sticker_save)\n",
        "\n",
        "\n",
        "env_train = DummyVecEnv([lambda: SingleStockEnv(train)])\n",
        "model_ddpg = DDPG('MlpPolicy', env_train, tensorboard_log=\"./single_stock_trading_2_tensorboard/\")\n",
        "model_ddpg.load(model_sticker_save)\n",
        "\n",
        "model = model_ddpg\n",
        "\n",
        "#===================================== DDPG =====================================\n",
        "'''\n",
        "\n",
        "'''\n",
        "\n",
        "#==================================== A3C ======================================\n",
        "\n",
        "\n",
        "model_sticker_save = stockerID + '_A3C_100k'\n",
        "\n",
        "\n",
        "#tensorboard --logdir ./single_stock_tensorboard/\n",
        "#DQN<DDPG<TD3\n",
        "env_train = DummyVecEnv([lambda: SingleStockEnv(train)])\n",
        "model_A3C = A3C('MlpPolicy', env_train, tensorboard_log=\"./single_stock_trading_2_tensorboard/\")\n",
        "\n",
        "model_A3C.learn(total_timesteps=200000,tb_log_name=\"run_aapl_A3C\")\n",
        "\n",
        "model_A3C.save(model_sticker_save)\n",
        "\n",
        "\n",
        "env_train = DummyVecEnv([lambda: SingleStockEnv(train)])\n",
        "model_A3C = A3C('MlpPolicy', env_train, tensorboard_log=\"./single_stock_trading_2_tensorboard/\")\n",
        "#model_td3.load('AAPL_td3_50k.zip')\n",
        "\n",
        "model_A3C.load(model_sticker_save)\n",
        "model = model_A3C\n",
        "\n",
        "\n",
        "#==================================== A3C ======================================\n",
        "'''\n"
      ],
      "execution_count": null,
      "outputs": [
        {
          "output_type": "stream",
          "name": "stdout",
          "text": [
            "\r[*********************100%***********************]  1 of 1 completed\n",
            "WARNING:tensorflow:From /usr/local/lib/python3.7/dist-packages/stable_baselines/a2c/a2c.py:184: The name tf.train.RMSPropOptimizer is deprecated. Please use tf.compat.v1.train.RMSPropOptimizer instead.\n",
            "\n",
            "WARNING:tensorflow:From /usr/local/lib/python3.7/dist-packages/tensorflow_core/python/training/rmsprop.py:119: calling Ones.__init__ (from tensorflow.python.ops.init_ops) with dtype is deprecated and will be removed in a future version.\n",
            "Instructions for updating:\n",
            "Call initializer instance with the dtype argument instead of passing it to the constructor\n",
            "previous_total_asset:100000\n",
            "end_total_asset:152036.4894984792\n",
            "total_reward:52036.489498479204\n",
            "total_cost:  13813.697273473652\n",
            "total trades:  1988\n",
            "Sharpe:  0.412319781746158\n",
            "previous_total_asset:100000\n",
            "end_total_asset:274652.25147618674\n",
            "total_reward:174652.25147618674\n",
            "total_cost:  11636.49652235853\n",
            "total trades:  2009\n",
            "Sharpe:  0.6213971881679807\n",
            "previous_total_asset:100000\n",
            "end_total_asset:279515.8963054148\n",
            "total_reward:179515.8963054148\n",
            "total_cost:  13434.071877367005\n",
            "total trades:  2009\n",
            "Sharpe:  0.6584824209567095\n",
            "previous_total_asset:100000\n",
            "end_total_asset:310591.2828006319\n",
            "total_reward:210591.2828006319\n",
            "total_cost:  13616.582019007945\n",
            "total trades:  2013\n",
            "Sharpe:  0.6862586927366278\n",
            "previous_total_asset:100000\n",
            "end_total_asset:369807.8298548205\n",
            "total_reward:269807.8298548205\n",
            "total_cost:  11536.674042509681\n",
            "total trades:  2014\n",
            "Sharpe:  0.7311045396273759\n",
            "previous_total_asset:100000\n",
            "end_total_asset:374158.5195712797\n",
            "total_reward:274158.5195712797\n",
            "total_cost:  9448.188443459036\n",
            "total trades:  2014\n",
            "Sharpe:  0.732735314462385\n",
            "previous_total_asset:100000\n",
            "end_total_asset:386019.35649651225\n",
            "total_reward:286019.35649651225\n",
            "total_cost:  10746.393043972694\n",
            "total trades:  2013\n",
            "Sharpe:  0.753946370360271\n",
            "previous_total_asset:100000\n",
            "end_total_asset:385017.7078824966\n",
            "total_reward:285017.7078824966\n",
            "total_cost:  8556.259452715214\n",
            "total trades:  2014\n",
            "Sharpe:  0.7475032715659471\n",
            "previous_total_asset:100000\n",
            "end_total_asset:395298.4779745354\n",
            "total_reward:295298.4779745354\n",
            "total_cost:  5635.7472300502095\n",
            "total trades:  2014\n",
            "Sharpe:  0.7531563668563794\n",
            "previous_total_asset:100000\n",
            "end_total_asset:399033.266129551\n",
            "total_reward:299033.266129551\n",
            "total_cost:  6051.906194526857\n",
            "total trades:  2014\n",
            "Sharpe:  0.7576463121027159\n",
            "previous_total_asset:100000\n",
            "end_total_asset:391771.0324733687\n",
            "total_reward:291771.0324733687\n",
            "total_cost:  8592.391851424405\n",
            "total trades:  2014\n",
            "Sharpe:  0.751663705087608\n",
            "previous_total_asset:100000\n",
            "end_total_asset:388398.08377070795\n",
            "total_reward:288398.08377070795\n",
            "total_cost:  7320.631870465025\n",
            "total trades:  2014\n",
            "Sharpe:  0.7480491185730843\n",
            "previous_total_asset:100000\n",
            "end_total_asset:383550.5634942205\n",
            "total_reward:283550.5634942205\n",
            "total_cost:  5198.054789175478\n",
            "total trades:  2014\n",
            "Sharpe:  0.7399985913319365\n",
            "previous_total_asset:100000\n",
            "end_total_asset:440514.9841096242\n",
            "total_reward:340514.9841096242\n",
            "total_cost:  10721.394275246923\n",
            "total trades:  2014\n",
            "Sharpe:  0.845697063946347\n",
            "previous_total_asset:100000\n",
            "end_total_asset:369290.70201736153\n",
            "total_reward:269290.70201736153\n",
            "total_cost:  5628.944277438242\n",
            "total trades:  2013\n",
            "Sharpe:  0.727576039291175\n",
            "previous_total_asset:100000\n",
            "end_total_asset:389508.32965854177\n",
            "total_reward:289508.32965854177\n",
            "total_cost:  7242.623334533879\n",
            "total trades:  2014\n",
            "Sharpe:  0.7500148366492597\n",
            "previous_total_asset:100000\n",
            "end_total_asset:398008.0612200325\n",
            "total_reward:298008.0612200325\n",
            "total_cost:  5135.6953544782\n",
            "total trades:  2014\n",
            "Sharpe:  0.7566084094551621\n",
            "previous_total_asset:100000\n",
            "end_total_asset:396062.6503869425\n",
            "total_reward:296062.6503869425\n",
            "total_cost:  5959.252512148426\n",
            "total trades:  2014\n",
            "Sharpe:  0.7549725557957426\n",
            "previous_total_asset:100000\n",
            "end_total_asset:405366.2809517325\n",
            "total_reward:305366.2809517325\n",
            "total_cost:  2051.008653904998\n",
            "total trades:  2014\n",
            "Sharpe:  0.7622609172417181\n",
            "previous_total_asset:100000\n",
            "end_total_asset:408897.33350189566\n",
            "total_reward:308897.33350189566\n",
            "total_cost:  899.7770433357372\n",
            "total trades:  2014\n",
            "Sharpe:  0.7645981429436517\n",
            "previous_total_asset:100000\n",
            "end_total_asset:409828.49555582006\n",
            "total_reward:309828.49555582006\n",
            "total_cost:  476.75895560275956\n",
            "total trades:  2013\n",
            "Sharpe:  0.7654665244825035\n",
            "previous_total_asset:100000\n",
            "end_total_asset:411685.2487195869\n",
            "total_reward:311685.2487195869\n",
            "total_cost:  239.4025674278825\n",
            "total trades:  2014\n",
            "Sharpe:  0.7671755885044257\n",
            "previous_total_asset:100000\n",
            "end_total_asset:411214.1400725446\n",
            "total_reward:311214.1400725446\n",
            "total_cost:  248.71325996454567\n",
            "total trades:  2014\n",
            "Sharpe:  0.7666909262831372\n",
            "previous_total_asset:100000\n",
            "end_total_asset:411936.0293779085\n",
            "total_reward:311936.0293779085\n",
            "total_cost:  268.9797902663477\n",
            "total trades:  2014\n",
            "Sharpe:  0.7675322043043087\n",
            "previous_total_asset:100000\n",
            "end_total_asset:409183.3203128583\n",
            "total_reward:309183.3203128583\n",
            "total_cost:  1152.638773316323\n",
            "total trades:  2014\n",
            "Sharpe:  0.7652535306926036\n",
            "previous_total_asset:100000\n",
            "end_total_asset:410016.58103268483\n",
            "total_reward:310016.58103268483\n",
            "total_cost:  574.449408405952\n",
            "total trades:  2014\n",
            "Sharpe:  0.7656953834757827\n",
            "previous_total_asset:100000\n",
            "end_total_asset:408717.1278096196\n",
            "total_reward:308717.1278096196\n",
            "total_cost:  452.617731030474\n",
            "total trades:  2014\n",
            "Sharpe:  0.764308124423776\n",
            "previous_total_asset:100000\n",
            "end_total_asset:399596.9308100536\n",
            "total_reward:299596.9308100536\n",
            "total_cost:  2301.5624223558652\n",
            "total trades:  2014\n",
            "Sharpe:  0.7555671825292067\n",
            "previous_total_asset:100000\n",
            "end_total_asset:398145.81198281934\n",
            "total_reward:298145.81198281934\n",
            "total_cost:  3937.0716130266424\n",
            "total trades:  2014\n",
            "Sharpe:  0.7556978975837461\n",
            "previous_total_asset:100000\n",
            "end_total_asset:385062.5561088306\n",
            "total_reward:285062.5561088306\n",
            "total_cost:  8379.829634615118\n",
            "total trades:  2014\n",
            "Sharpe:  0.7444956326079016\n"
          ]
        }
      ]
    },
    {
      "cell_type": "code",
      "metadata": {
        "colab": {
          "base_uri": "https://localhost:8080/",
          "height": 693
        },
        "id": "Hx7-B3-s-BsM",
        "outputId": "b737e5e4-7d4d-4bea-8888-7addcc163e20"
      },
      "source": [
        "#====================================================PREDICT=================================================\n",
        "# Trading\n",
        "# Assume that we have $100,000 initial capital at 2019-01-01. We use the TD3 model to trade AAPL.\n",
        "## sau khi chay xong: create file account_rewards.csv, account_value.csv, account_value.png \n",
        "\n",
        "\n",
        "test = data_clean[(data_clean.datadate >= END_DATE_TRAIN_DATA) ]\n",
        "# the index needs to start from 0\n",
        "test=test.reset_index(drop=True)\n",
        "\n",
        "\n",
        "#model = model_a2c\n",
        "#model = model_ppo\n",
        "#model = model_td3\n",
        "\n",
        "\n",
        "\n",
        "env_test = DummyVecEnv([lambda: SingleStockEnv(test)])\n",
        "obs_test = env_test.reset()\n",
        "print(\"==============Model Prediction===========\")\n",
        "for i in range(len(test.index.unique())):\n",
        "    action, _states = model.predict(obs_test)\n",
        "    obs_test, rewards, dones, info = env_test.step(action)\n",
        "    env_test.render()\n",
        "\n",
        "#==> Create file account_rewards.csv, account_value.csv, account_value.png sau khi chay xong\n",
        "\n",
        "\n",
        "'''\n",
        "Part 5: Backtest Our Strategy\n",
        "For simplicity purposes, in the article, we just calculate the Sharpe ratio and the annual return manually.\n",
        "'''\n",
        "\n",
        "\n",
        "def get_DRL_sharpe():\n",
        "    df_total_value=pd.read_csv('account_value.csv',index_col=0)\n",
        "    df_total_value.columns = ['account_value']\n",
        "    df_total_value['daily_return']=df_total_value.pct_change(1)\n",
        "    sharpe = (252**0.5)*df_total_value['daily_return'].mean()/ \\\n",
        "    df_total_value['daily_return'].std()\n",
        "    \n",
        "    annual_return = ((df_total_value['daily_return'].mean()+1)**252-1)*100\n",
        "    print(\"annual return: \", annual_return)\n",
        "    print(\"sharpe ratio: \", sharpe)\n",
        "    return df_total_value\n",
        "\n",
        "\n",
        "def get_buy_and_hold_sharpe(test):\n",
        "    test['daily_return']=test['adjcp'].pct_change(1)\n",
        "    sharpe = (252**0.5)*test['daily_return'].mean()/ \\\n",
        "    test['daily_return'].std()\n",
        "    annual_return = ((test['daily_return'].mean()+1)**252-1)*100\n",
        "    print(\"annual return: \", annual_return)\n",
        "\n",
        "    print(\"sharpe ratio: \", sharpe)\n",
        "    #return sharpe\n",
        "\n",
        "df_total_value=get_DRL_sharpe()\n",
        "get_buy_and_hold_sharpe(test)\n",
        "DRL_cumulative_return = (df_total_value.account_value.pct_change(1)+1).cumprod()-1\n",
        "buy_and_hold_cumulative_return = (test.adjcp.pct_change(1)+1).cumprod()-1\n",
        "\n",
        "\n",
        "\n",
        "%matplotlib inline\n",
        "fig, ax = plt.subplots(figsize=(12, 8))\n",
        "\n",
        "plt.plot(test.datadate, DRL_cumulative_return, color='red',label = \"DRL\")\n",
        "plt.plot(test.datadate, buy_and_hold_cumulative_return, label = \"Buy & Hold\")\n",
        "titleTmp = \"Cumulative Return for \" + stockerID + \" with Transaction Cost\" \n",
        "plt.title(titleTmp,size= 20)\n",
        "plt.legend()\n",
        "plt.rc('legend',fontsize=15)\n",
        "plt.rc('xtick', labelsize=15)\n",
        "plt.rc('ytick', labelsize=15)\n"
      ],
      "execution_count": 34,
      "outputs": [
        {
          "output_type": "stream",
          "name": "stdout",
          "text": [
            "==============Model Prediction===========\n",
            "previous_total_asset:100000\n",
            "end_total_asset:106623.463471806\n",
            "total_reward:6623.463471805997\n",
            "total_cost:  1944.0581485782516\n",
            "total trades:  174\n",
            "Sharpe:  0.8044334390694318\n",
            "annual return:  10.322730424550919\n",
            "sharpe ratio:  0.804433439069411\n",
            "annual return:  10.766287942698426\n",
            "sharpe ratio:  0.4876153641555982\n"
          ]
        },
        {
          "output_type": "display_data",
          "data": {
            "image/png": "[encoded data removed]",
            "text/plain": [
              "<Figure size 864x576 with 1 Axes>"
            ]
          },
          "metadata": {
            "needs_background": "light"
          }
        }
      ]
    },
    {
      "cell_type": "code",
      "metadata": {
        "id": "EV0lTOlsXcK9"
      },
      "source": [
        ""
      ],
      "execution_count": null,
      "outputs": []
    },
    {
      "cell_type": "code",
      "metadata": {
        "colab": {
          "base_uri": "https://localhost:8080/",
          "height": 321
        },
        "id": "tfLWQCbY_N-V",
        "outputId": "edf8e49f-a109-4114-8bcf-9036ae579190"
      },
      "source": [
        "# Import yfinance package\n",
        "import yfinance as yf\n",
        "\n",
        "# Import matplotlib for plotting\n",
        "import matplotlib.pyplot as plt\n",
        "%matplotlib inline\n",
        "\n",
        "start_date = END_DATE_TRAIN_DATA\n",
        "end_date = END_DATE_DATA\n",
        "\n",
        "# Set the ticker\n",
        "#ticker = 'AMZN'\n",
        "ticker = stockerID\n",
        "\n",
        "\n",
        "# Get the data\n",
        "data = yf.download(ticker, start_date, end_date)\n",
        "\n",
        "# Print 5 rows\n",
        "#data.tail()\n",
        "\n",
        "# Plot adjusted close price data\n",
        "data['Adj Close'].plot()\n",
        "plt.show()\n",
        "\n"
      ],
      "execution_count": null,
      "outputs": [
        {
          "output_type": "stream",
          "name": "stdout",
          "text": [
            "\r[*********************100%***********************]  1 of 1 completed\n"
          ]
        },
        {
          "output_type": "display_data",
          "data": {
            "image/png": "[encoded data removed]",
            "text/plain": [
              "<Figure size 432x288 with 1 Axes>"
            ]
          },
          "metadata": {
            "needs_background": "light"
          }
        }
      ]
    },
    {
      "cell_type": "markdown",
      "metadata": {
        "id": "_cmg8TL0-rbT"
      },
      "source": [
        "## Model Training: 4 models, PPO A2C, DDPG, TD3\n",
        "## Model 1: PPO"
      ]
    },
    {
      "cell_type": "code",
      "metadata": {
        "id": "L1Ak9hVU-MuM"
      },
      "source": [
        "#tensorboard --logdir ./single_stock_tensorboard/\n",
        "env_train = DummyVecEnv([lambda: SingleStockEnv(train)])\n",
        "model_ppo = PPO2('MlpPolicy', env_train, tensorboard_log=\"./single_stock_trading_2_tensorboard/\")\n",
        "model_ppo.learn(total_timesteps=100000,tb_log_name=\"run_aapl_ppo\")\n",
        "#model_ppo.save('AAPL_ppo_100k')\n",
        "#model_ppo.save('AAPL_ppo_100k')\n",
        "#model_sticker_save = 'FB_ppo_100k'\n",
        "model_sticker_save = 'amzn_ppo_100k'\n",
        "model_ppo.save(model_sticker_save)"
      ],
      "execution_count": null,
      "outputs": []
    },
    {
      "cell_type": "markdown",
      "metadata": {
        "id": "V-o9vOq_-3Wi"
      },
      "source": [
        "## Model 2: DDPG"
      ]
    },
    {
      "cell_type": "code",
      "metadata": {
        "id": "DR_WNon2-Mwb"
      },
      "source": [
        "#tensorboard --logdir ./single_stock_tensorboard/\n",
        "env_train = DummyVecEnv([lambda: SingleStockEnv(train)])\n",
        "model_ddpg = DDPG('MlpPolicy', env_train, tensorboard_log=\"./single_stock_trading_2_tensorboard/\")\n",
        "model_ddpg.learn(total_timesteps=100000, tb_log_name=\"run_aapl_ddpg\")\n",
        "#model_ddpg.save('AAPL_ddpg_50k')"
      ],
      "execution_count": null,
      "outputs": []
    },
    {
      "cell_type": "code",
      "metadata": {
        "id": "ERtTQEUS-Myr"
      },
      "source": [
        "#model_ddpg.learn(total_timesteps=100000, tb_log_name=\"run_aapl_ddpg\")\n",
        "model_ddpg.save('AAPL_ddpg_50k')\n",
        "\n",
        "#model_ddpg.save(model_sticker_save)\n"
      ],
      "execution_count": null,
      "outputs": []
    },
    {
      "cell_type": "markdown",
      "metadata": {
        "id": "FbEwEVS5--xC"
      },
      "source": [
        "## Model 3: A2C"
      ]
    },
    {
      "cell_type": "code",
      "metadata": {
        "id": "CqwECOAB-M1C"
      },
      "source": [
        "#tensorboard --logdir ./single_stock_tensorboard/\n",
        "env_train = DummyVecEnv([lambda: SingleStockEnv(train)])\n",
        "model_a2c = A2C('MlpPolicy', env_train, tensorboard_log=\"./single_stock_trading_2_tensorboard/\")\n",
        "model_a2c.learn(total_timesteps=100000,tb_log_name=\"run_aapl_a2c\")\n",
        "#model_a2c.save('AAPL_a2c_50k')"
      ],
      "execution_count": null,
      "outputs": []
    },
    {
      "cell_type": "code",
      "metadata": {
        "id": "JkXmJ0Bo9_r6"
      },
      "source": [
        "model_a2c.save('AAPL_a2c_50k')\n",
        "#model_a2c.save(model_sticker_save)"
      ],
      "execution_count": null,
      "outputs": []
    },
    {
      "cell_type": "markdown",
      "metadata": {
        "id": "k1T-oJfX_Ewq"
      },
      "source": [
        "## Model 4: TD3"
      ]
    },
    {
      "cell_type": "code",
      "metadata": {
        "id": "swsevaDl_Cfh"
      },
      "source": [
        "#tensorboard --logdir ./single_stock_tensorboard/\n",
        "#DQN<DDPG<TD3\n",
        "env_train = DummyVecEnv([lambda: SingleStockEnv(train)])\n",
        "model_td3 = TD3('MlpPolicy', env_train, tensorboard_log=\"./single_stock_trading_2_tensorboard/\")\n",
        "#model_td3.learn(total_timesteps=100000,tb_log_name=\"run_aapl_td3\")\n",
        "#model_td3.save('AAPL_td3_50k')\n",
        "model_td3.learn(total_timesteps=100000,tb_log_name=\"run_aapl_td3\")\n",
        "model_td3.save('AAPL_td3_50k')\n",
        "#model_td3.save(model_sticker_save)\n"
      ],
      "execution_count": null,
      "outputs": []
    },
    {
      "cell_type": "markdown",
      "metadata": {
        "id": "Dk28SuRk_LuB"
      },
      "source": [
        "## Testing data"
      ]
    },
    {
      "cell_type": "code",
      "metadata": {
        "id": "V3897qQ8_Ch5"
      },
      "source": [
        ""
      ],
      "execution_count": null,
      "outputs": []
    },
    {
      "cell_type": "markdown",
      "metadata": {
        "id": "vvg39bOe_QLx"
      },
      "source": [
        "## Load model from file save"
      ]
    },
    {
      "cell_type": "markdown",
      "metadata": {
        "id": "b5vgJKZq_Qs5"
      },
      "source": [
        "## Load model PPO"
      ]
    },
    {
      "cell_type": "code",
      "metadata": {
        "id": "vr377TvW_CkK"
      },
      "source": [
        "env_train = DummyVecEnv([lambda: SingleStockEnv(train)])\n",
        "model_ppo = PPO2('MlpPolicy', env_train, tensorboard_log=\"./single_stock_trading_2_tensorboard/\")\n",
        "#model_ppo.load('AAPL_ppo_100k.zip')\n",
        "model_ppo.load(model_sticker_save)\n"
      ],
      "execution_count": null,
      "outputs": []
    },
    {
      "cell_type": "markdown",
      "metadata": {
        "id": "4cPpuYQ9_YOS"
      },
      "source": [
        "## Load models a2c"
      ]
    },
    {
      "cell_type": "code",
      "metadata": {
        "id": "tJoBO65D_CmZ"
      },
      "source": [
        "env_train = DummyVecEnv([lambda: SingleStockEnv(train)])\n",
        "model_a2c = A2C('MlpPolicy', env_train, tensorboard_log=\"./single_stock_trading_2_tensorboard/\")\n",
        "model_a2c.load(model_sticker_save)"
      ],
      "execution_count": null,
      "outputs": []
    },
    {
      "cell_type": "markdown",
      "metadata": {
        "id": "oiPeTYqe_dQZ"
      },
      "source": [
        "## Load model ddpg"
      ]
    },
    {
      "cell_type": "code",
      "metadata": {
        "id": "KepzXkwn_CoZ"
      },
      "source": [
        "env_train = DummyVecEnv([lambda: SingleStockEnv(train)])\n",
        "model_ddpg = DDPG('MlpPolicy', env_train, tensorboard_log=\"./single_stock_trading_2_tensorboard/\")\n",
        "#model_ddpg.load('AAPL_ddpg_50k.zip')\n",
        "model_ddpg.load(model_sticker_save)\n",
        "\n"
      ],
      "execution_count": null,
      "outputs": []
    },
    {
      "cell_type": "markdown",
      "metadata": {
        "id": "XPauM4FM_jfq"
      },
      "source": [
        "## Load model td3"
      ]
    },
    {
      "cell_type": "code",
      "metadata": {
        "id": "wH52_pwn_Cqa"
      },
      "source": [
        "env_train = DummyVecEnv([lambda: SingleStockEnv(train)])\n",
        "model_td3 = TD3('MlpPolicy', env_train, tensorboard_log=\"./single_stock_trading_2_tensorboard/\")\n",
        "model_td3.load('AAPL_td3_50k.zip')\n"
      ],
      "execution_count": null,
      "outputs": []
    },
    {
      "cell_type": "markdown",
      "metadata": {
        "id": "DuMp3IBr_nrq"
      },
      "source": [
        "# Trading\n",
        "Assume that we have $100,000 initial capital at 2019-01-01. We use the TD3 model to trade AAPL.\n",
        "\n",
        "## sau khi chay xong: create file account_rewards.csv, account_value.csv, account_value.png "
      ]
    },
    {
      "cell_type": "code",
      "metadata": {
        "id": "QuHJ2FAf_lUy"
      },
      "source": [
        "\n",
        "test = data_clean[(data_clean.datadate >= END_DATE_TRAIN_DATA) ]\n",
        "# the index needs to start from 0\n",
        "test=test.reset_index(drop=True)\n",
        "\n",
        "\n"
      ],
      "execution_count": null,
      "outputs": []
    },
    {
      "cell_type": "code",
      "metadata": {
        "id": "XSONrBklFLf5"
      },
      "source": [
        "test"
      ],
      "execution_count": null,
      "outputs": []
    },
    {
      "cell_type": "code",
      "metadata": {
        "colab": {
          "base_uri": "https://localhost:8080/"
        },
        "id": "C3cLrinGFJJC",
        "outputId": "17fb9013-9828-4947-9dd8-43c3d2d4480f"
      },
      "source": [
        "#model = model_a2c\n",
        "model = model_ppo\n",
        "#model = model_td3\n",
        "#model = model_ddpg\n",
        "env_test = DummyVecEnv([lambda: SingleStockEnv(test)])\n",
        "obs_test = env_test.reset()\n",
        "print(\"==============Model Prediction===========\")\n",
        "for i in range(len(test.index.unique())):\n",
        "    action, _states = model.predict(obs_test)\n",
        "    obs_test, rewards, dones, info = env_test.step(action)\n",
        "    env_test.render()\n",
        "\n",
        "#==> Create file account_rewards.csv, account_value.csv, account_value.png sau khi chay xong"
      ],
      "execution_count": null,
      "outputs": [
        {
          "output_type": "stream",
          "name": "stdout",
          "text": [
            "==============Model Prediction===========\n",
            "previous_total_asset:100000\n",
            "end_total_asset:91214.80049134279\n",
            "total_reward:-8785.199508657213\n",
            "total_cost:  1216.9028415728942\n",
            "total trades:  52\n",
            "Sharpe:  -3.1096071839715838\n"
          ]
        }
      ]
    },
    {
      "cell_type": "markdown",
      "metadata": {
        "id": "QRy8w11h_rmy"
      },
      "source": [
        "## Part 5: Backtest Our Strategy\n",
        "For simplicity purposes, in the article, we just calculate the Sharpe ratio and the annual return manually."
      ]
    },
    {
      "cell_type": "code",
      "metadata": {
        "colab": {
          "base_uri": "https://localhost:8080/"
        },
        "id": "Xc2v1jpT_lXq",
        "outputId": "cafb6a75-311b-4066-8606-d63bb9ce40b3"
      },
      "source": [
        "\n",
        "def get_DRL_sharpe():\n",
        "    df_total_value=pd.read_csv('account_value.csv',index_col=0)\n",
        "    df_total_value.columns = ['account_value']\n",
        "    df_total_value['daily_return']=df_total_value.pct_change(1)\n",
        "    sharpe = (252**0.5)*df_total_value['daily_return'].mean()/ \\\n",
        "    df_total_value['daily_return'].std()\n",
        "    \n",
        "    annual_return = ((df_total_value['daily_return'].mean()+1)**252-1)*100\n",
        "    print(\"annual return: \", annual_return)\n",
        "    print(\"sharpe ratio: \", sharpe)\n",
        "    return df_total_value\n",
        "\n",
        "\n",
        "def get_buy_and_hold_sharpe(test):\n",
        "    test['daily_return']=test['adjcp'].pct_change(1)\n",
        "    sharpe = (252**0.5)*test['daily_return'].mean()/ \\\n",
        "    test['daily_return'].std()\n",
        "    annual_return = ((test['daily_return'].mean()+1)**252-1)*100\n",
        "    print(\"annual return: \", annual_return)\n",
        "\n",
        "    print(\"sharpe ratio: \", sharpe)\n",
        "    #return sharpe\n",
        "\n",
        "df_total_value=get_DRL_sharpe()\n",
        "get_buy_and_hold_sharpe(test)\n",
        "DRL_cumulative_return = (df_total_value.account_value.pct_change(1)+1).cumprod()-1\n",
        "buy_and_hold_cumulative_return = (test.adjcp.pct_change(1)+1).cumprod()-1\n"
      ],
      "execution_count": null,
      "outputs": [
        {
          "output_type": "stream",
          "name": "stdout",
          "text": [
            "annual return:  -34.2962179054769\n",
            "sharpe ratio:  -3.1096071839715633\n",
            "annual return:  -50.82201630086771\n",
            "sharpe ratio:  -3.7496910745541077\n"
          ]
        }
      ]
    },
    {
      "cell_type": "code",
      "metadata": {
        "id": "-HmnT9KBJRpu"
      },
      "source": [
        "#DRL_cumulative_return"
      ],
      "execution_count": null,
      "outputs": []
    },
    {
      "cell_type": "code",
      "metadata": {
        "id": "dps-hbmJ_lZ7"
      },
      "source": [
        "%matplotlib inline\n",
        "fig, ax = plt.subplots(figsize=(12, 8))\n",
        "\n",
        "plt.plot(test.datadate, DRL_cumulative_return, color='red',label = \"DRL\")\n",
        "plt.plot(test.datadate, buy_and_hold_cumulative_return, label = \"Buy & Hold\")\n",
        "plt.title(\"Cumulative Return for AAPL with Transaction Cost\",size= 20)\n",
        "plt.legend()\n",
        "plt.rc('legend',fontsize=15)\n",
        "plt.rc('xtick', labelsize=15)\n",
        "plt.rc('ytick', labelsize=15)"
      ],
      "execution_count": null,
      "outputs": []
    },
    {
      "cell_type": "code",
      "metadata": {
        "id": "vuX1LVRn_3cL"
      },
      "source": [
        "from google.colab import files\n",
        "\n",
        "files.download('AAPL_a2c_50k.zip')\n",
        "files.download('AAPL_td3_50k.zip')\n",
        "files.download('AAPL_ppo_100k.zip')\n",
        "files.download('AAPL_ddpg_50k.zip')"
      ],
      "execution_count": null,
      "outputs": []
    }
  ]
}