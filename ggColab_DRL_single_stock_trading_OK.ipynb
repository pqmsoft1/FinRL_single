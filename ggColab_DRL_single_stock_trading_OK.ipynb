{
  "nbformat": 4,
  "nbformat_minor": 0,
  "metadata": {
    "colab": {
      "name": "ggColab_DRL_single_stock_trading_OK.ipynb",
      "provenance": [],
      "collapsed_sections": []
    },
    "kernelspec": {
      "name": "python3",
      "display_name": "Python 3"
    },
    "language_info": {
      "name": "python"
    }
  },
  "cells": [
    {
      "cell_type": "code",
      "metadata": {
        "colab": {
          "base_uri": "https://localhost:8080/"
        },
        "id": "s5GXD2J8I_6d",
        "outputId": "3ba3e8f1-7007-4733-ac6c-a026c066653c"
      },
      "source": [
        "!git clone https://github.com/pqmsoft1/FinRL_single.git"
      ],
      "execution_count": null,
      "outputs": [
        {
          "output_type": "stream",
          "name": "stdout",
          "text": [
            "Cloning into 'FinRL_single'...\n",
            "remote: Enumerating objects: 64, done.\u001b[K\n",
            "remote: Counting objects: 100% (64/64), done.\u001b[K\n",
            "remote: Compressing objects: 100% (57/57), done.\u001b[K\n",
            "remote: Total 64 (delta 2), reused 61 (delta 2), pack-reused 0\u001b[K\n",
            "Unpacking objects: 100% (64/64), done.\n"
          ]
        }
      ]
    },
    {
      "cell_type": "code",
      "metadata": {
        "id": "qmN1bhstJDv3",
        "colab": {
          "base_uri": "https://localhost:8080/"
        },
        "outputId": "bebd79e7-8c50-42ef-d3e1-3802aa180375"
      },
      "source": [
        "!pip uninstall -y tensorflow==2.6.0"
      ],
      "execution_count": 23,
      "outputs": [
        {
          "output_type": "stream",
          "name": "stdout",
          "text": [
            "\u001b[33mWARNING: Skipping tensorflow as it is not installed.\u001b[0m\n"
          ]
        }
      ]
    },
    {
      "cell_type": "code",
      "metadata": {
        "id": "RXcynnGmJDyn",
        "colab": {
          "base_uri": "https://localhost:8080/",
          "height": 35
        },
        "outputId": "1a0e78c0-5cf5-4c42-c422-c012abd7aa20"
      },
      "source": [
        "import tensorflow as tf\n",
        "tf.__version__"
      ],
      "execution_count": 2,
      "outputs": [
        {
          "output_type": "execute_result",
          "data": {
            "application/vnd.google.colaboratory.intrinsic+json": {
              "type": "string"
            },
            "text/plain": [
              "'1.15.4'"
            ]
          },
          "metadata": {},
          "execution_count": 2
        }
      ]
    },
    {
      "cell_type": "code",
      "metadata": {
        "colab": {
          "base_uri": "https://localhost:8080/",
          "height": 35
        },
        "id": "DQ6XukjSJD1H",
        "outputId": "97ed08da-9f0a-402e-a2e9-282087182812"
      },
      "source": [
        ""
      ],
      "execution_count": 18,
      "outputs": [
        {
          "output_type": "execute_result",
          "data": {
            "application/vnd.google.colaboratory.intrinsic+json": {
              "type": "string"
            },
            "text/plain": [
              "'2.6.0'"
            ]
          },
          "metadata": {},
          "execution_count": 18
        }
      ]
    },
    {
      "cell_type": "code",
      "metadata": {
        "colab": {
          "base_uri": "https://localhost:8080/"
        },
        "id": "yhh5mSppJD3f",
        "outputId": "07458746-379c-4b25-ef4f-7dbdfe3d50b9"
      },
      "source": [
        "#!pip uninstall tensorflow"
      ],
      "execution_count": null,
      "outputs": [
        {
          "output_type": "stream",
          "name": "stdout",
          "text": [
            "Found existing installation: tensorflow 2.6.0\n",
            "Uninstalling tensorflow-2.6.0:\n",
            "  Would remove:\n",
            "    /usr/local/bin/estimator_ckpt_converter\n",
            "    /usr/local/bin/import_pb_to_tensorboard\n",
            "    /usr/local/bin/saved_model_cli\n",
            "    /usr/local/bin/tensorboard\n",
            "    /usr/local/bin/tf_upgrade_v2\n",
            "    /usr/local/bin/tflite_convert\n",
            "    /usr/local/bin/toco\n",
            "    /usr/local/bin/toco_from_protos\n",
            "    /usr/local/lib/python3.7/dist-packages/tensorflow-2.6.0.dist-info/*\n",
            "    /usr/local/lib/python3.7/dist-packages/tensorflow/*\n",
            "Proceed (y/n)? y\n",
            "y\n",
            "  Successfully uninstalled tensorflow-2.6.0\n"
          ]
        }
      ]
    },
    {
      "cell_type": "code",
      "metadata": {
        "id": "-pyy6A5OJD53"
      },
      "source": [
        "!pip install yfinance\n",
        "!pip install pandas\n",
        "!pip install matplotlib\n",
        "!pip install stockstats\n",
        "!pip install gym\n",
        "!pip install stable-baselines[mpi]\n",
        "!pip install tensorflow==1.15.4"
      ],
      "execution_count": null,
      "outputs": []
    },
    {
      "cell_type": "code",
      "metadata": {
        "colab": {
          "base_uri": "https://localhost:8080/"
        },
        "id": "HE7Mx7gQLJAg",
        "outputId": "1806f00d-e745-4e2e-cc53-a4eee94d10e5"
      },
      "source": [
        "!pip install tensorflow==1.15.4"
      ],
      "execution_count": 1,
      "outputs": [
        {
          "output_type": "stream",
          "name": "stdout",
          "text": [
            "Requirement already satisfied: tensorflow==1.15.4 in /usr/local/lib/python3.7/dist-packages (1.15.4)\n",
            "Requirement already satisfied: tensorboard<1.16.0,>=1.15.0 in /usr/local/lib/python3.7/dist-packages (from tensorflow==1.15.4) (1.15.0)\n",
            "Requirement already satisfied: wrapt>=1.11.1 in /usr/local/lib/python3.7/dist-packages (from tensorflow==1.15.4) (1.12.1)\n",
            "Requirement already satisfied: absl-py>=0.7.0 in /usr/local/lib/python3.7/dist-packages (from tensorflow==1.15.4) (0.12.0)\n",
            "Requirement already satisfied: numpy<1.19.0,>=1.16.0 in /usr/local/lib/python3.7/dist-packages (from tensorflow==1.15.4) (1.18.5)\n",
            "Requirement already satisfied: grpcio>=1.8.6 in /usr/local/lib/python3.7/dist-packages (from tensorflow==1.15.4) (1.40.0)\n",
            "Requirement already satisfied: wheel>=0.26 in /usr/local/lib/python3.7/dist-packages (from tensorflow==1.15.4) (0.37.0)\n",
            "Requirement already satisfied: protobuf>=3.6.1 in /usr/local/lib/python3.7/dist-packages (from tensorflow==1.15.4) (3.17.3)\n",
            "Requirement already satisfied: six>=1.10.0 in /usr/local/lib/python3.7/dist-packages (from tensorflow==1.15.4) (1.15.0)\n",
            "Requirement already satisfied: opt-einsum>=2.3.2 in /usr/local/lib/python3.7/dist-packages (from tensorflow==1.15.4) (3.3.0)\n",
            "Requirement already satisfied: tensorflow-estimator==1.15.1 in /usr/local/lib/python3.7/dist-packages (from tensorflow==1.15.4) (1.15.1)\n",
            "Requirement already satisfied: keras-preprocessing>=1.0.5 in /usr/local/lib/python3.7/dist-packages (from tensorflow==1.15.4) (1.1.2)\n",
            "Requirement already satisfied: astor>=0.6.0 in /usr/local/lib/python3.7/dist-packages (from tensorflow==1.15.4) (0.8.1)\n",
            "Requirement already satisfied: keras-applications>=1.0.8 in /usr/local/lib/python3.7/dist-packages (from tensorflow==1.15.4) (1.0.8)\n",
            "Requirement already satisfied: google-pasta>=0.1.6 in /usr/local/lib/python3.7/dist-packages (from tensorflow==1.15.4) (0.2.0)\n",
            "Requirement already satisfied: termcolor>=1.1.0 in /usr/local/lib/python3.7/dist-packages (from tensorflow==1.15.4) (1.1.0)\n",
            "Requirement already satisfied: gast==0.2.2 in /usr/local/lib/python3.7/dist-packages (from tensorflow==1.15.4) (0.2.2)\n",
            "Requirement already satisfied: h5py in /usr/local/lib/python3.7/dist-packages (from keras-applications>=1.0.8->tensorflow==1.15.4) (3.1.0)\n",
            "Requirement already satisfied: setuptools>=41.0.0 in /usr/local/lib/python3.7/dist-packages (from tensorboard<1.16.0,>=1.15.0->tensorflow==1.15.4) (57.4.0)\n",
            "Requirement already satisfied: markdown>=2.6.8 in /usr/local/lib/python3.7/dist-packages (from tensorboard<1.16.0,>=1.15.0->tensorflow==1.15.4) (3.3.4)\n",
            "Requirement already satisfied: werkzeug>=0.11.15 in /usr/local/lib/python3.7/dist-packages (from tensorboard<1.16.0,>=1.15.0->tensorflow==1.15.4) (1.0.1)\n",
            "Requirement already satisfied: importlib-metadata in /usr/local/lib/python3.7/dist-packages (from markdown>=2.6.8->tensorboard<1.16.0,>=1.15.0->tensorflow==1.15.4) (4.8.1)\n",
            "Requirement already satisfied: cached-property in /usr/local/lib/python3.7/dist-packages (from h5py->keras-applications>=1.0.8->tensorflow==1.15.4) (1.5.2)\n",
            "Requirement already satisfied: zipp>=0.5 in /usr/local/lib/python3.7/dist-packages (from importlib-metadata->markdown>=2.6.8->tensorboard<1.16.0,>=1.15.0->tensorflow==1.15.4) (3.5.0)\n",
            "Requirement already satisfied: typing-extensions>=3.6.4 in /usr/local/lib/python3.7/dist-packages (from importlib-metadata->markdown>=2.6.8->tensorboard<1.16.0,>=1.15.0->tensorflow==1.15.4) (3.7.4.3)\n"
          ]
        }
      ]
    },
    {
      "cell_type": "code",
      "metadata": {
        "colab": {
          "base_uri": "https://localhost:8080/"
        },
        "id": "ENaQpQyXKZRP",
        "outputId": "b6dd05fe-5db5-42e5-ca0f-17e4b013b378"
      },
      "source": [
        "!ls"
      ],
      "execution_count": null,
      "outputs": [
        {
          "output_type": "stream",
          "name": "stdout",
          "text": [
            "contributing.md\n",
            "docker\n",
            "DRL_multiple_stock_trading.ipynb\n",
            "DRL_single_stock_trading.ipynb\n",
            "figs\n",
            "finrl\n",
            "FinRL_demo_docker.ipynb\n",
            "FinRL_ensemble_stock_trading_ICAIF_2020.ipynb\n",
            "FinRL_portfolio_allocation_NeurIPS_2020.ipynb\n",
            "FinRL_single_stock_trading.ipynb\n",
            "FinRL_stock_trading_fundamental.ipynb\n",
            "FinRL_stock_trading_NeurIPS_2018.ipynb\n",
            "LICENSE\n",
            "main.py\n",
            "notebooks\n",
            "README.md\n",
            "requirements.txt\n",
            "setup.py\n",
            "tests\n"
          ]
        }
      ]
    },
    {
      "cell_type": "code",
      "metadata": {
        "colab": {
          "base_uri": "https://localhost:8080/"
        },
        "id": "RYFnUm0VKnz3",
        "outputId": "ba35f9e3-3a04-4c08-f368-0ecab600fabd"
      },
      "source": [
        "cd FinRL_single/"
      ],
      "execution_count": null,
      "outputs": [
        {
          "output_type": "stream",
          "name": "stdout",
          "text": [
            "/content/FinRL_single\n"
          ]
        }
      ]
    },
    {
      "cell_type": "code",
      "metadata": {
        "colab": {
          "base_uri": "https://localhost:8080/"
        },
        "id": "bwKO41A-JD8X",
        "outputId": "e96e25fc-53ef-47d3-f0dc-4439c7206c8c"
      },
      "source": [
        "import pkg_resources\n",
        "import pip\n",
        "installedPackages = {pkg.key for pkg in pkg_resources.working_set}\n",
        "required = {'yfinance', 'pandas', 'matplotlib', 'stockstats','stable-baselines','gym','tensorflow'}\n",
        "missing = required - installedPackages\n",
        "if missing:\n",
        "    !pip install yfinance\n",
        "    !pip install pandas\n",
        "    !pip install matplotlib\n",
        "    !pip install stockstats\n",
        "    !pip install gym\n",
        "    !pip install stable-baselines[mpi]\n",
        "    !pip install tensorflow==1.15.4"
      ],
      "execution_count": null,
      "outputs": [
        {
          "output_type": "stream",
          "name": "stdout",
          "text": [
            "Requirement already satisfied: yfinance in /usr/local/lib/python3.7/dist-packages (0.1.63)\n",
            "Requirement already satisfied: numpy>=1.15 in /usr/local/lib/python3.7/dist-packages (from yfinance) (1.18.5)\n",
            "Requirement already satisfied: lxml>=4.5.1 in /usr/local/lib/python3.7/dist-packages (from yfinance) (4.6.3)\n",
            "Requirement already satisfied: requests>=2.20 in /usr/local/lib/python3.7/dist-packages (from yfinance) (2.23.0)\n",
            "Requirement already satisfied: multitasking>=0.0.7 in /usr/local/lib/python3.7/dist-packages (from yfinance) (0.0.9)\n",
            "Requirement already satisfied: pandas>=0.24 in /usr/local/lib/python3.7/dist-packages (from yfinance) (1.1.5)\n",
            "Requirement already satisfied: python-dateutil>=2.7.3 in /usr/local/lib/python3.7/dist-packages (from pandas>=0.24->yfinance) (2.8.2)\n",
            "Requirement already satisfied: pytz>=2017.2 in /usr/local/lib/python3.7/dist-packages (from pandas>=0.24->yfinance) (2018.9)\n",
            "Requirement already satisfied: six>=1.5 in /usr/local/lib/python3.7/dist-packages (from python-dateutil>=2.7.3->pandas>=0.24->yfinance) (1.15.0)\n",
            "Requirement already satisfied: urllib3!=1.25.0,!=1.25.1,<1.26,>=1.21.1 in /usr/local/lib/python3.7/dist-packages (from requests>=2.20->yfinance) (1.24.3)\n",
            "Requirement already satisfied: certifi>=2017.4.17 in /usr/local/lib/python3.7/dist-packages (from requests>=2.20->yfinance) (2021.5.30)\n",
            "Requirement already satisfied: idna<3,>=2.5 in /usr/local/lib/python3.7/dist-packages (from requests>=2.20->yfinance) (2.10)\n",
            "Requirement already satisfied: chardet<4,>=3.0.2 in /usr/local/lib/python3.7/dist-packages (from requests>=2.20->yfinance) (3.0.4)\n",
            "Requirement already satisfied: pandas in /usr/local/lib/python3.7/dist-packages (1.1.5)\n",
            "Requirement already satisfied: numpy>=1.15.4 in /usr/local/lib/python3.7/dist-packages (from pandas) (1.18.5)\n",
            "Requirement already satisfied: python-dateutil>=2.7.3 in /usr/local/lib/python3.7/dist-packages (from pandas) (2.8.2)\n",
            "Requirement already satisfied: pytz>=2017.2 in /usr/local/lib/python3.7/dist-packages (from pandas) (2018.9)\n",
            "Requirement already satisfied: six>=1.5 in /usr/local/lib/python3.7/dist-packages (from python-dateutil>=2.7.3->pandas) (1.15.0)\n",
            "Requirement already satisfied: matplotlib in /usr/local/lib/python3.7/dist-packages (3.2.2)\n",
            "Requirement already satisfied: python-dateutil>=2.1 in /usr/local/lib/python3.7/dist-packages (from matplotlib) (2.8.2)\n",
            "Requirement already satisfied: numpy>=1.11 in /usr/local/lib/python3.7/dist-packages (from matplotlib) (1.18.5)\n",
            "Requirement already satisfied: pyparsing!=2.0.4,!=2.1.2,!=2.1.6,>=2.0.1 in /usr/local/lib/python3.7/dist-packages (from matplotlib) (2.4.7)\n",
            "Requirement already satisfied: kiwisolver>=1.0.1 in /usr/local/lib/python3.7/dist-packages (from matplotlib) (1.3.2)\n",
            "Requirement already satisfied: cycler>=0.10 in /usr/local/lib/python3.7/dist-packages (from matplotlib) (0.10.0)\n",
            "Requirement already satisfied: six in /usr/local/lib/python3.7/dist-packages (from cycler>=0.10->matplotlib) (1.15.0)\n",
            "Requirement already satisfied: stockstats in /usr/local/lib/python3.7/dist-packages (0.3.2)\n",
            "Requirement already satisfied: pandas>=0.18.1 in /usr/local/lib/python3.7/dist-packages (from stockstats) (1.1.5)\n",
            "Requirement already satisfied: int-date>=0.1.7 in /usr/local/lib/python3.7/dist-packages (from stockstats) (0.1.8)\n",
            "Requirement already satisfied: numpy>=1.9.2 in /usr/local/lib/python3.7/dist-packages (from stockstats) (1.18.5)\n",
            "Requirement already satisfied: six>=1.9.0 in /usr/local/lib/python3.7/dist-packages (from int-date>=0.1.7->stockstats) (1.15.0)\n",
            "Requirement already satisfied: python-dateutil>=2.4.2 in /usr/local/lib/python3.7/dist-packages (from int-date>=0.1.7->stockstats) (2.8.2)\n",
            "Requirement already satisfied: pytz>=2017.2 in /usr/local/lib/python3.7/dist-packages (from pandas>=0.18.1->stockstats) (2018.9)\n",
            "Requirement already satisfied: gym in /usr/local/lib/python3.7/dist-packages (0.17.3)\n",
            "Requirement already satisfied: pyglet<=1.5.0,>=1.4.0 in /usr/local/lib/python3.7/dist-packages (from gym) (1.5.0)\n",
            "Requirement already satisfied: cloudpickle<1.7.0,>=1.2.0 in /usr/local/lib/python3.7/dist-packages (from gym) (1.3.0)\n",
            "Requirement already satisfied: scipy in /usr/local/lib/python3.7/dist-packages (from gym) (1.4.1)\n",
            "Requirement already satisfied: numpy>=1.10.4 in /usr/local/lib/python3.7/dist-packages (from gym) (1.18.5)\n",
            "Requirement already satisfied: future in /usr/local/lib/python3.7/dist-packages (from pyglet<=1.5.0,>=1.4.0->gym) (0.16.0)\n",
            "Requirement already satisfied: stable-baselines[mpi] in /usr/local/lib/python3.7/dist-packages (2.10.2)\n",
            "Requirement already satisfied: opencv-python in /usr/local/lib/python3.7/dist-packages (from stable-baselines[mpi]) (4.1.2.30)\n",
            "Requirement already satisfied: cloudpickle>=0.5.5 in /usr/local/lib/python3.7/dist-packages (from stable-baselines[mpi]) (1.3.0)\n",
            "Requirement already satisfied: pandas in /usr/local/lib/python3.7/dist-packages (from stable-baselines[mpi]) (1.1.5)\n",
            "Requirement already satisfied: numpy in /usr/local/lib/python3.7/dist-packages (from stable-baselines[mpi]) (1.18.5)\n",
            "Requirement already satisfied: matplotlib in /usr/local/lib/python3.7/dist-packages (from stable-baselines[mpi]) (3.2.2)\n",
            "Requirement already satisfied: gym[atari,classic_control]>=0.11 in /usr/local/lib/python3.7/dist-packages (from stable-baselines[mpi]) (0.17.3)\n",
            "Requirement already satisfied: scipy in /usr/local/lib/python3.7/dist-packages (from stable-baselines[mpi]) (1.4.1)\n",
            "Requirement already satisfied: joblib in /usr/local/lib/python3.7/dist-packages (from stable-baselines[mpi]) (1.0.1)\n",
            "Requirement already satisfied: mpi4py in /usr/local/lib/python3.7/dist-packages (from stable-baselines[mpi]) (3.1.1)\n",
            "Requirement already satisfied: pyglet<=1.5.0,>=1.4.0 in /usr/local/lib/python3.7/dist-packages (from gym[atari,classic_control]>=0.11->stable-baselines[mpi]) (1.5.0)\n",
            "Requirement already satisfied: atari-py~=0.2.0 in /usr/local/lib/python3.7/dist-packages (from gym[atari,classic_control]>=0.11->stable-baselines[mpi]) (0.2.9)\n",
            "Requirement already satisfied: Pillow in /usr/local/lib/python3.7/dist-packages (from gym[atari,classic_control]>=0.11->stable-baselines[mpi]) (7.1.2)\n",
            "Requirement already satisfied: six in /usr/local/lib/python3.7/dist-packages (from atari-py~=0.2.0->gym[atari,classic_control]>=0.11->stable-baselines[mpi]) (1.15.0)\n",
            "Requirement already satisfied: future in /usr/local/lib/python3.7/dist-packages (from pyglet<=1.5.0,>=1.4.0->gym[atari,classic_control]>=0.11->stable-baselines[mpi]) (0.16.0)\n",
            "Requirement already satisfied: cycler>=0.10 in /usr/local/lib/python3.7/dist-packages (from matplotlib->stable-baselines[mpi]) (0.10.0)\n",
            "Requirement already satisfied: pyparsing!=2.0.4,!=2.1.2,!=2.1.6,>=2.0.1 in /usr/local/lib/python3.7/dist-packages (from matplotlib->stable-baselines[mpi]) (2.4.7)\n",
            "Requirement already satisfied: python-dateutil>=2.1 in /usr/local/lib/python3.7/dist-packages (from matplotlib->stable-baselines[mpi]) (2.8.2)\n",
            "Requirement already satisfied: kiwisolver>=1.0.1 in /usr/local/lib/python3.7/dist-packages (from matplotlib->stable-baselines[mpi]) (1.3.2)\n",
            "Requirement already satisfied: pytz>=2017.2 in /usr/local/lib/python3.7/dist-packages (from pandas->stable-baselines[mpi]) (2018.9)\n",
            "Requirement already satisfied: tensorflow==1.15.4 in /usr/local/lib/python3.7/dist-packages (1.15.4)\n",
            "Requirement already satisfied: six>=1.10.0 in /usr/local/lib/python3.7/dist-packages (from tensorflow==1.15.4) (1.15.0)\n",
            "Requirement already satisfied: grpcio>=1.8.6 in /usr/local/lib/python3.7/dist-packages (from tensorflow==1.15.4) (1.40.0)\n",
            "Requirement already satisfied: gast==0.2.2 in /usr/local/lib/python3.7/dist-packages (from tensorflow==1.15.4) (0.2.2)\n",
            "Requirement already satisfied: tensorboard<1.16.0,>=1.15.0 in /usr/local/lib/python3.7/dist-packages (from tensorflow==1.15.4) (1.15.0)\n",
            "Requirement already satisfied: keras-preprocessing>=1.0.5 in /usr/local/lib/python3.7/dist-packages (from tensorflow==1.15.4) (1.1.2)\n",
            "Requirement already satisfied: astor>=0.6.0 in /usr/local/lib/python3.7/dist-packages (from tensorflow==1.15.4) (0.8.1)\n",
            "Requirement already satisfied: keras-applications>=1.0.8 in /usr/local/lib/python3.7/dist-packages (from tensorflow==1.15.4) (1.0.8)\n",
            "Requirement already satisfied: google-pasta>=0.1.6 in /usr/local/lib/python3.7/dist-packages (from tensorflow==1.15.4) (0.2.0)\n",
            "Requirement already satisfied: numpy<1.19.0,>=1.16.0 in /usr/local/lib/python3.7/dist-packages (from tensorflow==1.15.4) (1.18.5)\n",
            "Requirement already satisfied: opt-einsum>=2.3.2 in /usr/local/lib/python3.7/dist-packages (from tensorflow==1.15.4) (3.3.0)\n",
            "Requirement already satisfied: tensorflow-estimator==1.15.1 in /usr/local/lib/python3.7/dist-packages (from tensorflow==1.15.4) (1.15.1)\n",
            "Requirement already satisfied: termcolor>=1.1.0 in /usr/local/lib/python3.7/dist-packages (from tensorflow==1.15.4) (1.1.0)\n",
            "Requirement already satisfied: wrapt>=1.11.1 in /usr/local/lib/python3.7/dist-packages (from tensorflow==1.15.4) (1.12.1)\n",
            "Requirement already satisfied: wheel>=0.26 in /usr/local/lib/python3.7/dist-packages (from tensorflow==1.15.4) (0.37.0)\n",
            "Requirement already satisfied: protobuf>=3.6.1 in /usr/local/lib/python3.7/dist-packages (from tensorflow==1.15.4) (3.17.3)\n",
            "Requirement already satisfied: absl-py>=0.7.0 in /usr/local/lib/python3.7/dist-packages (from tensorflow==1.15.4) (0.12.0)\n",
            "Requirement already satisfied: h5py in /usr/local/lib/python3.7/dist-packages (from keras-applications>=1.0.8->tensorflow==1.15.4) (3.1.0)\n",
            "Requirement already satisfied: werkzeug>=0.11.15 in /usr/local/lib/python3.7/dist-packages (from tensorboard<1.16.0,>=1.15.0->tensorflow==1.15.4) (1.0.1)\n",
            "Requirement already satisfied: markdown>=2.6.8 in /usr/local/lib/python3.7/dist-packages (from tensorboard<1.16.0,>=1.15.0->tensorflow==1.15.4) (3.3.4)\n",
            "Requirement already satisfied: setuptools>=41.0.0 in /usr/local/lib/python3.7/dist-packages (from tensorboard<1.16.0,>=1.15.0->tensorflow==1.15.4) (57.4.0)\n",
            "Requirement already satisfied: importlib-metadata in /usr/local/lib/python3.7/dist-packages (from markdown>=2.6.8->tensorboard<1.16.0,>=1.15.0->tensorflow==1.15.4) (4.8.1)\n",
            "Requirement already satisfied: cached-property in /usr/local/lib/python3.7/dist-packages (from h5py->keras-applications>=1.0.8->tensorflow==1.15.4) (1.5.2)\n",
            "Requirement already satisfied: typing-extensions>=3.6.4 in /usr/local/lib/python3.7/dist-packages (from importlib-metadata->markdown>=2.6.8->tensorboard<1.16.0,>=1.15.0->tensorflow==1.15.4) (3.7.4.3)\n",
            "Requirement already satisfied: zipp>=0.5 in /usr/local/lib/python3.7/dist-packages (from importlib-metadata->markdown>=2.6.8->tensorboard<1.16.0,>=1.15.0->tensorflow==1.15.4) (3.5.0)\n"
          ]
        }
      ]
    },
    {
      "cell_type": "code",
      "metadata": {
        "id": "fK4P5kBdK31v",
        "colab": {
          "base_uri": "https://localhost:8080/"
        },
        "outputId": "94feeec0-b27c-4cf7-e35b-6a175031db08"
      },
      "source": [
        "#import tensorflow.compat.v1 as tf\n",
        "#tf.compat.v1.disable_v2_behavior()"
      ],
      "execution_count": 20,
      "outputs": [
        {
          "output_type": "stream",
          "name": "stdout",
          "text": [
            "WARNING:tensorflow:From /usr/local/lib/python3.7/dist-packages/tensorflow/python/compat/v2_compat.py:101: disable_resource_variables (from tensorflow.python.ops.variable_scope) is deprecated and will be removed in a future version.\n",
            "Instructions for updating:\n",
            "non-resource variables are not supported in the long term\n"
          ]
        }
      ]
    },
    {
      "cell_type": "code",
      "metadata": {
        "id": "EWRL8Y89LTV4"
      },
      "source": [
        ""
      ],
      "execution_count": null,
      "outputs": []
    },
    {
      "cell_type": "code",
      "metadata": {
        "id": "OElabgh1K4CW"
      },
      "source": [
        "import yfinance as yf\n",
        "from stockstats import StockDataFrame as Sdf\n",
        "\n",
        "import pandas as pd\n",
        "import matplotlib.pyplot as plt\n",
        "\n",
        "import gym\n",
        "from stable_baselines import PPO2, DDPG, A2C, ACKTR, TD3\n",
        "from stable_baselines import DDPG\n",
        "from stable_baselines import A2C\n",
        "from stable_baselines import SAC\n",
        "from stable_baselines.common.vec_env import DummyVecEnv\n",
        "from stable_baselines.common.policies import MlpPolicy"
      ],
      "execution_count": 92,
      "outputs": []
    },
    {
      "cell_type": "code",
      "metadata": {
        "id": "tFDal_yCKURQ"
      },
      "source": [
        "#Diable the warnings\n",
        "import warnings\n",
        "warnings.filterwarnings('ignore')"
      ],
      "execution_count": 93,
      "outputs": []
    },
    {
      "cell_type": "code",
      "metadata": {
        "colab": {
          "base_uri": "https://localhost:8080/"
        },
        "id": "O7x7hPiGKUTm",
        "outputId": "e8cb9426-68a1-4599-c5ce-e62d60d1f707"
      },
      "source": [
        "# Download and save the data in a pandas DataFrame:\n",
        "#data_df = yf.download(\"AAPL\", start=\"2009-01-01\", end=\"2020-10-23\")\n",
        "data_df = yf.download(\"FB\", start=\"2009-01-01\", end=\"2021-09-20\")"
      ],
      "execution_count": 96,
      "outputs": [
        {
          "output_type": "stream",
          "name": "stdout",
          "text": [
            "\r[*********************100%***********************]  1 of 1 completed\n"
          ]
        }
      ]
    },
    {
      "cell_type": "code",
      "metadata": {
        "id": "zNk1wGNsKUWG",
        "colab": {
          "base_uri": "https://localhost:8080/"
        },
        "outputId": "f263e42a-25a4-4dcc-974b-b6d46b9ae434"
      },
      "source": [
        "data_df.shape"
      ],
      "execution_count": 97,
      "outputs": [
        {
          "output_type": "execute_result",
          "data": {
            "text/plain": [
              "(2349, 6)"
            ]
          },
          "metadata": {},
          "execution_count": 97
        }
      ]
    },
    {
      "cell_type": "code",
      "metadata": {
        "id": "IlAEdAQtKUX_"
      },
      "source": [
        "# reset the index, we want to use numbers instead of dates\n",
        "data_df=data_df.reset_index()"
      ],
      "execution_count": 98,
      "outputs": []
    },
    {
      "cell_type": "code",
      "metadata": {
        "id": "BTgraBo_KUaG",
        "colab": {
          "base_uri": "https://localhost:8080/",
          "height": 204
        },
        "outputId": "db7df445-c438-44f9-e24f-fc90565ee205"
      },
      "source": [
        "data_df.head()"
      ],
      "execution_count": 99,
      "outputs": [
        {
          "output_type": "execute_result",
          "data": {
            "text/html": [
              "<div>\n",
              "<style scoped>\n",
              "    .dataframe tbody tr th:only-of-type {\n",
              "        vertical-align: middle;\n",
              "    }\n",
              "\n",
              "    .dataframe tbody tr th {\n",
              "        vertical-align: top;\n",
              "    }\n",
              "\n",
              "    .dataframe thead th {\n",
              "        text-align: right;\n",
              "    }\n",
              "</style>\n",
              "<table border=\"1\" class=\"dataframe\">\n",
              "  <thead>\n",
              "    <tr style=\"text-align: right;\">\n",
              "      <th></th>\n",
              "      <th>Date</th>\n",
              "      <th>Open</th>\n",
              "      <th>High</th>\n",
              "      <th>Low</th>\n",
              "      <th>Close</th>\n",
              "      <th>Adj Close</th>\n",
              "      <th>Volume</th>\n",
              "    </tr>\n",
              "  </thead>\n",
              "  <tbody>\n",
              "    <tr>\n",
              "      <th>0</th>\n",
              "      <td>2012-05-18</td>\n",
              "      <td>42.049999</td>\n",
              "      <td>45.000000</td>\n",
              "      <td>38.000000</td>\n",
              "      <td>38.230000</td>\n",
              "      <td>38.230000</td>\n",
              "      <td>573576400</td>\n",
              "    </tr>\n",
              "    <tr>\n",
              "      <th>1</th>\n",
              "      <td>2012-05-21</td>\n",
              "      <td>36.529999</td>\n",
              "      <td>36.660000</td>\n",
              "      <td>33.000000</td>\n",
              "      <td>34.029999</td>\n",
              "      <td>34.029999</td>\n",
              "      <td>168192700</td>\n",
              "    </tr>\n",
              "    <tr>\n",
              "      <th>2</th>\n",
              "      <td>2012-05-22</td>\n",
              "      <td>32.610001</td>\n",
              "      <td>33.590000</td>\n",
              "      <td>30.940001</td>\n",
              "      <td>31.000000</td>\n",
              "      <td>31.000000</td>\n",
              "      <td>101786600</td>\n",
              "    </tr>\n",
              "    <tr>\n",
              "      <th>3</th>\n",
              "      <td>2012-05-23</td>\n",
              "      <td>31.370001</td>\n",
              "      <td>32.500000</td>\n",
              "      <td>31.360001</td>\n",
              "      <td>32.000000</td>\n",
              "      <td>32.000000</td>\n",
              "      <td>73600000</td>\n",
              "    </tr>\n",
              "    <tr>\n",
              "      <th>4</th>\n",
              "      <td>2012-05-24</td>\n",
              "      <td>32.950001</td>\n",
              "      <td>33.209999</td>\n",
              "      <td>31.770000</td>\n",
              "      <td>33.029999</td>\n",
              "      <td>33.029999</td>\n",
              "      <td>50237200</td>\n",
              "    </tr>\n",
              "  </tbody>\n",
              "</table>\n",
              "</div>"
            ],
            "text/plain": [
              "        Date       Open       High        Low      Close  Adj Close     Volume\n",
              "0 2012-05-18  42.049999  45.000000  38.000000  38.230000  38.230000  573576400\n",
              "1 2012-05-21  36.529999  36.660000  33.000000  34.029999  34.029999  168192700\n",
              "2 2012-05-22  32.610001  33.590000  30.940001  31.000000  31.000000  101786600\n",
              "3 2012-05-23  31.370001  32.500000  31.360001  32.000000  32.000000   73600000\n",
              "4 2012-05-24  32.950001  33.209999  31.770000  33.029999  33.029999   50237200"
            ]
          },
          "metadata": {},
          "execution_count": 99
        }
      ]
    },
    {
      "cell_type": "code",
      "metadata": {
        "id": "NVApGj9rKUcn",
        "colab": {
          "base_uri": "https://localhost:8080/"
        },
        "outputId": "9ac5b778-8c72-4653-c2a0-723008da5360"
      },
      "source": [
        "data_df.columns"
      ],
      "execution_count": 100,
      "outputs": [
        {
          "output_type": "execute_result",
          "data": {
            "text/plain": [
              "Index(['Date', 'Open', 'High', 'Low', 'Close', 'Adj Close', 'Volume'], dtype='object')"
            ]
          },
          "metadata": {},
          "execution_count": 100
        }
      ]
    },
    {
      "cell_type": "code",
      "metadata": {
        "id": "k-_R8cU1KUe3"
      },
      "source": [
        "# convert the column names to standardized names\n",
        "data_df.columns = ['datadate','open','high','low','close','adjcp','volume']"
      ],
      "execution_count": 101,
      "outputs": []
    },
    {
      "cell_type": "code",
      "metadata": {
        "id": "VBw3Vhu8KUhW"
      },
      "source": [
        "# save the data to a csv file in your current folder\n",
        "#data_df.to_csv('AAPL_2009_2020.csv')\n",
        "data_df.to_csv('FB_2009_2021.csv')"
      ],
      "execution_count": 102,
      "outputs": []
    },
    {
      "cell_type": "code",
      "metadata": {
        "id": "IS9HXt4kMXeY"
      },
      "source": [
        ""
      ],
      "execution_count": null,
      "outputs": []
    },
    {
      "cell_type": "code",
      "metadata": {
        "colab": {
          "base_uri": "https://localhost:8080/"
        },
        "id": "Cx30W7q8MXg_",
        "outputId": "712a93e7-ef1f-45b8-f8ec-7835e73b504d"
      },
      "source": [
        "# check missing data \n",
        "data_df.isnull().values.any()"
      ],
      "execution_count": 103,
      "outputs": [
        {
          "output_type": "execute_result",
          "data": {
            "text/plain": [
              "False"
            ]
          },
          "metadata": {},
          "execution_count": 103
        }
      ]
    },
    {
      "cell_type": "code",
      "metadata": {
        "id": "Yl-RE7COMXjK"
      },
      "source": [
        "# calculate technical indicators like MACD\n",
        "stock = Sdf.retype(data_df.copy())\n",
        "# we need to use adjusted close price instead of close price\n",
        "stock['close'] = stock['adjcp']\n",
        "data_df['macd'] = stock['macd']"
      ],
      "execution_count": 104,
      "outputs": []
    },
    {
      "cell_type": "code",
      "metadata": {
        "colab": {
          "base_uri": "https://localhost:8080/"
        },
        "id": "KdoIIaiWMXlX",
        "outputId": "cd835a0c-8383-4c64-8cf8-c95887ffb51a"
      },
      "source": [
        "# check missing data again\n",
        "data_df.isnull().values.any()"
      ],
      "execution_count": 105,
      "outputs": [
        {
          "output_type": "execute_result",
          "data": {
            "text/plain": [
              "False"
            ]
          },
          "metadata": {},
          "execution_count": 105
        }
      ]
    },
    {
      "cell_type": "code",
      "metadata": {
        "colab": {
          "base_uri": "https://localhost:8080/",
          "height": 204
        },
        "id": "R10WR0gsMXnf",
        "outputId": "2581278e-719c-430b-a0c0-c5b1307b1510"
      },
      "source": [
        "data_df.head()"
      ],
      "execution_count": 106,
      "outputs": [
        {
          "output_type": "execute_result",
          "data": {
            "text/html": [
              "<div>\n",
              "<style scoped>\n",
              "    .dataframe tbody tr th:only-of-type {\n",
              "        vertical-align: middle;\n",
              "    }\n",
              "\n",
              "    .dataframe tbody tr th {\n",
              "        vertical-align: top;\n",
              "    }\n",
              "\n",
              "    .dataframe thead th {\n",
              "        text-align: right;\n",
              "    }\n",
              "</style>\n",
              "<table border=\"1\" class=\"dataframe\">\n",
              "  <thead>\n",
              "    <tr style=\"text-align: right;\">\n",
              "      <th></th>\n",
              "      <th>datadate</th>\n",
              "      <th>open</th>\n",
              "      <th>high</th>\n",
              "      <th>low</th>\n",
              "      <th>close</th>\n",
              "      <th>adjcp</th>\n",
              "      <th>volume</th>\n",
              "      <th>macd</th>\n",
              "    </tr>\n",
              "  </thead>\n",
              "  <tbody>\n",
              "    <tr>\n",
              "      <th>0</th>\n",
              "      <td>2012-05-18</td>\n",
              "      <td>42.049999</td>\n",
              "      <td>45.000000</td>\n",
              "      <td>38.000000</td>\n",
              "      <td>38.230000</td>\n",
              "      <td>38.230000</td>\n",
              "      <td>573576400</td>\n",
              "      <td>0.000000</td>\n",
              "    </tr>\n",
              "    <tr>\n",
              "      <th>1</th>\n",
              "      <td>2012-05-21</td>\n",
              "      <td>36.529999</td>\n",
              "      <td>36.660000</td>\n",
              "      <td>33.000000</td>\n",
              "      <td>34.029999</td>\n",
              "      <td>34.029999</td>\n",
              "      <td>168192700</td>\n",
              "      <td>-0.094231</td>\n",
              "    </tr>\n",
              "    <tr>\n",
              "      <th>2</th>\n",
              "      <td>2012-05-22</td>\n",
              "      <td>32.610001</td>\n",
              "      <td>33.590000</td>\n",
              "      <td>30.940001</td>\n",
              "      <td>31.000000</td>\n",
              "      <td>31.000000</td>\n",
              "      <td>101786600</td>\n",
              "      <td>-0.214029</td>\n",
              "    </tr>\n",
              "    <tr>\n",
              "      <th>3</th>\n",
              "      <td>2012-05-23</td>\n",
              "      <td>31.370001</td>\n",
              "      <td>32.500000</td>\n",
              "      <td>31.360001</td>\n",
              "      <td>32.000000</td>\n",
              "      <td>32.000000</td>\n",
              "      <td>73600000</td>\n",
              "      <td>-0.227165</td>\n",
              "    </tr>\n",
              "    <tr>\n",
              "      <th>4</th>\n",
              "      <td>2012-05-24</td>\n",
              "      <td>32.950001</td>\n",
              "      <td>33.209999</td>\n",
              "      <td>31.770000</td>\n",
              "      <td>33.029999</td>\n",
              "      <td>33.029999</td>\n",
              "      <td>50237200</td>\n",
              "      <td>-0.188535</td>\n",
              "    </tr>\n",
              "  </tbody>\n",
              "</table>\n",
              "</div>"
            ],
            "text/plain": [
              "    datadate       open       high  ...      adjcp     volume      macd\n",
              "0 2012-05-18  42.049999  45.000000  ...  38.230000  573576400  0.000000\n",
              "1 2012-05-21  36.529999  36.660000  ...  34.029999  168192700 -0.094231\n",
              "2 2012-05-22  32.610001  33.590000  ...  31.000000  101786600 -0.214029\n",
              "3 2012-05-23  31.370001  32.500000  ...  32.000000   73600000 -0.227165\n",
              "4 2012-05-24  32.950001  33.209999  ...  33.029999   50237200 -0.188535\n",
              "\n",
              "[5 rows x 8 columns]"
            ]
          },
          "metadata": {},
          "execution_count": 106
        }
      ]
    },
    {
      "cell_type": "code",
      "metadata": {
        "id": "h0nHXIhQMfSP"
      },
      "source": [
        "# Note that I always use a copy of the original data to try it track step by step.\n",
        "data_clean = data_df.copy()"
      ],
      "execution_count": 107,
      "outputs": []
    },
    {
      "cell_type": "code",
      "metadata": {
        "colab": {
          "base_uri": "https://localhost:8080/",
          "height": 204
        },
        "id": "T8S-eB6CMfUP",
        "outputId": "afdaa4bd-c2ac-42e9-e0d9-48bfaa5a3fb8"
      },
      "source": [
        "data_clean.head()"
      ],
      "execution_count": 108,
      "outputs": [
        {
          "output_type": "execute_result",
          "data": {
            "text/html": [
              "<div>\n",
              "<style scoped>\n",
              "    .dataframe tbody tr th:only-of-type {\n",
              "        vertical-align: middle;\n",
              "    }\n",
              "\n",
              "    .dataframe tbody tr th {\n",
              "        vertical-align: top;\n",
              "    }\n",
              "\n",
              "    .dataframe thead th {\n",
              "        text-align: right;\n",
              "    }\n",
              "</style>\n",
              "<table border=\"1\" class=\"dataframe\">\n",
              "  <thead>\n",
              "    <tr style=\"text-align: right;\">\n",
              "      <th></th>\n",
              "      <th>datadate</th>\n",
              "      <th>open</th>\n",
              "      <th>high</th>\n",
              "      <th>low</th>\n",
              "      <th>close</th>\n",
              "      <th>adjcp</th>\n",
              "      <th>volume</th>\n",
              "      <th>macd</th>\n",
              "    </tr>\n",
              "  </thead>\n",
              "  <tbody>\n",
              "    <tr>\n",
              "      <th>0</th>\n",
              "      <td>2012-05-18</td>\n",
              "      <td>42.049999</td>\n",
              "      <td>45.000000</td>\n",
              "      <td>38.000000</td>\n",
              "      <td>38.230000</td>\n",
              "      <td>38.230000</td>\n",
              "      <td>573576400</td>\n",
              "      <td>0.000000</td>\n",
              "    </tr>\n",
              "    <tr>\n",
              "      <th>1</th>\n",
              "      <td>2012-05-21</td>\n",
              "      <td>36.529999</td>\n",
              "      <td>36.660000</td>\n",
              "      <td>33.000000</td>\n",
              "      <td>34.029999</td>\n",
              "      <td>34.029999</td>\n",
              "      <td>168192700</td>\n",
              "      <td>-0.094231</td>\n",
              "    </tr>\n",
              "    <tr>\n",
              "      <th>2</th>\n",
              "      <td>2012-05-22</td>\n",
              "      <td>32.610001</td>\n",
              "      <td>33.590000</td>\n",
              "      <td>30.940001</td>\n",
              "      <td>31.000000</td>\n",
              "      <td>31.000000</td>\n",
              "      <td>101786600</td>\n",
              "      <td>-0.214029</td>\n",
              "    </tr>\n",
              "    <tr>\n",
              "      <th>3</th>\n",
              "      <td>2012-05-23</td>\n",
              "      <td>31.370001</td>\n",
              "      <td>32.500000</td>\n",
              "      <td>31.360001</td>\n",
              "      <td>32.000000</td>\n",
              "      <td>32.000000</td>\n",
              "      <td>73600000</td>\n",
              "      <td>-0.227165</td>\n",
              "    </tr>\n",
              "    <tr>\n",
              "      <th>4</th>\n",
              "      <td>2012-05-24</td>\n",
              "      <td>32.950001</td>\n",
              "      <td>33.209999</td>\n",
              "      <td>31.770000</td>\n",
              "      <td>33.029999</td>\n",
              "      <td>33.029999</td>\n",
              "      <td>50237200</td>\n",
              "      <td>-0.188535</td>\n",
              "    </tr>\n",
              "  </tbody>\n",
              "</table>\n",
              "</div>"
            ],
            "text/plain": [
              "    datadate       open       high  ...      adjcp     volume      macd\n",
              "0 2012-05-18  42.049999  45.000000  ...  38.230000  573576400  0.000000\n",
              "1 2012-05-21  36.529999  36.660000  ...  34.029999  168192700 -0.094231\n",
              "2 2012-05-22  32.610001  33.590000  ...  31.000000  101786600 -0.214029\n",
              "3 2012-05-23  31.370001  32.500000  ...  32.000000   73600000 -0.227165\n",
              "4 2012-05-24  32.950001  33.209999  ...  33.029999   50237200 -0.188535\n",
              "\n",
              "[5 rows x 8 columns]"
            ]
          },
          "metadata": {},
          "execution_count": 108
        }
      ]
    },
    {
      "cell_type": "code",
      "metadata": {
        "colab": {
          "base_uri": "https://localhost:8080/",
          "height": 204
        },
        "id": "r2zZwuJhMfbn",
        "outputId": "6b8fd35c-0e71-41a5-b679-3a259ab77b60"
      },
      "source": [
        "data_clean.tail()"
      ],
      "execution_count": 109,
      "outputs": [
        {
          "output_type": "execute_result",
          "data": {
            "text/html": [
              "<div>\n",
              "<style scoped>\n",
              "    .dataframe tbody tr th:only-of-type {\n",
              "        vertical-align: middle;\n",
              "    }\n",
              "\n",
              "    .dataframe tbody tr th {\n",
              "        vertical-align: top;\n",
              "    }\n",
              "\n",
              "    .dataframe thead th {\n",
              "        text-align: right;\n",
              "    }\n",
              "</style>\n",
              "<table border=\"1\" class=\"dataframe\">\n",
              "  <thead>\n",
              "    <tr style=\"text-align: right;\">\n",
              "      <th></th>\n",
              "      <th>datadate</th>\n",
              "      <th>open</th>\n",
              "      <th>high</th>\n",
              "      <th>low</th>\n",
              "      <th>close</th>\n",
              "      <th>adjcp</th>\n",
              "      <th>volume</th>\n",
              "      <th>macd</th>\n",
              "    </tr>\n",
              "  </thead>\n",
              "  <tbody>\n",
              "    <tr>\n",
              "      <th>2344</th>\n",
              "      <td>2021-09-13</td>\n",
              "      <td>381.679993</td>\n",
              "      <td>381.750000</td>\n",
              "      <td>374.350006</td>\n",
              "      <td>376.510010</td>\n",
              "      <td>376.510010</td>\n",
              "      <td>13026300</td>\n",
              "      <td>5.519337</td>\n",
              "    </tr>\n",
              "    <tr>\n",
              "      <th>2345</th>\n",
              "      <td>2021-09-14</td>\n",
              "      <td>377.399994</td>\n",
              "      <td>378.589996</td>\n",
              "      <td>375.109985</td>\n",
              "      <td>376.529999</td>\n",
              "      <td>376.529999</td>\n",
              "      <td>8711600</td>\n",
              "      <td>5.187009</td>\n",
              "    </tr>\n",
              "    <tr>\n",
              "      <th>2346</th>\n",
              "      <td>2021-09-15</td>\n",
              "      <td>377.000000</td>\n",
              "      <td>377.559998</td>\n",
              "      <td>367.670013</td>\n",
              "      <td>373.920013</td>\n",
              "      <td>373.920013</td>\n",
              "      <td>17940300</td>\n",
              "      <td>4.659324</td>\n",
              "    </tr>\n",
              "    <tr>\n",
              "      <th>2347</th>\n",
              "      <td>2021-09-16</td>\n",
              "      <td>372.790009</td>\n",
              "      <td>373.559998</td>\n",
              "      <td>369.709991</td>\n",
              "      <td>373.059998</td>\n",
              "      <td>373.059998</td>\n",
              "      <td>11934200</td>\n",
              "      <td>4.124192</td>\n",
              "    </tr>\n",
              "    <tr>\n",
              "      <th>2348</th>\n",
              "      <td>2021-09-17</td>\n",
              "      <td>371.410004</td>\n",
              "      <td>371.410004</td>\n",
              "      <td>361.589996</td>\n",
              "      <td>364.720001</td>\n",
              "      <td>364.720001</td>\n",
              "      <td>26274000</td>\n",
              "      <td>2.992630</td>\n",
              "    </tr>\n",
              "  </tbody>\n",
              "</table>\n",
              "</div>"
            ],
            "text/plain": [
              "       datadate        open        high  ...       adjcp    volume      macd\n",
              "2344 2021-09-13  381.679993  381.750000  ...  376.510010  13026300  5.519337\n",
              "2345 2021-09-14  377.399994  378.589996  ...  376.529999   8711600  5.187009\n",
              "2346 2021-09-15  377.000000  377.559998  ...  373.920013  17940300  4.659324\n",
              "2347 2021-09-16  372.790009  373.559998  ...  373.059998  11934200  4.124192\n",
              "2348 2021-09-17  371.410004  371.410004  ...  364.720001  26274000  2.992630\n",
              "\n",
              "[5 rows x 8 columns]"
            ]
          },
          "metadata": {},
          "execution_count": 109
        }
      ]
    },
    {
      "cell_type": "code",
      "metadata": {
        "id": "7tqJMpsuMfeI"
      },
      "source": [
        "import numpy as np\n",
        "import pandas as pd\n",
        "from gym.utils import seeding\n",
        "import gym\n",
        "from gym import spaces\n",
        "import matplotlib\n",
        "matplotlib.use('Agg')\n",
        "import matplotlib.pyplot as plt\n",
        "\n",
        "# Global variables\n",
        "HMAX_NORMALIZE = 200\n",
        "INITIAL_ACCOUNT_BALANCE=100000\n",
        "STOCK_DIM = 1\n",
        "\n",
        "# transaction fee: 1/1000 reasonable percentage\n",
        "TRANSACTION_FEE_PERCENT = 0.001\n",
        "# REWARD_SCALING = 1e-3\n",
        "\n",
        "\n",
        "class SingleStockEnv(gym.Env):\n",
        "    \"\"\"A stock trading environment for OpenAI gym\"\"\"\n",
        "    metadata = {'render.modes': ['human']}\n",
        "\n",
        "    def __init__(self, df,day = 0):\n",
        "        #super(StockEnv, self).__init__()\n",
        "        # date increment\n",
        "        self.day = day\n",
        "        self.df = df\n",
        "        # action_space normalization and the shape is STOCK_DIM\n",
        "        self.action_space = spaces.Box(low = -1, high = 1,shape = (STOCK_DIM,)) \n",
        "        # Shape = 4: [Current Balance]+[prices]+[owned shares] +[macd] \n",
        "        self.observation_space = spaces.Box(low=0, high=np.inf, shape = (4,))\n",
        "        # load data from a pandas dataframe\n",
        "        self.data = self.df.loc[self.day,:]\n",
        "        # termination\n",
        "        self.terminal = False  \n",
        "        # save the total number of trades\n",
        "        self.trades = 0\n",
        "        # initalize state\n",
        "        self.state = [INITIAL_ACCOUNT_BALANCE] + \\\n",
        "                      [self.data.adjcp] + \\\n",
        "                      [0]*STOCK_DIM + \\\n",
        "                      [self.data.macd] \n",
        "        # initialize reward and cost\n",
        "        self.reward = 0\n",
        "        self.cost = 0\n",
        "        \n",
        "        # memorize the total value, total rewards\n",
        "        self.asset_memory = [INITIAL_ACCOUNT_BALANCE]\n",
        "        self.rewards_memory = []\n",
        "\n",
        "    def _sell_stock(self, index, action):\n",
        "        # perform sell action based on the sign of the action\n",
        "        if self.state[index+STOCK_DIM+1] > 0:\n",
        "            # update balance\n",
        "            self.state[0] += \\\n",
        "            self.state[index+1]*min(abs(action),self.state[index+STOCK_DIM+1]) * \\\n",
        "             (1- TRANSACTION_FEE_PERCENT)\n",
        "            # update held shares\n",
        "            self.state[index+STOCK_DIM+1] -= min(abs(action), self.state[index+STOCK_DIM+1])\n",
        "            # update transaction costs\n",
        "            self.cost +=self.state[index+1]*min(abs(action),self.state[index+STOCK_DIM+1]) * \\\n",
        "             TRANSACTION_FEE_PERCENT\n",
        "            self.trades+=1\n",
        "        else:\n",
        "            pass\n",
        "            \n",
        "    def _buy_stock(self, index, action):\n",
        "        # perform buy action based on the sign of the action\n",
        "        available_amount = self.state[0] // self.state[index+1]\n",
        "        #update balance\n",
        "        self.state[0] -= self.state[index+1]*min(available_amount, action)* \\\n",
        "                          (1+ TRANSACTION_FEE_PERCENT)\n",
        "        # update held shares\n",
        "        self.state[index+STOCK_DIM+1] += min(available_amount, action)\n",
        "        # update transaction costs\n",
        "        self.cost+=self.state[index+1]*min(available_amount, action)* \\\n",
        "                          TRANSACTION_FEE_PERCENT\n",
        "        self.trades+=1\n",
        "        \n",
        "    def step(self, actions):\n",
        "        self.terminal = self.day >= len(self.df.index.unique())-1\n",
        "\n",
        "        if self.terminal:\n",
        "            plt.plot(self.asset_memory,'r')\n",
        "            plt.savefig('account_value.png')\n",
        "            plt.close()\n",
        "            \n",
        "            end_total_asset = self.state[0]+ \\\n",
        "            sum(np.array(self.state[1:(STOCK_DIM+1)])*np.array(self.state[(STOCK_DIM+1):(STOCK_DIM*2+1)]))\n",
        "            print(\"previous_total_asset:{}\".format(self.asset_memory[0])) \n",
        "            print(\"end_total_asset:{}\".format(end_total_asset))\n",
        "            \n",
        "            df_total_value = pd.DataFrame(self.asset_memory)\n",
        "            df_total_value.to_csv('account_value.csv')\n",
        "            print(\"total_reward:{}\".format(self.state[0]+sum(np.array(self.state[1:(STOCK_DIM+1)])*np.array(self.state[(STOCK_DIM+1):(STOCK_DIM*2+1)]))- INITIAL_ACCOUNT_BALANCE ))\n",
        "            print(\"total_cost: \", self.cost)\n",
        "            print(\"total trades: \", self.trades)\n",
        "            \n",
        "            df_total_value.columns = ['account_value']\n",
        "            df_total_value['daily_return']=df_total_value.pct_change(1)\n",
        "            \n",
        "            if df_total_value['daily_return'].std()!=0:\n",
        "                sharpe = (252**0.5)*df_total_value['daily_return'].mean()/ \\\n",
        "                      df_total_value['daily_return'].std()\n",
        "                print(\"Sharpe: \",sharpe)\n",
        "            df_rewards = pd.DataFrame(self.rewards_memory)\n",
        "            df_rewards.to_csv('account_rewards.csv')\n",
        "            return self.state, self.reward, self.terminal,{}\n",
        "\n",
        "        else:\n",
        "            \n",
        "            # actions are the shares we need to buy, hold, or sell\n",
        "            actions = actions * HMAX_NORMALIZE\n",
        "            # calculate begining total asset\n",
        "            begin_total_asset = self.state[0]+ \\\n",
        "            sum(np.array(self.state[1:(STOCK_DIM+1)])*np.array(self.state[(STOCK_DIM+1):(STOCK_DIM*2+1)]))\n",
        "            \n",
        "            # perform buy or sell action\n",
        "            argsort_actions = np.argsort(actions)\n",
        "            sell_index = argsort_actions[:np.where(actions < 0)[0].shape[0]]\n",
        "            buy_index = argsort_actions[::-1][:np.where(actions > 0)[0].shape[0]]\n",
        "\n",
        "            for index in sell_index:\n",
        "                # print('take sell action'.format(actions[index]))\n",
        "                self._sell_stock(index, actions[index])\n",
        "\n",
        "            for index in buy_index:\n",
        "                # print('take buy action: {}'.format(actions[index]))\n",
        "                self._buy_stock(index, actions[index])\n",
        "            \n",
        "            # update data, walk a step s'\n",
        "            self.day += 1\n",
        "            self.data = self.df.loc[self.day,:]         \n",
        "            #load next state\n",
        "            self.state =  [self.state[0]] + \\\n",
        "                          [self.data.adjcp] + \\\n",
        "                          list(self.state[(STOCK_DIM+1):(STOCK_DIM*2+1)]) +\\\n",
        "                          [self.data.macd]\n",
        "                        \n",
        "            # calculate the end total asset\n",
        "            end_total_asset = self.state[0]+ \\\n",
        "            sum(np.array(self.state[1:(STOCK_DIM+1)])*np.array(self.state[(STOCK_DIM+1):(STOCK_DIM*2+1)]))\n",
        "            self.reward = end_total_asset - begin_total_asset  \n",
        "            self.rewards_memory.append(self.reward)\n",
        "            #self.reward = self.reward * REWARD_SCALING\n",
        "            self.asset_memory.append(end_total_asset)\n",
        "\n",
        "        return self.state, self.reward, self.terminal, {}\n",
        "\n",
        "    def reset(self):\n",
        "        self.asset_memory = [INITIAL_ACCOUNT_BALANCE]\n",
        "        self.day = 0\n",
        "        self.data = self.df.loc[self.day,:]\n",
        "        self.cost = 0\n",
        "        self.trades = 0\n",
        "        self.terminal = False \n",
        "        self.rewards_memory = []\n",
        "        #initiate state\n",
        "        self.state = [INITIAL_ACCOUNT_BALANCE] + \\\n",
        "                      [self.data.adjcp] + \\\n",
        "                      [0]*STOCK_DIM + \\\n",
        "                      [self.data.macd]\n",
        "        return self.state\n",
        "    \n",
        "    def render(self, mode='human'):\n",
        "        return self.state\n",
        "\n",
        "    def _seed(self, seed=None):\n",
        "        self.np_random, seed = seeding.np_random(seed)\n",
        "        return [seed]"
      ],
      "execution_count": 110,
      "outputs": []
    },
    {
      "cell_type": "code",
      "metadata": {
        "id": "lJLUkkcXMfgY"
      },
      "source": [
        "train = data_clean[(data_clean.datadate>='2009-01-01') & (data_clean.datadate<'2021-01-01')]\n",
        "# the index needs to start from 0\n",
        "train=train.reset_index(drop=True)"
      ],
      "execution_count": 113,
      "outputs": []
    },
    {
      "cell_type": "code",
      "metadata": {
        "colab": {
          "base_uri": "https://localhost:8080/",
          "height": 204
        },
        "id": "WapTIRiLMfin",
        "outputId": "791bd1a4-2fe5-434c-ba75-a089ddbe73e6"
      },
      "source": [
        "train.head()"
      ],
      "execution_count": 114,
      "outputs": [
        {
          "output_type": "execute_result",
          "data": {
            "text/html": [
              "<div>\n",
              "<style scoped>\n",
              "    .dataframe tbody tr th:only-of-type {\n",
              "        vertical-align: middle;\n",
              "    }\n",
              "\n",
              "    .dataframe tbody tr th {\n",
              "        vertical-align: top;\n",
              "    }\n",
              "\n",
              "    .dataframe thead th {\n",
              "        text-align: right;\n",
              "    }\n",
              "</style>\n",
              "<table border=\"1\" class=\"dataframe\">\n",
              "  <thead>\n",
              "    <tr style=\"text-align: right;\">\n",
              "      <th></th>\n",
              "      <th>datadate</th>\n",
              "      <th>open</th>\n",
              "      <th>high</th>\n",
              "      <th>low</th>\n",
              "      <th>close</th>\n",
              "      <th>adjcp</th>\n",
              "      <th>volume</th>\n",
              "      <th>macd</th>\n",
              "    </tr>\n",
              "  </thead>\n",
              "  <tbody>\n",
              "    <tr>\n",
              "      <th>0</th>\n",
              "      <td>2012-05-18</td>\n",
              "      <td>42.049999</td>\n",
              "      <td>45.000000</td>\n",
              "      <td>38.000000</td>\n",
              "      <td>38.230000</td>\n",
              "      <td>38.230000</td>\n",
              "      <td>573576400</td>\n",
              "      <td>0.000000</td>\n",
              "    </tr>\n",
              "    <tr>\n",
              "      <th>1</th>\n",
              "      <td>2012-05-21</td>\n",
              "      <td>36.529999</td>\n",
              "      <td>36.660000</td>\n",
              "      <td>33.000000</td>\n",
              "      <td>34.029999</td>\n",
              "      <td>34.029999</td>\n",
              "      <td>168192700</td>\n",
              "      <td>-0.094231</td>\n",
              "    </tr>\n",
              "    <tr>\n",
              "      <th>2</th>\n",
              "      <td>2012-05-22</td>\n",
              "      <td>32.610001</td>\n",
              "      <td>33.590000</td>\n",
              "      <td>30.940001</td>\n",
              "      <td>31.000000</td>\n",
              "      <td>31.000000</td>\n",
              "      <td>101786600</td>\n",
              "      <td>-0.214029</td>\n",
              "    </tr>\n",
              "    <tr>\n",
              "      <th>3</th>\n",
              "      <td>2012-05-23</td>\n",
              "      <td>31.370001</td>\n",
              "      <td>32.500000</td>\n",
              "      <td>31.360001</td>\n",
              "      <td>32.000000</td>\n",
              "      <td>32.000000</td>\n",
              "      <td>73600000</td>\n",
              "      <td>-0.227165</td>\n",
              "    </tr>\n",
              "    <tr>\n",
              "      <th>4</th>\n",
              "      <td>2012-05-24</td>\n",
              "      <td>32.950001</td>\n",
              "      <td>33.209999</td>\n",
              "      <td>31.770000</td>\n",
              "      <td>33.029999</td>\n",
              "      <td>33.029999</td>\n",
              "      <td>50237200</td>\n",
              "      <td>-0.188535</td>\n",
              "    </tr>\n",
              "  </tbody>\n",
              "</table>\n",
              "</div>"
            ],
            "text/plain": [
              "    datadate       open       high  ...      adjcp     volume      macd\n",
              "0 2012-05-18  42.049999  45.000000  ...  38.230000  573576400  0.000000\n",
              "1 2012-05-21  36.529999  36.660000  ...  34.029999  168192700 -0.094231\n",
              "2 2012-05-22  32.610001  33.590000  ...  31.000000  101786600 -0.214029\n",
              "3 2012-05-23  31.370001  32.500000  ...  32.000000   73600000 -0.227165\n",
              "4 2012-05-24  32.950001  33.209999  ...  33.029999   50237200 -0.188535\n",
              "\n",
              "[5 rows x 8 columns]"
            ]
          },
          "metadata": {},
          "execution_count": 114
        }
      ]
    },
    {
      "cell_type": "code",
      "metadata": {
        "id": "ivaxSD72Mfk8"
      },
      "source": [
        ""
      ],
      "execution_count": 63,
      "outputs": []
    },
    {
      "cell_type": "code",
      "metadata": {
        "colab": {
          "base_uri": "https://localhost:8080/"
        },
        "id": "yLQ2m3mgr7oH",
        "outputId": "089256a6-d4e4-446c-c6fc-18f56801b1e7"
      },
      "source": [
        ""
      ],
      "execution_count": 65,
      "outputs": [
        {
          "output_type": "execute_result",
          "data": {
            "text/plain": [
              "<stable_baselines.ppo2.ppo2.PPO2 at 0x7f1151c6d8d0>"
            ]
          },
          "metadata": {},
          "execution_count": 65
        }
      ]
    },
    {
      "cell_type": "markdown",
      "metadata": {
        "id": "4MK2pqBcMuuS"
      },
      "source": [
        "## Model Training: 4 models, PPO A2C, DDPG, TD3\n",
        "## Model 1: PPO"
      ]
    },
    {
      "cell_type": "code",
      "metadata": {
        "colab": {
          "base_uri": "https://localhost:8080/"
        },
        "id": "Djs1LEA6MrFB",
        "outputId": "50b9ef68-bff7-49e8-91e5-aaec46b217b3"
      },
      "source": [
        "#tensorboard --logdir ./single_stock_tensorboard/\n",
        "env_train = DummyVecEnv([lambda: SingleStockEnv(train)])\n",
        "model_ppo = PPO2('MlpPolicy', env_train, tensorboard_log=\"./single_stock_trading_2_tensorboard/\")\n",
        "model_ppo.learn(total_timesteps=100000,tb_log_name=\"run_aapl_ppo\")\n",
        "#model_ppo.save('AAPL_ppo_100k')"
      ],
      "execution_count": 115,
      "outputs": [
        {
          "output_type": "stream",
          "name": "stdout",
          "text": [
            "previous_total_asset:100000\n",
            "end_total_asset:289630.06404324877\n",
            "total_reward:189630.06404324877\n",
            "total_cost:  28186.381610179495\n",
            "total trades:  2149\n",
            "Sharpe:  0.687893623784324\n",
            "previous_total_asset:100000\n",
            "end_total_asset:471706.76909140707\n",
            "total_reward:371706.76909140707\n",
            "total_cost:  29550.08081534966\n",
            "total trades:  2168\n",
            "Sharpe:  0.7446289706176707\n",
            "previous_total_asset:100000\n",
            "end_total_asset:885533.497878572\n",
            "total_reward:785533.497878572\n",
            "total_cost:  27229.768737224793\n",
            "total trades:  2162\n",
            "Sharpe:  0.9687348209063907\n",
            "previous_total_asset:100000\n",
            "end_total_asset:843480.0251046524\n",
            "total_reward:743480.0251046524\n",
            "total_cost:  27701.357311579828\n",
            "total trades:  2164\n",
            "Sharpe:  0.9155320592996474\n",
            "previous_total_asset:100000\n",
            "end_total_asset:870596.0681908259\n",
            "total_reward:770596.0681908259\n",
            "total_cost:  27773.255986719083\n",
            "total trades:  2169\n",
            "Sharpe:  0.9149147430522425\n",
            "previous_total_asset:100000\n",
            "end_total_asset:1191617.370662001\n",
            "total_reward:1091617.370662001\n",
            "total_cost:  24248.718428088177\n",
            "total trades:  2169\n",
            "Sharpe:  1.0218241680791422\n",
            "previous_total_asset:100000\n",
            "end_total_asset:816969.6836671731\n",
            "total_reward:716969.6836671731\n",
            "total_cost:  24307.880796532667\n",
            "total trades:  2167\n",
            "Sharpe:  0.8823318159543967\n",
            "previous_total_asset:100000\n",
            "end_total_asset:672367.213534553\n",
            "total_reward:572367.213534553\n",
            "total_cost:  25441.062234574452\n",
            "total trades:  2169\n",
            "Sharpe:  0.8156757955230975\n",
            "previous_total_asset:100000\n",
            "end_total_asset:981012.0637652586\n",
            "total_reward:881012.0637652586\n",
            "total_cost:  21575.82693062708\n",
            "total trades:  2168\n",
            "Sharpe:  0.9371031432363448\n",
            "previous_total_asset:100000\n",
            "end_total_asset:1053152.7077991075\n",
            "total_reward:953152.7077991075\n",
            "total_cost:  21637.54603607982\n",
            "total trades:  2168\n",
            "Sharpe:  0.9625460060480144\n",
            "previous_total_asset:100000\n",
            "end_total_asset:845904.0724995795\n",
            "total_reward:745904.0724995795\n",
            "total_cost:  25347.80553443864\n",
            "total trades:  2169\n",
            "Sharpe:  0.9069076882891702\n",
            "previous_total_asset:100000\n",
            "end_total_asset:937142.4875007316\n",
            "total_reward:837142.4875007316\n",
            "total_cost:  23084.950160238775\n",
            "total trades:  2169\n",
            "Sharpe:  0.9224243299897855\n",
            "previous_total_asset:100000\n",
            "end_total_asset:903504.9670552858\n",
            "total_reward:803504.9670552858\n",
            "total_cost:  18456.978190766215\n",
            "total trades:  2165\n",
            "Sharpe:  0.8962073688297657\n",
            "previous_total_asset:100000\n",
            "end_total_asset:858888.7070583558\n",
            "total_reward:758888.7070583558\n",
            "total_cost:  16930.507067909464\n",
            "total trades:  2169\n",
            "Sharpe:  0.8801056566431562\n",
            "previous_total_asset:100000\n",
            "end_total_asset:794535.2272367231\n",
            "total_reward:694535.2272367231\n",
            "total_cost:  18496.19218871305\n",
            "total trades:  2169\n",
            "Sharpe:  0.8523577477226665\n",
            "previous_total_asset:100000\n",
            "end_total_asset:996691.5723190249\n",
            "total_reward:896691.5723190249\n",
            "total_cost:  19529.96319661524\n",
            "total trades:  2168\n",
            "Sharpe:  0.9384072226042764\n",
            "previous_total_asset:100000\n",
            "end_total_asset:930738.611479052\n",
            "total_reward:830738.611479052\n",
            "total_cost:  21999.158524305167\n",
            "total trades:  2166\n",
            "Sharpe:  0.9148141262315344\n",
            "previous_total_asset:100000\n",
            "end_total_asset:1030623.8406460012\n",
            "total_reward:930623.8406460012\n",
            "total_cost:  20439.771579311484\n",
            "total trades:  2169\n",
            "Sharpe:  0.9575461380899618\n",
            "previous_total_asset:100000\n",
            "end_total_asset:813039.9668448385\n",
            "total_reward:713039.9668448385\n",
            "total_cost:  22966.4356601004\n",
            "total trades:  2168\n",
            "Sharpe:  0.8687645617062546\n",
            "previous_total_asset:100000\n",
            "end_total_asset:889234.6158955311\n",
            "total_reward:789234.6158955311\n",
            "total_cost:  23468.086479888905\n",
            "total trades:  2168\n",
            "Sharpe:  0.9015960923570813\n",
            "previous_total_asset:100000\n",
            "end_total_asset:871278.7535132212\n",
            "total_reward:771278.7535132212\n",
            "total_cost:  24466.833040663827\n",
            "total trades:  2169\n",
            "Sharpe:  0.9105403058248215\n",
            "previous_total_asset:100000\n",
            "end_total_asset:918937.5950412476\n",
            "total_reward:818937.5950412476\n",
            "total_cost:  27171.46594298387\n",
            "total trades:  2167\n",
            "Sharpe:  0.9433226771656976\n",
            "previous_total_asset:100000\n",
            "end_total_asset:949819.3178698441\n",
            "total_reward:849819.3178698441\n",
            "total_cost:  27498.838313526277\n",
            "total trades:  2169\n",
            "Sharpe:  0.9610641185249424\n",
            "previous_total_asset:100000\n",
            "end_total_asset:749077.884923008\n",
            "total_reward:649077.884923008\n",
            "total_cost:  27543.078104391723\n",
            "total trades:  2168\n",
            "Sharpe:  0.869003141577214\n",
            "previous_total_asset:100000\n",
            "end_total_asset:532160.9751148578\n",
            "total_reward:432160.9751148578\n",
            "total_cost:  29393.204302079874\n",
            "total trades:  2168\n",
            "Sharpe:  0.765878623232162\n",
            "previous_total_asset:100000\n",
            "end_total_asset:763493.7155416061\n",
            "total_reward:663493.7155416061\n",
            "total_cost:  25143.14131092891\n",
            "total trades:  2168\n",
            "Sharpe:  0.8536616383887576\n",
            "previous_total_asset:100000\n",
            "end_total_asset:835948.542751227\n",
            "total_reward:735948.542751227\n",
            "total_cost:  23488.131570359386\n",
            "total trades:  2169\n",
            "Sharpe:  0.8689650429166058\n",
            "previous_total_asset:100000\n",
            "end_total_asset:841136.5832862048\n",
            "total_reward:741136.5832862048\n",
            "total_cost:  22922.78724788738\n",
            "total trades:  2169\n",
            "Sharpe:  0.8718423038221385\n",
            "previous_total_asset:100000\n",
            "end_total_asset:790859.1731280907\n",
            "total_reward:690859.1731280907\n",
            "total_cost:  22825.758687857975\n",
            "total trades:  2169\n",
            "Sharpe:  0.848265263601371\n",
            "previous_total_asset:100000\n",
            "end_total_asset:875742.0793534671\n",
            "total_reward:775742.0793534671\n",
            "total_cost:  22426.22096492882\n",
            "total trades:  2168\n",
            "Sharpe:  0.8845724456754911\n",
            "previous_total_asset:100000\n",
            "end_total_asset:807862.5405573718\n",
            "total_reward:707862.5405573718\n",
            "total_cost:  21702.050185351996\n",
            "total trades:  2169\n",
            "Sharpe:  0.8579175290815885\n",
            "previous_total_asset:100000\n",
            "end_total_asset:808348.1362525176\n",
            "total_reward:708348.1362525176\n",
            "total_cost:  21226.35950452648\n",
            "total trades:  2168\n",
            "Sharpe:  0.8621532231551139\n",
            "previous_total_asset:100000\n",
            "end_total_asset:824571.5989379387\n",
            "total_reward:724571.5989379387\n",
            "total_cost:  23300.632146625972\n",
            "total trades:  2169\n",
            "Sharpe:  0.8627985264928045\n",
            "previous_total_asset:100000\n",
            "end_total_asset:831073.6021593112\n",
            "total_reward:731073.6021593112\n",
            "total_cost:  20179.271267430853\n",
            "total trades:  2169\n",
            "Sharpe:  0.8638795272490534\n",
            "previous_total_asset:100000\n",
            "end_total_asset:831116.2010078834\n",
            "total_reward:731116.2010078834\n",
            "total_cost:  23023.322986351523\n",
            "total trades:  2169\n",
            "Sharpe:  0.8663592861009364\n",
            "previous_total_asset:100000\n",
            "end_total_asset:748985.9331315231\n",
            "total_reward:648985.9331315231\n",
            "total_cost:  22056.083080842465\n",
            "total trades:  2169\n",
            "Sharpe:  0.8309145038606528\n",
            "previous_total_asset:100000\n",
            "end_total_asset:837147.4918866971\n",
            "total_reward:737147.4918866971\n",
            "total_cost:  21228.341983675742\n",
            "total trades:  2169\n",
            "Sharpe:  0.8675054830273009\n",
            "previous_total_asset:100000\n",
            "end_total_asset:778092.8374548148\n",
            "total_reward:678092.8374548148\n",
            "total_cost:  23194.527413482843\n",
            "total trades:  2169\n",
            "Sharpe:  0.8525332093125026\n",
            "previous_total_asset:100000\n",
            "end_total_asset:808773.9822170939\n",
            "total_reward:708773.9822170939\n",
            "total_cost:  21387.241369021205\n",
            "total trades:  2168\n",
            "Sharpe:  0.8583697469388525\n",
            "previous_total_asset:100000\n",
            "end_total_asset:819678.6813291509\n",
            "total_reward:719678.6813291509\n",
            "total_cost:  19931.0712327338\n",
            "total trades:  2169\n",
            "Sharpe:  0.8608867536894297\n",
            "previous_total_asset:100000\n",
            "end_total_asset:837136.1441008875\n",
            "total_reward:737136.1441008875\n",
            "total_cost:  20577.15011409441\n",
            "total trades:  2168\n",
            "Sharpe:  0.8635881371685696\n",
            "previous_total_asset:100000\n",
            "end_total_asset:835843.3484100159\n",
            "total_reward:735843.3484100159\n",
            "total_cost:  21232.353135211255\n",
            "total trades:  2169\n",
            "Sharpe:  0.8685746056654393\n",
            "previous_total_asset:100000\n",
            "end_total_asset:813282.1104121675\n",
            "total_reward:713282.1104121675\n",
            "total_cost:  20318.66682642133\n",
            "total trades:  2169\n",
            "Sharpe:  0.8603210980123372\n",
            "previous_total_asset:100000\n",
            "end_total_asset:808798.8926180293\n",
            "total_reward:708798.8926180293\n",
            "total_cost:  22225.39112071033\n",
            "total trades:  2169\n",
            "Sharpe:  0.8546909348053795\n",
            "previous_total_asset:100000\n",
            "end_total_asset:835283.8528757553\n",
            "total_reward:735283.8528757553\n",
            "total_cost:  21239.731599735256\n",
            "total trades:  2169\n",
            "Sharpe:  0.8659406896776317\n",
            "previous_total_asset:100000\n",
            "end_total_asset:781885.5500603288\n",
            "total_reward:681885.5500603288\n",
            "total_cost:  19944.764564106805\n",
            "total trades:  2169\n",
            "Sharpe:  0.840305988347128\n"
          ]
        },
        {
          "output_type": "execute_result",
          "data": {
            "text/plain": [
              "<stable_baselines.ppo2.ppo2.PPO2 at 0x7f11452f1a50>"
            ]
          },
          "metadata": {},
          "execution_count": 115
        }
      ]
    },
    {
      "cell_type": "code",
      "metadata": {
        "id": "Pz78bMGqUEf2"
      },
      "source": [
        "#model_ppo.save('AAPL_ppo_100k')\n",
        "model_sticker_save = 'FB_ppo_100k'\n",
        "model_ppo.save(model_sticker_save)"
      ],
      "execution_count": 118,
      "outputs": []
    },
    {
      "cell_type": "markdown",
      "metadata": {
        "id": "ueEkFg0lMx-K"
      },
      "source": [
        "## Model 2: DDPG"
      ]
    },
    {
      "cell_type": "code",
      "metadata": {
        "colab": {
          "base_uri": "https://localhost:8080/"
        },
        "id": "RsrxvOFeMrHh",
        "outputId": "e108e607-5262-4e7e-c11c-da9a70f9ad14"
      },
      "source": [
        "#tensorboard --logdir ./single_stock_tensorboard/\n",
        "env_train = DummyVecEnv([lambda: SingleStockEnv(train)])\n",
        "model_ddpg = DDPG('MlpPolicy', env_train, tensorboard_log=\"./single_stock_trading_2_tensorboard/\")\n",
        "#model_ddpg.learn(total_timesteps=100000, tb_log_name=\"run_aapl_ddpg\")\n",
        "#model_ddpg.save('AAPL_ddpg_50k')"
      ],
      "execution_count": 23,
      "outputs": [
        {
          "output_type": "stream",
          "name": "stdout",
          "text": [
            "WARNING:tensorflow:From /usr/local/lib/python3.7/dist-packages/stable_baselines/ddpg/policies.py:136: dense (from tensorflow.python.layers.core) is deprecated and will be removed in a future version.\n",
            "Instructions for updating:\n",
            "Use keras.layers.Dense instead.\n",
            "WARNING:tensorflow:From /usr/local/lib/python3.7/dist-packages/stable_baselines/common/tf_util.py:449: The name tf.get_collection is deprecated. Please use tf.compat.v1.get_collection instead.\n",
            "\n",
            "WARNING:tensorflow:From /usr/local/lib/python3.7/dist-packages/stable_baselines/common/tf_util.py:449: The name tf.GraphKeys is deprecated. Please use tf.compat.v1.GraphKeys instead.\n",
            "\n",
            "WARNING:tensorflow:From /usr/local/lib/python3.7/dist-packages/stable_baselines/ddpg/ddpg.py:94: The name tf.assign is deprecated. Please use tf.compat.v1.assign instead.\n",
            "\n",
            "WARNING:tensorflow:From /usr/local/lib/python3.7/dist-packages/stable_baselines/ddpg/ddpg.py:444: The name tf.global_variables is deprecated. Please use tf.compat.v1.global_variables instead.\n",
            "\n",
            "WARNING:tensorflow:From /usr/local/lib/python3.7/dist-packages/stable_baselines/common/tf_util.py:432: The name tf.get_default_session is deprecated. Please use tf.compat.v1.get_default_session instead.\n",
            "\n",
            "previous_total_asset:100000\n",
            "end_total_asset:530908.1766271881\n",
            "total_reward:430908.1766271881\n",
            "total_cost:  99.89333938293836\n",
            "total trades:  2515\n",
            "Sharpe:  0.8251849605200376\n",
            "previous_total_asset:100000\n",
            "end_total_asset:1078671.8280249892\n",
            "total_reward:978671.8280249892\n",
            "total_cost:  99.89525613572103\n",
            "total trades:  2515\n",
            "Sharpe:  1.0699754663297811\n",
            "previous_total_asset:100000\n",
            "end_total_asset:1078694.0364561095\n",
            "total_reward:978694.0364561095\n",
            "total_cost:  99.89726113786145\n",
            "total trades:  2515\n",
            "Sharpe:  1.0699793435050144\n",
            "previous_total_asset:100000\n",
            "end_total_asset:1078694.239338922\n",
            "total_reward:978694.2393389221\n",
            "total_cost:  99.89727936634799\n",
            "total trades:  2515\n",
            "Sharpe:  1.069979379009816\n",
            "previous_total_asset:100000\n",
            "end_total_asset:1078694.2409664027\n",
            "total_reward:978694.2409664027\n",
            "total_cost:  99.89727949373614\n",
            "total trades:  2515\n",
            "Sharpe:  1.0699793793213281\n",
            "previous_total_asset:100000\n",
            "end_total_asset:1078694.2409664027\n",
            "total_reward:978694.2409664027\n",
            "total_cost:  99.89727949373614\n",
            "total trades:  2515\n",
            "Sharpe:  1.0699793793213281\n",
            "previous_total_asset:100000\n",
            "end_total_asset:1078694.2409664027\n",
            "total_reward:978694.2409664027\n",
            "total_cost:  99.89727949373614\n",
            "total trades:  2515\n",
            "Sharpe:  1.0699793793213281\n",
            "previous_total_asset:100000\n",
            "end_total_asset:1078694.2415088965\n",
            "total_reward:978694.2415088965\n",
            "total_cost:  99.89727953619885\n",
            "total trades:  2515\n",
            "Sharpe:  1.0699793794251664\n",
            "previous_total_asset:100000\n",
            "end_total_asset:1078694.2415088965\n",
            "total_reward:978694.2415088965\n",
            "total_cost:  99.89727953619885\n",
            "total trades:  2515\n",
            "Sharpe:  1.0699793794251664\n",
            "previous_total_asset:100000\n",
            "end_total_asset:1078694.2425938835\n",
            "total_reward:978694.2425938835\n",
            "total_cost:  99.89727962112428\n",
            "total trades:  2515\n",
            "Sharpe:  1.0699793796328365\n",
            "previous_total_asset:100000\n",
            "end_total_asset:1078694.2425938835\n",
            "total_reward:978694.2425938835\n",
            "total_cost:  99.89727962112428\n",
            "total trades:  2515\n",
            "Sharpe:  1.0699793796328365\n",
            "previous_total_asset:100000\n",
            "end_total_asset:1078694.2425938835\n",
            "total_reward:978694.2425938835\n",
            "total_cost:  99.89727962112428\n",
            "total trades:  2515\n",
            "Sharpe:  1.0699793796328365\n",
            "previous_total_asset:100000\n",
            "end_total_asset:1078694.2425938835\n",
            "total_reward:978694.2425938835\n",
            "total_cost:  99.89727962112428\n",
            "total trades:  2515\n",
            "Sharpe:  1.0699793796328365\n",
            "previous_total_asset:100000\n",
            "end_total_asset:1078694.2425938835\n",
            "total_reward:978694.2425938835\n",
            "total_cost:  99.89727962112428\n",
            "total trades:  2515\n",
            "Sharpe:  1.0699793796328365\n",
            "previous_total_asset:100000\n",
            "end_total_asset:1078694.2425938835\n",
            "total_reward:978694.2425938835\n",
            "total_cost:  99.89727962112428\n",
            "total trades:  2515\n",
            "Sharpe:  1.0699793796328365\n",
            "previous_total_asset:100000\n",
            "end_total_asset:1078694.2425938835\n",
            "total_reward:978694.2425938835\n",
            "total_cost:  99.89727962112428\n",
            "total trades:  2515\n",
            "Sharpe:  1.0699793796328365\n",
            "previous_total_asset:100000\n",
            "end_total_asset:1078694.2425938835\n",
            "total_reward:978694.2425938835\n",
            "total_cost:  99.89727962112428\n",
            "total trades:  2515\n",
            "Sharpe:  1.0699793796328365\n",
            "previous_total_asset:100000\n",
            "end_total_asset:1078694.2425938835\n",
            "total_reward:978694.2425938835\n",
            "total_cost:  99.89727962112428\n",
            "total trades:  2515\n",
            "Sharpe:  1.0699793796328365\n",
            "previous_total_asset:100000\n",
            "end_total_asset:1078694.2425938835\n",
            "total_reward:978694.2425938835\n",
            "total_cost:  99.89727962112428\n",
            "total trades:  2515\n",
            "Sharpe:  1.0699793796328365\n",
            "previous_total_asset:100000\n",
            "end_total_asset:1078694.2425938835\n",
            "total_reward:978694.2425938835\n",
            "total_cost:  99.89727962112428\n",
            "total trades:  2515\n",
            "Sharpe:  1.0699793796328365\n",
            "previous_total_asset:100000\n",
            "end_total_asset:1078694.2425938835\n",
            "total_reward:978694.2425938835\n",
            "total_cost:  99.89727962112428\n",
            "total trades:  2515\n",
            "Sharpe:  1.0699793796328365\n",
            "previous_total_asset:100000\n",
            "end_total_asset:1078694.2425938835\n",
            "total_reward:978694.2425938835\n",
            "total_cost:  99.89727962112428\n",
            "total trades:  2515\n",
            "Sharpe:  1.0699793796328365\n",
            "previous_total_asset:100000\n",
            "end_total_asset:1078694.2425938835\n",
            "total_reward:978694.2425938835\n",
            "total_cost:  99.89727962112428\n",
            "total trades:  2515\n",
            "Sharpe:  1.0699793796328365\n",
            "previous_total_asset:100000\n",
            "end_total_asset:1078694.2425938835\n",
            "total_reward:978694.2425938835\n",
            "total_cost:  99.89727962112428\n",
            "total trades:  2515\n",
            "Sharpe:  1.0699793796328365\n",
            "previous_total_asset:100000\n",
            "end_total_asset:1078694.2425938835\n",
            "total_reward:978694.2425938835\n",
            "total_cost:  99.89727962112428\n",
            "total trades:  2515\n",
            "Sharpe:  1.0699793796328365\n",
            "previous_total_asset:100000\n",
            "end_total_asset:1078694.2425938835\n",
            "total_reward:978694.2425938835\n",
            "total_cost:  99.89727962112428\n",
            "total trades:  2515\n",
            "Sharpe:  1.0699793796328365\n",
            "previous_total_asset:100000\n",
            "end_total_asset:1078694.2425938835\n",
            "total_reward:978694.2425938835\n",
            "total_cost:  99.89727962112428\n",
            "total trades:  2515\n",
            "Sharpe:  1.0699793796328365\n",
            "previous_total_asset:100000\n",
            "end_total_asset:1078694.2425938835\n",
            "total_reward:978694.2425938835\n",
            "total_cost:  99.89727962112428\n",
            "total trades:  2515\n",
            "Sharpe:  1.0699793796328365\n",
            "previous_total_asset:100000\n",
            "end_total_asset:1078694.2425938835\n",
            "total_reward:978694.2425938835\n",
            "total_cost:  99.89727962112428\n",
            "total trades:  2515\n",
            "Sharpe:  1.0699793796328365\n",
            "previous_total_asset:100000\n",
            "end_total_asset:1078694.2425938835\n",
            "total_reward:978694.2425938835\n",
            "total_cost:  99.89727962112428\n",
            "total trades:  2515\n",
            "Sharpe:  1.0699793796328365\n",
            "previous_total_asset:100000\n",
            "end_total_asset:1078694.2425938835\n",
            "total_reward:978694.2425938835\n",
            "total_cost:  99.89727962112428\n",
            "total trades:  2515\n",
            "Sharpe:  1.0699793796328365\n",
            "previous_total_asset:100000\n",
            "end_total_asset:1078694.2425938835\n",
            "total_reward:978694.2425938835\n",
            "total_cost:  99.89727962112428\n",
            "total trades:  2515\n",
            "Sharpe:  1.0699793796328365\n",
            "previous_total_asset:100000\n",
            "end_total_asset:1078694.2425938835\n",
            "total_reward:978694.2425938835\n",
            "total_cost:  99.89727962112428\n",
            "total trades:  2515\n",
            "Sharpe:  1.0699793796328365\n",
            "previous_total_asset:100000\n",
            "end_total_asset:1078694.2425938835\n",
            "total_reward:978694.2425938835\n",
            "total_cost:  99.89727962112428\n",
            "total trades:  2515\n",
            "Sharpe:  1.0699793796328365\n",
            "previous_total_asset:100000\n",
            "end_total_asset:1078694.2425938835\n",
            "total_reward:978694.2425938835\n",
            "total_cost:  99.89727962112428\n",
            "total trades:  2515\n",
            "Sharpe:  1.0699793796328365\n",
            "previous_total_asset:100000\n",
            "end_total_asset:1078694.2425938835\n",
            "total_reward:978694.2425938835\n",
            "total_cost:  99.89727962112428\n",
            "total trades:  2515\n",
            "Sharpe:  1.0699793796328365\n",
            "previous_total_asset:100000\n",
            "end_total_asset:1078694.2425938835\n",
            "total_reward:978694.2425938835\n",
            "total_cost:  99.89727962112428\n",
            "total trades:  2515\n",
            "Sharpe:  1.0699793796328365\n",
            "previous_total_asset:100000\n",
            "end_total_asset:1078694.2425938835\n",
            "total_reward:978694.2425938835\n",
            "total_cost:  99.89727962112428\n",
            "total trades:  2515\n",
            "Sharpe:  1.0699793796328365\n",
            "previous_total_asset:100000\n",
            "end_total_asset:1078694.2425938835\n",
            "total_reward:978694.2425938835\n",
            "total_cost:  99.89727962112428\n",
            "total trades:  2515\n",
            "Sharpe:  1.0699793796328365\n"
          ]
        },
        {
          "output_type": "execute_result",
          "data": {
            "text/plain": [
              "<stable_baselines.ddpg.ddpg.DDPG at 0x7f1159791e50>"
            ]
          },
          "metadata": {},
          "execution_count": 23
        }
      ]
    },
    {
      "cell_type": "code",
      "metadata": {
        "id": "1ZsjyxsK8MP-"
      },
      "source": [
        "model_ddpg.learn(total_timesteps=100000, tb_log_name=\"run_aapl_ddpg\")"
      ],
      "execution_count": null,
      "outputs": []
    },
    {
      "cell_type": "code",
      "metadata": {
        "id": "t8hWrvRUUBOe"
      },
      "source": [
        "#model_ddpg.save('AAPL_ddpg_50k')\n",
        "model_ddpg.save(model_sticker_save)"
      ],
      "execution_count": 34,
      "outputs": []
    },
    {
      "cell_type": "markdown",
      "metadata": {
        "id": "KNHoxOO5M3RS"
      },
      "source": [
        "## Model 3: A2C"
      ]
    },
    {
      "cell_type": "code",
      "metadata": {
        "colab": {
          "base_uri": "https://localhost:8080/"
        },
        "id": "pLs51LfZMrJx",
        "outputId": "d5f26ebe-829c-4c12-917c-ce0793a67699"
      },
      "source": [
        "#tensorboard --logdir ./single_stock_tensorboard/\n",
        "env_train = DummyVecEnv([lambda: SingleStockEnv(train)])\n",
        "model_a2c = A2C('MlpPolicy', env_train, tensorboard_log=\"./single_stock_trading_2_tensorboard/\")\n",
        "model_a2c.learn(total_timesteps=100000,tb_log_name=\"run_aapl_a2c\")\n",
        "#model_a2c.save('AAPL_a2c_50k')"
      ],
      "execution_count": 24,
      "outputs": [
        {
          "output_type": "stream",
          "name": "stdout",
          "text": [
            "WARNING:tensorflow:From /usr/local/lib/python3.7/dist-packages/stable_baselines/a2c/a2c.py:184: The name tf.train.RMSPropOptimizer is deprecated. Please use tf.compat.v1.train.RMSPropOptimizer instead.\n",
            "\n",
            "WARNING:tensorflow:From /usr/local/lib/python3.7/dist-packages/tensorflow_core/python/training/rmsprop.py:119: calling Ones.__init__ (from tensorflow.python.ops.init_ops) with dtype is deprecated and will be removed in a future version.\n",
            "Instructions for updating:\n",
            "Call initializer instance with the dtype argument instead of passing it to the constructor\n",
            "previous_total_asset:100000\n",
            "end_total_asset:254239.59154683637\n",
            "total_reward:154239.59154683637\n",
            "total_cost:  6362.935895954918\n",
            "total trades:  2515\n",
            "Sharpe:  0.7317203215967037\n",
            "previous_total_asset:100000\n",
            "end_total_asset:249916.19740752212\n",
            "total_reward:149916.19740752212\n",
            "total_cost:  6603.823403136722\n",
            "total trades:  2514\n",
            "Sharpe:  0.6448699009435445\n",
            "previous_total_asset:100000\n",
            "end_total_asset:621594.1094674462\n",
            "total_reward:521594.1094674462\n",
            "total_cost:  6491.033704666397\n",
            "total trades:  2514\n",
            "Sharpe:  0.9180623924831595\n",
            "previous_total_asset:100000\n",
            "end_total_asset:657301.1662907135\n",
            "total_reward:557301.1662907135\n",
            "total_cost:  6906.766211603344\n",
            "total trades:  2515\n",
            "Sharpe:  0.9490596606172836\n",
            "previous_total_asset:100000\n",
            "end_total_asset:888767.7344412032\n",
            "total_reward:788767.7344412032\n",
            "total_cost:  4749.658908376857\n",
            "total trades:  2515\n",
            "Sharpe:  1.0178306722621673\n",
            "previous_total_asset:100000\n",
            "end_total_asset:975876.0637772357\n",
            "total_reward:875876.0637772357\n",
            "total_cost:  6503.115876180346\n",
            "total trades:  2513\n",
            "Sharpe:  1.0452593507041092\n",
            "previous_total_asset:100000\n",
            "end_total_asset:901481.787383258\n",
            "total_reward:801481.787383258\n",
            "total_cost:  6891.121072140605\n",
            "total trades:  2515\n",
            "Sharpe:  1.0395698848550226\n",
            "previous_total_asset:100000\n",
            "end_total_asset:903063.7807281339\n",
            "total_reward:803063.7807281339\n",
            "total_cost:  6858.937463219567\n",
            "total trades:  2515\n",
            "Sharpe:  1.0332071015661246\n",
            "previous_total_asset:100000\n",
            "end_total_asset:934997.7450630157\n",
            "total_reward:834997.7450630157\n",
            "total_cost:  6003.214341787868\n",
            "total trades:  2515\n",
            "Sharpe:  1.0381134659236324\n",
            "previous_total_asset:100000\n",
            "end_total_asset:1052140.686209839\n",
            "total_reward:952140.6862098391\n",
            "total_cost:  6671.912129133201\n",
            "total trades:  2515\n",
            "Sharpe:  1.063510694680513\n",
            "previous_total_asset:100000\n",
            "end_total_asset:1042566.9724039709\n",
            "total_reward:942566.9724039709\n",
            "total_cost:  8809.887944261676\n",
            "total trades:  2515\n",
            "Sharpe:  1.0620615472173658\n",
            "previous_total_asset:100000\n",
            "end_total_asset:1032121.905842514\n",
            "total_reward:932121.905842514\n",
            "total_cost:  8164.294445689938\n",
            "total trades:  2515\n",
            "Sharpe:  1.0616502474822787\n",
            "previous_total_asset:100000\n",
            "end_total_asset:1030104.6382997842\n",
            "total_reward:930104.6382997842\n",
            "total_cost:  9299.401873944178\n",
            "total trades:  2515\n",
            "Sharpe:  1.059258259635309\n",
            "previous_total_asset:100000\n",
            "end_total_asset:1054939.3367994807\n",
            "total_reward:954939.3367994807\n",
            "total_cost:  8225.831834015953\n",
            "total trades:  2515\n",
            "Sharpe:  1.0654904792670652\n",
            "previous_total_asset:100000\n",
            "end_total_asset:1072619.1468533417\n",
            "total_reward:972619.1468533417\n",
            "total_cost:  538.8120081179649\n",
            "total trades:  2515\n",
            "Sharpe:  1.0688958172562955\n",
            "previous_total_asset:100000\n",
            "end_total_asset:1078814.4086369253\n",
            "total_reward:978814.4086369253\n",
            "total_cost:  155.04064990277098\n",
            "total trades:  2515\n",
            "Sharpe:  1.0700690977511844\n",
            "previous_total_asset:100000\n",
            "end_total_asset:1078694.2425938835\n",
            "total_reward:978694.2425938835\n",
            "total_cost:  99.89727962112428\n",
            "total trades:  2515\n",
            "Sharpe:  1.0699793796328365\n",
            "previous_total_asset:100000\n",
            "end_total_asset:1078694.2425938835\n",
            "total_reward:978694.2425938835\n",
            "total_cost:  99.89727962112428\n",
            "total trades:  2515\n",
            "Sharpe:  1.0699793796328365\n",
            "previous_total_asset:100000\n",
            "end_total_asset:1078694.2425938835\n",
            "total_reward:978694.2425938835\n",
            "total_cost:  99.89727962112428\n",
            "total trades:  2515\n",
            "Sharpe:  1.0699793796328365\n",
            "previous_total_asset:100000\n",
            "end_total_asset:1078694.2425938835\n",
            "total_reward:978694.2425938835\n",
            "total_cost:  99.89727962112428\n",
            "total trades:  2515\n",
            "Sharpe:  1.0699793796328365\n",
            "previous_total_asset:100000\n",
            "end_total_asset:1078694.2425938835\n",
            "total_reward:978694.2425938835\n",
            "total_cost:  99.89727962112428\n",
            "total trades:  2515\n",
            "Sharpe:  1.0699793796328365\n",
            "previous_total_asset:100000\n",
            "end_total_asset:1078694.2425938835\n",
            "total_reward:978694.2425938835\n",
            "total_cost:  99.89727962112428\n",
            "total trades:  2515\n",
            "Sharpe:  1.0699793796328365\n",
            "previous_total_asset:100000\n",
            "end_total_asset:1078694.2425938835\n",
            "total_reward:978694.2425938835\n",
            "total_cost:  99.89727962112428\n",
            "total trades:  2515\n",
            "Sharpe:  1.0699793796328365\n",
            "previous_total_asset:100000\n",
            "end_total_asset:1078694.2425938835\n",
            "total_reward:978694.2425938835\n",
            "total_cost:  99.89727962112428\n",
            "total trades:  2515\n",
            "Sharpe:  1.0699793796328365\n",
            "previous_total_asset:100000\n",
            "end_total_asset:1078694.2425938835\n",
            "total_reward:978694.2425938835\n",
            "total_cost:  99.89727962112428\n",
            "total trades:  2515\n",
            "Sharpe:  1.0699793796328365\n",
            "previous_total_asset:100000\n",
            "end_total_asset:1078344.7321494054\n",
            "total_reward:978344.7321494054\n",
            "total_cost:  99.89827723259968\n",
            "total trades:  2515\n",
            "Sharpe:  1.0698677884525307\n",
            "previous_total_asset:100000\n",
            "end_total_asset:1078694.2425938835\n",
            "total_reward:978694.2425938835\n",
            "total_cost:  99.89727962112428\n",
            "total trades:  2515\n",
            "Sharpe:  1.0699793796328365\n",
            "previous_total_asset:100000\n",
            "end_total_asset:1078694.2425938835\n",
            "total_reward:978694.2425938835\n",
            "total_cost:  99.89727962112428\n",
            "total trades:  2515\n",
            "Sharpe:  1.0699793796328365\n",
            "previous_total_asset:100000\n",
            "end_total_asset:1078694.2425938835\n",
            "total_reward:978694.2425938835\n",
            "total_cost:  99.89727962112428\n",
            "total trades:  2515\n",
            "Sharpe:  1.0699793796328365\n",
            "previous_total_asset:100000\n",
            "end_total_asset:1078694.2425938835\n",
            "total_reward:978694.2425938835\n",
            "total_cost:  99.89727962112428\n",
            "total trades:  2515\n",
            "Sharpe:  1.0699793796328365\n",
            "previous_total_asset:100000\n",
            "end_total_asset:1078694.2425938835\n",
            "total_reward:978694.2425938835\n",
            "total_cost:  99.89727962112428\n",
            "total trades:  2515\n",
            "Sharpe:  1.0699793796328365\n",
            "previous_total_asset:100000\n",
            "end_total_asset:1078694.2425938835\n",
            "total_reward:978694.2425938835\n",
            "total_cost:  99.89727962112428\n",
            "total trades:  2515\n",
            "Sharpe:  1.0699793796328365\n",
            "previous_total_asset:100000\n",
            "end_total_asset:1078694.2425938835\n",
            "total_reward:978694.2425938835\n",
            "total_cost:  99.89727962112428\n",
            "total trades:  2515\n",
            "Sharpe:  1.0699793796328365\n",
            "previous_total_asset:100000\n",
            "end_total_asset:1078694.2425938835\n",
            "total_reward:978694.2425938835\n",
            "total_cost:  99.89727962112428\n",
            "total trades:  2515\n",
            "Sharpe:  1.0699793796328365\n",
            "previous_total_asset:100000\n",
            "end_total_asset:1078694.2425938835\n",
            "total_reward:978694.2425938835\n",
            "total_cost:  99.89727962112428\n",
            "total trades:  2515\n",
            "Sharpe:  1.0699793796328365\n",
            "previous_total_asset:100000\n",
            "end_total_asset:1078694.2425938835\n",
            "total_reward:978694.2425938835\n",
            "total_cost:  99.89727962112428\n",
            "total trades:  2515\n",
            "Sharpe:  1.0699793796328365\n",
            "previous_total_asset:100000\n",
            "end_total_asset:1078694.2425938835\n",
            "total_reward:978694.2425938835\n",
            "total_cost:  99.89727962112428\n",
            "total trades:  2515\n",
            "Sharpe:  1.0699793796328365\n",
            "previous_total_asset:100000\n",
            "end_total_asset:1078694.2425938835\n",
            "total_reward:978694.2425938835\n",
            "total_cost:  99.89727962112428\n",
            "total trades:  2515\n",
            "Sharpe:  1.0699793796328365\n",
            "previous_total_asset:100000\n",
            "end_total_asset:1078694.2425938835\n",
            "total_reward:978694.2425938835\n",
            "total_cost:  99.89727962112428\n",
            "total trades:  2515\n",
            "Sharpe:  1.0699793796328365\n"
          ]
        },
        {
          "output_type": "execute_result",
          "data": {
            "text/plain": [
              "<stable_baselines.a2c.a2c.A2C at 0x7f1155949f90>"
            ]
          },
          "metadata": {},
          "execution_count": 24
        }
      ]
    },
    {
      "cell_type": "code",
      "metadata": {
        "id": "Jqvi6wTwT8LG"
      },
      "source": [
        "#model_a2c.save('AAPL_a2c_50k')\n",
        "model_a2c.save(model_sticker_save)"
      ],
      "execution_count": 33,
      "outputs": []
    },
    {
      "cell_type": "markdown",
      "metadata": {
        "id": "8R8bKorkM5cK"
      },
      "source": [
        "## Model 4: TD3"
      ]
    },
    {
      "cell_type": "code",
      "metadata": {
        "colab": {
          "base_uri": "https://localhost:8080/"
        },
        "id": "7BvbyAh2MrL7",
        "outputId": "3d9b80ec-428f-4d48-ba4b-70bf6e46cbe8"
      },
      "source": [
        "#tensorboard --logdir ./single_stock_tensorboard/\n",
        "#DQN<DDPG<TD3\n",
        "env_train = DummyVecEnv([lambda: SingleStockEnv(train)])\n",
        "model_td3 = TD3('MlpPolicy', env_train, tensorboard_log=\"./single_stock_trading_2_tensorboard/\")\n",
        "#model_td3.learn(total_timesteps=100000,tb_log_name=\"run_aapl_td3\")\n",
        "#model_td3.save('AAPL_td3_50k')\n"
      ],
      "execution_count": 25,
      "outputs": [
        {
          "output_type": "stream",
          "name": "stdout",
          "text": [
            "previous_total_asset:100000\n",
            "end_total_asset:104474.38490228458\n",
            "total_reward:4474.3849022845825\n",
            "total_cost:  39.45173212305912\n",
            "total trades:  112\n",
            "Sharpe:  0.6479914057415437\n",
            "previous_total_asset:100000\n",
            "end_total_asset:100000.0\n",
            "total_reward:0.0\n",
            "total_cost:  0\n",
            "total trades:  0\n",
            "previous_total_asset:100000\n",
            "end_total_asset:100000.0\n",
            "total_reward:0.0\n",
            "total_cost:  0\n",
            "total trades:  0\n",
            "previous_total_asset:100000\n",
            "end_total_asset:100000.0\n",
            "total_reward:0.0\n",
            "total_cost:  0\n",
            "total trades:  0\n",
            "previous_total_asset:100000\n",
            "end_total_asset:100000.0\n",
            "total_reward:0.0\n",
            "total_cost:  0\n",
            "total trades:  0\n",
            "previous_total_asset:100000\n",
            "end_total_asset:100000.0\n",
            "total_reward:0.0\n",
            "total_cost:  0\n",
            "total trades:  0\n",
            "previous_total_asset:100000\n",
            "end_total_asset:100000.0\n",
            "total_reward:0.0\n",
            "total_cost:  0\n",
            "total trades:  0\n",
            "previous_total_asset:100000\n",
            "end_total_asset:100000.0\n",
            "total_reward:0.0\n",
            "total_cost:  0\n",
            "total trades:  0\n",
            "previous_total_asset:100000\n",
            "end_total_asset:100000.0\n",
            "total_reward:0.0\n",
            "total_cost:  0\n",
            "total trades:  0\n",
            "previous_total_asset:100000\n",
            "end_total_asset:100000.0\n",
            "total_reward:0.0\n",
            "total_cost:  0\n",
            "total trades:  0\n",
            "previous_total_asset:100000\n",
            "end_total_asset:100000.0\n",
            "total_reward:0.0\n",
            "total_cost:  0\n",
            "total trades:  0\n",
            "previous_total_asset:100000\n",
            "end_total_asset:100000.0\n",
            "total_reward:0.0\n",
            "total_cost:  0\n",
            "total trades:  0\n",
            "previous_total_asset:100000\n",
            "end_total_asset:100000.0\n",
            "total_reward:0.0\n",
            "total_cost:  0\n",
            "total trades:  0\n",
            "previous_total_asset:100000\n",
            "end_total_asset:100000.0\n",
            "total_reward:0.0\n",
            "total_cost:  0\n",
            "total trades:  0\n",
            "previous_total_asset:100000\n",
            "end_total_asset:100000.0\n",
            "total_reward:0.0\n",
            "total_cost:  0\n",
            "total trades:  0\n",
            "previous_total_asset:100000\n",
            "end_total_asset:100000.0\n",
            "total_reward:0.0\n",
            "total_cost:  0\n",
            "total trades:  0\n",
            "previous_total_asset:100000\n",
            "end_total_asset:100000.0\n",
            "total_reward:0.0\n",
            "total_cost:  0\n",
            "total trades:  0\n",
            "previous_total_asset:100000\n",
            "end_total_asset:100000.0\n",
            "total_reward:0.0\n",
            "total_cost:  0\n",
            "total trades:  0\n",
            "previous_total_asset:100000\n",
            "end_total_asset:100000.0\n",
            "total_reward:0.0\n",
            "total_cost:  0\n",
            "total trades:  0\n",
            "previous_total_asset:100000\n",
            "end_total_asset:100000.0\n",
            "total_reward:0.0\n",
            "total_cost:  0\n",
            "total trades:  0\n",
            "previous_total_asset:100000\n",
            "end_total_asset:100000.0\n",
            "total_reward:0.0\n",
            "total_cost:  0\n",
            "total trades:  0\n",
            "previous_total_asset:100000\n",
            "end_total_asset:100000.0\n",
            "total_reward:0.0\n",
            "total_cost:  0\n",
            "total trades:  0\n",
            "previous_total_asset:100000\n",
            "end_total_asset:100000.0\n",
            "total_reward:0.0\n",
            "total_cost:  0\n",
            "total trades:  0\n",
            "previous_total_asset:100000\n",
            "end_total_asset:100000.0\n",
            "total_reward:0.0\n",
            "total_cost:  0\n",
            "total trades:  0\n",
            "previous_total_asset:100000\n",
            "end_total_asset:100000.0\n",
            "total_reward:0.0\n",
            "total_cost:  0\n",
            "total trades:  0\n",
            "previous_total_asset:100000\n",
            "end_total_asset:100000.0\n",
            "total_reward:0.0\n",
            "total_cost:  0\n",
            "total trades:  0\n",
            "previous_total_asset:100000\n",
            "end_total_asset:100000.0\n",
            "total_reward:0.0\n",
            "total_cost:  0\n",
            "total trades:  0\n",
            "previous_total_asset:100000\n",
            "end_total_asset:100000.0\n",
            "total_reward:0.0\n",
            "total_cost:  0\n",
            "total trades:  0\n",
            "previous_total_asset:100000\n",
            "end_total_asset:100000.0\n",
            "total_reward:0.0\n",
            "total_cost:  0\n",
            "total trades:  0\n",
            "previous_total_asset:100000\n",
            "end_total_asset:100000.0\n",
            "total_reward:0.0\n",
            "total_cost:  0\n",
            "total trades:  0\n",
            "previous_total_asset:100000\n",
            "end_total_asset:100000.0\n",
            "total_reward:0.0\n",
            "total_cost:  0\n",
            "total trades:  0\n",
            "previous_total_asset:100000\n",
            "end_total_asset:100000.0\n",
            "total_reward:0.0\n",
            "total_cost:  0\n",
            "total trades:  0\n",
            "previous_total_asset:100000\n",
            "end_total_asset:100000.0\n",
            "total_reward:0.0\n",
            "total_cost:  0\n",
            "total trades:  0\n",
            "previous_total_asset:100000\n",
            "end_total_asset:100000.0\n",
            "total_reward:0.0\n",
            "total_cost:  0\n",
            "total trades:  0\n",
            "previous_total_asset:100000\n",
            "end_total_asset:100000.0\n",
            "total_reward:0.0\n",
            "total_cost:  0\n",
            "total trades:  0\n",
            "previous_total_asset:100000\n",
            "end_total_asset:100000.0\n",
            "total_reward:0.0\n",
            "total_cost:  0\n",
            "total trades:  0\n",
            "previous_total_asset:100000\n",
            "end_total_asset:100000.0\n",
            "total_reward:0.0\n",
            "total_cost:  0\n",
            "total trades:  0\n",
            "previous_total_asset:100000\n",
            "end_total_asset:100000.0\n",
            "total_reward:0.0\n",
            "total_cost:  0\n",
            "total trades:  0\n",
            "previous_total_asset:100000\n",
            "end_total_asset:100000.0\n",
            "total_reward:0.0\n",
            "total_cost:  0\n",
            "total trades:  0\n"
          ]
        },
        {
          "output_type": "execute_result",
          "data": {
            "text/plain": [
              "<stable_baselines.td3.td3.TD3 at 0x7f11561ee810>"
            ]
          },
          "metadata": {},
          "execution_count": 25
        }
      ]
    },
    {
      "cell_type": "code",
      "metadata": {
        "id": "3hfAlwDI8Qlo"
      },
      "source": [
        "model_td3.learn(total_timesteps=100000,tb_log_name=\"run_aapl_td3\")"
      ],
      "execution_count": null,
      "outputs": []
    },
    {
      "cell_type": "code",
      "metadata": {
        "id": "VbrKg1laT14H"
      },
      "source": [
        "#model_td3.save('AAPL_td3_50k')\n",
        "model_td3.save(model_sticker_save)"
      ],
      "execution_count": 32,
      "outputs": []
    },
    {
      "cell_type": "markdown",
      "metadata": {
        "id": "Bugo3UHCM-pC"
      },
      "source": [
        "## Testing data"
      ]
    },
    {
      "cell_type": "code",
      "metadata": {
        "id": "9KlKY4EYMrN4"
      },
      "source": [
        "test = data_clean[(data_clean.datadate>='2021-01-01') ]\n",
        "# the index needs to start from 0\n",
        "test=test.reset_index(drop=True)"
      ],
      "execution_count": 119,
      "outputs": []
    },
    {
      "cell_type": "code",
      "metadata": {
        "id": "5NMu4ClAsQ2P"
      },
      "source": [
        ""
      ],
      "execution_count": null,
      "outputs": []
    },
    {
      "cell_type": "markdown",
      "metadata": {
        "id": "U-Dd3DLxsYqe"
      },
      "source": [
        "## Load model from file save"
      ]
    },
    {
      "cell_type": "markdown",
      "metadata": {
        "id": "dct5qZvNs4K5"
      },
      "source": [
        "## Load model PPO"
      ]
    },
    {
      "cell_type": "code",
      "metadata": {
        "colab": {
          "base_uri": "https://localhost:8080/"
        },
        "id": "VM7ICF3ysRR-",
        "outputId": "3e891d5a-fd4c-4f57-a23f-f8fbb745e851"
      },
      "source": [
        "env_train = DummyVecEnv([lambda: SingleStockEnv(train)])\n",
        "model_ppo = PPO2('MlpPolicy', env_train, tensorboard_log=\"./single_stock_trading_2_tensorboard/\")\n",
        "#model_ppo.load('AAPL_ppo_100k.zip')\n",
        "model_ppo.load(model_sticker_save)\n"
      ],
      "execution_count": 121,
      "outputs": [
        {
          "output_type": "execute_result",
          "data": {
            "text/plain": [
              "<stable_baselines.ppo2.ppo2.PPO2 at 0x7f1143b940d0>"
            ]
          },
          "metadata": {},
          "execution_count": 121
        }
      ]
    },
    {
      "cell_type": "markdown",
      "metadata": {
        "id": "NPzOriKWs8-m"
      },
      "source": [
        "## Load models a2c"
      ]
    },
    {
      "cell_type": "code",
      "metadata": {
        "colab": {
          "base_uri": "https://localhost:8080/"
        },
        "id": "WI1YC_7gsRUm",
        "outputId": "4854bf47-8090-464f-d1d7-4af16caa4f8d"
      },
      "source": [
        "env_train = DummyVecEnv([lambda: SingleStockEnv(train)])\n",
        "model_a2c = A2C('MlpPolicy', env_train, tensorboard_log=\"./single_stock_trading_2_tensorboard/\")\n",
        "model_a2c.load('AAPL_a2c_50k.zip')"
      ],
      "execution_count": 68,
      "outputs": [
        {
          "output_type": "execute_result",
          "data": {
            "text/plain": [
              "<stable_baselines.a2c.a2c.A2C at 0x7f114dfbae10>"
            ]
          },
          "metadata": {},
          "execution_count": 68
        }
      ]
    },
    {
      "cell_type": "markdown",
      "metadata": {
        "id": "HuaDs4lxtDaf"
      },
      "source": [
        "## Load model ddpg"
      ]
    },
    {
      "cell_type": "code",
      "metadata": {
        "colab": {
          "base_uri": "https://localhost:8080/"
        },
        "id": "23KHx8hDtIce",
        "outputId": "7bc9f22d-2976-4f09-93c6-4e1f36b28963"
      },
      "source": [
        "env_train = DummyVecEnv([lambda: SingleStockEnv(train)])\n",
        "model_ddpg = DDPG('MlpPolicy', env_train, tensorboard_log=\"./single_stock_trading_2_tensorboard/\")\n",
        "model_ddpg.load('AAPL_ddpg_50k.zip')\n"
      ],
      "execution_count": 69,
      "outputs": [
        {
          "output_type": "execute_result",
          "data": {
            "text/plain": [
              "<stable_baselines.ddpg.ddpg.DDPG at 0x7f1151662990>"
            ]
          },
          "metadata": {},
          "execution_count": 69
        }
      ]
    },
    {
      "cell_type": "markdown",
      "metadata": {
        "id": "TWEgPK_itLR_"
      },
      "source": [
        "## Load model td3"
      ]
    },
    {
      "cell_type": "code",
      "metadata": {
        "colab": {
          "base_uri": "https://localhost:8080/"
        },
        "id": "anc1bPx3tJLW",
        "outputId": "90e41cef-1eca-4a87-91c8-12f072aff61a"
      },
      "source": [
        "env_train = DummyVecEnv([lambda: SingleStockEnv(train)])\n",
        "model_td3 = TD3('MlpPolicy', env_train, tensorboard_log=\"./single_stock_trading_2_tensorboard/\")\n",
        "model_td3.load('AAPL_td3_50k.zip')\n"
      ],
      "execution_count": 70,
      "outputs": [
        {
          "output_type": "execute_result",
          "data": {
            "text/plain": [
              "<stable_baselines.td3.td3.TD3 at 0x7f1151693fd0>"
            ]
          },
          "metadata": {},
          "execution_count": 70
        }
      ]
    },
    {
      "cell_type": "code",
      "metadata": {
        "id": "dBVgL7eQtJN9"
      },
      "source": [
        ""
      ],
      "execution_count": null,
      "outputs": []
    },
    {
      "cell_type": "code",
      "metadata": {
        "id": "Y19D427CtJRL"
      },
      "source": [
        ""
      ],
      "execution_count": null,
      "outputs": []
    },
    {
      "cell_type": "code",
      "metadata": {
        "colab": {
          "base_uri": "https://localhost:8080/",
          "height": 204
        },
        "id": "sMuv6ZtqMXp_",
        "outputId": "9f6bc1c2-2734-4dc9-e9ef-8d75377a6056"
      },
      "source": [
        "test.head()"
      ],
      "execution_count": 122,
      "outputs": [
        {
          "output_type": "execute_result",
          "data": {
            "text/html": [
              "<div>\n",
              "<style scoped>\n",
              "    .dataframe tbody tr th:only-of-type {\n",
              "        vertical-align: middle;\n",
              "    }\n",
              "\n",
              "    .dataframe tbody tr th {\n",
              "        vertical-align: top;\n",
              "    }\n",
              "\n",
              "    .dataframe thead th {\n",
              "        text-align: right;\n",
              "    }\n",
              "</style>\n",
              "<table border=\"1\" class=\"dataframe\">\n",
              "  <thead>\n",
              "    <tr style=\"text-align: right;\">\n",
              "      <th></th>\n",
              "      <th>datadate</th>\n",
              "      <th>open</th>\n",
              "      <th>high</th>\n",
              "      <th>low</th>\n",
              "      <th>close</th>\n",
              "      <th>adjcp</th>\n",
              "      <th>volume</th>\n",
              "      <th>macd</th>\n",
              "    </tr>\n",
              "  </thead>\n",
              "  <tbody>\n",
              "    <tr>\n",
              "      <th>0</th>\n",
              "      <td>2021-01-04</td>\n",
              "      <td>274.779999</td>\n",
              "      <td>275.000000</td>\n",
              "      <td>265.200012</td>\n",
              "      <td>268.940002</td>\n",
              "      <td>268.940002</td>\n",
              "      <td>15106100</td>\n",
              "      <td>-1.392121</td>\n",
              "    </tr>\n",
              "    <tr>\n",
              "      <th>1</th>\n",
              "      <td>2021-01-05</td>\n",
              "      <td>268.290009</td>\n",
              "      <td>272.399994</td>\n",
              "      <td>268.209991</td>\n",
              "      <td>270.970001</td>\n",
              "      <td>270.970001</td>\n",
              "      <td>9871600</td>\n",
              "      <td>-1.439716</td>\n",
              "    </tr>\n",
              "    <tr>\n",
              "      <th>2</th>\n",
              "      <td>2021-01-06</td>\n",
              "      <td>262.000000</td>\n",
              "      <td>267.750000</td>\n",
              "      <td>260.010010</td>\n",
              "      <td>263.309998</td>\n",
              "      <td>263.309998</td>\n",
              "      <td>24354100</td>\n",
              "      <td>-2.071652</td>\n",
              "    </tr>\n",
              "    <tr>\n",
              "      <th>3</th>\n",
              "      <td>2021-01-07</td>\n",
              "      <td>265.899994</td>\n",
              "      <td>271.609985</td>\n",
              "      <td>264.779999</td>\n",
              "      <td>268.739990</td>\n",
              "      <td>268.739990</td>\n",
              "      <td>15789800</td>\n",
              "      <td>-2.109989</td>\n",
              "    </tr>\n",
              "    <tr>\n",
              "      <th>4</th>\n",
              "      <td>2021-01-08</td>\n",
              "      <td>268.309998</td>\n",
              "      <td>268.950012</td>\n",
              "      <td>263.179993</td>\n",
              "      <td>267.570007</td>\n",
              "      <td>267.570007</td>\n",
              "      <td>18528300</td>\n",
              "      <td>-2.209312</td>\n",
              "    </tr>\n",
              "  </tbody>\n",
              "</table>\n",
              "</div>"
            ],
            "text/plain": [
              "    datadate        open        high  ...       adjcp    volume      macd\n",
              "0 2021-01-04  274.779999  275.000000  ...  268.940002  15106100 -1.392121\n",
              "1 2021-01-05  268.290009  272.399994  ...  270.970001   9871600 -1.439716\n",
              "2 2021-01-06  262.000000  267.750000  ...  263.309998  24354100 -2.071652\n",
              "3 2021-01-07  265.899994  271.609985  ...  268.739990  15789800 -2.109989\n",
              "4 2021-01-08  268.309998  268.950012  ...  267.570007  18528300 -2.209312\n",
              "\n",
              "[5 rows x 8 columns]"
            ]
          },
          "metadata": {},
          "execution_count": 122
        }
      ]
    },
    {
      "cell_type": "markdown",
      "metadata": {
        "id": "XFJvJxiCNELK"
      },
      "source": [
        "# Trading\n",
        "Assume that we have $100,000 initial capital at 2019-01-01. We use the TD3 model to trade AAPL.\n",
        "\n",
        "## sau khi chay xong: create file account_rewards.csv, account_value.csv, account_value.png "
      ]
    },
    {
      "cell_type": "code",
      "metadata": {
        "colab": {
          "base_uri": "https://localhost:8080/"
        },
        "id": "-d99XiC9NBx9",
        "outputId": "f238ea7c-8913-465a-dbfa-0313b9f93766"
      },
      "source": [
        "\n",
        "#model = model_a2c\n",
        "model = model_ppo\n",
        "#model = model_td3\n",
        "#model = model_ddpg\n",
        "env_test = DummyVecEnv([lambda: SingleStockEnv(test)])\n",
        "obs_test = env_test.reset()\n",
        "print(\"==============Model Prediction===========\")\n",
        "for i in range(len(test.index.unique())):\n",
        "    action, _states = model.predict(obs_test)\n",
        "    obs_test, rewards, dones, info = env_test.step(action)\n",
        "    env_test.render()\n",
        "\n",
        "#==> Create file account_rewards.csv, account_value.csv, account_value.png sau khi chay xong"
      ],
      "execution_count": 123,
      "outputs": [
        {
          "output_type": "stream",
          "name": "stdout",
          "text": [
            "==============Model Prediction===========\n",
            "previous_total_asset:100000\n",
            "end_total_asset:115175.9747234007\n",
            "total_reward:15175.974723400694\n",
            "total_cost:  3936.7178527573674\n",
            "total trades:  166\n",
            "Sharpe:  1.1186671974856492\n"
          ]
        }
      ]
    },
    {
      "cell_type": "markdown",
      "metadata": {
        "id": "XngX-SxaNG-y"
      },
      "source": [
        "## Part 5: Backtest Our Strategy\n",
        "For simplicity purposes, in the article, we just calculate the Sharpe ratio and the annual return manually."
      ]
    },
    {
      "cell_type": "code",
      "metadata": {
        "id": "TTQma4LENB0q"
      },
      "source": [
        "\n",
        "def get_DRL_sharpe():\n",
        "    df_total_value=pd.read_csv('account_value.csv',index_col=0)\n",
        "    df_total_value.columns = ['account_value']\n",
        "    df_total_value['daily_return']=df_total_value.pct_change(1)\n",
        "    sharpe = (252**0.5)*df_total_value['daily_return'].mean()/ \\\n",
        "    df_total_value['daily_return'].std()\n",
        "    \n",
        "    annual_return = ((df_total_value['daily_return'].mean()+1)**252-1)*100\n",
        "    print(\"annual return: \", annual_return)\n",
        "    print(\"sharpe ratio: \", sharpe)\n",
        "    return df_total_value"
      ],
      "execution_count": 124,
      "outputs": []
    },
    {
      "cell_type": "code",
      "metadata": {
        "id": "mNFH_JgBNB3d"
      },
      "source": [
        "def get_buy_and_hold_sharpe(test):\n",
        "    test['daily_return']=test['adjcp'].pct_change(1)\n",
        "    sharpe = (252**0.5)*test['daily_return'].mean()/ \\\n",
        "    test['daily_return'].std()\n",
        "    annual_return = ((test['daily_return'].mean()+1)**252-1)*100\n",
        "    print(\"annual return: \", annual_return)\n",
        "\n",
        "    print(\"sharpe ratio: \", sharpe)\n",
        "    #return sharpe"
      ],
      "execution_count": 125,
      "outputs": []
    },
    {
      "cell_type": "code",
      "metadata": {
        "colab": {
          "base_uri": "https://localhost:8080/"
        },
        "id": "otTHKMUbNB5p",
        "outputId": "863b86f8-c248-425e-d38e-112072c70c7b"
      },
      "source": [
        "df_total_value=get_DRL_sharpe()"
      ],
      "execution_count": 126,
      "outputs": [
        {
          "output_type": "stream",
          "name": "stdout",
          "text": [
            "annual return:  24.472945519393562\n",
            "sharpe ratio:  1.1186671974856477\n"
          ]
        }
      ]
    },
    {
      "cell_type": "code",
      "metadata": {
        "colab": {
          "base_uri": "https://localhost:8080/"
        },
        "id": "QBXb4DobNLUp",
        "outputId": "fcb5dad7-f9f5-4520-e781-e357d67351eb"
      },
      "source": [
        "get_buy_and_hold_sharpe(test)"
      ],
      "execution_count": 127,
      "outputs": [
        {
          "output_type": "stream",
          "name": "stdout",
          "text": [
            "annual return:  60.19225156336259\n",
            "sharpe ratio:  1.6587214035502278\n"
          ]
        }
      ]
    },
    {
      "cell_type": "code",
      "metadata": {
        "id": "Y1GuAo1vNLXJ"
      },
      "source": [
        "DRL_cumulative_return = (df_total_value.account_value.pct_change(1)+1).cumprod()-1"
      ],
      "execution_count": 128,
      "outputs": []
    },
    {
      "cell_type": "code",
      "metadata": {
        "id": "4gvhx-HDNLZa"
      },
      "source": [
        "buy_and_hold_cumulative_return = (test.adjcp.pct_change(1)+1).cumprod()-1"
      ],
      "execution_count": 129,
      "outputs": []
    },
    {
      "cell_type": "code",
      "metadata": {
        "colab": {
          "base_uri": "https://localhost:8080/",
          "height": 508
        },
        "id": "aJUl5VNrNLbU",
        "outputId": "9f5bf3d9-f1f4-432a-fef8-a03538005706"
      },
      "source": [
        "\n",
        "%matplotlib inline\n",
        "fig, ax = plt.subplots(figsize=(12, 8))\n",
        "\n",
        "plt.plot(test.datadate, DRL_cumulative_return, color='red',label = \"DRL\")\n",
        "plt.plot(test.datadate, buy_and_hold_cumulative_return, label = \"Buy & Hold\")\n",
        "plt.title(\"Cumulative Return for AAPL with Transaction Cost\",size= 18)\n",
        "plt.legend()\n",
        "plt.rc('legend',fontsize=15)\n",
        "plt.rc('xtick', labelsize=15)\n",
        "plt.rc('ytick', labelsize=15)"
      ],
      "execution_count": 130,
      "outputs": [
        {
          "output_type": "display_data",
          "data": {
            "image/png": "[encoded data removed]",
            "text/plain": [
              "<Figure size 864x576 with 1 Axes>"
            ]
          },
          "metadata": {
            "needs_background": "light"
          }
        }
      ]
    },
    {
      "cell_type": "code",
      "metadata": {
        "colab": {
          "base_uri": "https://localhost:8080/",
          "height": 17
        },
        "id": "Kury5tSJNLd1",
        "outputId": "71f92f91-f763-4159-9a29-f2d0e5439cbf"
      },
      "source": [
        "from google.colab import files\n",
        "\n",
        "files.download('AAPL_a2c_50k.zip')\n",
        "files.download('AAPL_td3_50k.zip')\n",
        "files.download('AAPL_ppo_100k.zip')\n",
        "files.download('AAPL_ddpg_50k.zip')\n"
      ],
      "execution_count": 82,
      "outputs": [
        {
          "output_type": "display_data",
          "data": {
            "application/javascript": [
              "\n",
              "    async function download(id, filename, size) {\n",
              "      if (!google.colab.kernel.accessAllowed) {\n",
              "        return;\n",
              "      }\n",
              "      const div = document.createElement('div');\n",
              "      const label = document.createElement('label');\n",
              "      label.textContent = `Downloading \"${filename}\": `;\n",
              "      div.appendChild(label);\n",
              "      const progress = document.createElement('progress');\n",
              "      progress.max = size;\n",
              "      div.appendChild(progress);\n",
              "      document.body.appendChild(div);\n",
              "\n",
              "      const buffers = [];\n",
              "      let downloaded = 0;\n",
              "\n",
              "      const channel = await google.colab.kernel.comms.open(id);\n",
              "      // Send a message to notify the kernel that we're ready.\n",
              "      channel.send({})\n",
              "\n",
              "      for await (const message of channel.messages) {\n",
              "        // Send a message to notify the kernel that we're ready.\n",
              "        channel.send({})\n",
              "        if (message.buffers) {\n",
              "          for (const buffer of message.buffers) {\n",
              "            buffers.push(buffer);\n",
              "            downloaded += buffer.byteLength;\n",
              "            progress.value = downloaded;\n",
              "          }\n",
              "        }\n",
              "      }\n",
              "      const blob = new Blob(buffers, {type: 'application/binary'});\n",
              "      const a = document.createElement('a');\n",
              "      a.href = window.URL.createObjectURL(blob);\n",
              "      a.download = filename;\n",
              "      div.appendChild(a);\n",
              "      a.click();\n",
              "      div.remove();\n",
              "    }\n",
              "  "
            ],
            "text/plain": [
              "<IPython.core.display.Javascript object>"
            ]
          },
          "metadata": {}
        },
        {
          "output_type": "display_data",
          "data": {
            "application/javascript": [
              "download(\"download_6973cbb9-d792-44d1-a341-1ff998cddb1a\", \"AAPL_a2c_50k.zip\", 44460)"
            ],
            "text/plain": [
              "<IPython.core.display.Javascript object>"
            ]
          },
          "metadata": {}
        },
        {
          "output_type": "display_data",
          "data": {
            "application/javascript": [
              "\n",
              "    async function download(id, filename, size) {\n",
              "      if (!google.colab.kernel.accessAllowed) {\n",
              "        return;\n",
              "      }\n",
              "      const div = document.createElement('div');\n",
              "      const label = document.createElement('label');\n",
              "      label.textContent = `Downloading \"${filename}\": `;\n",
              "      div.appendChild(label);\n",
              "      const progress = document.createElement('progress');\n",
              "      progress.max = size;\n",
              "      div.appendChild(progress);\n",
              "      document.body.appendChild(div);\n",
              "\n",
              "      const buffers = [];\n",
              "      let downloaded = 0;\n",
              "\n",
              "      const channel = await google.colab.kernel.comms.open(id);\n",
              "      // Send a message to notify the kernel that we're ready.\n",
              "      channel.send({})\n",
              "\n",
              "      for await (const message of channel.messages) {\n",
              "        // Send a message to notify the kernel that we're ready.\n",
              "        channel.send({})\n",
              "        if (message.buffers) {\n",
              "          for (const buffer of message.buffers) {\n",
              "            buffers.push(buffer);\n",
              "            downloaded += buffer.byteLength;\n",
              "            progress.value = downloaded;\n",
              "          }\n",
              "        }\n",
              "      }\n",
              "      const blob = new Blob(buffers, {type: 'application/binary'});\n",
              "      const a = document.createElement('a');\n",
              "      a.href = window.URL.createObjectURL(blob);\n",
              "      a.download = filename;\n",
              "      div.appendChild(a);\n",
              "      a.click();\n",
              "      div.remove();\n",
              "    }\n",
              "  "
            ],
            "text/plain": [
              "<IPython.core.display.Javascript object>"
            ]
          },
          "metadata": {}
        },
        {
          "output_type": "display_data",
          "data": {
            "application/javascript": [
              "download(\"download_90443405-5e56-45b9-a5a3-4eb4e6c99151\", \"AAPL_td3_50k.zip\", 129984)"
            ],
            "text/plain": [
              "<IPython.core.display.Javascript object>"
            ]
          },
          "metadata": {}
        },
        {
          "output_type": "display_data",
          "data": {
            "application/javascript": [
              "\n",
              "    async function download(id, filename, size) {\n",
              "      if (!google.colab.kernel.accessAllowed) {\n",
              "        return;\n",
              "      }\n",
              "      const div = document.createElement('div');\n",
              "      const label = document.createElement('label');\n",
              "      label.textContent = `Downloading \"${filename}\": `;\n",
              "      div.appendChild(label);\n",
              "      const progress = document.createElement('progress');\n",
              "      progress.max = size;\n",
              "      div.appendChild(progress);\n",
              "      document.body.appendChild(div);\n",
              "\n",
              "      const buffers = [];\n",
              "      let downloaded = 0;\n",
              "\n",
              "      const channel = await google.colab.kernel.comms.open(id);\n",
              "      // Send a message to notify the kernel that we're ready.\n",
              "      channel.send({})\n",
              "\n",
              "      for await (const message of channel.messages) {\n",
              "        // Send a message to notify the kernel that we're ready.\n",
              "        channel.send({})\n",
              "        if (message.buffers) {\n",
              "          for (const buffer of message.buffers) {\n",
              "            buffers.push(buffer);\n",
              "            downloaded += buffer.byteLength;\n",
              "            progress.value = downloaded;\n",
              "          }\n",
              "        }\n",
              "      }\n",
              "      const blob = new Blob(buffers, {type: 'application/binary'});\n",
              "      const a = document.createElement('a');\n",
              "      a.href = window.URL.createObjectURL(blob);\n",
              "      a.download = filename;\n",
              "      div.appendChild(a);\n",
              "      a.click();\n",
              "      div.remove();\n",
              "    }\n",
              "  "
            ],
            "text/plain": [
              "<IPython.core.display.Javascript object>"
            ]
          },
          "metadata": {}
        },
        {
          "output_type": "display_data",
          "data": {
            "application/javascript": [
              "download(\"download_fb51062c-4cb1-4aab-b743-e01b7f0f1d2e\", \"AAPL_ppo_100k.zip\", 46300)"
            ],
            "text/plain": [
              "<IPython.core.display.Javascript object>"
            ]
          },
          "metadata": {}
        },
        {
          "output_type": "display_data",
          "data": {
            "application/javascript": [
              "\n",
              "    async function download(id, filename, size) {\n",
              "      if (!google.colab.kernel.accessAllowed) {\n",
              "        return;\n",
              "      }\n",
              "      const div = document.createElement('div');\n",
              "      const label = document.createElement('label');\n",
              "      label.textContent = `Downloading \"${filename}\": `;\n",
              "      div.appendChild(label);\n",
              "      const progress = document.createElement('progress');\n",
              "      progress.max = size;\n",
              "      div.appendChild(progress);\n",
              "      document.body.appendChild(div);\n",
              "\n",
              "      const buffers = [];\n",
              "      let downloaded = 0;\n",
              "\n",
              "      const channel = await google.colab.kernel.comms.open(id);\n",
              "      // Send a message to notify the kernel that we're ready.\n",
              "      channel.send({})\n",
              "\n",
              "      for await (const message of channel.messages) {\n",
              "        // Send a message to notify the kernel that we're ready.\n",
              "        channel.send({})\n",
              "        if (message.buffers) {\n",
              "          for (const buffer of message.buffers) {\n",
              "            buffers.push(buffer);\n",
              "            downloaded += buffer.byteLength;\n",
              "            progress.value = downloaded;\n",
              "          }\n",
              "        }\n",
              "      }\n",
              "      const blob = new Blob(buffers, {type: 'application/binary'});\n",
              "      const a = document.createElement('a');\n",
              "      a.href = window.URL.createObjectURL(blob);\n",
              "      a.download = filename;\n",
              "      div.appendChild(a);\n",
              "      a.click();\n",
              "      div.remove();\n",
              "    }\n",
              "  "
            ],
            "text/plain": [
              "<IPython.core.display.Javascript object>"
            ]
          },
          "metadata": {}
        },
        {
          "output_type": "display_data",
          "data": {
            "application/javascript": [
              "download(\"download_43745382-2ac5-4789-9ec9-368978c75166\", \"AAPL_ddpg_50k.zip\", 84562)"
            ],
            "text/plain": [
              "<IPython.core.display.Javascript object>"
            ]
          },
          "metadata": {}
        }
      ]
    },
    {
      "cell_type": "code",
      "metadata": {
        "id": "AHLepKqhNLgT"
      },
      "source": [
        ""
      ],
      "execution_count": null,
      "outputs": []
    },
    {
      "cell_type": "code",
      "metadata": {
        "id": "g_zKQzhDNLh9"
      },
      "source": [
        ""
      ],
      "execution_count": null,
      "outputs": []
    },
    {
      "cell_type": "code",
      "metadata": {
        "id": "MvH7amZXNLkJ"
      },
      "source": [
        ""
      ],
      "execution_count": null,
      "outputs": []
    },
    {
      "cell_type": "code",
      "metadata": {
        "id": "bxpAr4qYMXsX"
      },
      "source": [
        ""
      ],
      "execution_count": null,
      "outputs": []
    }
  ]
}