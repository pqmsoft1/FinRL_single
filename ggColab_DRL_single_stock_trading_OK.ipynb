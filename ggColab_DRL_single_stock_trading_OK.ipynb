{
  "nbformat": 4,
  "nbformat_minor": 0,
  "metadata": {
    "colab": {
      "name": "ggColab_DRL_single_stock_trading_OK.ipynb",
      "provenance": [],
      "collapsed_sections": []
    },
    "kernelspec": {
      "name": "python3",
      "display_name": "Python 3"
    },
    "language_info": {
      "name": "python"
    }
  },
  "cells": [
    {
      "cell_type": "code",
      "metadata": {
        "colab": {
          "base_uri": "https://localhost:8080/"
        },
        "id": "s5GXD2J8I_6d",
        "outputId": "3ba3e8f1-7007-4733-ac6c-a026c066653c"
      },
      "source": [
        "!git clone https://github.com/pqmsoft1/FinRL_single.git"
      ],
      "execution_count": null,
      "outputs": [
        {
          "output_type": "stream",
          "name": "stdout",
          "text": [
            "Cloning into 'FinRL_single'...\n",
            "remote: Enumerating objects: 64, done.\u001b[K\n",
            "remote: Counting objects: 100% (64/64), done.\u001b[K\n",
            "remote: Compressing objects: 100% (57/57), done.\u001b[K\n",
            "remote: Total 64 (delta 2), reused 61 (delta 2), pack-reused 0\u001b[K\n",
            "Unpacking objects: 100% (64/64), done.\n"
          ]
        }
      ]
    },
    {
      "cell_type": "code",
      "metadata": {
        "id": "qmN1bhstJDv3",
        "colab": {
          "base_uri": "https://localhost:8080/"
        },
        "outputId": "bebd79e7-8c50-42ef-d3e1-3802aa180375"
      },
      "source": [
        "!pip uninstall -y tensorflow==2.6.0"
      ],
      "execution_count": 23,
      "outputs": [
        {
          "output_type": "stream",
          "name": "stdout",
          "text": [
            "\u001b[33mWARNING: Skipping tensorflow as it is not installed.\u001b[0m\n"
          ]
        }
      ]
    },
    {
      "cell_type": "code",
      "metadata": {
        "id": "RXcynnGmJDyn",
        "colab": {
          "base_uri": "https://localhost:8080/",
          "height": 35
        },
        "outputId": "1a0e78c0-5cf5-4c42-c422-c012abd7aa20"
      },
      "source": [
        "import tensorflow as tf\n",
        "tf.__version__"
      ],
      "execution_count": 2,
      "outputs": [
        {
          "output_type": "execute_result",
          "data": {
            "application/vnd.google.colaboratory.intrinsic+json": {
              "type": "string"
            },
            "text/plain": [
              "'1.15.4'"
            ]
          },
          "metadata": {},
          "execution_count": 2
        }
      ]
    },
    {
      "cell_type": "code",
      "metadata": {
        "colab": {
          "base_uri": "https://localhost:8080/",
          "height": 35
        },
        "id": "DQ6XukjSJD1H",
        "outputId": "97ed08da-9f0a-402e-a2e9-282087182812"
      },
      "source": [
        ""
      ],
      "execution_count": 18,
      "outputs": [
        {
          "output_type": "execute_result",
          "data": {
            "application/vnd.google.colaboratory.intrinsic+json": {
              "type": "string"
            },
            "text/plain": [
              "'2.6.0'"
            ]
          },
          "metadata": {},
          "execution_count": 18
        }
      ]
    },
    {
      "cell_type": "code",
      "metadata": {
        "colab": {
          "base_uri": "https://localhost:8080/"
        },
        "id": "yhh5mSppJD3f",
        "outputId": "07458746-379c-4b25-ef4f-7dbdfe3d50b9"
      },
      "source": [
        "#!pip uninstall tensorflow"
      ],
      "execution_count": null,
      "outputs": [
        {
          "output_type": "stream",
          "name": "stdout",
          "text": [
            "Found existing installation: tensorflow 2.6.0\n",
            "Uninstalling tensorflow-2.6.0:\n",
            "  Would remove:\n",
            "    /usr/local/bin/estimator_ckpt_converter\n",
            "    /usr/local/bin/import_pb_to_tensorboard\n",
            "    /usr/local/bin/saved_model_cli\n",
            "    /usr/local/bin/tensorboard\n",
            "    /usr/local/bin/tf_upgrade_v2\n",
            "    /usr/local/bin/tflite_convert\n",
            "    /usr/local/bin/toco\n",
            "    /usr/local/bin/toco_from_protos\n",
            "    /usr/local/lib/python3.7/dist-packages/tensorflow-2.6.0.dist-info/*\n",
            "    /usr/local/lib/python3.7/dist-packages/tensorflow/*\n",
            "Proceed (y/n)? y\n",
            "y\n",
            "  Successfully uninstalled tensorflow-2.6.0\n"
          ]
        }
      ]
    },
    {
      "cell_type": "code",
      "metadata": {
        "id": "-pyy6A5OJD53"
      },
      "source": [
        "!pip install yfinance\n",
        "!pip install pandas\n",
        "!pip install matplotlib\n",
        "!pip install stockstats\n",
        "!pip install gym\n",
        "!pip install stable-baselines[mpi]\n",
        "!pip install tensorflow==1.15.4"
      ],
      "execution_count": null,
      "outputs": []
    },
    {
      "cell_type": "code",
      "metadata": {
        "colab": {
          "base_uri": "https://localhost:8080/"
        },
        "id": "HE7Mx7gQLJAg",
        "outputId": "1806f00d-e745-4e2e-cc53-a4eee94d10e5"
      },
      "source": [
        "!pip install tensorflow==1.15.4"
      ],
      "execution_count": 1,
      "outputs": [
        {
          "output_type": "stream",
          "name": "stdout",
          "text": [
            "Requirement already satisfied: tensorflow==1.15.4 in /usr/local/lib/python3.7/dist-packages (1.15.4)\n",
            "Requirement already satisfied: tensorboard<1.16.0,>=1.15.0 in /usr/local/lib/python3.7/dist-packages (from tensorflow==1.15.4) (1.15.0)\n",
            "Requirement already satisfied: wrapt>=1.11.1 in /usr/local/lib/python3.7/dist-packages (from tensorflow==1.15.4) (1.12.1)\n",
            "Requirement already satisfied: absl-py>=0.7.0 in /usr/local/lib/python3.7/dist-packages (from tensorflow==1.15.4) (0.12.0)\n",
            "Requirement already satisfied: numpy<1.19.0,>=1.16.0 in /usr/local/lib/python3.7/dist-packages (from tensorflow==1.15.4) (1.18.5)\n",
            "Requirement already satisfied: grpcio>=1.8.6 in /usr/local/lib/python3.7/dist-packages (from tensorflow==1.15.4) (1.40.0)\n",
            "Requirement already satisfied: wheel>=0.26 in /usr/local/lib/python3.7/dist-packages (from tensorflow==1.15.4) (0.37.0)\n",
            "Requirement already satisfied: protobuf>=3.6.1 in /usr/local/lib/python3.7/dist-packages (from tensorflow==1.15.4) (3.17.3)\n",
            "Requirement already satisfied: six>=1.10.0 in /usr/local/lib/python3.7/dist-packages (from tensorflow==1.15.4) (1.15.0)\n",
            "Requirement already satisfied: opt-einsum>=2.3.2 in /usr/local/lib/python3.7/dist-packages (from tensorflow==1.15.4) (3.3.0)\n",
            "Requirement already satisfied: tensorflow-estimator==1.15.1 in /usr/local/lib/python3.7/dist-packages (from tensorflow==1.15.4) (1.15.1)\n",
            "Requirement already satisfied: keras-preprocessing>=1.0.5 in /usr/local/lib/python3.7/dist-packages (from tensorflow==1.15.4) (1.1.2)\n",
            "Requirement already satisfied: astor>=0.6.0 in /usr/local/lib/python3.7/dist-packages (from tensorflow==1.15.4) (0.8.1)\n",
            "Requirement already satisfied: keras-applications>=1.0.8 in /usr/local/lib/python3.7/dist-packages (from tensorflow==1.15.4) (1.0.8)\n",
            "Requirement already satisfied: google-pasta>=0.1.6 in /usr/local/lib/python3.7/dist-packages (from tensorflow==1.15.4) (0.2.0)\n",
            "Requirement already satisfied: termcolor>=1.1.0 in /usr/local/lib/python3.7/dist-packages (from tensorflow==1.15.4) (1.1.0)\n",
            "Requirement already satisfied: gast==0.2.2 in /usr/local/lib/python3.7/dist-packages (from tensorflow==1.15.4) (0.2.2)\n",
            "Requirement already satisfied: h5py in /usr/local/lib/python3.7/dist-packages (from keras-applications>=1.0.8->tensorflow==1.15.4) (3.1.0)\n",
            "Requirement already satisfied: setuptools>=41.0.0 in /usr/local/lib/python3.7/dist-packages (from tensorboard<1.16.0,>=1.15.0->tensorflow==1.15.4) (57.4.0)\n",
            "Requirement already satisfied: markdown>=2.6.8 in /usr/local/lib/python3.7/dist-packages (from tensorboard<1.16.0,>=1.15.0->tensorflow==1.15.4) (3.3.4)\n",
            "Requirement already satisfied: werkzeug>=0.11.15 in /usr/local/lib/python3.7/dist-packages (from tensorboard<1.16.0,>=1.15.0->tensorflow==1.15.4) (1.0.1)\n",
            "Requirement already satisfied: importlib-metadata in /usr/local/lib/python3.7/dist-packages (from markdown>=2.6.8->tensorboard<1.16.0,>=1.15.0->tensorflow==1.15.4) (4.8.1)\n",
            "Requirement already satisfied: cached-property in /usr/local/lib/python3.7/dist-packages (from h5py->keras-applications>=1.0.8->tensorflow==1.15.4) (1.5.2)\n",
            "Requirement already satisfied: zipp>=0.5 in /usr/local/lib/python3.7/dist-packages (from importlib-metadata->markdown>=2.6.8->tensorboard<1.16.0,>=1.15.0->tensorflow==1.15.4) (3.5.0)\n",
            "Requirement already satisfied: typing-extensions>=3.6.4 in /usr/local/lib/python3.7/dist-packages (from importlib-metadata->markdown>=2.6.8->tensorboard<1.16.0,>=1.15.0->tensorflow==1.15.4) (3.7.4.3)\n"
          ]
        }
      ]
    },
    {
      "cell_type": "code",
      "metadata": {
        "colab": {
          "base_uri": "https://localhost:8080/"
        },
        "id": "ENaQpQyXKZRP",
        "outputId": "b6dd05fe-5db5-42e5-ca0f-17e4b013b378"
      },
      "source": [
        "!ls"
      ],
      "execution_count": null,
      "outputs": [
        {
          "output_type": "stream",
          "name": "stdout",
          "text": [
            "contributing.md\n",
            "docker\n",
            "DRL_multiple_stock_trading.ipynb\n",
            "DRL_single_stock_trading.ipynb\n",
            "figs\n",
            "finrl\n",
            "FinRL_demo_docker.ipynb\n",
            "FinRL_ensemble_stock_trading_ICAIF_2020.ipynb\n",
            "FinRL_portfolio_allocation_NeurIPS_2020.ipynb\n",
            "FinRL_single_stock_trading.ipynb\n",
            "FinRL_stock_trading_fundamental.ipynb\n",
            "FinRL_stock_trading_NeurIPS_2018.ipynb\n",
            "LICENSE\n",
            "main.py\n",
            "notebooks\n",
            "README.md\n",
            "requirements.txt\n",
            "setup.py\n",
            "tests\n"
          ]
        }
      ]
    },
    {
      "cell_type": "code",
      "metadata": {
        "colab": {
          "base_uri": "https://localhost:8080/"
        },
        "id": "RYFnUm0VKnz3",
        "outputId": "ba35f9e3-3a04-4c08-f368-0ecab600fabd"
      },
      "source": [
        "cd FinRL_single/"
      ],
      "execution_count": null,
      "outputs": [
        {
          "output_type": "stream",
          "name": "stdout",
          "text": [
            "/content/FinRL_single\n"
          ]
        }
      ]
    },
    {
      "cell_type": "code",
      "metadata": {
        "colab": {
          "base_uri": "https://localhost:8080/"
        },
        "id": "bwKO41A-JD8X",
        "outputId": "e96e25fc-53ef-47d3-f0dc-4439c7206c8c"
      },
      "source": [
        "import pkg_resources\n",
        "import pip\n",
        "installedPackages = {pkg.key for pkg in pkg_resources.working_set}\n",
        "required = {'yfinance', 'pandas', 'matplotlib', 'stockstats','stable-baselines','gym','tensorflow'}\n",
        "missing = required - installedPackages\n",
        "if missing:\n",
        "    !pip install yfinance\n",
        "    !pip install pandas\n",
        "    !pip install matplotlib\n",
        "    !pip install stockstats\n",
        "    !pip install gym\n",
        "    !pip install stable-baselines[mpi]\n",
        "    !pip install tensorflow==1.15.4"
      ],
      "execution_count": null,
      "outputs": [
        {
          "output_type": "stream",
          "name": "stdout",
          "text": [
            "Requirement already satisfied: yfinance in /usr/local/lib/python3.7/dist-packages (0.1.63)\n",
            "Requirement already satisfied: numpy>=1.15 in /usr/local/lib/python3.7/dist-packages (from yfinance) (1.18.5)\n",
            "Requirement already satisfied: lxml>=4.5.1 in /usr/local/lib/python3.7/dist-packages (from yfinance) (4.6.3)\n",
            "Requirement already satisfied: requests>=2.20 in /usr/local/lib/python3.7/dist-packages (from yfinance) (2.23.0)\n",
            "Requirement already satisfied: multitasking>=0.0.7 in /usr/local/lib/python3.7/dist-packages (from yfinance) (0.0.9)\n",
            "Requirement already satisfied: pandas>=0.24 in /usr/local/lib/python3.7/dist-packages (from yfinance) (1.1.5)\n",
            "Requirement already satisfied: python-dateutil>=2.7.3 in /usr/local/lib/python3.7/dist-packages (from pandas>=0.24->yfinance) (2.8.2)\n",
            "Requirement already satisfied: pytz>=2017.2 in /usr/local/lib/python3.7/dist-packages (from pandas>=0.24->yfinance) (2018.9)\n",
            "Requirement already satisfied: six>=1.5 in /usr/local/lib/python3.7/dist-packages (from python-dateutil>=2.7.3->pandas>=0.24->yfinance) (1.15.0)\n",
            "Requirement already satisfied: urllib3!=1.25.0,!=1.25.1,<1.26,>=1.21.1 in /usr/local/lib/python3.7/dist-packages (from requests>=2.20->yfinance) (1.24.3)\n",
            "Requirement already satisfied: certifi>=2017.4.17 in /usr/local/lib/python3.7/dist-packages (from requests>=2.20->yfinance) (2021.5.30)\n",
            "Requirement already satisfied: idna<3,>=2.5 in /usr/local/lib/python3.7/dist-packages (from requests>=2.20->yfinance) (2.10)\n",
            "Requirement already satisfied: chardet<4,>=3.0.2 in /usr/local/lib/python3.7/dist-packages (from requests>=2.20->yfinance) (3.0.4)\n",
            "Requirement already satisfied: pandas in /usr/local/lib/python3.7/dist-packages (1.1.5)\n",
            "Requirement already satisfied: numpy>=1.15.4 in /usr/local/lib/python3.7/dist-packages (from pandas) (1.18.5)\n",
            "Requirement already satisfied: python-dateutil>=2.7.3 in /usr/local/lib/python3.7/dist-packages (from pandas) (2.8.2)\n",
            "Requirement already satisfied: pytz>=2017.2 in /usr/local/lib/python3.7/dist-packages (from pandas) (2018.9)\n",
            "Requirement already satisfied: six>=1.5 in /usr/local/lib/python3.7/dist-packages (from python-dateutil>=2.7.3->pandas) (1.15.0)\n",
            "Requirement already satisfied: matplotlib in /usr/local/lib/python3.7/dist-packages (3.2.2)\n",
            "Requirement already satisfied: python-dateutil>=2.1 in /usr/local/lib/python3.7/dist-packages (from matplotlib) (2.8.2)\n",
            "Requirement already satisfied: numpy>=1.11 in /usr/local/lib/python3.7/dist-packages (from matplotlib) (1.18.5)\n",
            "Requirement already satisfied: pyparsing!=2.0.4,!=2.1.2,!=2.1.6,>=2.0.1 in /usr/local/lib/python3.7/dist-packages (from matplotlib) (2.4.7)\n",
            "Requirement already satisfied: kiwisolver>=1.0.1 in /usr/local/lib/python3.7/dist-packages (from matplotlib) (1.3.2)\n",
            "Requirement already satisfied: cycler>=0.10 in /usr/local/lib/python3.7/dist-packages (from matplotlib) (0.10.0)\n",
            "Requirement already satisfied: six in /usr/local/lib/python3.7/dist-packages (from cycler>=0.10->matplotlib) (1.15.0)\n",
            "Requirement already satisfied: stockstats in /usr/local/lib/python3.7/dist-packages (0.3.2)\n",
            "Requirement already satisfied: pandas>=0.18.1 in /usr/local/lib/python3.7/dist-packages (from stockstats) (1.1.5)\n",
            "Requirement already satisfied: int-date>=0.1.7 in /usr/local/lib/python3.7/dist-packages (from stockstats) (0.1.8)\n",
            "Requirement already satisfied: numpy>=1.9.2 in /usr/local/lib/python3.7/dist-packages (from stockstats) (1.18.5)\n",
            "Requirement already satisfied: six>=1.9.0 in /usr/local/lib/python3.7/dist-packages (from int-date>=0.1.7->stockstats) (1.15.0)\n",
            "Requirement already satisfied: python-dateutil>=2.4.2 in /usr/local/lib/python3.7/dist-packages (from int-date>=0.1.7->stockstats) (2.8.2)\n",
            "Requirement already satisfied: pytz>=2017.2 in /usr/local/lib/python3.7/dist-packages (from pandas>=0.18.1->stockstats) (2018.9)\n",
            "Requirement already satisfied: gym in /usr/local/lib/python3.7/dist-packages (0.17.3)\n",
            "Requirement already satisfied: pyglet<=1.5.0,>=1.4.0 in /usr/local/lib/python3.7/dist-packages (from gym) (1.5.0)\n",
            "Requirement already satisfied: cloudpickle<1.7.0,>=1.2.0 in /usr/local/lib/python3.7/dist-packages (from gym) (1.3.0)\n",
            "Requirement already satisfied: scipy in /usr/local/lib/python3.7/dist-packages (from gym) (1.4.1)\n",
            "Requirement already satisfied: numpy>=1.10.4 in /usr/local/lib/python3.7/dist-packages (from gym) (1.18.5)\n",
            "Requirement already satisfied: future in /usr/local/lib/python3.7/dist-packages (from pyglet<=1.5.0,>=1.4.0->gym) (0.16.0)\n",
            "Requirement already satisfied: stable-baselines[mpi] in /usr/local/lib/python3.7/dist-packages (2.10.2)\n",
            "Requirement already satisfied: opencv-python in /usr/local/lib/python3.7/dist-packages (from stable-baselines[mpi]) (4.1.2.30)\n",
            "Requirement already satisfied: cloudpickle>=0.5.5 in /usr/local/lib/python3.7/dist-packages (from stable-baselines[mpi]) (1.3.0)\n",
            "Requirement already satisfied: pandas in /usr/local/lib/python3.7/dist-packages (from stable-baselines[mpi]) (1.1.5)\n",
            "Requirement already satisfied: numpy in /usr/local/lib/python3.7/dist-packages (from stable-baselines[mpi]) (1.18.5)\n",
            "Requirement already satisfied: matplotlib in /usr/local/lib/python3.7/dist-packages (from stable-baselines[mpi]) (3.2.2)\n",
            "Requirement already satisfied: gym[atari,classic_control]>=0.11 in /usr/local/lib/python3.7/dist-packages (from stable-baselines[mpi]) (0.17.3)\n",
            "Requirement already satisfied: scipy in /usr/local/lib/python3.7/dist-packages (from stable-baselines[mpi]) (1.4.1)\n",
            "Requirement already satisfied: joblib in /usr/local/lib/python3.7/dist-packages (from stable-baselines[mpi]) (1.0.1)\n",
            "Requirement already satisfied: mpi4py in /usr/local/lib/python3.7/dist-packages (from stable-baselines[mpi]) (3.1.1)\n",
            "Requirement already satisfied: pyglet<=1.5.0,>=1.4.0 in /usr/local/lib/python3.7/dist-packages (from gym[atari,classic_control]>=0.11->stable-baselines[mpi]) (1.5.0)\n",
            "Requirement already satisfied: atari-py~=0.2.0 in /usr/local/lib/python3.7/dist-packages (from gym[atari,classic_control]>=0.11->stable-baselines[mpi]) (0.2.9)\n",
            "Requirement already satisfied: Pillow in /usr/local/lib/python3.7/dist-packages (from gym[atari,classic_control]>=0.11->stable-baselines[mpi]) (7.1.2)\n",
            "Requirement already satisfied: six in /usr/local/lib/python3.7/dist-packages (from atari-py~=0.2.0->gym[atari,classic_control]>=0.11->stable-baselines[mpi]) (1.15.0)\n",
            "Requirement already satisfied: future in /usr/local/lib/python3.7/dist-packages (from pyglet<=1.5.0,>=1.4.0->gym[atari,classic_control]>=0.11->stable-baselines[mpi]) (0.16.0)\n",
            "Requirement already satisfied: cycler>=0.10 in /usr/local/lib/python3.7/dist-packages (from matplotlib->stable-baselines[mpi]) (0.10.0)\n",
            "Requirement already satisfied: pyparsing!=2.0.4,!=2.1.2,!=2.1.6,>=2.0.1 in /usr/local/lib/python3.7/dist-packages (from matplotlib->stable-baselines[mpi]) (2.4.7)\n",
            "Requirement already satisfied: python-dateutil>=2.1 in /usr/local/lib/python3.7/dist-packages (from matplotlib->stable-baselines[mpi]) (2.8.2)\n",
            "Requirement already satisfied: kiwisolver>=1.0.1 in /usr/local/lib/python3.7/dist-packages (from matplotlib->stable-baselines[mpi]) (1.3.2)\n",
            "Requirement already satisfied: pytz>=2017.2 in /usr/local/lib/python3.7/dist-packages (from pandas->stable-baselines[mpi]) (2018.9)\n",
            "Requirement already satisfied: tensorflow==1.15.4 in /usr/local/lib/python3.7/dist-packages (1.15.4)\n",
            "Requirement already satisfied: six>=1.10.0 in /usr/local/lib/python3.7/dist-packages (from tensorflow==1.15.4) (1.15.0)\n",
            "Requirement already satisfied: grpcio>=1.8.6 in /usr/local/lib/python3.7/dist-packages (from tensorflow==1.15.4) (1.40.0)\n",
            "Requirement already satisfied: gast==0.2.2 in /usr/local/lib/python3.7/dist-packages (from tensorflow==1.15.4) (0.2.2)\n",
            "Requirement already satisfied: tensorboard<1.16.0,>=1.15.0 in /usr/local/lib/python3.7/dist-packages (from tensorflow==1.15.4) (1.15.0)\n",
            "Requirement already satisfied: keras-preprocessing>=1.0.5 in /usr/local/lib/python3.7/dist-packages (from tensorflow==1.15.4) (1.1.2)\n",
            "Requirement already satisfied: astor>=0.6.0 in /usr/local/lib/python3.7/dist-packages (from tensorflow==1.15.4) (0.8.1)\n",
            "Requirement already satisfied: keras-applications>=1.0.8 in /usr/local/lib/python3.7/dist-packages (from tensorflow==1.15.4) (1.0.8)\n",
            "Requirement already satisfied: google-pasta>=0.1.6 in /usr/local/lib/python3.7/dist-packages (from tensorflow==1.15.4) (0.2.0)\n",
            "Requirement already satisfied: numpy<1.19.0,>=1.16.0 in /usr/local/lib/python3.7/dist-packages (from tensorflow==1.15.4) (1.18.5)\n",
            "Requirement already satisfied: opt-einsum>=2.3.2 in /usr/local/lib/python3.7/dist-packages (from tensorflow==1.15.4) (3.3.0)\n",
            "Requirement already satisfied: tensorflow-estimator==1.15.1 in /usr/local/lib/python3.7/dist-packages (from tensorflow==1.15.4) (1.15.1)\n",
            "Requirement already satisfied: termcolor>=1.1.0 in /usr/local/lib/python3.7/dist-packages (from tensorflow==1.15.4) (1.1.0)\n",
            "Requirement already satisfied: wrapt>=1.11.1 in /usr/local/lib/python3.7/dist-packages (from tensorflow==1.15.4) (1.12.1)\n",
            "Requirement already satisfied: wheel>=0.26 in /usr/local/lib/python3.7/dist-packages (from tensorflow==1.15.4) (0.37.0)\n",
            "Requirement already satisfied: protobuf>=3.6.1 in /usr/local/lib/python3.7/dist-packages (from tensorflow==1.15.4) (3.17.3)\n",
            "Requirement already satisfied: absl-py>=0.7.0 in /usr/local/lib/python3.7/dist-packages (from tensorflow==1.15.4) (0.12.0)\n",
            "Requirement already satisfied: h5py in /usr/local/lib/python3.7/dist-packages (from keras-applications>=1.0.8->tensorflow==1.15.4) (3.1.0)\n",
            "Requirement already satisfied: werkzeug>=0.11.15 in /usr/local/lib/python3.7/dist-packages (from tensorboard<1.16.0,>=1.15.0->tensorflow==1.15.4) (1.0.1)\n",
            "Requirement already satisfied: markdown>=2.6.8 in /usr/local/lib/python3.7/dist-packages (from tensorboard<1.16.0,>=1.15.0->tensorflow==1.15.4) (3.3.4)\n",
            "Requirement already satisfied: setuptools>=41.0.0 in /usr/local/lib/python3.7/dist-packages (from tensorboard<1.16.0,>=1.15.0->tensorflow==1.15.4) (57.4.0)\n",
            "Requirement already satisfied: importlib-metadata in /usr/local/lib/python3.7/dist-packages (from markdown>=2.6.8->tensorboard<1.16.0,>=1.15.0->tensorflow==1.15.4) (4.8.1)\n",
            "Requirement already satisfied: cached-property in /usr/local/lib/python3.7/dist-packages (from h5py->keras-applications>=1.0.8->tensorflow==1.15.4) (1.5.2)\n",
            "Requirement already satisfied: typing-extensions>=3.6.4 in /usr/local/lib/python3.7/dist-packages (from importlib-metadata->markdown>=2.6.8->tensorboard<1.16.0,>=1.15.0->tensorflow==1.15.4) (3.7.4.3)\n",
            "Requirement already satisfied: zipp>=0.5 in /usr/local/lib/python3.7/dist-packages (from importlib-metadata->markdown>=2.6.8->tensorboard<1.16.0,>=1.15.0->tensorflow==1.15.4) (3.5.0)\n"
          ]
        }
      ]
    },
    {
      "cell_type": "code",
      "metadata": {
        "id": "fK4P5kBdK31v",
        "colab": {
          "base_uri": "https://localhost:8080/"
        },
        "outputId": "94feeec0-b27c-4cf7-e35b-6a175031db08"
      },
      "source": [
        "#import tensorflow.compat.v1 as tf\n",
        "#tf.compat.v1.disable_v2_behavior()"
      ],
      "execution_count": 20,
      "outputs": [
        {
          "output_type": "stream",
          "name": "stdout",
          "text": [
            "WARNING:tensorflow:From /usr/local/lib/python3.7/dist-packages/tensorflow/python/compat/v2_compat.py:101: disable_resource_variables (from tensorflow.python.ops.variable_scope) is deprecated and will be removed in a future version.\n",
            "Instructions for updating:\n",
            "non-resource variables are not supported in the long term\n"
          ]
        }
      ]
    },
    {
      "cell_type": "code",
      "metadata": {
        "id": "EWRL8Y89LTV4"
      },
      "source": [
        ""
      ],
      "execution_count": null,
      "outputs": []
    },
    {
      "cell_type": "code",
      "metadata": {
        "id": "OElabgh1K4CW"
      },
      "source": [
        "import yfinance as yf\n",
        "from stockstats import StockDataFrame as Sdf\n",
        "\n",
        "import pandas as pd\n",
        "import matplotlib.pyplot as plt\n",
        "\n",
        "import gym\n",
        "from stable_baselines import PPO2, DDPG, A2C, ACKTR, TD3\n",
        "from stable_baselines import DDPG\n",
        "from stable_baselines import A2C\n",
        "from stable_baselines import SAC\n",
        "from stable_baselines.common.vec_env import DummyVecEnv\n",
        "from stable_baselines.common.policies import MlpPolicy"
      ],
      "execution_count": 45,
      "outputs": []
    },
    {
      "cell_type": "code",
      "metadata": {
        "id": "tFDal_yCKURQ"
      },
      "source": [
        "#Diable the warnings\n",
        "import warnings\n",
        "warnings.filterwarnings('ignore')"
      ],
      "execution_count": 46,
      "outputs": []
    },
    {
      "cell_type": "code",
      "metadata": {
        "colab": {
          "base_uri": "https://localhost:8080/"
        },
        "id": "O7x7hPiGKUTm",
        "outputId": "244e8f21-382e-47a1-b681-cdb46e3210bb"
      },
      "source": [
        "# Download and save the data in a pandas DataFrame:\n",
        "data_df = yf.download(\"AAPL\", start=\"2009-01-01\", end=\"2020-10-23\")"
      ],
      "execution_count": 47,
      "outputs": [
        {
          "output_type": "stream",
          "name": "stdout",
          "text": [
            "\r[*********************100%***********************]  1 of 1 completed\n"
          ]
        }
      ]
    },
    {
      "cell_type": "code",
      "metadata": {
        "id": "zNk1wGNsKUWG",
        "colab": {
          "base_uri": "https://localhost:8080/"
        },
        "outputId": "46a33223-7a0e-4e49-de7f-71115c822f5c"
      },
      "source": [
        "data_df.shape"
      ],
      "execution_count": 48,
      "outputs": [
        {
          "output_type": "execute_result",
          "data": {
            "text/plain": [
              "(2973, 6)"
            ]
          },
          "metadata": {},
          "execution_count": 48
        }
      ]
    },
    {
      "cell_type": "code",
      "metadata": {
        "id": "IlAEdAQtKUX_"
      },
      "source": [
        "# reset the index, we want to use numbers instead of dates\n",
        "data_df=data_df.reset_index()"
      ],
      "execution_count": 49,
      "outputs": []
    },
    {
      "cell_type": "code",
      "metadata": {
        "id": "BTgraBo_KUaG",
        "colab": {
          "base_uri": "https://localhost:8080/",
          "height": 204
        },
        "outputId": "9e79c3bd-30e7-465c-cb51-6e44f71ea2ba"
      },
      "source": [
        "data_df.head()"
      ],
      "execution_count": 50,
      "outputs": [
        {
          "output_type": "execute_result",
          "data": {
            "text/html": [
              "<div>\n",
              "<style scoped>\n",
              "    .dataframe tbody tr th:only-of-type {\n",
              "        vertical-align: middle;\n",
              "    }\n",
              "\n",
              "    .dataframe tbody tr th {\n",
              "        vertical-align: top;\n",
              "    }\n",
              "\n",
              "    .dataframe thead th {\n",
              "        text-align: right;\n",
              "    }\n",
              "</style>\n",
              "<table border=\"1\" class=\"dataframe\">\n",
              "  <thead>\n",
              "    <tr style=\"text-align: right;\">\n",
              "      <th></th>\n",
              "      <th>Date</th>\n",
              "      <th>Open</th>\n",
              "      <th>High</th>\n",
              "      <th>Low</th>\n",
              "      <th>Close</th>\n",
              "      <th>Adj Close</th>\n",
              "      <th>Volume</th>\n",
              "    </tr>\n",
              "  </thead>\n",
              "  <tbody>\n",
              "    <tr>\n",
              "      <th>0</th>\n",
              "      <td>2009-01-02</td>\n",
              "      <td>3.067143</td>\n",
              "      <td>3.251429</td>\n",
              "      <td>3.041429</td>\n",
              "      <td>3.241071</td>\n",
              "      <td>2.782837</td>\n",
              "      <td>746015200</td>\n",
              "    </tr>\n",
              "    <tr>\n",
              "      <th>1</th>\n",
              "      <td>2009-01-05</td>\n",
              "      <td>3.327500</td>\n",
              "      <td>3.435000</td>\n",
              "      <td>3.311071</td>\n",
              "      <td>3.377857</td>\n",
              "      <td>2.900283</td>\n",
              "      <td>1181608400</td>\n",
              "    </tr>\n",
              "    <tr>\n",
              "      <th>2</th>\n",
              "      <td>2009-01-06</td>\n",
              "      <td>3.426786</td>\n",
              "      <td>3.470357</td>\n",
              "      <td>3.299643</td>\n",
              "      <td>3.322143</td>\n",
              "      <td>2.852447</td>\n",
              "      <td>1289310400</td>\n",
              "    </tr>\n",
              "    <tr>\n",
              "      <th>3</th>\n",
              "      <td>2009-01-07</td>\n",
              "      <td>3.278929</td>\n",
              "      <td>3.303571</td>\n",
              "      <td>3.223571</td>\n",
              "      <td>3.250357</td>\n",
              "      <td>2.790810</td>\n",
              "      <td>753048800</td>\n",
              "    </tr>\n",
              "    <tr>\n",
              "      <th>4</th>\n",
              "      <td>2009-01-08</td>\n",
              "      <td>3.229643</td>\n",
              "      <td>3.326786</td>\n",
              "      <td>3.215714</td>\n",
              "      <td>3.310714</td>\n",
              "      <td>2.842633</td>\n",
              "      <td>673500800</td>\n",
              "    </tr>\n",
              "  </tbody>\n",
              "</table>\n",
              "</div>"
            ],
            "text/plain": [
              "        Date      Open      High       Low     Close  Adj Close      Volume\n",
              "0 2009-01-02  3.067143  3.251429  3.041429  3.241071   2.782837   746015200\n",
              "1 2009-01-05  3.327500  3.435000  3.311071  3.377857   2.900283  1181608400\n",
              "2 2009-01-06  3.426786  3.470357  3.299643  3.322143   2.852447  1289310400\n",
              "3 2009-01-07  3.278929  3.303571  3.223571  3.250357   2.790810   753048800\n",
              "4 2009-01-08  3.229643  3.326786  3.215714  3.310714   2.842633   673500800"
            ]
          },
          "metadata": {},
          "execution_count": 50
        }
      ]
    },
    {
      "cell_type": "code",
      "metadata": {
        "id": "NVApGj9rKUcn",
        "colab": {
          "base_uri": "https://localhost:8080/"
        },
        "outputId": "50cb8bd9-ce0f-4a65-db03-acd5e992cf7d"
      },
      "source": [
        "data_df.columns"
      ],
      "execution_count": 51,
      "outputs": [
        {
          "output_type": "execute_result",
          "data": {
            "text/plain": [
              "Index(['Date', 'Open', 'High', 'Low', 'Close', 'Adj Close', 'Volume'], dtype='object')"
            ]
          },
          "metadata": {},
          "execution_count": 51
        }
      ]
    },
    {
      "cell_type": "code",
      "metadata": {
        "id": "k-_R8cU1KUe3"
      },
      "source": [
        "# convert the column names to standardized names\n",
        "data_df.columns = ['datadate','open','high','low','close','adjcp','volume']"
      ],
      "execution_count": 52,
      "outputs": []
    },
    {
      "cell_type": "code",
      "metadata": {
        "id": "VBw3Vhu8KUhW"
      },
      "source": [
        "# save the data to a csv file in your current folder\n",
        "data_df.to_csv('AAPL_2009_2020.csv')"
      ],
      "execution_count": 11,
      "outputs": []
    },
    {
      "cell_type": "code",
      "metadata": {
        "id": "IS9HXt4kMXeY"
      },
      "source": [
        ""
      ],
      "execution_count": null,
      "outputs": []
    },
    {
      "cell_type": "code",
      "metadata": {
        "colab": {
          "base_uri": "https://localhost:8080/"
        },
        "id": "Cx30W7q8MXg_",
        "outputId": "f41a3a3b-9ba4-45c9-a242-c70a3c2076ef"
      },
      "source": [
        "# check missing data \n",
        "data_df.isnull().values.any()"
      ],
      "execution_count": 53,
      "outputs": [
        {
          "output_type": "execute_result",
          "data": {
            "text/plain": [
              "False"
            ]
          },
          "metadata": {},
          "execution_count": 53
        }
      ]
    },
    {
      "cell_type": "code",
      "metadata": {
        "id": "Yl-RE7COMXjK"
      },
      "source": [
        "# calculate technical indicators like MACD\n",
        "stock = Sdf.retype(data_df.copy())\n",
        "# we need to use adjusted close price instead of close price\n",
        "stock['close'] = stock['adjcp']\n",
        "data_df['macd'] = stock['macd']"
      ],
      "execution_count": 54,
      "outputs": []
    },
    {
      "cell_type": "code",
      "metadata": {
        "colab": {
          "base_uri": "https://localhost:8080/"
        },
        "id": "KdoIIaiWMXlX",
        "outputId": "4567f1eb-3a49-4e32-d419-4f212a27c539"
      },
      "source": [
        "# check missing data again\n",
        "data_df.isnull().values.any()"
      ],
      "execution_count": 55,
      "outputs": [
        {
          "output_type": "execute_result",
          "data": {
            "text/plain": [
              "False"
            ]
          },
          "metadata": {},
          "execution_count": 55
        }
      ]
    },
    {
      "cell_type": "code",
      "metadata": {
        "colab": {
          "base_uri": "https://localhost:8080/",
          "height": 204
        },
        "id": "R10WR0gsMXnf",
        "outputId": "0b086249-3948-4c6d-b8a2-b04748b7cf7c"
      },
      "source": [
        "data_df.head()"
      ],
      "execution_count": 56,
      "outputs": [
        {
          "output_type": "execute_result",
          "data": {
            "text/html": [
              "<div>\n",
              "<style scoped>\n",
              "    .dataframe tbody tr th:only-of-type {\n",
              "        vertical-align: middle;\n",
              "    }\n",
              "\n",
              "    .dataframe tbody tr th {\n",
              "        vertical-align: top;\n",
              "    }\n",
              "\n",
              "    .dataframe thead th {\n",
              "        text-align: right;\n",
              "    }\n",
              "</style>\n",
              "<table border=\"1\" class=\"dataframe\">\n",
              "  <thead>\n",
              "    <tr style=\"text-align: right;\">\n",
              "      <th></th>\n",
              "      <th>datadate</th>\n",
              "      <th>open</th>\n",
              "      <th>high</th>\n",
              "      <th>low</th>\n",
              "      <th>close</th>\n",
              "      <th>adjcp</th>\n",
              "      <th>volume</th>\n",
              "      <th>macd</th>\n",
              "    </tr>\n",
              "  </thead>\n",
              "  <tbody>\n",
              "    <tr>\n",
              "      <th>0</th>\n",
              "      <td>2009-01-02</td>\n",
              "      <td>3.067143</td>\n",
              "      <td>3.251429</td>\n",
              "      <td>3.041429</td>\n",
              "      <td>3.241071</td>\n",
              "      <td>2.782837</td>\n",
              "      <td>746015200</td>\n",
              "      <td>0.000000</td>\n",
              "    </tr>\n",
              "    <tr>\n",
              "      <th>1</th>\n",
              "      <td>2009-01-05</td>\n",
              "      <td>3.327500</td>\n",
              "      <td>3.435000</td>\n",
              "      <td>3.311071</td>\n",
              "      <td>3.377857</td>\n",
              "      <td>2.900283</td>\n",
              "      <td>1181608400</td>\n",
              "      <td>0.002635</td>\n",
              "    </tr>\n",
              "    <tr>\n",
              "      <th>2</th>\n",
              "      <td>2009-01-06</td>\n",
              "      <td>3.426786</td>\n",
              "      <td>3.470357</td>\n",
              "      <td>3.299643</td>\n",
              "      <td>3.322143</td>\n",
              "      <td>2.852447</td>\n",
              "      <td>1289310400</td>\n",
              "      <td>0.001874</td>\n",
              "    </tr>\n",
              "    <tr>\n",
              "      <th>3</th>\n",
              "      <td>2009-01-07</td>\n",
              "      <td>3.278929</td>\n",
              "      <td>3.303571</td>\n",
              "      <td>3.223571</td>\n",
              "      <td>3.250357</td>\n",
              "      <td>2.790810</td>\n",
              "      <td>753048800</td>\n",
              "      <td>-0.000743</td>\n",
              "    </tr>\n",
              "    <tr>\n",
              "      <th>4</th>\n",
              "      <td>2009-01-08</td>\n",
              "      <td>3.229643</td>\n",
              "      <td>3.326786</td>\n",
              "      <td>3.215714</td>\n",
              "      <td>3.310714</td>\n",
              "      <td>2.842633</td>\n",
              "      <td>673500800</td>\n",
              "      <td>-0.000088</td>\n",
              "    </tr>\n",
              "  </tbody>\n",
              "</table>\n",
              "</div>"
            ],
            "text/plain": [
              "    datadate      open      high  ...     adjcp      volume      macd\n",
              "0 2009-01-02  3.067143  3.251429  ...  2.782837   746015200  0.000000\n",
              "1 2009-01-05  3.327500  3.435000  ...  2.900283  1181608400  0.002635\n",
              "2 2009-01-06  3.426786  3.470357  ...  2.852447  1289310400  0.001874\n",
              "3 2009-01-07  3.278929  3.303571  ...  2.790810   753048800 -0.000743\n",
              "4 2009-01-08  3.229643  3.326786  ...  2.842633   673500800 -0.000088\n",
              "\n",
              "[5 rows x 8 columns]"
            ]
          },
          "metadata": {},
          "execution_count": 56
        }
      ]
    },
    {
      "cell_type": "code",
      "metadata": {
        "id": "h0nHXIhQMfSP"
      },
      "source": [
        "# Note that I always use a copy of the original data to try it track step by step.\n",
        "data_clean = data_df.copy()"
      ],
      "execution_count": 57,
      "outputs": []
    },
    {
      "cell_type": "code",
      "metadata": {
        "colab": {
          "base_uri": "https://localhost:8080/",
          "height": 204
        },
        "id": "T8S-eB6CMfUP",
        "outputId": "c1f2b7c1-ad28-4147-e320-57daadb0e5c7"
      },
      "source": [
        "data_clean.head()"
      ],
      "execution_count": 58,
      "outputs": [
        {
          "output_type": "execute_result",
          "data": {
            "text/html": [
              "<div>\n",
              "<style scoped>\n",
              "    .dataframe tbody tr th:only-of-type {\n",
              "        vertical-align: middle;\n",
              "    }\n",
              "\n",
              "    .dataframe tbody tr th {\n",
              "        vertical-align: top;\n",
              "    }\n",
              "\n",
              "    .dataframe thead th {\n",
              "        text-align: right;\n",
              "    }\n",
              "</style>\n",
              "<table border=\"1\" class=\"dataframe\">\n",
              "  <thead>\n",
              "    <tr style=\"text-align: right;\">\n",
              "      <th></th>\n",
              "      <th>datadate</th>\n",
              "      <th>open</th>\n",
              "      <th>high</th>\n",
              "      <th>low</th>\n",
              "      <th>close</th>\n",
              "      <th>adjcp</th>\n",
              "      <th>volume</th>\n",
              "      <th>macd</th>\n",
              "    </tr>\n",
              "  </thead>\n",
              "  <tbody>\n",
              "    <tr>\n",
              "      <th>0</th>\n",
              "      <td>2009-01-02</td>\n",
              "      <td>3.067143</td>\n",
              "      <td>3.251429</td>\n",
              "      <td>3.041429</td>\n",
              "      <td>3.241071</td>\n",
              "      <td>2.782837</td>\n",
              "      <td>746015200</td>\n",
              "      <td>0.000000</td>\n",
              "    </tr>\n",
              "    <tr>\n",
              "      <th>1</th>\n",
              "      <td>2009-01-05</td>\n",
              "      <td>3.327500</td>\n",
              "      <td>3.435000</td>\n",
              "      <td>3.311071</td>\n",
              "      <td>3.377857</td>\n",
              "      <td>2.900283</td>\n",
              "      <td>1181608400</td>\n",
              "      <td>0.002635</td>\n",
              "    </tr>\n",
              "    <tr>\n",
              "      <th>2</th>\n",
              "      <td>2009-01-06</td>\n",
              "      <td>3.426786</td>\n",
              "      <td>3.470357</td>\n",
              "      <td>3.299643</td>\n",
              "      <td>3.322143</td>\n",
              "      <td>2.852447</td>\n",
              "      <td>1289310400</td>\n",
              "      <td>0.001874</td>\n",
              "    </tr>\n",
              "    <tr>\n",
              "      <th>3</th>\n",
              "      <td>2009-01-07</td>\n",
              "      <td>3.278929</td>\n",
              "      <td>3.303571</td>\n",
              "      <td>3.223571</td>\n",
              "      <td>3.250357</td>\n",
              "      <td>2.790810</td>\n",
              "      <td>753048800</td>\n",
              "      <td>-0.000743</td>\n",
              "    </tr>\n",
              "    <tr>\n",
              "      <th>4</th>\n",
              "      <td>2009-01-08</td>\n",
              "      <td>3.229643</td>\n",
              "      <td>3.326786</td>\n",
              "      <td>3.215714</td>\n",
              "      <td>3.310714</td>\n",
              "      <td>2.842633</td>\n",
              "      <td>673500800</td>\n",
              "      <td>-0.000088</td>\n",
              "    </tr>\n",
              "  </tbody>\n",
              "</table>\n",
              "</div>"
            ],
            "text/plain": [
              "    datadate      open      high  ...     adjcp      volume      macd\n",
              "0 2009-01-02  3.067143  3.251429  ...  2.782837   746015200  0.000000\n",
              "1 2009-01-05  3.327500  3.435000  ...  2.900283  1181608400  0.002635\n",
              "2 2009-01-06  3.426786  3.470357  ...  2.852447  1289310400  0.001874\n",
              "3 2009-01-07  3.278929  3.303571  ...  2.790810   753048800 -0.000743\n",
              "4 2009-01-08  3.229643  3.326786  ...  2.842633   673500800 -0.000088\n",
              "\n",
              "[5 rows x 8 columns]"
            ]
          },
          "metadata": {},
          "execution_count": 58
        }
      ]
    },
    {
      "cell_type": "code",
      "metadata": {
        "colab": {
          "base_uri": "https://localhost:8080/",
          "height": 204
        },
        "id": "r2zZwuJhMfbn",
        "outputId": "8cc7be7d-43e3-4836-c4fe-ebf9a27796b7"
      },
      "source": [
        "data_clean.tail()"
      ],
      "execution_count": 59,
      "outputs": [
        {
          "output_type": "execute_result",
          "data": {
            "text/html": [
              "<div>\n",
              "<style scoped>\n",
              "    .dataframe tbody tr th:only-of-type {\n",
              "        vertical-align: middle;\n",
              "    }\n",
              "\n",
              "    .dataframe tbody tr th {\n",
              "        vertical-align: top;\n",
              "    }\n",
              "\n",
              "    .dataframe thead th {\n",
              "        text-align: right;\n",
              "    }\n",
              "</style>\n",
              "<table border=\"1\" class=\"dataframe\">\n",
              "  <thead>\n",
              "    <tr style=\"text-align: right;\">\n",
              "      <th></th>\n",
              "      <th>datadate</th>\n",
              "      <th>open</th>\n",
              "      <th>high</th>\n",
              "      <th>low</th>\n",
              "      <th>close</th>\n",
              "      <th>adjcp</th>\n",
              "      <th>volume</th>\n",
              "      <th>macd</th>\n",
              "    </tr>\n",
              "  </thead>\n",
              "  <tbody>\n",
              "    <tr>\n",
              "      <th>2968</th>\n",
              "      <td>2020-10-16</td>\n",
              "      <td>121.279999</td>\n",
              "      <td>121.550003</td>\n",
              "      <td>118.809998</td>\n",
              "      <td>119.019997</td>\n",
              "      <td>118.259369</td>\n",
              "      <td>115393800</td>\n",
              "      <td>1.635050</td>\n",
              "    </tr>\n",
              "    <tr>\n",
              "      <th>2969</th>\n",
              "      <td>2020-10-19</td>\n",
              "      <td>119.959999</td>\n",
              "      <td>120.419998</td>\n",
              "      <td>115.660004</td>\n",
              "      <td>115.980003</td>\n",
              "      <td>115.238800</td>\n",
              "      <td>120639300</td>\n",
              "      <td>1.337667</td>\n",
              "    </tr>\n",
              "    <tr>\n",
              "      <th>2970</th>\n",
              "      <td>2020-10-20</td>\n",
              "      <td>116.199997</td>\n",
              "      <td>118.980003</td>\n",
              "      <td>115.629997</td>\n",
              "      <td>117.510002</td>\n",
              "      <td>116.759033</td>\n",
              "      <td>124423700</td>\n",
              "      <td>1.210703</td>\n",
              "    </tr>\n",
              "    <tr>\n",
              "      <th>2971</th>\n",
              "      <td>2020-10-21</td>\n",
              "      <td>116.669998</td>\n",
              "      <td>118.709999</td>\n",
              "      <td>116.449997</td>\n",
              "      <td>116.870003</td>\n",
              "      <td>116.123123</td>\n",
              "      <td>89946000</td>\n",
              "      <td>1.046705</td>\n",
              "    </tr>\n",
              "    <tr>\n",
              "      <th>2972</th>\n",
              "      <td>2020-10-22</td>\n",
              "      <td>117.449997</td>\n",
              "      <td>118.040001</td>\n",
              "      <td>114.589996</td>\n",
              "      <td>115.750000</td>\n",
              "      <td>115.010269</td>\n",
              "      <td>101988000</td>\n",
              "      <td>0.817513</td>\n",
              "    </tr>\n",
              "  </tbody>\n",
              "</table>\n",
              "</div>"
            ],
            "text/plain": [
              "       datadate        open        high  ...       adjcp     volume      macd\n",
              "2968 2020-10-16  121.279999  121.550003  ...  118.259369  115393800  1.635050\n",
              "2969 2020-10-19  119.959999  120.419998  ...  115.238800  120639300  1.337667\n",
              "2970 2020-10-20  116.199997  118.980003  ...  116.759033  124423700  1.210703\n",
              "2971 2020-10-21  116.669998  118.709999  ...  116.123123   89946000  1.046705\n",
              "2972 2020-10-22  117.449997  118.040001  ...  115.010269  101988000  0.817513\n",
              "\n",
              "[5 rows x 8 columns]"
            ]
          },
          "metadata": {},
          "execution_count": 59
        }
      ]
    },
    {
      "cell_type": "code",
      "metadata": {
        "id": "7tqJMpsuMfeI"
      },
      "source": [
        "import numpy as np\n",
        "import pandas as pd\n",
        "from gym.utils import seeding\n",
        "import gym\n",
        "from gym import spaces\n",
        "import matplotlib\n",
        "matplotlib.use('Agg')\n",
        "import matplotlib.pyplot as plt\n",
        "\n",
        "# Global variables\n",
        "HMAX_NORMALIZE = 200\n",
        "INITIAL_ACCOUNT_BALANCE=100000\n",
        "STOCK_DIM = 1\n",
        "\n",
        "# transaction fee: 1/1000 reasonable percentage\n",
        "TRANSACTION_FEE_PERCENT = 0.001\n",
        "# REWARD_SCALING = 1e-3\n",
        "\n",
        "\n",
        "class SingleStockEnv(gym.Env):\n",
        "    \"\"\"A stock trading environment for OpenAI gym\"\"\"\n",
        "    metadata = {'render.modes': ['human']}\n",
        "\n",
        "    def __init__(self, df,day = 0):\n",
        "        #super(StockEnv, self).__init__()\n",
        "        # date increment\n",
        "        self.day = day\n",
        "        self.df = df\n",
        "        # action_space normalization and the shape is STOCK_DIM\n",
        "        self.action_space = spaces.Box(low = -1, high = 1,shape = (STOCK_DIM,)) \n",
        "        # Shape = 4: [Current Balance]+[prices]+[owned shares] +[macd] \n",
        "        self.observation_space = spaces.Box(low=0, high=np.inf, shape = (4,))\n",
        "        # load data from a pandas dataframe\n",
        "        self.data = self.df.loc[self.day,:]\n",
        "        # termination\n",
        "        self.terminal = False  \n",
        "        # save the total number of trades\n",
        "        self.trades = 0\n",
        "        # initalize state\n",
        "        self.state = [INITIAL_ACCOUNT_BALANCE] + \\\n",
        "                      [self.data.adjcp] + \\\n",
        "                      [0]*STOCK_DIM + \\\n",
        "                      [self.data.macd] \n",
        "        # initialize reward and cost\n",
        "        self.reward = 0\n",
        "        self.cost = 0\n",
        "        \n",
        "        # memorize the total value, total rewards\n",
        "        self.asset_memory = [INITIAL_ACCOUNT_BALANCE]\n",
        "        self.rewards_memory = []\n",
        "\n",
        "    def _sell_stock(self, index, action):\n",
        "        # perform sell action based on the sign of the action\n",
        "        if self.state[index+STOCK_DIM+1] > 0:\n",
        "            # update balance\n",
        "            self.state[0] += \\\n",
        "            self.state[index+1]*min(abs(action),self.state[index+STOCK_DIM+1]) * \\\n",
        "             (1- TRANSACTION_FEE_PERCENT)\n",
        "            # update held shares\n",
        "            self.state[index+STOCK_DIM+1] -= min(abs(action), self.state[index+STOCK_DIM+1])\n",
        "            # update transaction costs\n",
        "            self.cost +=self.state[index+1]*min(abs(action),self.state[index+STOCK_DIM+1]) * \\\n",
        "             TRANSACTION_FEE_PERCENT\n",
        "            self.trades+=1\n",
        "        else:\n",
        "            pass\n",
        "            \n",
        "    def _buy_stock(self, index, action):\n",
        "        # perform buy action based on the sign of the action\n",
        "        available_amount = self.state[0] // self.state[index+1]\n",
        "        #update balance\n",
        "        self.state[0] -= self.state[index+1]*min(available_amount, action)* \\\n",
        "                          (1+ TRANSACTION_FEE_PERCENT)\n",
        "        # update held shares\n",
        "        self.state[index+STOCK_DIM+1] += min(available_amount, action)\n",
        "        # update transaction costs\n",
        "        self.cost+=self.state[index+1]*min(available_amount, action)* \\\n",
        "                          TRANSACTION_FEE_PERCENT\n",
        "        self.trades+=1\n",
        "        \n",
        "    def step(self, actions):\n",
        "        self.terminal = self.day >= len(self.df.index.unique())-1\n",
        "\n",
        "        if self.terminal:\n",
        "            plt.plot(self.asset_memory,'r')\n",
        "            plt.savefig('account_value.png')\n",
        "            plt.close()\n",
        "            \n",
        "            end_total_asset = self.state[0]+ \\\n",
        "            sum(np.array(self.state[1:(STOCK_DIM+1)])*np.array(self.state[(STOCK_DIM+1):(STOCK_DIM*2+1)]))\n",
        "            print(\"previous_total_asset:{}\".format(self.asset_memory[0])) \n",
        "            print(\"end_total_asset:{}\".format(end_total_asset))\n",
        "            \n",
        "            df_total_value = pd.DataFrame(self.asset_memory)\n",
        "            df_total_value.to_csv('account_value.csv')\n",
        "            print(\"total_reward:{}\".format(self.state[0]+sum(np.array(self.state[1:(STOCK_DIM+1)])*np.array(self.state[(STOCK_DIM+1):(STOCK_DIM*2+1)]))- INITIAL_ACCOUNT_BALANCE ))\n",
        "            print(\"total_cost: \", self.cost)\n",
        "            print(\"total trades: \", self.trades)\n",
        "            \n",
        "            df_total_value.columns = ['account_value']\n",
        "            df_total_value['daily_return']=df_total_value.pct_change(1)\n",
        "            \n",
        "            if df_total_value['daily_return'].std()!=0:\n",
        "                sharpe = (252**0.5)*df_total_value['daily_return'].mean()/ \\\n",
        "                      df_total_value['daily_return'].std()\n",
        "                print(\"Sharpe: \",sharpe)\n",
        "            df_rewards = pd.DataFrame(self.rewards_memory)\n",
        "            df_rewards.to_csv('account_rewards.csv')\n",
        "            return self.state, self.reward, self.terminal,{}\n",
        "\n",
        "        else:\n",
        "            \n",
        "            # actions are the shares we need to buy, hold, or sell\n",
        "            actions = actions * HMAX_NORMALIZE\n",
        "            # calculate begining total asset\n",
        "            begin_total_asset = self.state[0]+ \\\n",
        "            sum(np.array(self.state[1:(STOCK_DIM+1)])*np.array(self.state[(STOCK_DIM+1):(STOCK_DIM*2+1)]))\n",
        "            \n",
        "            # perform buy or sell action\n",
        "            argsort_actions = np.argsort(actions)\n",
        "            sell_index = argsort_actions[:np.where(actions < 0)[0].shape[0]]\n",
        "            buy_index = argsort_actions[::-1][:np.where(actions > 0)[0].shape[0]]\n",
        "\n",
        "            for index in sell_index:\n",
        "                # print('take sell action'.format(actions[index]))\n",
        "                self._sell_stock(index, actions[index])\n",
        "\n",
        "            for index in buy_index:\n",
        "                # print('take buy action: {}'.format(actions[index]))\n",
        "                self._buy_stock(index, actions[index])\n",
        "            \n",
        "            # update data, walk a step s'\n",
        "            self.day += 1\n",
        "            self.data = self.df.loc[self.day,:]         \n",
        "            #load next state\n",
        "            self.state =  [self.state[0]] + \\\n",
        "                          [self.data.adjcp] + \\\n",
        "                          list(self.state[(STOCK_DIM+1):(STOCK_DIM*2+1)]) +\\\n",
        "                          [self.data.macd]\n",
        "                        \n",
        "            # calculate the end total asset\n",
        "            end_total_asset = self.state[0]+ \\\n",
        "            sum(np.array(self.state[1:(STOCK_DIM+1)])*np.array(self.state[(STOCK_DIM+1):(STOCK_DIM*2+1)]))\n",
        "            self.reward = end_total_asset - begin_total_asset  \n",
        "            self.rewards_memory.append(self.reward)\n",
        "            #self.reward = self.reward * REWARD_SCALING\n",
        "            self.asset_memory.append(end_total_asset)\n",
        "\n",
        "        return self.state, self.reward, self.terminal, {}\n",
        "\n",
        "    def reset(self):\n",
        "        self.asset_memory = [INITIAL_ACCOUNT_BALANCE]\n",
        "        self.day = 0\n",
        "        self.data = self.df.loc[self.day,:]\n",
        "        self.cost = 0\n",
        "        self.trades = 0\n",
        "        self.terminal = False \n",
        "        self.rewards_memory = []\n",
        "        #initiate state\n",
        "        self.state = [INITIAL_ACCOUNT_BALANCE] + \\\n",
        "                      [self.data.adjcp] + \\\n",
        "                      [0]*STOCK_DIM + \\\n",
        "                      [self.data.macd]\n",
        "        return self.state\n",
        "    \n",
        "    def render(self, mode='human'):\n",
        "        return self.state\n",
        "\n",
        "    def _seed(self, seed=None):\n",
        "        self.np_random, seed = seeding.np_random(seed)\n",
        "        return [seed]"
      ],
      "execution_count": 60,
      "outputs": []
    },
    {
      "cell_type": "code",
      "metadata": {
        "id": "lJLUkkcXMfgY"
      },
      "source": [
        "train = data_clean[(data_clean.datadate>='2009-01-01') & (data_clean.datadate<'2019-01-01')]\n",
        "# the index needs to start from 0\n",
        "train=train.reset_index(drop=True)"
      ],
      "execution_count": 61,
      "outputs": []
    },
    {
      "cell_type": "code",
      "metadata": {
        "colab": {
          "base_uri": "https://localhost:8080/",
          "height": 204
        },
        "id": "WapTIRiLMfin",
        "outputId": "80d957ae-5e5e-407b-b1d4-86cdf92fc217"
      },
      "source": [
        "train.head()"
      ],
      "execution_count": 62,
      "outputs": [
        {
          "output_type": "execute_result",
          "data": {
            "text/html": [
              "<div>\n",
              "<style scoped>\n",
              "    .dataframe tbody tr th:only-of-type {\n",
              "        vertical-align: middle;\n",
              "    }\n",
              "\n",
              "    .dataframe tbody tr th {\n",
              "        vertical-align: top;\n",
              "    }\n",
              "\n",
              "    .dataframe thead th {\n",
              "        text-align: right;\n",
              "    }\n",
              "</style>\n",
              "<table border=\"1\" class=\"dataframe\">\n",
              "  <thead>\n",
              "    <tr style=\"text-align: right;\">\n",
              "      <th></th>\n",
              "      <th>datadate</th>\n",
              "      <th>open</th>\n",
              "      <th>high</th>\n",
              "      <th>low</th>\n",
              "      <th>close</th>\n",
              "      <th>adjcp</th>\n",
              "      <th>volume</th>\n",
              "      <th>macd</th>\n",
              "    </tr>\n",
              "  </thead>\n",
              "  <tbody>\n",
              "    <tr>\n",
              "      <th>0</th>\n",
              "      <td>2009-01-02</td>\n",
              "      <td>3.067143</td>\n",
              "      <td>3.251429</td>\n",
              "      <td>3.041429</td>\n",
              "      <td>3.241071</td>\n",
              "      <td>2.782837</td>\n",
              "      <td>746015200</td>\n",
              "      <td>0.000000</td>\n",
              "    </tr>\n",
              "    <tr>\n",
              "      <th>1</th>\n",
              "      <td>2009-01-05</td>\n",
              "      <td>3.327500</td>\n",
              "      <td>3.435000</td>\n",
              "      <td>3.311071</td>\n",
              "      <td>3.377857</td>\n",
              "      <td>2.900283</td>\n",
              "      <td>1181608400</td>\n",
              "      <td>0.002635</td>\n",
              "    </tr>\n",
              "    <tr>\n",
              "      <th>2</th>\n",
              "      <td>2009-01-06</td>\n",
              "      <td>3.426786</td>\n",
              "      <td>3.470357</td>\n",
              "      <td>3.299643</td>\n",
              "      <td>3.322143</td>\n",
              "      <td>2.852447</td>\n",
              "      <td>1289310400</td>\n",
              "      <td>0.001874</td>\n",
              "    </tr>\n",
              "    <tr>\n",
              "      <th>3</th>\n",
              "      <td>2009-01-07</td>\n",
              "      <td>3.278929</td>\n",
              "      <td>3.303571</td>\n",
              "      <td>3.223571</td>\n",
              "      <td>3.250357</td>\n",
              "      <td>2.790810</td>\n",
              "      <td>753048800</td>\n",
              "      <td>-0.000743</td>\n",
              "    </tr>\n",
              "    <tr>\n",
              "      <th>4</th>\n",
              "      <td>2009-01-08</td>\n",
              "      <td>3.229643</td>\n",
              "      <td>3.326786</td>\n",
              "      <td>3.215714</td>\n",
              "      <td>3.310714</td>\n",
              "      <td>2.842633</td>\n",
              "      <td>673500800</td>\n",
              "      <td>-0.000088</td>\n",
              "    </tr>\n",
              "  </tbody>\n",
              "</table>\n",
              "</div>"
            ],
            "text/plain": [
              "    datadate      open      high  ...     adjcp      volume      macd\n",
              "0 2009-01-02  3.067143  3.251429  ...  2.782837   746015200  0.000000\n",
              "1 2009-01-05  3.327500  3.435000  ...  2.900283  1181608400  0.002635\n",
              "2 2009-01-06  3.426786  3.470357  ...  2.852447  1289310400  0.001874\n",
              "3 2009-01-07  3.278929  3.303571  ...  2.790810   753048800 -0.000743\n",
              "4 2009-01-08  3.229643  3.326786  ...  2.842633   673500800 -0.000088\n",
              "\n",
              "[5 rows x 8 columns]"
            ]
          },
          "metadata": {},
          "execution_count": 62
        }
      ]
    },
    {
      "cell_type": "code",
      "metadata": {
        "id": "ivaxSD72Mfk8"
      },
      "source": [
        ""
      ],
      "execution_count": 63,
      "outputs": []
    },
    {
      "cell_type": "code",
      "metadata": {
        "colab": {
          "base_uri": "https://localhost:8080/"
        },
        "id": "yLQ2m3mgr7oH",
        "outputId": "089256a6-d4e4-446c-c6fc-18f56801b1e7"
      },
      "source": [
        ""
      ],
      "execution_count": 65,
      "outputs": [
        {
          "output_type": "execute_result",
          "data": {
            "text/plain": [
              "<stable_baselines.ppo2.ppo2.PPO2 at 0x7f1151c6d8d0>"
            ]
          },
          "metadata": {},
          "execution_count": 65
        }
      ]
    },
    {
      "cell_type": "markdown",
      "metadata": {
        "id": "4MK2pqBcMuuS"
      },
      "source": [
        "## Model Training: 4 models, PPO A2C, DDPG, TD3\n",
        "## Model 1: PPO"
      ]
    },
    {
      "cell_type": "code",
      "metadata": {
        "id": "Djs1LEA6MrFB"
      },
      "source": [
        "#tensorboard --logdir ./single_stock_tensorboard/\n",
        "env_train = DummyVecEnv([lambda: SingleStockEnv(train)])\n",
        "model_ppo = PPO2('MlpPolicy', env_train, tensorboard_log=\"./single_stock_trading_2_tensorboard/\")\n",
        "model_ppo.learn(total_timesteps=100000,tb_log_name=\"run_aapl_ppo\")\n",
        "#model_ppo.save('AAPL_ppo_100k')"
      ],
      "execution_count": null,
      "outputs": []
    },
    {
      "cell_type": "code",
      "metadata": {
        "id": "Pz78bMGqUEf2"
      },
      "source": [
        "model_ppo.save('AAPL_ppo_100k')"
      ],
      "execution_count": 35,
      "outputs": []
    },
    {
      "cell_type": "markdown",
      "metadata": {
        "id": "ueEkFg0lMx-K"
      },
      "source": [
        "## Model 2: DDPG"
      ]
    },
    {
      "cell_type": "code",
      "metadata": {
        "colab": {
          "base_uri": "https://localhost:8080/"
        },
        "id": "RsrxvOFeMrHh",
        "outputId": "e108e607-5262-4e7e-c11c-da9a70f9ad14"
      },
      "source": [
        "#tensorboard --logdir ./single_stock_tensorboard/\n",
        "env_train = DummyVecEnv([lambda: SingleStockEnv(train)])\n",
        "model_ddpg = DDPG('MlpPolicy', env_train, tensorboard_log=\"./single_stock_trading_2_tensorboard/\")\n",
        "model_ddpg.learn(total_timesteps=100000, tb_log_name=\"run_aapl_ddpg\")\n",
        "#model_ddpg.save('AAPL_ddpg_50k')"
      ],
      "execution_count": 23,
      "outputs": [
        {
          "output_type": "stream",
          "name": "stdout",
          "text": [
            "WARNING:tensorflow:From /usr/local/lib/python3.7/dist-packages/stable_baselines/ddpg/policies.py:136: dense (from tensorflow.python.layers.core) is deprecated and will be removed in a future version.\n",
            "Instructions for updating:\n",
            "Use keras.layers.Dense instead.\n",
            "WARNING:tensorflow:From /usr/local/lib/python3.7/dist-packages/stable_baselines/common/tf_util.py:449: The name tf.get_collection is deprecated. Please use tf.compat.v1.get_collection instead.\n",
            "\n",
            "WARNING:tensorflow:From /usr/local/lib/python3.7/dist-packages/stable_baselines/common/tf_util.py:449: The name tf.GraphKeys is deprecated. Please use tf.compat.v1.GraphKeys instead.\n",
            "\n",
            "WARNING:tensorflow:From /usr/local/lib/python3.7/dist-packages/stable_baselines/ddpg/ddpg.py:94: The name tf.assign is deprecated. Please use tf.compat.v1.assign instead.\n",
            "\n",
            "WARNING:tensorflow:From /usr/local/lib/python3.7/dist-packages/stable_baselines/ddpg/ddpg.py:444: The name tf.global_variables is deprecated. Please use tf.compat.v1.global_variables instead.\n",
            "\n",
            "WARNING:tensorflow:From /usr/local/lib/python3.7/dist-packages/stable_baselines/common/tf_util.py:432: The name tf.get_default_session is deprecated. Please use tf.compat.v1.get_default_session instead.\n",
            "\n",
            "previous_total_asset:100000\n",
            "end_total_asset:530908.1766271881\n",
            "total_reward:430908.1766271881\n",
            "total_cost:  99.89333938293836\n",
            "total trades:  2515\n",
            "Sharpe:  0.8251849605200376\n",
            "previous_total_asset:100000\n",
            "end_total_asset:1078671.8280249892\n",
            "total_reward:978671.8280249892\n",
            "total_cost:  99.89525613572103\n",
            "total trades:  2515\n",
            "Sharpe:  1.0699754663297811\n",
            "previous_total_asset:100000\n",
            "end_total_asset:1078694.0364561095\n",
            "total_reward:978694.0364561095\n",
            "total_cost:  99.89726113786145\n",
            "total trades:  2515\n",
            "Sharpe:  1.0699793435050144\n",
            "previous_total_asset:100000\n",
            "end_total_asset:1078694.239338922\n",
            "total_reward:978694.2393389221\n",
            "total_cost:  99.89727936634799\n",
            "total trades:  2515\n",
            "Sharpe:  1.069979379009816\n",
            "previous_total_asset:100000\n",
            "end_total_asset:1078694.2409664027\n",
            "total_reward:978694.2409664027\n",
            "total_cost:  99.89727949373614\n",
            "total trades:  2515\n",
            "Sharpe:  1.0699793793213281\n",
            "previous_total_asset:100000\n",
            "end_total_asset:1078694.2409664027\n",
            "total_reward:978694.2409664027\n",
            "total_cost:  99.89727949373614\n",
            "total trades:  2515\n",
            "Sharpe:  1.0699793793213281\n",
            "previous_total_asset:100000\n",
            "end_total_asset:1078694.2409664027\n",
            "total_reward:978694.2409664027\n",
            "total_cost:  99.89727949373614\n",
            "total trades:  2515\n",
            "Sharpe:  1.0699793793213281\n",
            "previous_total_asset:100000\n",
            "end_total_asset:1078694.2415088965\n",
            "total_reward:978694.2415088965\n",
            "total_cost:  99.89727953619885\n",
            "total trades:  2515\n",
            "Sharpe:  1.0699793794251664\n",
            "previous_total_asset:100000\n",
            "end_total_asset:1078694.2415088965\n",
            "total_reward:978694.2415088965\n",
            "total_cost:  99.89727953619885\n",
            "total trades:  2515\n",
            "Sharpe:  1.0699793794251664\n",
            "previous_total_asset:100000\n",
            "end_total_asset:1078694.2425938835\n",
            "total_reward:978694.2425938835\n",
            "total_cost:  99.89727962112428\n",
            "total trades:  2515\n",
            "Sharpe:  1.0699793796328365\n",
            "previous_total_asset:100000\n",
            "end_total_asset:1078694.2425938835\n",
            "total_reward:978694.2425938835\n",
            "total_cost:  99.89727962112428\n",
            "total trades:  2515\n",
            "Sharpe:  1.0699793796328365\n",
            "previous_total_asset:100000\n",
            "end_total_asset:1078694.2425938835\n",
            "total_reward:978694.2425938835\n",
            "total_cost:  99.89727962112428\n",
            "total trades:  2515\n",
            "Sharpe:  1.0699793796328365\n",
            "previous_total_asset:100000\n",
            "end_total_asset:1078694.2425938835\n",
            "total_reward:978694.2425938835\n",
            "total_cost:  99.89727962112428\n",
            "total trades:  2515\n",
            "Sharpe:  1.0699793796328365\n",
            "previous_total_asset:100000\n",
            "end_total_asset:1078694.2425938835\n",
            "total_reward:978694.2425938835\n",
            "total_cost:  99.89727962112428\n",
            "total trades:  2515\n",
            "Sharpe:  1.0699793796328365\n",
            "previous_total_asset:100000\n",
            "end_total_asset:1078694.2425938835\n",
            "total_reward:978694.2425938835\n",
            "total_cost:  99.89727962112428\n",
            "total trades:  2515\n",
            "Sharpe:  1.0699793796328365\n",
            "previous_total_asset:100000\n",
            "end_total_asset:1078694.2425938835\n",
            "total_reward:978694.2425938835\n",
            "total_cost:  99.89727962112428\n",
            "total trades:  2515\n",
            "Sharpe:  1.0699793796328365\n",
            "previous_total_asset:100000\n",
            "end_total_asset:1078694.2425938835\n",
            "total_reward:978694.2425938835\n",
            "total_cost:  99.89727962112428\n",
            "total trades:  2515\n",
            "Sharpe:  1.0699793796328365\n",
            "previous_total_asset:100000\n",
            "end_total_asset:1078694.2425938835\n",
            "total_reward:978694.2425938835\n",
            "total_cost:  99.89727962112428\n",
            "total trades:  2515\n",
            "Sharpe:  1.0699793796328365\n",
            "previous_total_asset:100000\n",
            "end_total_asset:1078694.2425938835\n",
            "total_reward:978694.2425938835\n",
            "total_cost:  99.89727962112428\n",
            "total trades:  2515\n",
            "Sharpe:  1.0699793796328365\n",
            "previous_total_asset:100000\n",
            "end_total_asset:1078694.2425938835\n",
            "total_reward:978694.2425938835\n",
            "total_cost:  99.89727962112428\n",
            "total trades:  2515\n",
            "Sharpe:  1.0699793796328365\n",
            "previous_total_asset:100000\n",
            "end_total_asset:1078694.2425938835\n",
            "total_reward:978694.2425938835\n",
            "total_cost:  99.89727962112428\n",
            "total trades:  2515\n",
            "Sharpe:  1.0699793796328365\n",
            "previous_total_asset:100000\n",
            "end_total_asset:1078694.2425938835\n",
            "total_reward:978694.2425938835\n",
            "total_cost:  99.89727962112428\n",
            "total trades:  2515\n",
            "Sharpe:  1.0699793796328365\n",
            "previous_total_asset:100000\n",
            "end_total_asset:1078694.2425938835\n",
            "total_reward:978694.2425938835\n",
            "total_cost:  99.89727962112428\n",
            "total trades:  2515\n",
            "Sharpe:  1.0699793796328365\n",
            "previous_total_asset:100000\n",
            "end_total_asset:1078694.2425938835\n",
            "total_reward:978694.2425938835\n",
            "total_cost:  99.89727962112428\n",
            "total trades:  2515\n",
            "Sharpe:  1.0699793796328365\n",
            "previous_total_asset:100000\n",
            "end_total_asset:1078694.2425938835\n",
            "total_reward:978694.2425938835\n",
            "total_cost:  99.89727962112428\n",
            "total trades:  2515\n",
            "Sharpe:  1.0699793796328365\n",
            "previous_total_asset:100000\n",
            "end_total_asset:1078694.2425938835\n",
            "total_reward:978694.2425938835\n",
            "total_cost:  99.89727962112428\n",
            "total trades:  2515\n",
            "Sharpe:  1.0699793796328365\n",
            "previous_total_asset:100000\n",
            "end_total_asset:1078694.2425938835\n",
            "total_reward:978694.2425938835\n",
            "total_cost:  99.89727962112428\n",
            "total trades:  2515\n",
            "Sharpe:  1.0699793796328365\n",
            "previous_total_asset:100000\n",
            "end_total_asset:1078694.2425938835\n",
            "total_reward:978694.2425938835\n",
            "total_cost:  99.89727962112428\n",
            "total trades:  2515\n",
            "Sharpe:  1.0699793796328365\n",
            "previous_total_asset:100000\n",
            "end_total_asset:1078694.2425938835\n",
            "total_reward:978694.2425938835\n",
            "total_cost:  99.89727962112428\n",
            "total trades:  2515\n",
            "Sharpe:  1.0699793796328365\n",
            "previous_total_asset:100000\n",
            "end_total_asset:1078694.2425938835\n",
            "total_reward:978694.2425938835\n",
            "total_cost:  99.89727962112428\n",
            "total trades:  2515\n",
            "Sharpe:  1.0699793796328365\n",
            "previous_total_asset:100000\n",
            "end_total_asset:1078694.2425938835\n",
            "total_reward:978694.2425938835\n",
            "total_cost:  99.89727962112428\n",
            "total trades:  2515\n",
            "Sharpe:  1.0699793796328365\n",
            "previous_total_asset:100000\n",
            "end_total_asset:1078694.2425938835\n",
            "total_reward:978694.2425938835\n",
            "total_cost:  99.89727962112428\n",
            "total trades:  2515\n",
            "Sharpe:  1.0699793796328365\n",
            "previous_total_asset:100000\n",
            "end_total_asset:1078694.2425938835\n",
            "total_reward:978694.2425938835\n",
            "total_cost:  99.89727962112428\n",
            "total trades:  2515\n",
            "Sharpe:  1.0699793796328365\n",
            "previous_total_asset:100000\n",
            "end_total_asset:1078694.2425938835\n",
            "total_reward:978694.2425938835\n",
            "total_cost:  99.89727962112428\n",
            "total trades:  2515\n",
            "Sharpe:  1.0699793796328365\n",
            "previous_total_asset:100000\n",
            "end_total_asset:1078694.2425938835\n",
            "total_reward:978694.2425938835\n",
            "total_cost:  99.89727962112428\n",
            "total trades:  2515\n",
            "Sharpe:  1.0699793796328365\n",
            "previous_total_asset:100000\n",
            "end_total_asset:1078694.2425938835\n",
            "total_reward:978694.2425938835\n",
            "total_cost:  99.89727962112428\n",
            "total trades:  2515\n",
            "Sharpe:  1.0699793796328365\n",
            "previous_total_asset:100000\n",
            "end_total_asset:1078694.2425938835\n",
            "total_reward:978694.2425938835\n",
            "total_cost:  99.89727962112428\n",
            "total trades:  2515\n",
            "Sharpe:  1.0699793796328365\n",
            "previous_total_asset:100000\n",
            "end_total_asset:1078694.2425938835\n",
            "total_reward:978694.2425938835\n",
            "total_cost:  99.89727962112428\n",
            "total trades:  2515\n",
            "Sharpe:  1.0699793796328365\n",
            "previous_total_asset:100000\n",
            "end_total_asset:1078694.2425938835\n",
            "total_reward:978694.2425938835\n",
            "total_cost:  99.89727962112428\n",
            "total trades:  2515\n",
            "Sharpe:  1.0699793796328365\n"
          ]
        },
        {
          "output_type": "execute_result",
          "data": {
            "text/plain": [
              "<stable_baselines.ddpg.ddpg.DDPG at 0x7f1159791e50>"
            ]
          },
          "metadata": {},
          "execution_count": 23
        }
      ]
    },
    {
      "cell_type": "code",
      "metadata": {
        "id": "t8hWrvRUUBOe"
      },
      "source": [
        "model_ddpg.save('AAPL_ddpg_50k')"
      ],
      "execution_count": 34,
      "outputs": []
    },
    {
      "cell_type": "markdown",
      "metadata": {
        "id": "KNHoxOO5M3RS"
      },
      "source": [
        "## Model 3: A2C"
      ]
    },
    {
      "cell_type": "code",
      "metadata": {
        "colab": {
          "base_uri": "https://localhost:8080/"
        },
        "id": "pLs51LfZMrJx",
        "outputId": "d5f26ebe-829c-4c12-917c-ce0793a67699"
      },
      "source": [
        "#tensorboard --logdir ./single_stock_tensorboard/\n",
        "env_train = DummyVecEnv([lambda: SingleStockEnv(train)])\n",
        "model_a2c = A2C('MlpPolicy', env_train, tensorboard_log=\"./single_stock_trading_2_tensorboard/\")\n",
        "model_a2c.learn(total_timesteps=100000,tb_log_name=\"run_aapl_a2c\")\n",
        "#model_a2c.save('AAPL_a2c_50k')"
      ],
      "execution_count": 24,
      "outputs": [
        {
          "output_type": "stream",
          "name": "stdout",
          "text": [
            "WARNING:tensorflow:From /usr/local/lib/python3.7/dist-packages/stable_baselines/a2c/a2c.py:184: The name tf.train.RMSPropOptimizer is deprecated. Please use tf.compat.v1.train.RMSPropOptimizer instead.\n",
            "\n",
            "WARNING:tensorflow:From /usr/local/lib/python3.7/dist-packages/tensorflow_core/python/training/rmsprop.py:119: calling Ones.__init__ (from tensorflow.python.ops.init_ops) with dtype is deprecated and will be removed in a future version.\n",
            "Instructions for updating:\n",
            "Call initializer instance with the dtype argument instead of passing it to the constructor\n",
            "previous_total_asset:100000\n",
            "end_total_asset:254239.59154683637\n",
            "total_reward:154239.59154683637\n",
            "total_cost:  6362.935895954918\n",
            "total trades:  2515\n",
            "Sharpe:  0.7317203215967037\n",
            "previous_total_asset:100000\n",
            "end_total_asset:249916.19740752212\n",
            "total_reward:149916.19740752212\n",
            "total_cost:  6603.823403136722\n",
            "total trades:  2514\n",
            "Sharpe:  0.6448699009435445\n",
            "previous_total_asset:100000\n",
            "end_total_asset:621594.1094674462\n",
            "total_reward:521594.1094674462\n",
            "total_cost:  6491.033704666397\n",
            "total trades:  2514\n",
            "Sharpe:  0.9180623924831595\n",
            "previous_total_asset:100000\n",
            "end_total_asset:657301.1662907135\n",
            "total_reward:557301.1662907135\n",
            "total_cost:  6906.766211603344\n",
            "total trades:  2515\n",
            "Sharpe:  0.9490596606172836\n",
            "previous_total_asset:100000\n",
            "end_total_asset:888767.7344412032\n",
            "total_reward:788767.7344412032\n",
            "total_cost:  4749.658908376857\n",
            "total trades:  2515\n",
            "Sharpe:  1.0178306722621673\n",
            "previous_total_asset:100000\n",
            "end_total_asset:975876.0637772357\n",
            "total_reward:875876.0637772357\n",
            "total_cost:  6503.115876180346\n",
            "total trades:  2513\n",
            "Sharpe:  1.0452593507041092\n",
            "previous_total_asset:100000\n",
            "end_total_asset:901481.787383258\n",
            "total_reward:801481.787383258\n",
            "total_cost:  6891.121072140605\n",
            "total trades:  2515\n",
            "Sharpe:  1.0395698848550226\n",
            "previous_total_asset:100000\n",
            "end_total_asset:903063.7807281339\n",
            "total_reward:803063.7807281339\n",
            "total_cost:  6858.937463219567\n",
            "total trades:  2515\n",
            "Sharpe:  1.0332071015661246\n",
            "previous_total_asset:100000\n",
            "end_total_asset:934997.7450630157\n",
            "total_reward:834997.7450630157\n",
            "total_cost:  6003.214341787868\n",
            "total trades:  2515\n",
            "Sharpe:  1.0381134659236324\n",
            "previous_total_asset:100000\n",
            "end_total_asset:1052140.686209839\n",
            "total_reward:952140.6862098391\n",
            "total_cost:  6671.912129133201\n",
            "total trades:  2515\n",
            "Sharpe:  1.063510694680513\n",
            "previous_total_asset:100000\n",
            "end_total_asset:1042566.9724039709\n",
            "total_reward:942566.9724039709\n",
            "total_cost:  8809.887944261676\n",
            "total trades:  2515\n",
            "Sharpe:  1.0620615472173658\n",
            "previous_total_asset:100000\n",
            "end_total_asset:1032121.905842514\n",
            "total_reward:932121.905842514\n",
            "total_cost:  8164.294445689938\n",
            "total trades:  2515\n",
            "Sharpe:  1.0616502474822787\n",
            "previous_total_asset:100000\n",
            "end_total_asset:1030104.6382997842\n",
            "total_reward:930104.6382997842\n",
            "total_cost:  9299.401873944178\n",
            "total trades:  2515\n",
            "Sharpe:  1.059258259635309\n",
            "previous_total_asset:100000\n",
            "end_total_asset:1054939.3367994807\n",
            "total_reward:954939.3367994807\n",
            "total_cost:  8225.831834015953\n",
            "total trades:  2515\n",
            "Sharpe:  1.0654904792670652\n",
            "previous_total_asset:100000\n",
            "end_total_asset:1072619.1468533417\n",
            "total_reward:972619.1468533417\n",
            "total_cost:  538.8120081179649\n",
            "total trades:  2515\n",
            "Sharpe:  1.0688958172562955\n",
            "previous_total_asset:100000\n",
            "end_total_asset:1078814.4086369253\n",
            "total_reward:978814.4086369253\n",
            "total_cost:  155.04064990277098\n",
            "total trades:  2515\n",
            "Sharpe:  1.0700690977511844\n",
            "previous_total_asset:100000\n",
            "end_total_asset:1078694.2425938835\n",
            "total_reward:978694.2425938835\n",
            "total_cost:  99.89727962112428\n",
            "total trades:  2515\n",
            "Sharpe:  1.0699793796328365\n",
            "previous_total_asset:100000\n",
            "end_total_asset:1078694.2425938835\n",
            "total_reward:978694.2425938835\n",
            "total_cost:  99.89727962112428\n",
            "total trades:  2515\n",
            "Sharpe:  1.0699793796328365\n",
            "previous_total_asset:100000\n",
            "end_total_asset:1078694.2425938835\n",
            "total_reward:978694.2425938835\n",
            "total_cost:  99.89727962112428\n",
            "total trades:  2515\n",
            "Sharpe:  1.0699793796328365\n",
            "previous_total_asset:100000\n",
            "end_total_asset:1078694.2425938835\n",
            "total_reward:978694.2425938835\n",
            "total_cost:  99.89727962112428\n",
            "total trades:  2515\n",
            "Sharpe:  1.0699793796328365\n",
            "previous_total_asset:100000\n",
            "end_total_asset:1078694.2425938835\n",
            "total_reward:978694.2425938835\n",
            "total_cost:  99.89727962112428\n",
            "total trades:  2515\n",
            "Sharpe:  1.0699793796328365\n",
            "previous_total_asset:100000\n",
            "end_total_asset:1078694.2425938835\n",
            "total_reward:978694.2425938835\n",
            "total_cost:  99.89727962112428\n",
            "total trades:  2515\n",
            "Sharpe:  1.0699793796328365\n",
            "previous_total_asset:100000\n",
            "end_total_asset:1078694.2425938835\n",
            "total_reward:978694.2425938835\n",
            "total_cost:  99.89727962112428\n",
            "total trades:  2515\n",
            "Sharpe:  1.0699793796328365\n",
            "previous_total_asset:100000\n",
            "end_total_asset:1078694.2425938835\n",
            "total_reward:978694.2425938835\n",
            "total_cost:  99.89727962112428\n",
            "total trades:  2515\n",
            "Sharpe:  1.0699793796328365\n",
            "previous_total_asset:100000\n",
            "end_total_asset:1078694.2425938835\n",
            "total_reward:978694.2425938835\n",
            "total_cost:  99.89727962112428\n",
            "total trades:  2515\n",
            "Sharpe:  1.0699793796328365\n",
            "previous_total_asset:100000\n",
            "end_total_asset:1078344.7321494054\n",
            "total_reward:978344.7321494054\n",
            "total_cost:  99.89827723259968\n",
            "total trades:  2515\n",
            "Sharpe:  1.0698677884525307\n",
            "previous_total_asset:100000\n",
            "end_total_asset:1078694.2425938835\n",
            "total_reward:978694.2425938835\n",
            "total_cost:  99.89727962112428\n",
            "total trades:  2515\n",
            "Sharpe:  1.0699793796328365\n",
            "previous_total_asset:100000\n",
            "end_total_asset:1078694.2425938835\n",
            "total_reward:978694.2425938835\n",
            "total_cost:  99.89727962112428\n",
            "total trades:  2515\n",
            "Sharpe:  1.0699793796328365\n",
            "previous_total_asset:100000\n",
            "end_total_asset:1078694.2425938835\n",
            "total_reward:978694.2425938835\n",
            "total_cost:  99.89727962112428\n",
            "total trades:  2515\n",
            "Sharpe:  1.0699793796328365\n",
            "previous_total_asset:100000\n",
            "end_total_asset:1078694.2425938835\n",
            "total_reward:978694.2425938835\n",
            "total_cost:  99.89727962112428\n",
            "total trades:  2515\n",
            "Sharpe:  1.0699793796328365\n",
            "previous_total_asset:100000\n",
            "end_total_asset:1078694.2425938835\n",
            "total_reward:978694.2425938835\n",
            "total_cost:  99.89727962112428\n",
            "total trades:  2515\n",
            "Sharpe:  1.0699793796328365\n",
            "previous_total_asset:100000\n",
            "end_total_asset:1078694.2425938835\n",
            "total_reward:978694.2425938835\n",
            "total_cost:  99.89727962112428\n",
            "total trades:  2515\n",
            "Sharpe:  1.0699793796328365\n",
            "previous_total_asset:100000\n",
            "end_total_asset:1078694.2425938835\n",
            "total_reward:978694.2425938835\n",
            "total_cost:  99.89727962112428\n",
            "total trades:  2515\n",
            "Sharpe:  1.0699793796328365\n",
            "previous_total_asset:100000\n",
            "end_total_asset:1078694.2425938835\n",
            "total_reward:978694.2425938835\n",
            "total_cost:  99.89727962112428\n",
            "total trades:  2515\n",
            "Sharpe:  1.0699793796328365\n",
            "previous_total_asset:100000\n",
            "end_total_asset:1078694.2425938835\n",
            "total_reward:978694.2425938835\n",
            "total_cost:  99.89727962112428\n",
            "total trades:  2515\n",
            "Sharpe:  1.0699793796328365\n",
            "previous_total_asset:100000\n",
            "end_total_asset:1078694.2425938835\n",
            "total_reward:978694.2425938835\n",
            "total_cost:  99.89727962112428\n",
            "total trades:  2515\n",
            "Sharpe:  1.0699793796328365\n",
            "previous_total_asset:100000\n",
            "end_total_asset:1078694.2425938835\n",
            "total_reward:978694.2425938835\n",
            "total_cost:  99.89727962112428\n",
            "total trades:  2515\n",
            "Sharpe:  1.0699793796328365\n",
            "previous_total_asset:100000\n",
            "end_total_asset:1078694.2425938835\n",
            "total_reward:978694.2425938835\n",
            "total_cost:  99.89727962112428\n",
            "total trades:  2515\n",
            "Sharpe:  1.0699793796328365\n",
            "previous_total_asset:100000\n",
            "end_total_asset:1078694.2425938835\n",
            "total_reward:978694.2425938835\n",
            "total_cost:  99.89727962112428\n",
            "total trades:  2515\n",
            "Sharpe:  1.0699793796328365\n"
          ]
        },
        {
          "output_type": "execute_result",
          "data": {
            "text/plain": [
              "<stable_baselines.a2c.a2c.A2C at 0x7f1155949f90>"
            ]
          },
          "metadata": {},
          "execution_count": 24
        }
      ]
    },
    {
      "cell_type": "code",
      "metadata": {
        "id": "Jqvi6wTwT8LG"
      },
      "source": [
        "model_a2c.save('AAPL_a2c_50k')"
      ],
      "execution_count": 33,
      "outputs": []
    },
    {
      "cell_type": "markdown",
      "metadata": {
        "id": "8R8bKorkM5cK"
      },
      "source": [
        "## Model 4: TD3"
      ]
    },
    {
      "cell_type": "code",
      "metadata": {
        "colab": {
          "base_uri": "https://localhost:8080/"
        },
        "id": "7BvbyAh2MrL7",
        "outputId": "3d9b80ec-428f-4d48-ba4b-70bf6e46cbe8"
      },
      "source": [
        "#tensorboard --logdir ./single_stock_tensorboard/\n",
        "#DQN<DDPG<TD3\n",
        "env_train = DummyVecEnv([lambda: SingleStockEnv(train)])\n",
        "model_td3 = TD3('MlpPolicy', env_train, tensorboard_log=\"./single_stock_trading_2_tensorboard/\")\n",
        "model_td3.learn(total_timesteps=100000,tb_log_name=\"run_aapl_td3\")\n",
        "#model_td3.save('AAPL_td3_50k')\n"
      ],
      "execution_count": 25,
      "outputs": [
        {
          "output_type": "stream",
          "name": "stdout",
          "text": [
            "previous_total_asset:100000\n",
            "end_total_asset:104474.38490228458\n",
            "total_reward:4474.3849022845825\n",
            "total_cost:  39.45173212305912\n",
            "total trades:  112\n",
            "Sharpe:  0.6479914057415437\n",
            "previous_total_asset:100000\n",
            "end_total_asset:100000.0\n",
            "total_reward:0.0\n",
            "total_cost:  0\n",
            "total trades:  0\n",
            "previous_total_asset:100000\n",
            "end_total_asset:100000.0\n",
            "total_reward:0.0\n",
            "total_cost:  0\n",
            "total trades:  0\n",
            "previous_total_asset:100000\n",
            "end_total_asset:100000.0\n",
            "total_reward:0.0\n",
            "total_cost:  0\n",
            "total trades:  0\n",
            "previous_total_asset:100000\n",
            "end_total_asset:100000.0\n",
            "total_reward:0.0\n",
            "total_cost:  0\n",
            "total trades:  0\n",
            "previous_total_asset:100000\n",
            "end_total_asset:100000.0\n",
            "total_reward:0.0\n",
            "total_cost:  0\n",
            "total trades:  0\n",
            "previous_total_asset:100000\n",
            "end_total_asset:100000.0\n",
            "total_reward:0.0\n",
            "total_cost:  0\n",
            "total trades:  0\n",
            "previous_total_asset:100000\n",
            "end_total_asset:100000.0\n",
            "total_reward:0.0\n",
            "total_cost:  0\n",
            "total trades:  0\n",
            "previous_total_asset:100000\n",
            "end_total_asset:100000.0\n",
            "total_reward:0.0\n",
            "total_cost:  0\n",
            "total trades:  0\n",
            "previous_total_asset:100000\n",
            "end_total_asset:100000.0\n",
            "total_reward:0.0\n",
            "total_cost:  0\n",
            "total trades:  0\n",
            "previous_total_asset:100000\n",
            "end_total_asset:100000.0\n",
            "total_reward:0.0\n",
            "total_cost:  0\n",
            "total trades:  0\n",
            "previous_total_asset:100000\n",
            "end_total_asset:100000.0\n",
            "total_reward:0.0\n",
            "total_cost:  0\n",
            "total trades:  0\n",
            "previous_total_asset:100000\n",
            "end_total_asset:100000.0\n",
            "total_reward:0.0\n",
            "total_cost:  0\n",
            "total trades:  0\n",
            "previous_total_asset:100000\n",
            "end_total_asset:100000.0\n",
            "total_reward:0.0\n",
            "total_cost:  0\n",
            "total trades:  0\n",
            "previous_total_asset:100000\n",
            "end_total_asset:100000.0\n",
            "total_reward:0.0\n",
            "total_cost:  0\n",
            "total trades:  0\n",
            "previous_total_asset:100000\n",
            "end_total_asset:100000.0\n",
            "total_reward:0.0\n",
            "total_cost:  0\n",
            "total trades:  0\n",
            "previous_total_asset:100000\n",
            "end_total_asset:100000.0\n",
            "total_reward:0.0\n",
            "total_cost:  0\n",
            "total trades:  0\n",
            "previous_total_asset:100000\n",
            "end_total_asset:100000.0\n",
            "total_reward:0.0\n",
            "total_cost:  0\n",
            "total trades:  0\n",
            "previous_total_asset:100000\n",
            "end_total_asset:100000.0\n",
            "total_reward:0.0\n",
            "total_cost:  0\n",
            "total trades:  0\n",
            "previous_total_asset:100000\n",
            "end_total_asset:100000.0\n",
            "total_reward:0.0\n",
            "total_cost:  0\n",
            "total trades:  0\n",
            "previous_total_asset:100000\n",
            "end_total_asset:100000.0\n",
            "total_reward:0.0\n",
            "total_cost:  0\n",
            "total trades:  0\n",
            "previous_total_asset:100000\n",
            "end_total_asset:100000.0\n",
            "total_reward:0.0\n",
            "total_cost:  0\n",
            "total trades:  0\n",
            "previous_total_asset:100000\n",
            "end_total_asset:100000.0\n",
            "total_reward:0.0\n",
            "total_cost:  0\n",
            "total trades:  0\n",
            "previous_total_asset:100000\n",
            "end_total_asset:100000.0\n",
            "total_reward:0.0\n",
            "total_cost:  0\n",
            "total trades:  0\n",
            "previous_total_asset:100000\n",
            "end_total_asset:100000.0\n",
            "total_reward:0.0\n",
            "total_cost:  0\n",
            "total trades:  0\n",
            "previous_total_asset:100000\n",
            "end_total_asset:100000.0\n",
            "total_reward:0.0\n",
            "total_cost:  0\n",
            "total trades:  0\n",
            "previous_total_asset:100000\n",
            "end_total_asset:100000.0\n",
            "total_reward:0.0\n",
            "total_cost:  0\n",
            "total trades:  0\n",
            "previous_total_asset:100000\n",
            "end_total_asset:100000.0\n",
            "total_reward:0.0\n",
            "total_cost:  0\n",
            "total trades:  0\n",
            "previous_total_asset:100000\n",
            "end_total_asset:100000.0\n",
            "total_reward:0.0\n",
            "total_cost:  0\n",
            "total trades:  0\n",
            "previous_total_asset:100000\n",
            "end_total_asset:100000.0\n",
            "total_reward:0.0\n",
            "total_cost:  0\n",
            "total trades:  0\n",
            "previous_total_asset:100000\n",
            "end_total_asset:100000.0\n",
            "total_reward:0.0\n",
            "total_cost:  0\n",
            "total trades:  0\n",
            "previous_total_asset:100000\n",
            "end_total_asset:100000.0\n",
            "total_reward:0.0\n",
            "total_cost:  0\n",
            "total trades:  0\n",
            "previous_total_asset:100000\n",
            "end_total_asset:100000.0\n",
            "total_reward:0.0\n",
            "total_cost:  0\n",
            "total trades:  0\n",
            "previous_total_asset:100000\n",
            "end_total_asset:100000.0\n",
            "total_reward:0.0\n",
            "total_cost:  0\n",
            "total trades:  0\n",
            "previous_total_asset:100000\n",
            "end_total_asset:100000.0\n",
            "total_reward:0.0\n",
            "total_cost:  0\n",
            "total trades:  0\n",
            "previous_total_asset:100000\n",
            "end_total_asset:100000.0\n",
            "total_reward:0.0\n",
            "total_cost:  0\n",
            "total trades:  0\n",
            "previous_total_asset:100000\n",
            "end_total_asset:100000.0\n",
            "total_reward:0.0\n",
            "total_cost:  0\n",
            "total trades:  0\n",
            "previous_total_asset:100000\n",
            "end_total_asset:100000.0\n",
            "total_reward:0.0\n",
            "total_cost:  0\n",
            "total trades:  0\n",
            "previous_total_asset:100000\n",
            "end_total_asset:100000.0\n",
            "total_reward:0.0\n",
            "total_cost:  0\n",
            "total trades:  0\n"
          ]
        },
        {
          "output_type": "execute_result",
          "data": {
            "text/plain": [
              "<stable_baselines.td3.td3.TD3 at 0x7f11561ee810>"
            ]
          },
          "metadata": {},
          "execution_count": 25
        }
      ]
    },
    {
      "cell_type": "code",
      "metadata": {
        "id": "VbrKg1laT14H"
      },
      "source": [
        "model_td3.save('AAPL_td3_50k')"
      ],
      "execution_count": 32,
      "outputs": []
    },
    {
      "cell_type": "markdown",
      "metadata": {
        "id": "Bugo3UHCM-pC"
      },
      "source": [
        "## Testing data"
      ]
    },
    {
      "cell_type": "code",
      "metadata": {
        "id": "9KlKY4EYMrN4"
      },
      "source": [
        "test = data_clean[(data_clean.datadate>='2019-01-01') ]\n",
        "# the index needs to start from 0\n",
        "test=test.reset_index(drop=True)"
      ],
      "execution_count": 26,
      "outputs": []
    },
    {
      "cell_type": "code",
      "metadata": {
        "id": "5NMu4ClAsQ2P"
      },
      "source": [
        ""
      ],
      "execution_count": null,
      "outputs": []
    },
    {
      "cell_type": "markdown",
      "metadata": {
        "id": "U-Dd3DLxsYqe"
      },
      "source": [
        "## Load model from file save"
      ]
    },
    {
      "cell_type": "markdown",
      "metadata": {
        "id": "dct5qZvNs4K5"
      },
      "source": [
        "## Load model PPO"
      ]
    },
    {
      "cell_type": "code",
      "metadata": {
        "colab": {
          "base_uri": "https://localhost:8080/"
        },
        "id": "VM7ICF3ysRR-",
        "outputId": "bb4f8d39-068f-49b5-d8d2-b7aad7323658"
      },
      "source": [
        "env_train = DummyVecEnv([lambda: SingleStockEnv(train)])\n",
        "model_ppo = PPO2('MlpPolicy', env_train, tensorboard_log=\"./single_stock_trading_2_tensorboard/\")\n",
        "model_ppo.load('AAPL_ppo_100k.zip')"
      ],
      "execution_count": 66,
      "outputs": [
        {
          "output_type": "execute_result",
          "data": {
            "text/plain": [
              "<stable_baselines.ppo2.ppo2.PPO2 at 0x7f11514ae3d0>"
            ]
          },
          "metadata": {},
          "execution_count": 66
        }
      ]
    },
    {
      "cell_type": "markdown",
      "metadata": {
        "id": "NPzOriKWs8-m"
      },
      "source": [
        "## Load models a2c"
      ]
    },
    {
      "cell_type": "code",
      "metadata": {
        "colab": {
          "base_uri": "https://localhost:8080/"
        },
        "id": "WI1YC_7gsRUm",
        "outputId": "4854bf47-8090-464f-d1d7-4af16caa4f8d"
      },
      "source": [
        "env_train = DummyVecEnv([lambda: SingleStockEnv(train)])\n",
        "model_a2c = A2C('MlpPolicy', env_train, tensorboard_log=\"./single_stock_trading_2_tensorboard/\")\n",
        "model_a2c.load('AAPL_a2c_50k.zip')"
      ],
      "execution_count": 68,
      "outputs": [
        {
          "output_type": "execute_result",
          "data": {
            "text/plain": [
              "<stable_baselines.a2c.a2c.A2C at 0x7f114dfbae10>"
            ]
          },
          "metadata": {},
          "execution_count": 68
        }
      ]
    },
    {
      "cell_type": "markdown",
      "metadata": {
        "id": "HuaDs4lxtDaf"
      },
      "source": [
        "## Load model ddpg"
      ]
    },
    {
      "cell_type": "code",
      "metadata": {
        "colab": {
          "base_uri": "https://localhost:8080/"
        },
        "id": "23KHx8hDtIce",
        "outputId": "7bc9f22d-2976-4f09-93c6-4e1f36b28963"
      },
      "source": [
        "env_train = DummyVecEnv([lambda: SingleStockEnv(train)])\n",
        "model_ddpg = DDPG('MlpPolicy', env_train, tensorboard_log=\"./single_stock_trading_2_tensorboard/\")\n",
        "model_ddpg.load('AAPL_ddpg_50k.zip')\n"
      ],
      "execution_count": 69,
      "outputs": [
        {
          "output_type": "execute_result",
          "data": {
            "text/plain": [
              "<stable_baselines.ddpg.ddpg.DDPG at 0x7f1151662990>"
            ]
          },
          "metadata": {},
          "execution_count": 69
        }
      ]
    },
    {
      "cell_type": "markdown",
      "metadata": {
        "id": "TWEgPK_itLR_"
      },
      "source": [
        "## Load model td3"
      ]
    },
    {
      "cell_type": "code",
      "metadata": {
        "colab": {
          "base_uri": "https://localhost:8080/"
        },
        "id": "anc1bPx3tJLW",
        "outputId": "90e41cef-1eca-4a87-91c8-12f072aff61a"
      },
      "source": [
        "env_train = DummyVecEnv([lambda: SingleStockEnv(train)])\n",
        "model_td3 = TD3('MlpPolicy', env_train, tensorboard_log=\"./single_stock_trading_2_tensorboard/\")\n",
        "model_td3.load('AAPL_td3_50k.zip')\n"
      ],
      "execution_count": 70,
      "outputs": [
        {
          "output_type": "execute_result",
          "data": {
            "text/plain": [
              "<stable_baselines.td3.td3.TD3 at 0x7f1151693fd0>"
            ]
          },
          "metadata": {},
          "execution_count": 70
        }
      ]
    },
    {
      "cell_type": "code",
      "metadata": {
        "id": "dBVgL7eQtJN9"
      },
      "source": [
        ""
      ],
      "execution_count": null,
      "outputs": []
    },
    {
      "cell_type": "code",
      "metadata": {
        "id": "Y19D427CtJRL"
      },
      "source": [
        ""
      ],
      "execution_count": null,
      "outputs": []
    },
    {
      "cell_type": "code",
      "metadata": {
        "colab": {
          "base_uri": "https://localhost:8080/",
          "height": 204
        },
        "id": "sMuv6ZtqMXp_",
        "outputId": "b2c0b189-f78a-4df4-d203-0c970b3a37f5"
      },
      "source": [
        "test.head()"
      ],
      "execution_count": 27,
      "outputs": [
        {
          "output_type": "execute_result",
          "data": {
            "text/html": [
              "<div>\n",
              "<style scoped>\n",
              "    .dataframe tbody tr th:only-of-type {\n",
              "        vertical-align: middle;\n",
              "    }\n",
              "\n",
              "    .dataframe tbody tr th {\n",
              "        vertical-align: top;\n",
              "    }\n",
              "\n",
              "    .dataframe thead th {\n",
              "        text-align: right;\n",
              "    }\n",
              "</style>\n",
              "<table border=\"1\" class=\"dataframe\">\n",
              "  <thead>\n",
              "    <tr style=\"text-align: right;\">\n",
              "      <th></th>\n",
              "      <th>datadate</th>\n",
              "      <th>open</th>\n",
              "      <th>high</th>\n",
              "      <th>low</th>\n",
              "      <th>close</th>\n",
              "      <th>adjcp</th>\n",
              "      <th>volume</th>\n",
              "      <th>macd</th>\n",
              "    </tr>\n",
              "  </thead>\n",
              "  <tbody>\n",
              "    <tr>\n",
              "      <th>0</th>\n",
              "      <td>2019-01-02</td>\n",
              "      <td>38.722500</td>\n",
              "      <td>39.712502</td>\n",
              "      <td>38.557499</td>\n",
              "      <td>39.480000</td>\n",
              "      <td>38.382229</td>\n",
              "      <td>148158800</td>\n",
              "      <td>-2.010457</td>\n",
              "    </tr>\n",
              "    <tr>\n",
              "      <th>1</th>\n",
              "      <td>2019-01-03</td>\n",
              "      <td>35.994999</td>\n",
              "      <td>36.430000</td>\n",
              "      <td>35.500000</td>\n",
              "      <td>35.547501</td>\n",
              "      <td>34.559078</td>\n",
              "      <td>365248800</td>\n",
              "      <td>-2.192726</td>\n",
              "    </tr>\n",
              "    <tr>\n",
              "      <th>2</th>\n",
              "      <td>2019-01-04</td>\n",
              "      <td>36.132500</td>\n",
              "      <td>37.137501</td>\n",
              "      <td>35.950001</td>\n",
              "      <td>37.064999</td>\n",
              "      <td>36.034370</td>\n",
              "      <td>234428400</td>\n",
              "      <td>-2.192854</td>\n",
              "    </tr>\n",
              "    <tr>\n",
              "      <th>3</th>\n",
              "      <td>2019-01-07</td>\n",
              "      <td>37.174999</td>\n",
              "      <td>37.207500</td>\n",
              "      <td>36.474998</td>\n",
              "      <td>36.982498</td>\n",
              "      <td>35.954170</td>\n",
              "      <td>219111200</td>\n",
              "      <td>-2.174362</td>\n",
              "    </tr>\n",
              "    <tr>\n",
              "      <th>4</th>\n",
              "      <td>2019-01-08</td>\n",
              "      <td>37.389999</td>\n",
              "      <td>37.955002</td>\n",
              "      <td>37.130001</td>\n",
              "      <td>37.687500</td>\n",
              "      <td>36.639565</td>\n",
              "      <td>164101200</td>\n",
              "      <td>-2.080419</td>\n",
              "    </tr>\n",
              "  </tbody>\n",
              "</table>\n",
              "</div>"
            ],
            "text/plain": [
              "    datadate       open       high  ...      adjcp     volume      macd\n",
              "0 2019-01-02  38.722500  39.712502  ...  38.382229  148158800 -2.010457\n",
              "1 2019-01-03  35.994999  36.430000  ...  34.559078  365248800 -2.192726\n",
              "2 2019-01-04  36.132500  37.137501  ...  36.034370  234428400 -2.192854\n",
              "3 2019-01-07  37.174999  37.207500  ...  35.954170  219111200 -2.174362\n",
              "4 2019-01-08  37.389999  37.955002  ...  36.639565  164101200 -2.080419\n",
              "\n",
              "[5 rows x 8 columns]"
            ]
          },
          "metadata": {},
          "execution_count": 27
        }
      ]
    },
    {
      "cell_type": "markdown",
      "metadata": {
        "id": "XFJvJxiCNELK"
      },
      "source": [
        "Trading\n",
        "Assume that we have $100,000 initial capital at 2019-01-01. We use the TD3 model to trade AAPL."
      ]
    },
    {
      "cell_type": "code",
      "metadata": {
        "colab": {
          "base_uri": "https://localhost:8080/"
        },
        "id": "-d99XiC9NBx9",
        "outputId": "117c4027-c464-4c0a-b0cc-e0fe181131dc"
      },
      "source": [
        "\n",
        "model = model_a2c\n",
        "model = model_ppo\n",
        "model = model_td3\n",
        "#model = model_ddpg\n",
        "env_test = DummyVecEnv([lambda: SingleStockEnv(test)])\n",
        "obs_test = env_test.reset()\n",
        "print(\"==============Model Prediction===========\")\n",
        "for i in range(len(test.index.unique())):\n",
        "    action, _states = model.predict(obs_test)\n",
        "    obs_test, rewards, dones, info = env_test.step(action)\n",
        "    env_test.render()"
      ],
      "execution_count": 73,
      "outputs": [
        {
          "output_type": "stream",
          "name": "stdout",
          "text": [
            "==============Model Prediction===========\n",
            "previous_total_asset:100000\n",
            "end_total_asset:296136.70132683485\n",
            "total_reward:196136.70132683485\n",
            "total_cost:  5919.298489691687\n",
            "total trades:  456\n",
            "Sharpe:  1.8355506201481957\n"
          ]
        }
      ]
    },
    {
      "cell_type": "markdown",
      "metadata": {
        "id": "XngX-SxaNG-y"
      },
      "source": [
        "## Part 5: Backtest Our Strategy\n",
        "For simplicity purposes, in the article, we just calculate the Sharpe ratio and the annual return manually."
      ]
    },
    {
      "cell_type": "code",
      "metadata": {
        "id": "TTQma4LENB0q"
      },
      "source": [
        "\n",
        "def get_DRL_sharpe():\n",
        "    df_total_value=pd.read_csv('account_value.csv',index_col=0)\n",
        "    df_total_value.columns = ['account_value']\n",
        "    df_total_value['daily_return']=df_total_value.pct_change(1)\n",
        "    sharpe = (252**0.5)*df_total_value['daily_return'].mean()/ \\\n",
        "    df_total_value['daily_return'].std()\n",
        "    \n",
        "    annual_return = ((df_total_value['daily_return'].mean()+1)**252-1)*100\n",
        "    print(\"annual return: \", annual_return)\n",
        "    print(\"sharpe ratio: \", sharpe)\n",
        "    return df_total_value"
      ],
      "execution_count": 74,
      "outputs": []
    },
    {
      "cell_type": "code",
      "metadata": {
        "id": "mNFH_JgBNB3d"
      },
      "source": [
        "def get_buy_and_hold_sharpe(test):\n",
        "    test['daily_return']=test['adjcp'].pct_change(1)\n",
        "    sharpe = (252**0.5)*test['daily_return'].mean()/ \\\n",
        "    test['daily_return'].std()\n",
        "    annual_return = ((test['daily_return'].mean()+1)**252-1)*100\n",
        "    print(\"annual return: \", annual_return)\n",
        "\n",
        "    print(\"sharpe ratio: \", sharpe)\n",
        "    #return sharpe"
      ],
      "execution_count": 75,
      "outputs": []
    },
    {
      "cell_type": "code",
      "metadata": {
        "colab": {
          "base_uri": "https://localhost:8080/"
        },
        "id": "otTHKMUbNB5p",
        "outputId": "9259049b-0d27-419a-ba4e-894231d88a32"
      },
      "source": [
        "df_total_value=get_DRL_sharpe()"
      ],
      "execution_count": 76,
      "outputs": [
        {
          "output_type": "stream",
          "name": "stdout",
          "text": [
            "annual return:  94.55945976855573\n",
            "sharpe ratio:  1.835550620148194\n"
          ]
        }
      ]
    },
    {
      "cell_type": "code",
      "metadata": {
        "colab": {
          "base_uri": "https://localhost:8080/"
        },
        "id": "QBXb4DobNLUp",
        "outputId": "c630252c-5b4b-4476-f0d8-7f83bac36394"
      },
      "source": [
        "get_buy_and_hold_sharpe(test)"
      ],
      "execution_count": 77,
      "outputs": [
        {
          "output_type": "stream",
          "name": "stdout",
          "text": [
            "annual return:  97.36191119857538\n",
            "sharpe ratio:  1.7753358175319076\n"
          ]
        }
      ]
    },
    {
      "cell_type": "code",
      "metadata": {
        "id": "Y1GuAo1vNLXJ"
      },
      "source": [
        "DRL_cumulative_return = (df_total_value.account_value.pct_change(1)+1).cumprod()-1"
      ],
      "execution_count": 78,
      "outputs": []
    },
    {
      "cell_type": "code",
      "metadata": {
        "id": "4gvhx-HDNLZa"
      },
      "source": [
        "buy_and_hold_cumulative_return = (test.adjcp.pct_change(1)+1).cumprod()-1"
      ],
      "execution_count": 79,
      "outputs": []
    },
    {
      "cell_type": "code",
      "metadata": {
        "colab": {
          "base_uri": "https://localhost:8080/",
          "height": 508
        },
        "id": "aJUl5VNrNLbU",
        "outputId": "54782686-9b1c-4fc4-a45a-c9b5ee4b5606"
      },
      "source": [
        "\n",
        "%matplotlib inline\n",
        "fig, ax = plt.subplots(figsize=(12, 8))\n",
        "\n",
        "plt.plot(test.datadate, DRL_cumulative_return, color='red',label = \"DRL\")\n",
        "plt.plot(test.datadate, buy_and_hold_cumulative_return, label = \"Buy & Hold\")\n",
        "plt.title(\"Cumulative Return for AAPL with Transaction Cost\",size= 18)\n",
        "plt.legend()\n",
        "plt.rc('legend',fontsize=15)\n",
        "plt.rc('xtick', labelsize=15)\n",
        "plt.rc('ytick', labelsize=15)"
      ],
      "execution_count": 80,
      "outputs": [
        {
          "output_type": "display_data",
          "data": {
            "image/png": "[encoded data removed]",
            "text/plain": [
              "<Figure size 864x576 with 1 Axes>"
            ]
          },
          "metadata": {
            "needs_background": "light"
          }
        }
      ]
    },
    {
      "cell_type": "code",
      "metadata": {
        "colab": {
          "base_uri": "https://localhost:8080/",
          "height": 17
        },
        "id": "Kury5tSJNLd1",
        "outputId": "71f92f91-f763-4159-9a29-f2d0e5439cbf"
      },
      "source": [
        "from google.colab import files\n",
        "\n",
        "files.download('AAPL_a2c_50k.zip')\n",
        "files.download('AAPL_td3_50k.zip')\n",
        "files.download('AAPL_ppo_100k.zip')\n",
        "files.download('AAPL_ddpg_50k.zip')\n"
      ],
      "execution_count": 82,
      "outputs": [
        {
          "output_type": "display_data",
          "data": {
            "application/javascript": [
              "\n",
              "    async function download(id, filename, size) {\n",
              "      if (!google.colab.kernel.accessAllowed) {\n",
              "        return;\n",
              "      }\n",
              "      const div = document.createElement('div');\n",
              "      const label = document.createElement('label');\n",
              "      label.textContent = `Downloading \"${filename}\": `;\n",
              "      div.appendChild(label);\n",
              "      const progress = document.createElement('progress');\n",
              "      progress.max = size;\n",
              "      div.appendChild(progress);\n",
              "      document.body.appendChild(div);\n",
              "\n",
              "      const buffers = [];\n",
              "      let downloaded = 0;\n",
              "\n",
              "      const channel = await google.colab.kernel.comms.open(id);\n",
              "      // Send a message to notify the kernel that we're ready.\n",
              "      channel.send({})\n",
              "\n",
              "      for await (const message of channel.messages) {\n",
              "        // Send a message to notify the kernel that we're ready.\n",
              "        channel.send({})\n",
              "        if (message.buffers) {\n",
              "          for (const buffer of message.buffers) {\n",
              "            buffers.push(buffer);\n",
              "            downloaded += buffer.byteLength;\n",
              "            progress.value = downloaded;\n",
              "          }\n",
              "        }\n",
              "      }\n",
              "      const blob = new Blob(buffers, {type: 'application/binary'});\n",
              "      const a = document.createElement('a');\n",
              "      a.href = window.URL.createObjectURL(blob);\n",
              "      a.download = filename;\n",
              "      div.appendChild(a);\n",
              "      a.click();\n",
              "      div.remove();\n",
              "    }\n",
              "  "
            ],
            "text/plain": [
              "<IPython.core.display.Javascript object>"
            ]
          },
          "metadata": {}
        },
        {
          "output_type": "display_data",
          "data": {
            "application/javascript": [
              "download(\"download_6973cbb9-d792-44d1-a341-1ff998cddb1a\", \"AAPL_a2c_50k.zip\", 44460)"
            ],
            "text/plain": [
              "<IPython.core.display.Javascript object>"
            ]
          },
          "metadata": {}
        },
        {
          "output_type": "display_data",
          "data": {
            "application/javascript": [
              "\n",
              "    async function download(id, filename, size) {\n",
              "      if (!google.colab.kernel.accessAllowed) {\n",
              "        return;\n",
              "      }\n",
              "      const div = document.createElement('div');\n",
              "      const label = document.createElement('label');\n",
              "      label.textContent = `Downloading \"${filename}\": `;\n",
              "      div.appendChild(label);\n",
              "      const progress = document.createElement('progress');\n",
              "      progress.max = size;\n",
              "      div.appendChild(progress);\n",
              "      document.body.appendChild(div);\n",
              "\n",
              "      const buffers = [];\n",
              "      let downloaded = 0;\n",
              "\n",
              "      const channel = await google.colab.kernel.comms.open(id);\n",
              "      // Send a message to notify the kernel that we're ready.\n",
              "      channel.send({})\n",
              "\n",
              "      for await (const message of channel.messages) {\n",
              "        // Send a message to notify the kernel that we're ready.\n",
              "        channel.send({})\n",
              "        if (message.buffers) {\n",
              "          for (const buffer of message.buffers) {\n",
              "            buffers.push(buffer);\n",
              "            downloaded += buffer.byteLength;\n",
              "            progress.value = downloaded;\n",
              "          }\n",
              "        }\n",
              "      }\n",
              "      const blob = new Blob(buffers, {type: 'application/binary'});\n",
              "      const a = document.createElement('a');\n",
              "      a.href = window.URL.createObjectURL(blob);\n",
              "      a.download = filename;\n",
              "      div.appendChild(a);\n",
              "      a.click();\n",
              "      div.remove();\n",
              "    }\n",
              "  "
            ],
            "text/plain": [
              "<IPython.core.display.Javascript object>"
            ]
          },
          "metadata": {}
        },
        {
          "output_type": "display_data",
          "data": {
            "application/javascript": [
              "download(\"download_90443405-5e56-45b9-a5a3-4eb4e6c99151\", \"AAPL_td3_50k.zip\", 129984)"
            ],
            "text/plain": [
              "<IPython.core.display.Javascript object>"
            ]
          },
          "metadata": {}
        },
        {
          "output_type": "display_data",
          "data": {
            "application/javascript": [
              "\n",
              "    async function download(id, filename, size) {\n",
              "      if (!google.colab.kernel.accessAllowed) {\n",
              "        return;\n",
              "      }\n",
              "      const div = document.createElement('div');\n",
              "      const label = document.createElement('label');\n",
              "      label.textContent = `Downloading \"${filename}\": `;\n",
              "      div.appendChild(label);\n",
              "      const progress = document.createElement('progress');\n",
              "      progress.max = size;\n",
              "      div.appendChild(progress);\n",
              "      document.body.appendChild(div);\n",
              "\n",
              "      const buffers = [];\n",
              "      let downloaded = 0;\n",
              "\n",
              "      const channel = await google.colab.kernel.comms.open(id);\n",
              "      // Send a message to notify the kernel that we're ready.\n",
              "      channel.send({})\n",
              "\n",
              "      for await (const message of channel.messages) {\n",
              "        // Send a message to notify the kernel that we're ready.\n",
              "        channel.send({})\n",
              "        if (message.buffers) {\n",
              "          for (const buffer of message.buffers) {\n",
              "            buffers.push(buffer);\n",
              "            downloaded += buffer.byteLength;\n",
              "            progress.value = downloaded;\n",
              "          }\n",
              "        }\n",
              "      }\n",
              "      const blob = new Blob(buffers, {type: 'application/binary'});\n",
              "      const a = document.createElement('a');\n",
              "      a.href = window.URL.createObjectURL(blob);\n",
              "      a.download = filename;\n",
              "      div.appendChild(a);\n",
              "      a.click();\n",
              "      div.remove();\n",
              "    }\n",
              "  "
            ],
            "text/plain": [
              "<IPython.core.display.Javascript object>"
            ]
          },
          "metadata": {}
        },
        {
          "output_type": "display_data",
          "data": {
            "application/javascript": [
              "download(\"download_fb51062c-4cb1-4aab-b743-e01b7f0f1d2e\", \"AAPL_ppo_100k.zip\", 46300)"
            ],
            "text/plain": [
              "<IPython.core.display.Javascript object>"
            ]
          },
          "metadata": {}
        },
        {
          "output_type": "display_data",
          "data": {
            "application/javascript": [
              "\n",
              "    async function download(id, filename, size) {\n",
              "      if (!google.colab.kernel.accessAllowed) {\n",
              "        return;\n",
              "      }\n",
              "      const div = document.createElement('div');\n",
              "      const label = document.createElement('label');\n",
              "      label.textContent = `Downloading \"${filename}\": `;\n",
              "      div.appendChild(label);\n",
              "      const progress = document.createElement('progress');\n",
              "      progress.max = size;\n",
              "      div.appendChild(progress);\n",
              "      document.body.appendChild(div);\n",
              "\n",
              "      const buffers = [];\n",
              "      let downloaded = 0;\n",
              "\n",
              "      const channel = await google.colab.kernel.comms.open(id);\n",
              "      // Send a message to notify the kernel that we're ready.\n",
              "      channel.send({})\n",
              "\n",
              "      for await (const message of channel.messages) {\n",
              "        // Send a message to notify the kernel that we're ready.\n",
              "        channel.send({})\n",
              "        if (message.buffers) {\n",
              "          for (const buffer of message.buffers) {\n",
              "            buffers.push(buffer);\n",
              "            downloaded += buffer.byteLength;\n",
              "            progress.value = downloaded;\n",
              "          }\n",
              "        }\n",
              "      }\n",
              "      const blob = new Blob(buffers, {type: 'application/binary'});\n",
              "      const a = document.createElement('a');\n",
              "      a.href = window.URL.createObjectURL(blob);\n",
              "      a.download = filename;\n",
              "      div.appendChild(a);\n",
              "      a.click();\n",
              "      div.remove();\n",
              "    }\n",
              "  "
            ],
            "text/plain": [
              "<IPython.core.display.Javascript object>"
            ]
          },
          "metadata": {}
        },
        {
          "output_type": "display_data",
          "data": {
            "application/javascript": [
              "download(\"download_43745382-2ac5-4789-9ec9-368978c75166\", \"AAPL_ddpg_50k.zip\", 84562)"
            ],
            "text/plain": [
              "<IPython.core.display.Javascript object>"
            ]
          },
          "metadata": {}
        }
      ]
    },
    {
      "cell_type": "code",
      "metadata": {
        "id": "AHLepKqhNLgT"
      },
      "source": [
        ""
      ],
      "execution_count": null,
      "outputs": []
    },
    {
      "cell_type": "code",
      "metadata": {
        "id": "g_zKQzhDNLh9"
      },
      "source": [
        ""
      ],
      "execution_count": null,
      "outputs": []
    },
    {
      "cell_type": "code",
      "metadata": {
        "id": "MvH7amZXNLkJ"
      },
      "source": [
        ""
      ],
      "execution_count": null,
      "outputs": []
    },
    {
      "cell_type": "code",
      "metadata": {
        "id": "bxpAr4qYMXsX"
      },
      "source": [
        ""
      ],
      "execution_count": null,
      "outputs": []
    }
  ]
}